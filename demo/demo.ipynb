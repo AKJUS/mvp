{
 "cells": [
  {
   "cell_type": "code",
   "execution_count": 116,
   "metadata": {},
   "outputs": [],
   "source": [
    "import ipywidgets as widgets\n",
    "from ipywidgets import interact, interactive, interact_manual, GridBox, Layout, VBox\n",
    "import plotly.graph_objs as go\n",
    "\n",
    "%matplotlib widget"
   ]
  },
  {
   "cell_type": "code",
   "execution_count": 117,
   "metadata": {},
   "outputs": [],
   "source": [
    "FEATURES = [\"Forest\", \"Pasture\", \"Urban\"]"
   ]
  },
  {
   "attachments": {},
   "cell_type": "markdown",
   "metadata": {},
   "source": [
    "### Functions that call a model"
   ]
  },
  {
   "cell_type": "code",
   "execution_count": 118,
   "metadata": {},
   "outputs": [],
   "source": [
    "def run_prescriptor(context):\n",
    "    return dict(zip(FEATURES, context))\n",
    "\n",
    "\n",
    "def run_predictor(context, actions):\n",
    "    sum = 0\n",
    "    for c in context:\n",
    "        sum += c\n",
    "    for a in actions:\n",
    "        sum += a\n",
    "\n",
    "    return sum"
   ]
  },
  {
   "attachments": {},
   "cell_type": "markdown",
   "metadata": {},
   "source": [
    "### Demo"
   ]
  },
  {
   "cell_type": "code",
   "execution_count": 119,
   "metadata": {},
   "outputs": [
    {
     "data": {
      "application/vnd.jupyter.widget-view+json": {
       "model_id": "236a0df2744548b2bfc50819f1de7f48",
       "version_major": 2,
       "version_minor": 0
      },
      "text/plain": [
       "FloatText(value=0.0, description='Forest')"
      ]
     },
     "metadata": {},
     "output_type": "display_data"
    },
    {
     "data": {
      "application/vnd.jupyter.widget-view+json": {
       "model_id": "4b26166947834ebaa525f3bfc1b81286",
       "version_major": 2,
       "version_minor": 0
      },
      "text/plain": [
       "FloatText(value=0.0, description='Pasture')"
      ]
     },
     "metadata": {},
     "output_type": "display_data"
    },
    {
     "data": {
      "application/vnd.jupyter.widget-view+json": {
       "model_id": "a7514656c8d74ce7b9872c2bfe982959",
       "version_major": 2,
       "version_minor": 0
      },
      "text/plain": [
       "FloatText(value=0.0, description='Urban')"
      ]
     },
     "metadata": {},
     "output_type": "display_data"
    },
    {
     "data": {
      "application/vnd.jupyter.widget-view+json": {
       "model_id": "2f1da42ad1c04c57b10bc0372b953142",
       "version_major": 2,
       "version_minor": 0
      },
      "text/plain": [
       "Button(description='Prescribe', style=ButtonStyle())"
      ]
     },
     "metadata": {},
     "output_type": "display_data"
    },
    {
     "data": {
      "application/vnd.jupyter.widget-view+json": {
       "model_id": "21797cf0d9b044bba0ad20221197aea8",
       "version_major": 2,
       "version_minor": 0
      },
      "text/plain": [
       "FigureWidget({\n",
       "    'data': [], 'layout': {'template': '...'}\n",
       "})"
      ]
     },
     "metadata": {},
     "output_type": "display_data"
    },
    {
     "data": {
      "application/vnd.jupyter.widget-view+json": {
       "model_id": "ba138519fcd04c8cb2d7f50c8928fbb6",
       "version_major": 2,
       "version_minor": 0
      },
      "text/plain": [
       "FloatSlider(value=0.0, description='Forest_diff')"
      ]
     },
     "metadata": {},
     "output_type": "display_data"
    },
    {
     "data": {
      "application/vnd.jupyter.widget-view+json": {
       "model_id": "08cb1f77a1964b02aa2d970a1395abd5",
       "version_major": 2,
       "version_minor": 0
      },
      "text/plain": [
       "FloatSlider(value=0.0, description='Pasture_diff')"
      ]
     },
     "metadata": {},
     "output_type": "display_data"
    },
    {
     "data": {
      "application/vnd.jupyter.widget-view+json": {
       "model_id": "cb202eefd2e2498eb5a77b600048107d",
       "version_major": 2,
       "version_minor": 0
      },
      "text/plain": [
       "FloatSlider(value=0.0, description='Urban_diff')"
      ]
     },
     "metadata": {},
     "output_type": "display_data"
    },
    {
     "data": {
      "application/vnd.jupyter.widget-view+json": {
       "model_id": "1038cc8dfe954ebd8033f6e8a60b10d7",
       "version_major": 2,
       "version_minor": 0
      },
      "text/plain": [
       "Button(description='Predict', style=ButtonStyle())"
      ]
     },
     "metadata": {},
     "output_type": "display_data"
    },
    {
     "data": {
      "application/vnd.jupyter.widget-view+json": {
       "model_id": "f5c9f17ee3994e64bc46d9f849b791a9",
       "version_major": 2,
       "version_minor": 0
      },
      "text/plain": [
       "Output()"
      ]
     },
     "metadata": {},
     "output_type": "display_data"
    }
   ],
   "source": [
    "fig = go.FigureWidget()\n",
    "\n",
    "\"\"\"\n",
    "Submits context and creates pie chart\n",
    "Updates sliders for pie chart accordingly\n",
    "\"\"\"\n",
    "def prescribe(b):\n",
    "    data = [box.value for box in boxes.values()]\n",
    "    prescribed = run_prescriptor(data)\n",
    "\n",
    "    for feature in FEATURES:\n",
    "        sliders[feature].value = prescribed[feature]\n",
    "\n",
    "    # Clear figure and re-plot\n",
    "    fig.data = []\n",
    "    fig.add_pie(values=data, labels = FEATURES)\n",
    "    \n",
    "\n",
    "\"\"\"\n",
    "Real-time updater for pie chart\n",
    "\"\"\"\n",
    "def update(change):\n",
    "    with fig.batch_update():\n",
    "        if len(fig[\"data\"]) > 0:\n",
    "            fig[\"data\"][0][\"values\"] = [slider.value for slider in sliders.values()]\n",
    "\n",
    "\n",
    "\"\"\"\n",
    "Submits context and actions and outputs prediction\n",
    "\"\"\"\n",
    "def predict(b):\n",
    "    with output:\n",
    "        context = [box.value for box in boxes.values()]\n",
    "        actions = [slider.value for slider in sliders.values()]\n",
    "        outcome = run_predictor(context, actions)\n",
    "        print(\"ELUC: \", outcome)\n",
    "        \n",
    "\n",
    "\n",
    "\"\"\"\n",
    "Construct widgets and attach them to their functions\n",
    "TODO: handle unusable land\n",
    "TODO: make sliders sum to 1\n",
    "\"\"\"\n",
    "boxes = {feature : widgets.FloatText(value=0.0, description=feature) for feature in FEATURES}\n",
    "sliders = {feature : widgets.FloatSlider(value=0.0, description=feature + \"_diff\") for feature in FEATURES}\n",
    "\n",
    "prescribe_button = widgets.Button(description=\"Prescribe\")\n",
    "prescribe_button.on_click(prescribe)\n",
    "\n",
    "predict_button = widgets.Button(description=\"Predict\")\n",
    "output = widgets.Output()\n",
    "predict_button.on_click(predict)\n",
    "\n",
    "\n",
    "\"\"\"\n",
    "Display Interactables and Figures\n",
    "TODO: add titles, make layout prettier\n",
    "\"\"\"\n",
    "for box in boxes.values():\n",
    "    display(box)\n",
    "\n",
    "display(prescribe_button)\n",
    "\n",
    "display(fig)\n",
    "\n",
    "for slider in sliders.values():\n",
    "    slider.observe(update)\n",
    "    display(slider)\n",
    "\n",
    "display(predict_button, output)"
   ]
  }
 ],
 "metadata": {
  "kernelspec": {
   "display_name": "leaf",
   "language": "python",
   "name": "python3"
  },
  "language_info": {
   "codemirror_mode": {
    "name": "ipython",
    "version": 3
   },
   "file_extension": ".py",
   "mimetype": "text/x-python",
   "name": "python",
   "nbconvert_exporter": "python",
   "pygments_lexer": "ipython3",
   "version": "3.10.11"
  },
  "orig_nbformat": 4
 },
 "nbformat": 4,
 "nbformat_minor": 2
}
