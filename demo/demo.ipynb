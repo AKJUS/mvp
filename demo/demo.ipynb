{
 "cells": [
  {
   "cell_type": "code",
   "execution_count": null,
   "metadata": {},
   "outputs": [],
   "source": [
    "import ipywidgets as widgets\n",
    "from ipywidgets import interact, interactive, interact_manual, GridBox, Layout, VBox\n",
    "import plotly.graph_objs as go\n",
    "\n",
    "%matplotlib widget"
   ]
  },
  {
   "cell_type": "code",
   "execution_count": null,
   "metadata": {},
   "outputs": [],
   "source": [
    "fig = go.FigureWidget()\n",
    "\n",
    "\"\"\"\n",
    "Submits context and creates pie chart\n",
    "Updates sliders for pie chart accordingly\n",
    "\"\"\"\n",
    "def submit(forest, urban, pasture, suburb):\n",
    "    data = [forest, urban, pasture, suburb]\n",
    "    fig.data = []\n",
    "    fig.add_pie(values=data, labels = [\"Forest\", \"Urban\", \"Pasture\", \"Suburb\"])\n",
    "    dforest.value = forest\n",
    "    durban.value = urban\n",
    "    dpasture.value = pasture\n",
    "    dsuburb.value = suburb\n",
    "\n",
    "\"\"\"\n",
    "Real-time updater for pie chart\n",
    "\"\"\"\n",
    "def update(dforest, durban, dpasture, dsuburb):\n",
    "    with fig.batch_update():\n",
    "        if len(fig[\"data\"]) > 0:\n",
    "            fig[\"data\"][0][\"values\"] = [dforest, durban, dpasture, dsuburb]\n",
    "\n",
    "\n",
    "# Construct widgets\n",
    "# TODO: Handle unusuable land\n",
    "forest=widgets.FloatText(value=0.0,description='Forest',disabled=False)\n",
    "urban=widgets.FloatText(value=0.0,description='Urban',disabled=False)\n",
    "pasture=widgets.FloatText(value=0.0,description='Pasture',disabled=False)\n",
    "suburb=widgets.FloatText(value=0.0,description='Suburb',disabled=False)\n",
    "\n",
    "dforest=widgets.FloatSlider(value=0.0, description='Forest Diff')\n",
    "durban=widgets.FloatSlider(value=0.0,description='Urban',disabled=False)\n",
    "dpasture=widgets.FloatSlider(value=0.0,description='Pasture',disabled=False)\n",
    "dsuburb=widgets.FloatSlider(value=0.0,description='Suburb',disabled=False)\n",
    "\n",
    "\n",
    "# Display interactables\n",
    "# TODO: add titles, make layout prettier\n",
    "context_interact = interact_manual(submit, forest=forest, urban=urban, pasture=pasture, suburb=suburb)\n",
    "context_interact.widget.children[-2].description = \"Prescribe\"\n",
    "\n",
    "# TODO: have them sum to 1 and make lock ticks\n",
    "update_interact = interact(update, dforest=dforest, durban=durban, dpasture=dpasture, dsuburb=dsuburb)\n",
    "\n",
    "# Display fig\n",
    "#TODO: how do I clean this up?\n",
    "display(fig)"
   ]
  }
 ],
 "metadata": {
  "kernelspec": {
   "display_name": "leaf",
   "language": "python",
   "name": "python3"
  },
  "language_info": {
   "codemirror_mode": {
    "name": "ipython",
    "version": 3
   },
   "file_extension": ".py",
   "mimetype": "text/x-python",
   "name": "python",
   "nbconvert_exporter": "python",
   "pygments_lexer": "ipython3",
   "version": "3.10.11"
  },
  "orig_nbformat": 4
 },
 "nbformat": 4,
 "nbformat_minor": 2
}
