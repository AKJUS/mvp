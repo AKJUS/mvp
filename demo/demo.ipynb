{
 "cells": [
  {
   "cell_type": "code",
   "execution_count": null,
   "metadata": {},
   "outputs": [],
   "source": [
    "import pandas as pd\n",
    "\n",
    "import ipywidgets as widgets\n",
    "from ipywidgets import interact, interactive, interact_manual, GridBox, Layout, VBox\n",
    "import plotly.graph_objs as go\n",
    "\n",
    "%matplotlib widget"
   ]
  },
  {
   "cell_type": "code",
   "execution_count": null,
   "metadata": {},
   "outputs": [],
   "source": [
    "FEATURES = [\"Forest\", \"Pasture\", \"Urban\"]"
   ]
  },
  {
   "cell_type": "markdown",
   "metadata": {},
   "source": [
    "# Dataset"
   ]
  },
  {
   "cell_type": "code",
   "execution_count": null,
   "metadata": {},
   "outputs": [],
   "source": [
    "DATASET_CSV = '../data/gcb/processed/uk_eluc.csv'\n",
    "with open(DATASET_CSV) as df_file:\n",
    "    data_source_df = pd.read_csv(df_file)"
   ]
  },
  {
   "cell_type": "code",
   "execution_count": null,
   "metadata": {},
   "outputs": [],
   "source": [
    "data_source_df.tail()"
   ]
  },
  {
   "cell_type": "markdown",
   "metadata": {},
   "source": [
    "# Code"
   ]
  },
  {
   "cell_type": "code",
   "execution_count": null,
   "metadata": {},
   "outputs": [],
   "source": [
    "min_lat = data_source_df[\"i_lat\"].min()\n",
    "max_lat = data_source_df[\"i_lat\"].max()\n",
    "min_lon = data_source_df[\"i_lon\"].min()\n",
    "max_lon = data_source_df[\"i_lon\"].max()\n",
    "min_time = data_source_df[\"time\"].min()\n",
    "max_time = data_source_df[\"time\"].max()"
   ]
  },
  {
   "cell_type": "code",
   "execution_count": null,
   "metadata": {},
   "outputs": [],
   "source": [
    "# Create the latitude input field\n",
    "latitude_input = widgets.FloatText(description='Latitude:')\n",
    "\n",
    "# Create the longitude input field\n",
    "longitude_input = widgets.FloatText(description='Longitude:')\n",
    "\n",
    "# Create the time input field\n",
    "time_input = widgets.IntText(description='Year:')\n",
    "\n",
    "# Display the widgets\n",
    "# display(latitude_input, longitude_input, time_input)"
   ]
  },
  {
   "cell_type": "markdown",
   "metadata": {},
   "source": [
    "# Context\n",
    "Enter the coordinates of a cell and a year\n"
   ]
  },
  {
   "cell_type": "code",
   "execution_count": null,
   "metadata": {},
   "outputs": [],
   "source": [
    "print(f\"Latitude must be between {min_lat} and {max_lat}, in 0.250 increments.\")\n",
    "print(f\"Longitude must be between {min_lon} and {max_lon}, in 0.250 increments.\")\n",
    "print(f\"Year must be between {min_time} and {max_time}.\")"
   ]
  },
  {
   "cell_type": "code",
   "execution_count": null,
   "metadata": {},
   "outputs": [],
   "source": [
    "display(latitude_input, longitude_input, time_input)"
   ]
  },
  {
   "cell_type": "code",
   "execution_count": null,
   "metadata": {},
   "outputs": [],
   "source": [
    "sample_df = data_source_df[(data_source_df.i_lat==latitude_input.value) & \n",
    "                           (data_source_df.i_lon==longitude_input.value) &\n",
    "                           (data_source_df.time==time_input.value)]\n",
    "sample_df"
   ]
  },
  {
   "cell_type": "markdown",
   "metadata": {},
   "source": [
    "### Functions that call a model"
   ]
  },
  {
   "cell_type": "code",
   "execution_count": null,
   "metadata": {},
   "outputs": [],
   "source": [
    "def run_prescriptor(context):\n",
    "    return dict(zip(FEATURES, context))\n",
    "\n",
    "\n",
    "def run_predictor(context, actions):\n",
    "    sum = 0\n",
    "    for c in context:\n",
    "        sum += c\n",
    "    for a in actions:\n",
    "        sum += a\n",
    "\n",
    "    return sum"
   ]
  },
  {
   "cell_type": "markdown",
   "metadata": {},
   "source": [
    "### Demo"
   ]
  },
  {
   "cell_type": "code",
   "execution_count": null,
   "metadata": {},
   "outputs": [],
   "source": [
    "fig = go.FigureWidget()\n",
    "\n",
    "\"\"\"\n",
    "Submits context and creates pie chart\n",
    "Updates sliders for pie chart accordingly\n",
    "#TODO: handle case where percentages don't sum to 1\n",
    "\"\"\"\n",
    "def prescribe(b):\n",
    "    data = [box.value for box in boxes.values()]\n",
    "    if sum(data) == 100:\n",
    "        prescribed = run_prescriptor(data)\n",
    "\n",
    "        for feature in FEATURES:\n",
    "            sliders[feature].value = prescribed[feature]\n",
    "\n",
    "        # Clear figure and re-plot\n",
    "        fig.data = []\n",
    "        fig.add_pie(values=data, labels = FEATURES)\n",
    "\n",
    "    else:\n",
    "        with(prescribe_output):\n",
    "            print(\"Please make sure your percentage sums to 100\")\n",
    "\n",
    "\n",
    "\"\"\"\n",
    "Locks a slider so it isn't affected by the sum to 100 computation\n",
    "\"\"\"\n",
    "def lock(change):\n",
    "    if change[\"new\"]:\n",
    "        locked.add(change[\"owner\"])\n",
    "    else:\n",
    "        locked.remove(change[\"owner\"])\n",
    "\n",
    "\n",
    "\"\"\"\n",
    "Real-time updater for pie chart\n",
    "# TODO: this breaks when a value hits 0\n",
    "\"\"\"\n",
    "def update(change):\n",
    "    with fig.batch_update():\n",
    "        if len(fig[\"data\"]) > 0:\n",
    "\n",
    "            owner = change[\"owner\"]\n",
    "\n",
    "            # First compute what percentage is locked\n",
    "            locked_sum = 0\n",
    "            for feat in sliders:\n",
    "                if sliders[feat] != owner and ticks[feat] in locked:\n",
    "                    locked_sum += sliders[feat].value\n",
    "\n",
    "            # Add locked percentage to old and new because we don't factor\n",
    "            # them in to the 100% in our calculating the new value\n",
    "            old = change[\"old\"] + locked_sum\n",
    "            new = change[\"new\"] + locked_sum\n",
    "\n",
    "            # Adjust each slider that isn't being currently modified\n",
    "            for feat in sliders:\n",
    "                slider = sliders[feat]\n",
    "                tick = ticks[feat]\n",
    "                if slider != owner and tick not in locked:\n",
    "                    # Unobserve so we don't infinitely recurse\n",
    "                    slider.unobserve(update, names=\"value\")\n",
    "                    # old value / old total = new value / new total\n",
    "                    slider.value = slider.value / (100 - old) * (100 - new)\n",
    "                    slider.observe(update, names=\"value\")\n",
    "\n",
    "            # Update pie chart\n",
    "            fig[\"data\"][0][\"values\"] = [slider.value for slider in sliders.values()]\n",
    "\n",
    "\n",
    "\"\"\"\n",
    "Submits context and actions and outputs prediction\n",
    "\"\"\"\n",
    "def predict(b):\n",
    "    with predict_output:\n",
    "        context = [box.value for box in boxes.values()]\n",
    "        actions = [slider.value for slider in sliders.values()]\n",
    "        outcome = run_predictor(context, actions)\n",
    "        print(\"ELUC: \", outcome)\n",
    "        \n",
    "\n",
    "\"\"\"\n",
    "Construct widgets and attach them to their functions\n",
    "TODO: handle unusable land\n",
    "\"\"\"\n",
    "boxes = {feature : widgets.FloatText(value=0.0, description=feature) for feature in FEATURES}\n",
    "sliders = {feature : widgets.FloatSlider(value=0.0, description=feature + \"_diff\") for feature in FEATURES}\n",
    "ticks = {feature : widgets.Checkbox(value=False, description=\"lock_\" + feature) for feature in FEATURES}\n",
    "\n",
    "# For use in locking and unlocking sliders\n",
    "locked = set()\n",
    "\n",
    "prescribe_button = widgets.Button(description=\"Prescribe\")\n",
    "prescribe_output = widgets.Output()\n",
    "prescribe_button.on_click(prescribe)\n",
    "\n",
    "\n",
    "predict_button = widgets.Button(description=\"Predict\")\n",
    "predict_output = widgets.Output()\n",
    "predict_button.on_click(predict)\n",
    "\n",
    "\n",
    "\"\"\"\n",
    "Display Interactables and Figures\n",
    "TODO: add titles, make layout prettier\n",
    "\"\"\"\n",
    "for box in boxes.values():\n",
    "    display(box)\n",
    "\n",
    "display(prescribe_button, prescribe_output)\n",
    "\n",
    "display(fig)\n",
    "\n",
    "for feat in sliders:\n",
    "    sliders[feat].observe(update, names=\"value\")\n",
    "    ticks[feat].observe(lock, names=\"value\")\n",
    "    display(sliders[feat], ticks[feat])\n",
    "\n",
    "display(predict_button, predict_output)"
   ]
  },
  {
   "cell_type": "code",
   "execution_count": null,
   "metadata": {},
   "outputs": [],
   "source": []
  },
  {
   "cell_type": "code",
   "execution_count": null,
   "metadata": {},
   "outputs": [],
   "source": []
  }
 ],
 "metadata": {
  "kernelspec": {
   "display_name": "Python 3 (ipykernel)",
   "language": "python",
   "name": "python3"
  },
  "language_info": {
   "codemirror_mode": {
    "name": "ipython",
    "version": 3
   },
   "file_extension": ".py",
   "mimetype": "text/x-python",
   "name": "python",
   "nbconvert_exporter": "python",
   "pygments_lexer": "ipython3",
   "version": "3.10.7"
  }
 },
 "nbformat": 4,
 "nbformat_minor": 4
}
