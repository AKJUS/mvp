{
 "cells": [
  {
   "cell_type": "markdown",
   "id": "784fc8c9-fe40-4865-bece-0fdee54653d7",
   "metadata": {},
   "source": [
    "# OECD renewable energy feed-in tariffs\n",
    "\n",
    "The Organization for Economic Co-operation and Development ([OECD](https://www.oecd.org/)) publishes data about the [renewable energy feed-in tariffs](https://stats.oecd.org/Index.aspx?DataSetCode=RE_FIT) (FITs): \n",
    "\n",
    "> Feed-in tariffs (FITs) are prevalent support policies for scaling up renewable electricity capacity. They are market-based economic instruments, which typically offer long-term contracts that guarantee a price to be paid to a producer of a pre-determined source of electricity per kWh fed into the electricity grid.\n",
    ">\n",
    "> This dataset provides FITs values derived in a manner that is comparable across countries, years and renewable energy sub-sectors. The data include country-level values on the tariff (in USD/kWh), and length of the awarded power-purchasing agreement. The dataset covers seven renewable electricity sub-sectors: wind, solar photovoltaic (concentrated solar power is excluded), geothermal, small hydro, geothermal, marine, biomass and waste.\n",
    ">\n",
    "> This dataset is fully maintained by the OECD secretariat, drawing on government sources (e.g. websites, official documents) and information from research institutes. In addition, the data are cross-checked against other renewable energy policy databases (e.g. REN21, IEA/IRENA, [OECD PINE database](http://www.oecd.org/environment/indicators-modelling-outlooks/policy-instrument-database/)).\n",
    ">\n",
    "> For further details on the methodology and examples of applications of this dataset, please consult [the documentation](https://stats.oecd.org/wbos/fileview2.aspx?IDFile=7e7f7564-1046-4932-bfad-d24f2a679f15).\n"
   ]
  },
  {
   "cell_type": "code",
   "execution_count": null,
   "id": "ea7ce933-c4e1-4d8d-afc6-f8c51a3f4619",
   "metadata": {},
   "outputs": [],
   "source": [
    "import os\n",
    "import pandas as pd\n",
    "import datetime as dt\n",
    "import pandas_datareader.data as web"
   ]
  },
  {
   "cell_type": "code",
   "execution_count": null,
   "id": "69e6665e-e692-4527-9464-88890d26b216",
   "metadata": {},
   "outputs": [],
   "source": [
    "start_time = dt.datetime(2000, 1, 1)\n",
    "end_time = dt.datetime(2022, 10, 1)\n",
    "df = web.DataReader('RE_FIT', 'oecd', start_time, end_time)\n",
    "df.head()"
   ]
  },
  {
   "cell_type": "code",
   "execution_count": null,
   "id": "7a21cf51-e606-43ec-8fc6-50693b080305",
   "metadata": {},
   "outputs": [],
   "source": [
    "# Move Country and Variable to rows\n",
    "df = df.stack(level=[0, 1]).reset_index()\n",
    "df.head()"
   ]
  },
  {
   "cell_type": "markdown",
   "id": "bbce4d1a-9479-4191-aa01-531502b9bed5",
   "metadata": {},
   "source": [
    "The dataset contains 2 variables:\n",
    "- \"Length of power purchase agreement\"\n",
    "- \"Mean feed-in tariff\"\n",
    "\n",
    "Keep only `Mean feed-in tariff`"
   ]
  },
  {
   "cell_type": "code",
   "execution_count": null,
   "id": "ded263a7-4610-48f0-a80f-50e8924b30cf",
   "metadata": {},
   "outputs": [],
   "source": [
    "# Keep only the FIT variable\n",
    "df = df[df[\"Variable\"]==\"Mean feed-in tariff\"]\n",
    "df.head()"
   ]
  },
  {
   "cell_type": "code",
   "execution_count": null,
   "id": "06a164a7-732a-4a1e-9ff3-f44d6045af03",
   "metadata": {},
   "outputs": [],
   "source": [
    "df = df.drop(\"Variable\", axis=1)\n",
    "df.head()"
   ]
  },
  {
   "cell_type": "code",
   "execution_count": null,
   "id": "af0e518b-245f-4c27-8aa2-f4cae2787731",
   "metadata": {},
   "outputs": [],
   "source": [
    "# Keep only the year in the Year column\n",
    "df[\"Year\"] = [x.year for x in df[\"Year\"]]\n",
    "df.head()"
   ]
  },
  {
   "cell_type": "code",
   "execution_count": null,
   "id": "5b8a7853-51f3-4c9c-8439-dffe623a6dc1",
   "metadata": {},
   "outputs": [],
   "source": [
    "# Rename year and country. Remove spaces from column names\n",
    "df.rename({\"Year\": \"year\", \"Country\": \"country\", \"Small Hydro\": \"Small_Hydro\", \"Solar PV\": \"Solar_PV\"}, axis=1, inplace=True)"
   ]
  },
  {
   "cell_type": "code",
   "execution_count": null,
   "id": "e787a3e9",
   "metadata": {},
   "outputs": [],
   "source": [
    "metadata_dir = \"metadata\"\n",
    "path_to_country_conversion_table = os.path.join(metadata_dir, \"country_name_conversion.csv\")\n",
    "if not os.path.exists(path_to_country_conversion_table):\n",
    "  # get world bank country names and iso alpha3 code\n",
    "  countries_table = pd.read_csv('../processed/ccdr.csv')\n",
    "  countries_table = countries_table[['country_code','country_name']].drop_duplicates().reset_index(drop=True)\n",
    "  countries_table.columns = ['country_code',\t'wb_country_name']\n",
    "\n",
    "  # get oecd country names\n",
    "  # oecd_country_names = pd.read_csv('processed/fit.csv')\n",
    "  oecd_country_names = list(df.country.unique())\n",
    "\n",
    "  # match each oecd country name w/ wb country names\n",
    "  # and store the oecd country name that do not match\n",
    "  missing_countries = []\n",
    "  for country in oecd_country_names:\n",
    "    c = countries_table.loc[countries_table.wb_country_name== country,:]\n",
    "    if len(c)==1:\n",
    "      countries_table.loc[countries_table.wb_country_name== country,'oecd_country_name'] = country\n",
    "    else:\n",
    "      missing_countries.append(country)\n",
    "elif len(missing_countries)>=0:\n",
    "    print(f'WB and OECD country names do not match. Update table with missing {missing_countries}')\n",
    "else:\n",
    "  missing_countries =0\n",
    "  countries_table = pd.read_csv(path_to_country_conversion_table)"
   ]
  },
  {
   "cell_type": "code",
   "execution_count": null,
   "id": "87a70971",
   "metadata": {},
   "outputs": [],
   "source": [
    "# manual update: check & verify each country name correspondence to ISO country codes\n",
    "country_manual_update = {\"China (People's Republic of)\": 'CHN',\n",
    "                         'Egypt': 'EGY',\n",
    "                         'Iran':'IRN',\n",
    "                         'Korea':'KOR', \n",
    "                         'Russia':'RUS', \n",
    "                         'Türkiye':'TUR'\n",
    "                         }"
   ]
  },
  {
   "cell_type": "code",
   "execution_count": null,
   "id": "9431b79f",
   "metadata": {},
   "outputs": [],
   "source": [
    "# Update country names in the country_name_conversion table\n",
    "if len(missing_countries)>0:\n",
    "  # update missing_country_codes\n",
    "  for country in country_manual_update.items():\n",
    "    countries_table.loc[countries_table.country_code==country[1],'oecd_country_name'] = country[0]"
   ]
  },
  {
   "cell_type": "code",
   "execution_count": null,
   "id": "8b312aad",
   "metadata": {},
   "outputs": [],
   "source": [
    "df = pd.merge(df,\n",
    "              countries_table.dropna(axis=0, how='any'),\n",
    "              how='left',\n",
    "              left_on=['country'],\n",
    "              right_on=['oecd_country_name']\n",
    "              ).drop(['wb_country_name','oecd_country_name'], axis=1)"
   ]
  },
  {
   "cell_type": "code",
   "execution_count": null,
   "id": "6c7a8828-5b39-4414-9b40-f149729be62b",
   "metadata": {},
   "outputs": [],
   "source": [
    "df.head(69)"
   ]
  },
  {
   "cell_type": "markdown",
   "id": "0ac20f2f-8a12-4f04-80d5-5424d7f52fd8",
   "metadata": {},
   "source": [
    "## Check"
   ]
  },
  {
   "cell_type": "code",
   "execution_count": null,
   "id": "f7a42bd2-d1a1-4d51-b38f-e791bc8c332a",
   "metadata": {},
   "outputs": [],
   "source": [
    "df[(df[\"year\"] == 2011) & \n",
    "   (df[\"country\"] == \"Canada\")]"
   ]
  },
  {
   "cell_type": "code",
   "execution_count": null,
   "id": "5c0bcc14-a1cd-47a1-84eb-c4b10d0f4fe5",
   "metadata": {},
   "outputs": [],
   "source": [
    "# Note: not the same countries for different years\n",
    "df[df[\"year\"] == 2000].shape"
   ]
  },
  {
   "cell_type": "code",
   "execution_count": null,
   "id": "9212e563-111f-484b-81c3-ad901f0bdc2c",
   "metadata": {},
   "outputs": [],
   "source": [
    "df[df[\"year\"] == 2019].shape"
   ]
  },
  {
   "cell_type": "markdown",
   "id": "b3a0ad66-5979-4230-8522-b0d8cfb2d8a9",
   "metadata": {},
   "source": [
    "## Export \n",
    "Export to .csv file"
   ]
  },
  {
   "cell_type": "code",
   "execution_count": null,
   "id": "7e926470-9e81-4246-b0ab-5baea489e713",
   "metadata": {},
   "outputs": [],
   "source": [
    "processed_dir = \"processed\"\n",
    "csv_full_filename = os.path.join(processed_dir, \"fit.csv\")\n",
    "csv_full_filename"
   ]
  },
  {
   "cell_type": "code",
   "execution_count": null,
   "id": "f5653d40-b2a1-4ce5-9e6d-1ee718226d79",
   "metadata": {},
   "outputs": [],
   "source": [
    "# Create the output directory if needed\n",
    "if not os.path.exists(processed_dir):\n",
    "    os.makedirs(processed_dir)\n",
    "df.to_csv(csv_full_filename, encoding='utf-8', index=False)"
   ]
  },
  {
   "cell_type": "code",
   "execution_count": null,
   "id": "7f76d861-6fca-4b5d-b289-4ffdd180ba6f",
   "metadata": {},
   "outputs": [],
   "source": [
    "# Update country_name_conversion table\n",
    "# Create the output directory if needed\n",
    "if not os.path.exists(metadata_dir):\n",
    "    os.makedirs(metadata_dir)\n",
    "\n",
    "countries_table.to_csv(path_to_country_conversion_table, encoding='utf-8', index=False)"
   ]
  }
 ],
 "metadata": {
  "kernelspec": {
   "display_name": "Python 3 (ipykernel)",
   "language": "python",
   "name": "python3"
  },
  "language_info": {
   "codemirror_mode": {
    "name": "ipython",
    "version": 3
   },
   "file_extension": ".py",
   "mimetype": "text/x-python",
   "name": "python",
   "nbconvert_exporter": "python",
   "pygments_lexer": "ipython3",
   "version": "3.10.7"
  }
 },
 "nbformat": 4,
 "nbformat_minor": 5
}
