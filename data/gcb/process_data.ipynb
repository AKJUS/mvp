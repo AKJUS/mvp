{
 "cells": [
  {
   "cell_type": "code",
   "execution_count": 11,
   "metadata": {},
   "outputs": [],
   "source": [
    "import pandas as pd\n",
    "import regionmask\n",
    "import xarray as xr"
   ]
  },
  {
   "cell_type": "code",
   "execution_count": 12,
   "metadata": {},
   "outputs": [],
   "source": [
    "def process_ds(path):\n",
    "    ds = xr.open_zarr(path, consolidated=True)\n",
    "\n",
    "    ds['ELUC'] = ds['ELUC'].shift(time=1)\n",
    "    ds['ELUC_diff'] = ds['ELUC_diff'].shift(time=1)\n",
    "    ds['time'] = ds.time - 1\n",
    "\n",
    "    ds = ds.stack(latlon=('lat', 'lon'))\n",
    "\n",
    "    mask = ds['ELUC_diff'].isnull().compute()\n",
    "    ds = ds.where(~mask, drop=True)\n",
    "\n",
    "    country_mask = regionmask.defined_regions.natural_earth_v5_0_0.countries_110.mask(ds)\n",
    "    ds = ds.assign_coords(country=country_mask)\n",
    "    \n",
    "    return ds"
   ]
  },
  {
   "cell_type": "code",
   "execution_count": 13,
   "metadata": {},
   "outputs": [],
   "source": [
    "def convert_to_dataframe(da):\n",
    "    df = da.to_dataframe()\n",
    "    df.index = df.index.set_names(['time', 'i_lat', 'i_lon'])\n",
    "    df = df.reset_index()\n",
    "    return df"
   ]
  },
  {
   "cell_type": "code",
   "execution_count": 19,
   "metadata": {},
   "outputs": [],
   "source": [
    "PATH_TO_DATASET = \"processed/merged_aggregated_dataset_1850_2022.zarr.zip\"\n",
    "ds = process_ds(PATH_TO_DATASET)\n",
    "\n",
    "countries = regionmask.defined_regions.natural_earth_v5_0_0.countries_110\n",
    "countries_df = countries.to_dataframe()\n",
    "\n",
    "# Change this\n",
    "country_list = [\"GB\", \"BR\", \"CH\"]\n",
    "country_id_list = countries_df.index[countries_df['abbrevs'].isin(country_list)].tolist()\n",
    "\n",
    "da = ds.where(ds.country.isin(country_id_list), drop=True)\n",
    "df = convert_to_dataframe(da)\n",
    "path = \"\"\n",
    "for c in country_list:\n",
    "    path += c + \"_\"\n",
    "path += \"eluc.csv\"\n",
    "df.to_csv(f\"processed/path.lower()\")"
   ]
  }
 ],
 "metadata": {
  "kernelspec": {
   "display_name": "leaf",
   "language": "python",
   "name": "python3"
  },
  "language_info": {
   "codemirror_mode": {
    "name": "ipython",
    "version": 3
   },
   "file_extension": ".py",
   "mimetype": "text/x-python",
   "name": "python",
   "nbconvert_exporter": "python",
   "pygments_lexer": "ipython3",
   "version": "3.10.4"
  },
  "orig_nbformat": 4
 },
 "nbformat": 4,
 "nbformat_minor": 2
}
