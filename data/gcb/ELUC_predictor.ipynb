{
 "cells": [
  {
   "cell_type": "markdown",
   "id": "4121705d-e0ff-4671-8d57-13008150e49a",
   "metadata": {},
   "source": [
    "# ELUC Predictor"
   ]
  },
  {
   "cell_type": "code",
   "execution_count": null,
   "id": "46a1ff3e-73e8-428b-9f1d-e75f45d68528",
   "metadata": {},
   "outputs": [],
   "source": [
    "# %pip install zarr\n",
    "# %pip install regionmask\n",
    "# %pip install xgboost\n",
    "# %pip install scikit-learn"
   ]
  },
  {
   "cell_type": "code",
   "execution_count": null,
   "id": "58b1bb94-175a-487a-adc0-ead3f3032a03",
   "metadata": {},
   "outputs": [],
   "source": [
    "import numpy as np\n",
    "import pandas as pd\n",
    "import regionmask\n",
    "import xarray as xr"
   ]
  },
  {
   "cell_type": "code",
   "execution_count": null,
   "id": "2673f477-b7bc-4a16-90a7-9a83b58efe7a",
   "metadata": {},
   "outputs": [],
   "source": [
    "dataset = xr.open_zarr(\"processed/merged_aggregated_dataset_1850_2022.zarr.zip\", consolidated=True)"
   ]
  },
  {
   "cell_type": "code",
   "execution_count": null,
   "id": "03c1a1c7-91ed-4eb3-8e95-75376773d0d4",
   "metadata": {},
   "outputs": [],
   "source": [
    "dataset = dataset.stack(latlon=('lat', 'lon'))"
   ]
  },
  {
   "cell_type": "code",
   "execution_count": null,
   "id": "7a23791a-957f-4250-abe1-e35d80c8df9d",
   "metadata": {},
   "outputs": [],
   "source": [
    "regionmask.__version__"
   ]
  },
  {
   "cell_type": "code",
   "execution_count": null,
   "id": "e77ba2da-66c0-45d7-9a6c-657520d54dc8",
   "metadata": {},
   "outputs": [],
   "source": [
    "# Train on countries 0-80, and test on the rest, and test on the last 15 years of data\n",
    "country_mask = regionmask.defined_regions.natural_earth_v5_0_0.countries_110.mask(dataset)\n",
    "dataset = dataset.assign_coords(country=country_mask)"
   ]
  },
  {
   "cell_type": "code",
   "execution_count": null,
   "id": "679f40e8-cd49-4241-8f49-03615a5cd196",
   "metadata": {},
   "outputs": [],
   "source": [
    "dataset"
   ]
  },
  {
   "cell_type": "code",
   "execution_count": null,
   "id": "9f6b9a5d-5fb5-4667-84c7-9c2e92e0a803",
   "metadata": {},
   "outputs": [],
   "source": [
    "countries = regionmask.defined_regions.natural_earth_v5_0_0.countries_110\n",
    "countries"
   ]
  },
  {
   "cell_type": "code",
   "execution_count": null,
   "id": "5ffe9e54-e7d0-40d4-9fd2-49e406db4b90",
   "metadata": {},
   "outputs": [],
   "source": [
    "dataset.country"
   ]
  },
  {
   "cell_type": "code",
   "execution_count": null,
   "id": "cda80610-e301-40eb-8665-d1148a359aab",
   "metadata": {},
   "outputs": [],
   "source": [
    "dataset.groupby(dataset.country).count()"
   ]
  },
  {
   "cell_type": "code",
   "execution_count": null,
   "id": "2074989c-de57-4c63-a39b-89c2643142ea",
   "metadata": {},
   "outputs": [],
   "source": [
    "np.unique(dataset.time)"
   ]
  },
  {
   "cell_type": "markdown",
   "id": "dd080b37-27a9-4724-8283-d3ff36332d84",
   "metadata": {},
   "source": [
    "## Remove NaN ELUC_diff"
   ]
  },
  {
   "cell_type": "code",
   "execution_count": null,
   "id": "3e8ccfd5-5cef-4573-98fd-f9bd7f1c29a3",
   "metadata": {},
   "outputs": [],
   "source": [
    "# Create a boolean mask based on NaN values for ELUC_diff\n",
    "mask = dataset['ELUC_diff'].isnull()"
   ]
  },
  {
   "cell_type": "code",
   "execution_count": null,
   "id": "2b305bb6-9e9e-4d98-b4f0-4d31907bca70",
   "metadata": {},
   "outputs": [],
   "source": [
    "# Filter the dataset based on the mask\n",
    "dataset = dataset.where(~mask, drop=True)"
   ]
  },
  {
   "cell_type": "markdown",
   "id": "618b11cd-c4a3-4312-970a-e375cc7fd65e",
   "metadata": {},
   "source": [
    "## Train and test sets\n",
    "Create a dataset for a single country to keep it small and easy to train on  \n",
    "Country: United Kingdom  \n",
    "Train on data between 1850 and 2007  \n",
    "Test on data after 2007 (i.e. 2008 to 2021)"
   ]
  },
  {
   "cell_type": "code",
   "execution_count": null,
   "id": "e9d2ce3d-b9ac-424d-950b-bf565d85c4ab",
   "metadata": {},
   "outputs": [],
   "source": [
    "countries_df = countries.to_dataframe()\n",
    "countries_df"
   ]
  },
  {
   "cell_type": "code",
   "execution_count": null,
   "id": "8f91d432-61e6-4c90-aa3e-f5a8b8eea5f2",
   "metadata": {},
   "outputs": [],
   "source": [
    "countries_df[countries_df.names == 'United Kingdom']"
   ]
  },
  {
   "cell_type": "code",
   "execution_count": null,
   "id": "1ae18483-e71d-4be8-bf99-3019a3de52d0",
   "metadata": {},
   "outputs": [],
   "source": [
    "# train_da = dataset.where(dataset.country <= 80, drop=True).where(dataset.time <= 2007, drop=True)\n",
    "# test_da = dataset.where(dataset.country > 80,  drop=True).where(dataset.time > 2007, drop=True)\n",
    "train_da = dataset.where(dataset.country == 143, drop=True).where(dataset.time <= 2007, drop=True)\n",
    "test_da = dataset.where(dataset.country == 143,  drop=True).where(dataset.time > 2007, drop=True)"
   ]
  },
  {
   "cell_type": "code",
   "execution_count": null,
   "id": "3c3f0216-13cf-440c-be1c-a3d1da65caf5",
   "metadata": {},
   "outputs": [],
   "source": [
    "train_da"
   ]
  },
  {
   "cell_type": "code",
   "execution_count": null,
   "id": "46c2600a-0da4-460d-afad-82aa6170b9c2",
   "metadata": {},
   "outputs": [],
   "source": [
    "test_da"
   ]
  },
  {
   "cell_type": "code",
   "execution_count": null,
   "id": "133613cf-dd0d-4261-8e08-3f87f24b79a1",
   "metadata": {},
   "outputs": [],
   "source": [
    "features = list(train_da.data_vars)\n",
    "# This is the target\n",
    "features.remove('ELUC_diff')\n",
    "# Do not use:\n",
    "features.remove('cell_area')\n",
    "features.remove('cell_area_diff')"
   ]
  },
  {
   "cell_type": "code",
   "execution_count": null,
   "id": "e9b2e175-bdab-4799-98cf-abcd42493be7",
   "metadata": {},
   "outputs": [],
   "source": [
    "features"
   ]
  },
  {
   "cell_type": "code",
   "execution_count": null,
   "id": "9e7ea10c-623d-42d8-8862-ac85f1179237",
   "metadata": {},
   "outputs": [],
   "source": [
    "# Extract features and target variable from the training dataset\n",
    "X_train = train_da[features]\n",
    "y_train = train_da['ELUC_diff']"
   ]
  },
  {
   "cell_type": "code",
   "execution_count": null,
   "id": "82d473ed-f75e-4b69-829b-ca320bdd7fb5",
   "metadata": {},
   "outputs": [],
   "source": [
    "# Extract features and target variable from the test dataset\n",
    "X_test = test_da[features]\n",
    "y_test = test_da['ELUC_diff']"
   ]
  },
  {
   "cell_type": "code",
   "execution_count": null,
   "id": "0049c491-7b1d-4000-b4a3-66bd0c37ce03",
   "metadata": {},
   "outputs": [],
   "source": [
    "X_test"
   ]
  },
  {
   "cell_type": "code",
   "execution_count": null,
   "id": "b264a964-c68a-437a-b608-e5e80a2796fd",
   "metadata": {},
   "outputs": [],
   "source": [
    "y_test"
   ]
  },
  {
   "cell_type": "code",
   "execution_count": null,
   "id": "550587b0-c1dd-4f39-8349-8680998f4545",
   "metadata": {},
   "outputs": [],
   "source": [
    "np.isnan(y_test.values)"
   ]
  },
  {
   "cell_type": "markdown",
   "id": "7f02a057-5196-4c3e-a5aa-d67ee1afb4c0",
   "metadata": {},
   "source": [
    "## XGBoost"
   ]
  },
  {
   "cell_type": "code",
   "execution_count": null,
   "id": "f1b4a572-3435-460a-9ee5-1491a8ccfd48",
   "metadata": {},
   "outputs": [],
   "source": [
    "import xgboost as xgb"
   ]
  },
  {
   "cell_type": "code",
   "execution_count": null,
   "id": "90368dfa-03bb-4bd9-8702-731907efb937",
   "metadata": {},
   "outputs": [],
   "source": [
    "X_train = np.column_stack([X_train[feature].values for feature in features])"
   ]
  },
  {
   "cell_type": "code",
   "execution_count": null,
   "id": "1c25d2bf-d782-4bbc-98e3-2cf614f17420",
   "metadata": {},
   "outputs": [],
   "source": [
    "model = xgb.XGBRegressor()"
   ]
  },
  {
   "cell_type": "code",
   "execution_count": null,
   "id": "6f48cab3-5a5f-4b78-ba36-6b7f870f0edb",
   "metadata": {},
   "outputs": [],
   "source": [
    "%%time\n",
    "model.fit(X_train, y_train)"
   ]
  },
  {
   "cell_type": "code",
   "execution_count": null,
   "id": "dabaec83-5e9f-4d50-8a14-4500146a6f59",
   "metadata": {},
   "outputs": [],
   "source": [
    "X_test = np.column_stack([X_test[feature].values for feature in features])"
   ]
  },
  {
   "cell_type": "code",
   "execution_count": null,
   "id": "9e658d89-dda7-4d1f-b197-e0d1bd8e2e8d",
   "metadata": {},
   "outputs": [],
   "source": [
    "preds = model.predict(X_test)"
   ]
  },
  {
   "cell_type": "code",
   "execution_count": null,
   "id": "4a91137f-ed96-42f5-bb8a-c034ccf9f6b1",
   "metadata": {},
   "outputs": [],
   "source": [
    "preds"
   ]
  },
  {
   "cell_type": "code",
   "execution_count": null,
   "id": "e3e36b19-77be-48b3-aabc-ee4bfacdcc8d",
   "metadata": {},
   "outputs": [],
   "source": [
    "from sklearn.metrics import mean_squared_error\n",
    "from sklearn.metrics import mean_absolute_error\n",
    "\n",
    "mse = mean_squared_error(y_test, preds, squared=True)\n",
    "rmse = mean_squared_error(y_test, preds, squared=False)\n",
    "mae = mean_absolute_error(y_test, preds)\n",
    "print(f\"MSE: {mse}\")\n",
    "print(f\"RMSE: {rmse}\")\n",
    "print(f\"MAE: {mae}\")"
   ]
  },
  {
   "cell_type": "code",
   "execution_count": null,
   "id": "a97b6c4d-610f-4af4-81fe-f385cd05503d",
   "metadata": {},
   "outputs": [],
   "source": [
    "preds.shape"
   ]
  },
  {
   "cell_type": "code",
   "execution_count": null,
   "id": "a48ab023-782c-4e6d-92a7-0ca91e75efec",
   "metadata": {},
   "outputs": [],
   "source": []
  }
 ],
 "metadata": {
  "kernelspec": {
   "display_name": "Python 3 (ipykernel)",
   "language": "python",
   "name": "python3"
  },
  "language_info": {
   "codemirror_mode": {
    "name": "ipython",
    "version": 3
   },
   "file_extension": ".py",
   "mimetype": "text/x-python",
   "name": "python",
   "nbconvert_exporter": "python",
   "pygments_lexer": "ipython3",
   "version": "3.10.7"
  }
 },
 "nbformat": 4,
 "nbformat_minor": 5
}
