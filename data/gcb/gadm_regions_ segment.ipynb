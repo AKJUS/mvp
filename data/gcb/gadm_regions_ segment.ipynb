{
 "cells": [
  {
   "cell_type": "markdown",
   "id": "daf6f45c",
   "metadata": {},
   "source": [
    "# ELUC Administrative Segmentation"
   ]
  },
  {
   "attachments": {},
   "cell_type": "markdown",
   "id": "9ae929a2",
   "metadata": {},
   "source": [
    "In this notebook you will find a geographical segmentation of administrative regions. "
   ]
  },
  {
   "attachments": {},
   "cell_type": "markdown",
   "id": "63c165cf",
   "metadata": {},
   "source": [
    "## Contents"
   ]
  },
  {
   "attachments": {},
   "cell_type": "markdown",
   "id": "c968b1a1",
   "metadata": {},
   "source": [
    "1. [Introduction](#1)\n",
    "\n",
    "   1.1. [Data source](#11)\n",
    "\n",
    "2. [Download GADM data (version 4.1)](#2)\n",
    "\n",
    "3. [Data processing](#3)\n",
    "\n",
    "   3.1. [Load GADM](#31) \n",
    "\n",
    "   3.2. [Data visualization](#32)\n",
    "   \n",
    "   3.3. [Create administrative regions from GADM](#33)\n",
    "   \n",
    "   3.4. [Segmentation](#34)\n",
    "\n",
    "4. [Save data](#4) \n"
   ]
  },
  {
   "attachments": {},
   "cell_type": "markdown",
   "id": "14d44f44",
   "metadata": {},
   "source": [
    "## <a id=\"1\">1. Introduction</a>"
   ]
  },
  {
   "cell_type": "markdown",
   "id": "d47d85fd",
   "metadata": {},
   "source": [
    "From an administration point of view, a country can be seen as a collection of different regions or units. Each region or unit is a subnational entity which is given some degrees of autonomy and decision capacity. \n",
    "\n",
    "While some decisions are taken at international or national, there are some decisions that are taken at regional level. There are regional differences in weather patterns, agricultural production, and anticipated regional variation in climate change impacts. \n",
    "\n",
    "To map each decision unit, we will use GADM, a geocode standard, or system, that is open source and internationally recognized.\n",
    "\n",
    "![GADM](https://www.arcgis.com/sharing/rest/content/items/5994df71197346a5bb9d0916d86df7f6/info/thumbnail/thumbnail1664450856103.png?w=800)\n",
    "\n",
    "The main focus of *Project Resilience* is to perform analisis at a county administrative level. This notebook will segment geographical data into administrative regions. "
   ]
  },
  {
   "attachments": {},
   "cell_type": "markdown",
   "id": "c3b2289a",
   "metadata": {},
   "source": [
    "### <a id=\"11\">1.1. Data source</a>"
   ]
  },
  {
   "cell_type": "markdown",
   "id": "a295c361",
   "metadata": {},
   "source": [
    "The Global Administrative Areas (GADM) vector dataset series, developed by a group of zoologists and agricultural scientists in California, is the world coverage for administrative units at different administrative levels.\n",
    "\n",
    "Delimiting a total of 400,276 boundaries, GADM open data project delivers distinct datasets representing administrative boundaries for each country and its respective political subdivisions. The dataset series is comprised of the six administrative levels global datasets for: \n",
    "\n",
    "- National (level 0), \n",
    "- State/province/equivalent (level 1), \n",
    "- **County/district/equivalent (level 2)**, \n",
    "- Commune/municipality/equivalent (level 3), and smaller Levels 4 and 5. \n",
    "\n",
    "Attributes for Level 0 comprise country name in English and ISO 3166-1 alpha3 coding. Administrative units associated with attribute information include official names in Latin and non-Latin scripts, variant names, administrative type in local and English.\n",
    "\n",
    "Administrative Level 4 is available for 20 countries and Level 5 for France and Rwanda.\n",
    "\n",
    "The GADM project created the spatial data for many countries from spatial databases provided by national governments, NGO, and/or from maps and lists of names available on the Internet.\n",
    "\n",
    "\n",
    "| GADM Database | |\n",
    "|:--|---|\n",
    "| URL: | https://gadm.org/ |\n",
    "| Date: | 16 July 2022 |\n",
    "| Version: | 4.1 |\n",
    "| Repository: | *University of California, Davis* |\n",
    "| License: | Freely available for academic and other non-commercial use |\n",
    "\n",
    "\n",
    " "
   ]
  },
  {
   "attachments": {},
   "cell_type": "markdown",
   "id": "6e0311fd",
   "metadata": {},
   "source": [
    "## <a id=\"2\">2. Download GADM data (version 4.1)</a>\n",
    "\n",
    "We will download all level 2 administrative regions, from 171 countries, that are available at UC Davis repository and temporarly store them for integration with ELUC dataset."
   ]
  },
  {
   "cell_type": "code",
   "execution_count": null,
   "id": "3dc193b9",
   "metadata": {},
   "outputs": [],
   "source": [
    "import numpy as np\n",
    "import xarray as xr\n",
    "import pandas as pd\n",
    "import matplotlib.pyplot as plt\n",
    "import regionmask\n",
    "import os\n",
    "import geopandas as gpd\n",
    "from affine import Affine\n",
    "from rasterio import features\n",
    "import requests\n",
    "import zipfile \n",
    "import io"
   ]
  },
  {
   "cell_type": "code",
   "execution_count": null,
   "id": "53adadd0",
   "metadata": {},
   "outputs": [],
   "source": [
    "# GADM Global Administrative Areas\n",
    "repo_url = \"https://geodata.ucdavis.edu/gadm/gadm4.1/\"\n",
    "gadm_level = \"2\"\n",
    "file_extension = \"json\" # GeoJSON\n",
    "url_gadm_catalogue = \"https://geodata.ucdavis.edu/gadm/gadm4.1.txt\"\n",
    "\n",
    "# Read GADM catalogue\n",
    "r = requests.get(url_gadm_catalogue)\n",
    "catalogue = r.text.split(\"\\n\")\n",
    "gadm_level = \"2\" # administrative level\n",
    "\n",
    "catalogue_level_2 = [file[:-7] + \".json.zip\" for file in catalogue if gadm_level in file]\n",
    "\n",
    "# Set geojson storage path to data/raw/gadm/json/\n",
    "storage_location_gadm_json = \"./raw/gadm/json/\""
   ]
  },
  {
   "cell_type": "code",
   "execution_count": null,
   "id": "6cf8efd9",
   "metadata": {},
   "outputs": [],
   "source": [
    "# Download extract and store GADM level 2 geojson files\n",
    "for file in catalogue_level_2:    \n",
    "    url_full = repo_url+file_extension+\"/\"+file\n",
    "    local_storage = storage_location_gadm_json+file[:-4]\n",
    "    if not os.path.isfile(local_storage):\n",
    "        response = requests.get(url_full)\n",
    "        if response.status_code == 200:\n",
    "            print(f'GADM level 2 for {local_storage}: Downloading...')\n",
    "            r = requests.get(url_full, stream=True)\n",
    "            z = zipfile.ZipFile(io.BytesIO(r.content))\n",
    "            z.extractall(storage_location_gadm_json)\n",
    "        else:\n",
    "            print(f'GADM level 2 for {local_storage}: Not available')"
   ]
  },
  {
   "cell_type": "code",
   "execution_count": null,
   "id": "29079d8a",
   "metadata": {},
   "outputs": [],
   "source": [
    "# Create a local GADM catalogue \n",
    "geojson_catalogue = [file[:-4] for file in catalogue_level_2]\n",
    "countries_catalogue = [filename.split(\"_\")[1] for filename in geojson_catalogue]\n",
    "gadm_country_catalogue = pd.DataFrame.from_dict(\n",
    "    dict(zip(countries_catalogue, geojson_catalogue)),\n",
    "    orient=\"index\", columns=[\"geojson\"])\n",
    "gadm_country_catalogue[\"local_path\"] = gadm_country_catalogue[\"geojson\"].apply(lambda x: storage_location_gadm_json + x)"
   ]
  },
  {
   "cell_type": "code",
   "execution_count": null,
   "id": "a6074165",
   "metadata": {},
   "outputs": [],
   "source": [
    "gadm_country_catalogue.reset_index().to_csv(storage_location_gadm_json + \"../gadm_country_catalogue.csv\", index=False)"
   ]
  },
  {
   "attachments": {},
   "cell_type": "markdown",
   "id": "0f807f9d",
   "metadata": {},
   "source": [
    "## <a id=\"3\">3. Data processing</a>\n"
   ]
  },
  {
   "attachments": {},
   "cell_type": "markdown",
   "id": "dcc24810",
   "metadata": {},
   "source": [
    "###  <a id=\"31\">3.1. Load GADM </a>\n"
   ]
  },
  {
   "cell_type": "code",
   "execution_count": null,
   "id": "0ceeb121",
   "metadata": {},
   "outputs": [],
   "source": [
    "# Example: Canada\n",
    "country = \"CAN\"\n",
    "gadm = gpd.read_file(gadm_country_catalogue.loc[country].values[1])\n",
    "gadm.head(2)"
   ]
  },
  {
   "cell_type": "markdown",
   "id": "6585494f",
   "metadata": {},
   "source": [
    "Each row represents a city, or other administrative division like *\"Alberta, DivisionNo.1\"*.\n",
    "For each region, we can find the name, county and official name, along with other types of meta-data. The last column, geometry, contains a multipolygon, a geographical representation of the administrative region."
   ]
  },
  {
   "attachments": {},
   "cell_type": "markdown",
   "id": "518415c7",
   "metadata": {},
   "source": [
    "### <a id=\"32\">3.2. Data visualization</a>\n"
   ]
  },
  {
   "cell_type": "markdown",
   "id": "723469db",
   "metadata": {},
   "source": [
    "To visualize a GADM file we will use *Canada* as example to see the level 2 regions delimited by white borders."
   ]
  },
  {
   "cell_type": "code",
   "execution_count": null,
   "id": "840b954d",
   "metadata": {},
   "outputs": [],
   "source": [
    "# Example: Canada\n",
    "CAN = gadm[gadm.GID_0 == 'CAN']\n",
    "ax = ax = CAN.plot(figsize=(10,5), linewidth=0.5, edgecolor='white', color='lightblue')\n",
    "ax.set_title(\"Canada\")\n",
    "ax.set_xlabel('Longitude [Degrees East]')\n",
    "ax.set_ylabel('Latitude [Degrees North]')"
   ]
  },
  {
   "attachments": {},
   "cell_type": "markdown",
   "id": "8698d166",
   "metadata": {},
   "source": [
    "### <a id=\"33\">3.3. Create administrative regions from GADM</a>"
   ]
  },
  {
   "cell_type": "markdown",
   "id": "7f748942",
   "metadata": {},
   "source": [
    "We want to select *level 2* identifiers like `NAME_2` and `GID_2` for each administrative region."
   ]
  },
  {
   "cell_type": "code",
   "execution_count": null,
   "id": "8a38aa27",
   "metadata": {},
   "outputs": [],
   "source": [
    "CAN[[\"NAME_1\", \"GID_1\", \"NAME_2\", \"GID_2\", \"geometry\"]].head(2)"
   ]
  },
  {
   "cell_type": "markdown",
   "id": "6c672757",
   "metadata": {},
   "source": [
    "**Level 1** \n",
    "Administrative regions"
   ]
  },
  {
   "cell_type": "code",
   "execution_count": null,
   "id": "936f30ed",
   "metadata": {},
   "outputs": [],
   "source": [
    "pd.DataFrame(CAN.NAME_1.unique()).head(3)"
   ]
  },
  {
   "cell_type": "markdown",
   "id": "d4778d47",
   "metadata": {},
   "source": [
    "**Level 2** administrative regions"
   ]
  },
  {
   "cell_type": "code",
   "execution_count": null,
   "id": "14c5aae6",
   "metadata": {},
   "outputs": [],
   "source": [
    "pd.DataFrame(CAN.NAME_2.unique()).head(3)"
   ]
  },
  {
   "attachments": {},
   "cell_type": "markdown",
   "id": "d4815c57",
   "metadata": {},
   "source": [
    "### <a id=\"34\">3.4. Segmentation</a>\n"
   ]
  },
  {
   "cell_type": "markdown",
   "id": "8cda87aa",
   "metadata": {},
   "source": [
    "Using level 2 region name `NAME_2` is not sufficient to clearly identify a region. We will concatenate `NAME_1` and `NAME_2` for further context. \n",
    "\n",
    "Example: *\"Alberta, DivisionNo.1\"*, *\"Alberta, DivisionNo.10\"*, ... "
   ]
  },
  {
   "cell_type": "markdown",
   "id": "651d99e3",
   "metadata": {},
   "source": [
    "**Collect GADM regions from all countries**\n",
    "\n",
    "For each country, we will load the GADM file, containing the level 2 administrative regions, resolve the geometry of each region into a mask that will be applied to the ELUC dataset.\n",
    "\n",
    "To do it, we have previously stored all the necessary files in `/data/gcb/raw/gadm/json/`. A catalogue is also available to iterate throught them. "
   ]
  },
  {
   "cell_type": "markdown",
   "id": "e941fc88",
   "metadata": {},
   "source": [
    "For more information on how to create regions, please check [regionmask documentation](https://regionmask.readthedocs.io/en/stable/notebooks/create_own_regions.html#use-shapely-polygon)."
   ]
  },
  {
   "cell_type": "code",
   "execution_count": null,
   "id": "7cb70a6e",
   "metadata": {},
   "outputs": [],
   "source": [
    "gadm_region_names = []\n",
    "gadm_region_codes = []\n",
    "gadm_region_geoms = []\n",
    "\n",
    "for country in gadm_country_catalogue.index:\n",
    "    gadm = gpd.read_file(gadm_country_catalogue.loc[country].values[1]) # read gadm country file\n",
    "    gadm = gadm.dissolve(\"NAME_2\").reset_index() # groupby at level 2, including geometry\n",
    "    gadm_region_names.extend(list(map(lambda x, y: x + \", \" + y,\n",
    "                                      list(gadm.reset_index().NAME_1.values), \n",
    "                                      list(gadm.reset_index().NAME_2.values)))) # region name\n",
    "    gadm_region_codes.extend(list(gadm.reset_index().GID_2.values)) # region code\n",
    "    gadm_region_geoms.extend(list(gadm.reset_index().geometry.values)) # region geometry"
   ]
  },
  {
   "cell_type": "code",
   "execution_count": null,
   "id": "112d2587",
   "metadata": {},
   "outputs": [],
   "source": [
    "gadm_level2_mask = regionmask.Regions(outlines = gadm_region_geoms, \n",
    "                                      names = gadm_region_names, \n",
    "                                      abbrevs = gadm_region_codes, \n",
    "                                      name = \"gadm_level2_regions\")"
   ]
  },
  {
   "cell_type": "markdown",
   "id": "7efa741c",
   "metadata": {},
   "source": [
    "Load ELUC dataset and apply region masks:\n",
    "\n",
    "- Countries 110 mask\n",
    "- Global Administrative Regions (GADM) mask"
   ]
  },
  {
   "cell_type": "code",
   "execution_count": null,
   "id": "5cb64442",
   "metadata": {},
   "outputs": [],
   "source": [
    "# Load ELUC merged aggregate dataset\n",
    "ds = xr.open_zarr(\"./raw/zarr/merged_aggregated_dataset.zarr\", consolidated=True)\n",
    "ds = ds.stack(latlon=('lat', 'lon'))"
   ]
  },
  {
   "cell_type": "code",
   "execution_count": null,
   "id": "566d59da",
   "metadata": {},
   "outputs": [],
   "source": [
    "# Apply countries masks\n",
    "country_mask = regionmask.defined_regions.natural_earth_v5_0_0.countries_110.mask(ds)"
   ]
  },
  {
   "cell_type": "code",
   "execution_count": null,
   "id": "4b21630b",
   "metadata": {},
   "outputs": [],
   "source": [
    "# Apply gadm regions masks\n",
    "gadm_mask = gadm_level2_mask.mask(ds)"
   ]
  },
  {
   "cell_type": "code",
   "execution_count": null,
   "id": "d5c14429",
   "metadata": {},
   "outputs": [],
   "source": [
    "ds = ds.assign_coords({\"country\":country_mask, \n",
    "                       \"gadm_region\":gadm_mask})"
   ]
  },
  {
   "cell_type": "code",
   "execution_count": null,
   "id": "d21e89dd",
   "metadata": {},
   "outputs": [],
   "source": [
    "len(np.unique(gadm_mask.unstack().mask.values))"
   ]
  },
  {
   "attachments": {},
   "cell_type": "markdown",
   "id": "b8c426d9",
   "metadata": {},
   "source": [
    "We have successfuly created 25.629 administrative regions."
   ]
  },
  {
   "attachments": {},
   "cell_type": "markdown",
   "id": "43a48467",
   "metadata": {},
   "source": [
    "## <a id=\"4\">4. Save data </a>"
   ]
  },
  {
   "attachments": {},
   "cell_type": "markdown",
   "id": "51266e82",
   "metadata": {},
   "source": [
    "Xarray’s [Zarr](https://zarr.readthedocs.io/en/stable/) backend allows us to save xarray in zarr format."
   ]
  },
  {
   "cell_type": "code",
   "execution_count": null,
   "id": "0b79a8bc",
   "metadata": {},
   "outputs": [],
   "source": [
    "gadm_mask.unstack().to_zarr(\"./raw/zarr/gadm_mask/\")"
   ]
  },
  {
   "cell_type": "code",
   "execution_count": null,
   "id": "ab15f46a",
   "metadata": {},
   "outputs": [],
   "source": [
    "# check \n",
    "#gadm_mask = xr.open_zarr(\"./raw/zarr/gadm_mask\", consolidated=True)\n",
    "#gadm_mask = gadm_mask.stack(latlon=('lat', 'lon'))"
   ]
  }
 ],
 "metadata": {
  "kernelspec": {
   "display_name": "Python 3 (ipykernel)",
   "language": "python",
   "name": "python3"
  },
  "language_info": {
   "codemirror_mode": {
    "name": "ipython",
    "version": 3
   },
   "file_extension": ".py",
   "mimetype": "text/x-python",
   "name": "python",
   "nbconvert_exporter": "python",
   "pygments_lexer": "ipython3",
   "version": "3.10.10"
  }
 },
 "nbformat": 4,
 "nbformat_minor": 5
}
