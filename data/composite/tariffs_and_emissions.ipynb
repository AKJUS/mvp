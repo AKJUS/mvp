{
 "cells": [
  {
   "cell_type": "markdown",
   "id": "15e02d2d-2ca1-42f4-83ea-4fb0d01141e2",
   "metadata": {},
   "source": [
    "# Renewable energy feed-in tariffs and emissions\n",
    "\n",
    "Assembles a dataset that contains:\n",
    "- some country specific features\n",
    "- their renewable energy feed-in tariffs\n",
    "- their CO2 emissions"
   ]
  },
  {
   "cell_type": "code",
   "execution_count": null,
   "id": "63d0fd7c-4ded-42da-80ff-ae9d4f747d4a",
   "metadata": {},
   "outputs": [],
   "source": [
    "import pandas as pd"
   ]
  },
  {
   "cell_type": "markdown",
   "id": "31ec8c0e-ea34-4a38-ae52-21b477c31f22",
   "metadata": {},
   "source": [
    "# Constants"
   ]
  },
  {
   "cell_type": "code",
   "execution_count": null,
   "id": "f9dfc6a6-2a63-4594-bd99-80c0f7e80fe0",
   "metadata": {},
   "outputs": [],
   "source": [
    "EARLIEST_YEAR = 2000\n",
    "FIT_PREFIX = \"FIT_\""
   ]
  },
  {
   "cell_type": "markdown",
   "id": "4fa5abf6-a654-4fdf-a52f-580e8f7d396e",
   "metadata": {},
   "source": [
    "# OECD renewable energy feed-in tariffs\n",
    "\n",
    "NOTE: Run the [OECD tariffs notebook](../oecd/oecd_tariffs.ipynb) to generate the .csv file.  \n",
    "It contains country feed-in tariffs (FIT) by renewable energy source"
   ]
  },
  {
   "cell_type": "code",
   "execution_count": null,
   "id": "2eade553-c7e0-4e29-918e-cb81048556cd",
   "metadata": {},
   "outputs": [],
   "source": [
    "fit_filename = \"../oecd/processed/fit.csv\"\n",
    "fit_df = pd.read_csv(fit_filename)\n",
    "fit_df.head()"
   ]
  },
  {
   "cell_type": "code",
   "execution_count": null,
   "id": "a90119f7-be1b-4ddf-a30c-e5fc11cc2b31",
   "metadata": {},
   "outputs": [],
   "source": [
    "# Prefix the column to easily identify them\n",
    "fit_index = [\"Year\", \"Country\"]\n",
    "fit_columns = {\"Small Hydro\": \"Small_Hydro\", \"Solar PV\": \"Solar_PV\"}\n",
    "\n",
    "for column in fit_df.columns:\n",
    "    if column not in fit_index:\n",
    "            fit_columns[column] = FIT_PREFIX + column\n",
    "fit_df.rename(fit_columns, axis=1, inplace=True)\n",
    "fit_df.head()"
   ]
  },
  {
   "cell_type": "code",
   "execution_count": null,
   "id": "4daf7420-3abf-4d9a-bfd5-ffccdf112706",
   "metadata": {},
   "outputs": [],
   "source": [
    "# How many countries do we have data for, for each year?\n",
    "fit_df.groupby(\"Year\")[\"Country\"].nunique()"
   ]
  },
  {
   "cell_type": "code",
   "execution_count": null,
   "id": "5c18b56d-3fdc-4349-8a52-1e2835fe5ed2",
   "metadata": {},
   "outputs": [],
   "source": [
    "# Only use countries for which we have data for all the years\n",
    "countries = list(fit_df[fit_df[\"Year\"] == 2019].Country.unique())\n",
    "print(f\"{len(countries)} countries with data for 2019:\")\n",
    "countries"
   ]
  },
  {
   "cell_type": "markdown",
   "id": "f0ab3aaa-d82d-401f-b82c-2d40f8023b35",
   "metadata": {},
   "source": [
    "# World Bank CCDR data\n",
    "\n",
    "NOTE: Run the [World Bank CCDR notebook](../worldbank/world_bank_ccdr.ipynb) to generate the .csv file.  \n",
    "It contains country features and emissions from the World Bank Country Climate and Development Report (CCDR)"
   ]
  },
  {
   "cell_type": "code",
   "execution_count": null,
   "id": "2d60d55d-de22-4874-bbc0-7e6f5cc5fbb3",
   "metadata": {},
   "outputs": [],
   "source": [
    "ccdr_filename = \"../worldbank/processed/ccdr.csv\"\n",
    "ccdr_df = pd.read_csv(ccdr_filename)\n",
    "ccdr_df.head()"
   ]
  },
  {
   "cell_type": "code",
   "execution_count": null,
   "id": "0f83bb8b-74c1-4557-bd87-99027c67f33c",
   "metadata": {},
   "outputs": [],
   "source": [
    "# Remove data for which we do not have tariffs\n",
    "ccdr_df = ccdr_df[ccdr_df[\"year\"] >= EARLIEST_YEAR]\n",
    "ccdr_df.head()"
   ]
  },
  {
   "cell_type": "code",
   "execution_count": null,
   "id": "6c194c9b-883c-4725-8d8e-8bf4a0228495",
   "metadata": {},
   "outputs": [],
   "source": []
  }
 ],
 "metadata": {
  "kernelspec": {
   "display_name": "Python 3 (ipykernel)",
   "language": "python",
   "name": "python3"
  },
  "language_info": {
   "codemirror_mode": {
    "name": "ipython",
    "version": 3
   },
   "file_extension": ".py",
   "mimetype": "text/x-python",
   "name": "python",
   "nbconvert_exporter": "python",
   "pygments_lexer": "ipython3",
   "version": "3.10.7"
  }
 },
 "nbformat": 4,
 "nbformat_minor": 5
}
