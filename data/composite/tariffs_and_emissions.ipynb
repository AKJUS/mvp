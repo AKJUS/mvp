{
 "cells": [
  {
   "cell_type": "markdown",
   "id": "15e02d2d-2ca1-42f4-83ea-4fb0d01141e2",
   "metadata": {},
   "source": [
    "# Renewable energy feed-in tariffs and emissions\n",
    "\n",
    "Assembles a dataset that contains:\n",
    "- some country specific features\n",
    "- their renewable energy feed-in tariffs\n",
    "- their CO2 emissions"
   ]
  },
  {
   "cell_type": "code",
   "execution_count": null,
   "id": "63d0fd7c-4ded-42da-80ff-ae9d4f747d4a",
   "metadata": {},
   "outputs": [],
   "source": [
    "import os\n",
    "import pandas as pd"
   ]
  },
  {
   "cell_type": "markdown",
   "id": "31ec8c0e-ea34-4a38-ae52-21b477c31f22",
   "metadata": {},
   "source": [
    "## Constants"
   ]
  },
  {
   "cell_type": "code",
   "execution_count": null,
   "id": "f9dfc6a6-2a63-4594-bd99-80c0f7e80fe0",
   "metadata": {},
   "outputs": [],
   "source": [
    "# OECD data starts on that year\n",
    "START_YEAR = 2000\n",
    "# OECD data ends on that year\n",
    "END_YEAR = 2019\n",
    "FIT_PREFIX = \"FIT_\""
   ]
  },
  {
   "cell_type": "markdown",
   "id": "4fa5abf6-a654-4fdf-a52f-580e8f7d396e",
   "metadata": {},
   "source": [
    "## OECD renewable energy feed-in tariffs\n",
    "\n",
    "NOTE: Run the [OECD tariffs notebook](../oecd/oecd_tariffs.ipynb) to generate the .csv file.  \n",
    "It contains country feed-in tariffs (FIT) by renewable energy source"
   ]
  },
  {
   "cell_type": "code",
   "execution_count": null,
   "id": "2eade553-c7e0-4e29-918e-cb81048556cd",
   "metadata": {},
   "outputs": [],
   "source": [
    "fit_filename = \"../oecd/processed/fit.csv\"\n",
    "fit_df = pd.read_csv(fit_filename)\n",
    "fit_df.head()"
   ]
  },
  {
   "cell_type": "code",
   "execution_count": null,
   "id": "a90119f7-be1b-4ddf-a30c-e5fc11cc2b31",
   "metadata": {},
   "outputs": [],
   "source": [
    "# Prefix the column to easily identify them\n",
    "fit_index = [\"year\", \"country\", \"country_code\"]\n",
    "fit_columns = {\"Small Hydro\": \"Small_Hydro\", \"Solar PV\": \"Solar_PV\"}\n",
    "\n",
    "for column in fit_df.columns:\n",
    "    if column not in fit_index:\n",
    "            fit_columns[column] = FIT_PREFIX + column\n",
    "fit_df.rename(fit_columns, axis=1, inplace=True)\n",
    "fit_df.head()"
   ]
  },
  {
   "cell_type": "code",
   "execution_count": null,
   "id": "4daf7420-3abf-4d9a-bfd5-ffccdf112706",
   "metadata": {},
   "outputs": [],
   "source": [
    "# How many countries do we have data for, for each year?\n",
    "fit_df.groupby(\"year\")[\"country\"].nunique()"
   ]
  },
  {
   "cell_type": "code",
   "execution_count": null,
   "id": "5c18b56d-3fdc-4349-8a52-1e2835fe5ed2",
   "metadata": {},
   "outputs": [],
   "source": [
    "# Only use countries for which we have data for all the years\n",
    "countries = list(fit_df[fit_df[\"year\"] == END_YEAR].country.unique())\n",
    "country_codes = list(fit_df[fit_df[\"year\"] == END_YEAR].country_code.unique())\n",
    "print(f\"{len(countries)} countries with data for {END_YEAR}:\")\n",
    "countries"
   ]
  },
  {
   "cell_type": "code",
   "execution_count": null,
   "id": "bd1a7f12-ddd5-4c7f-8fb6-9a6b7c2412aa",
   "metadata": {},
   "outputs": [],
   "source": [
    "# Keep only country with data from 2000 to 2019\n",
    "fit_df = fit_df[fit_df[\"country_code\"].isin(country_codes)]"
   ]
  },
  {
   "cell_type": "code",
   "execution_count": null,
   "id": "515eb332-7255-47f8-9b2c-28c71a266295",
   "metadata": {},
   "outputs": [],
   "source": [
    "fit_df.shape"
   ]
  },
  {
   "cell_type": "markdown",
   "id": "f0ab3aaa-d82d-401f-b82c-2d40f8023b35",
   "metadata": {},
   "source": [
    "## World Bank CCDR data\n",
    "\n",
    "NOTE: Run the [World Bank CCDR notebook](../worldbank/world_bank_ccdr.ipynb) to generate the .csv file.  \n",
    "It contains country features and emissions from the World Bank Country Climate and Development Report (CCDR)"
   ]
  },
  {
   "cell_type": "code",
   "execution_count": null,
   "id": "2d60d55d-de22-4874-bbc0-7e6f5cc5fbb3",
   "metadata": {},
   "outputs": [],
   "source": [
    "ccdr_filename = \"../worldbank/processed/ccdr.csv\"\n",
    "ccdr_df = pd.read_csv(ccdr_filename)\n",
    "ccdr_df.head()"
   ]
  },
  {
   "cell_type": "code",
   "execution_count": null,
   "id": "0f83bb8b-74c1-4557-bd87-99027c67f33c",
   "metadata": {},
   "outputs": [],
   "source": [
    "# Remove data for which we do not have tariffs\n",
    "ccdr_df = ccdr_df[ccdr_df[\"year\"] >= START_YEAR]\n",
    "ccdr_df = ccdr_df[ccdr_df[\"year\"] <= END_YEAR]\n",
    "ccdr_df.head()"
   ]
  },
  {
   "cell_type": "markdown",
   "id": "8d4b940b-6672-465f-8b67-2e2b9fe93bce",
   "metadata": {},
   "source": [
    "### Context features\n",
    "\n",
    "List of potentially interesting features  \n",
    "\n",
    "See full list here: https://databank.worldbank.org/source/country-climate-and-development-report-(ccdr)"
   ]
  },
  {
   "cell_type": "code",
   "execution_count": null,
   "id": "6c194c9b-883c-4725-8d8e-8bf4a0228495",
   "metadata": {},
   "outputs": [],
   "source": [
    "# Map of feature name to description\n",
    "features = {\n",
    "    \"EG.ELC.ACCS.ZS\": \"Access to electricity (% of population)\",\n",
    "    \"AG.LND.AGRI.ZS\": \"Agricultural land (% of land area)\",\n",
    "    \"AG.LND.ARBL.ZS\": \"Arable land (% of land area)\",\n",
    "    \"GC.DOD.TOTL.GD.ZS\": \"Central government debt, total (% of GDP)\",\n",
    "    \"CC.EG.SOLR.KW\": \"Average practical solar potential (kWh/kWp/day)\",\n",
    "    \"CC.EG.WIND.PC\": \"Offshore wind potential - Per capita (kW/cap)\",\n",
    "    \"CC.ELEC.CON\": \"Electricity net consumption\",\n",
    "    \"CC.ELEC.GEN\": \"Electricity net generation\",\n",
    "    \"CC.EG.INTS.KW\": \"Energy intensity of the economy (kWh per 2011$PPP)\",\n",
    "    \"IC.ELC.OUTG.ZS\": \"Firms experiencing electrical outages (% of firms)\",\n",
    "    \"CC.EG.SUBF.PC\": \"Fossil-fuel pre-tax subsidies (consumption and production) USD per capita\",\n",
    "    \"NY.GDP.MKTP.KD.ZG\": \"GDP growth (annual %)\",\n",
    "    \"NY.GDP.PCAP.CD\": \"GDP per capita (current US$)\",\n",
    "    \"CC.GHG.GRPE\": \"GHG growth (annual %)\",\n",
    "    \"SI.POV.GINI\": \"Gini index (World Bank estimate)\",\n",
    "    \"GE.EST\": \"Government Effectiveness: Estimate\",\n",
    "    \"SE.ADT.LITR.ZS\": \"Literacy rate, adult total (% of people ages 15 and above)\",\n",
    "    \"CC.SE.NYRS.AVG\": \"Mean number of years of education completed, aged 17 and older\",\n",
    "    \"CC.SH.AIRP.AMB\": \"Mortality rate attributable to ambient air pollution (deaths per 100 000 population)\",\n",
    "    \"CC.TCFD.COMP.EN\": \"Number of companies that are TCFD compliant by sector - Energy\",\n",
    "    \"CC.FSU.PECA\": \"Per capita food supply (kcal/cap/day)\",\n",
    "    \"CC.GHG.PECA\": \"Per capita GHG emissions (tons/capita)\",\n",
    "    \"CC.SE.CAT1.ZS\": \"Percentage of population with No Education\",\n",
    "    \"CC.SE.CAT2.ZS\": \"Percentage of population with Primary Education\",\n",
    "    \"CC.SE.CAT3.ZS\": \"Percentage of population with Secondary Education\",\n",
    "    \"CC.SE.CAT4.ZS\": \"Percentage of population with Post Secondary Education\",\n",
    "    \"SP.POP.TOTL\": \"Population, total\",\n",
    "    \"RQ.EST\": \"Regulatory Quality: Estimate\",\n",
    "    \"RL.EST\": \"Rule of Law: Estimate(\",\n",
    "    \"AG.LND.FRST.ZS\": \"Share of surface occupied by forest (% of total)\",\n",
    "    \"GC.TAX.TOTL.GD.ZS\": \"Tax revenue (% of GDP)\",\n",
    "    \"SL.UEM.TOTL.ZS\": \"Unemployment, total (% of total labor force) (modeled ILO estimate)\",\n",
    "    \"SP.URB.TOTL.IN.ZS\": \"Urban population (% of total population)\",\n",
    "    \"VA.EST\": \"Voice and Accountability: Estimate\",\n",
    "}"
   ]
  },
  {
   "cell_type": "markdown",
   "id": "5d20ecf9-a9dc-4e0c-83ce-4dc3e3182b36",
   "metadata": {},
   "source": [
    "### Outcomes"
   ]
  },
  {
   "cell_type": "code",
   "execution_count": null,
   "id": "f9802d43-65d3-4e33-96f3-e5a78ffaac52",
   "metadata": {},
   "outputs": [],
   "source": [
    "outcomes = {\n",
    "    \"CC.CO2.EMSE.EN\": \"CO2 emissions by sector (Mt CO2 eq) - Energy\",\n",
    "    \"CC.NCO.GHG.EN\": \"Non-CO2 GHG emissions by sector (Mt CO2 eq) - Energy\",\n",
    "}"
   ]
  },
  {
   "cell_type": "markdown",
   "id": "d12edacb-cfda-4aa2-b530-66a8e40e62dd",
   "metadata": {},
   "source": [
    "### Filter"
   ]
  },
  {
   "cell_type": "code",
   "execution_count": null,
   "id": "a72e205e-aeb2-40b7-b2f3-8ce19474dda1",
   "metadata": {},
   "outputs": [],
   "source": [
    "index_columns = [\"country_code\", \"country_name\", \"year\"]\n",
    "keep_columns = index_columns + (list(features.keys()) + list(outcomes.keys()))\n",
    "ccdr_df = ccdr_df[keep_columns]"
   ]
  },
  {
   "cell_type": "markdown",
   "id": "97fb26c7-64e8-401c-b93c-75b46421c662",
   "metadata": {},
   "source": [
    "## Merge"
   ]
  },
  {
   "cell_type": "code",
   "execution_count": null,
   "id": "9fabe5ff-107d-457e-a077-b8d6b461fd8b",
   "metadata": {},
   "outputs": [],
   "source": [
    "# Remove column 'country' from fit_df: we'll get country_name from ccdr_df\n",
    "fit_df.drop(\"country\", axis=1, inplace=True)"
   ]
  },
  {
   "cell_type": "code",
   "execution_count": null,
   "id": "014dcdd4-92b4-48fd-a378-87a414da710d",
   "metadata": {},
   "outputs": [],
   "source": [
    "fit_df.shape"
   ]
  },
  {
   "cell_type": "code",
   "execution_count": null,
   "id": "89be0eec-fb1a-4d67-b591-c5536a18c386",
   "metadata": {},
   "outputs": [],
   "source": [
    "ccdr_df.shape"
   ]
  },
  {
   "cell_type": "code",
   "execution_count": null,
   "id": "3a2199c2-4c83-4a58-8c23-56158652b303",
   "metadata": {},
   "outputs": [],
   "source": [
    "# Remove countries from ccdr_df for which we don't have OECD data\n",
    "ccdr_df = ccdr_df[ccdr_df[\"country_code\"].isin(country_codes)]"
   ]
  },
  {
   "cell_type": "code",
   "execution_count": null,
   "id": "30a33ad1-dc57-4ddc-a77c-6a26927e2c51",
   "metadata": {},
   "outputs": [],
   "source": [
    "ccdr_df.shape"
   ]
  },
  {
   "cell_type": "code",
   "execution_count": null,
   "id": "e75bdb9b-69c6-4870-84c3-fec67908b256",
   "metadata": {},
   "outputs": [],
   "source": [
    "# We now have the same number of rows for each DataFrame: nb countries x nb years\n",
    "df = pd.merge(ccdr_df, fit_df, on=[\"country_code\", \"year\"], how='outer')"
   ]
  },
  {
   "cell_type": "code",
   "execution_count": null,
   "id": "2a96d46d-bbd3-426e-b748-38326c2bbf6e",
   "metadata": {},
   "outputs": [],
   "source": [
    "df.shape"
   ]
  },
  {
   "cell_type": "code",
   "execution_count": null,
   "id": "fb1f61ff-108f-44d2-aa68-485786ae8ab1",
   "metadata": {},
   "outputs": [],
   "source": [
    "df.head()"
   ]
  },
  {
   "cell_type": "markdown",
   "id": "f0125523-a44b-438b-a016-d1db6bd03a0b",
   "metadata": {},
   "source": [
    "## Export\n",
    "Export to .csv file"
   ]
  },
  {
   "cell_type": "code",
   "execution_count": null,
   "id": "51fa620b-9645-4439-a61a-6285a6538579",
   "metadata": {},
   "outputs": [],
   "source": [
    "processed_dir = \"processed\"\n",
    "csv_full_filename = os.path.join(processed_dir, \"tariffs_and_emissions.csv\")\n",
    "csv_full_filename"
   ]
  },
  {
   "cell_type": "code",
   "execution_count": null,
   "id": "ededcfaa-8e65-42ea-aec6-a1a1c393363f",
   "metadata": {},
   "outputs": [],
   "source": [
    "# Create the output directory if needed\n",
    "if not os.path.exists(processed_dir):\n",
    "    os.makedirs(processed_dir)\n",
    "df.to_csv(csv_full_filename, encoding='utf-8', index=False)"
   ]
  },
  {
   "cell_type": "code",
   "execution_count": null,
   "id": "2c421f21-2155-46a7-9a99-1b1e98e35c6e",
   "metadata": {},
   "outputs": [],
   "source": []
  }
 ],
 "metadata": {
  "kernelspec": {
   "display_name": "Python 3 (ipykernel)",
   "language": "python",
   "name": "python3"
  },
  "language_info": {
   "codemirror_mode": {
    "name": "ipython",
    "version": 3
   },
   "file_extension": ".py",
   "mimetype": "text/x-python",
   "name": "python",
   "nbconvert_exporter": "python",
   "pygments_lexer": "ipython3",
   "version": "3.10.7"
  }
 },
 "nbformat": 4,
 "nbformat_minor": 5
}
