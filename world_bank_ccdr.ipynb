{
 "cells": [
  {
   "cell_type": "markdown",
   "id": "7808cbf1-b532-49c6-ba42-84c78a3cabf5",
   "metadata": {},
   "source": [
    "# World Bank CCDR\n",
    "Extracting data from the [World Bank](https://www.worldbank.org/)'s [Country Climate and Development Report (CCDR)](https://databank.worldbank.org/source/country-climate-and-development-report-(ccdr))  \n",
    "The report is an annual time series, per country, of climate and development features.  \n",
    "The World Bank provides APIs to access the data. More information can be found on the [Developer Information](https://datahelpdesk.worldbank.org/knowledgebase/topics/125589) and [Data Catalog API](https://datahelpdesk.worldbank.org/knowledgebase/articles/1886698-data-catalog-api) pages\n"
   ]
  },
  {
   "cell_type": "code",
   "execution_count": null,
   "id": "577f3c3e-fe77-41f0-9dab-5ada75885fad",
   "metadata": {},
   "outputs": [],
   "source": [
    "import io\n",
    "import json\n",
    "import os\n",
    "import requests\n",
    "import zipfile\n",
    "\n",
    "import pandas as pd\n",
    "\n",
    "import IPython.display"
   ]
  },
  {
   "cell_type": "markdown",
   "id": "54c031ca-e40d-4a39-a57f-5e7a4ba7b596",
   "metadata": {},
   "source": [
    "## CCDR dataset ID: '0061107'\n",
    "Search the CCDR dataset in the worldbank catalog.  \n",
    "Once the dataset is found, look for its unique id.  \n",
    "Not need to re-run this section: the unique ID is not supposed to change, and we know it's '0061107'"
   ]
  },
  {
   "cell_type": "code",
   "execution_count": null,
   "id": "317136a2-e4c7-4fae-af8d-9f9d4c02faf3",
   "metadata": {},
   "outputs": [],
   "source": [
    "r = requests.get(\"https://datacatalogapi.worldbank.org/ddhxext/Search?qname=dataset&qterm=ccdr&$filter=(Resources/any(res:res/format+eq+%27API%27))\")\n",
    "rd = json.loads(r.text)"
   ]
  },
  {
   "cell_type": "code",
   "execution_count": null,
   "id": "04b826b2-7ba0-45cb-be1b-8c3be3e240d8",
   "metadata": {},
   "outputs": [],
   "source": [
    "# Make sure the query returned only 1 dataset\n",
    "assert len(rd['Response']['value']) == 1"
   ]
  },
  {
   "cell_type": "code",
   "execution_count": null,
   "id": "d9a1e320-a230-419b-b6c4-16892e32aae3",
   "metadata": {},
   "outputs": [],
   "source": [
    "IPython.display.JSON(rd['Response']['value'][0])"
   ]
  },
  {
   "cell_type": "code",
   "execution_count": null,
   "id": "7bdcc77b-10a2-4355-97b2-bbc9e3690ccf",
   "metadata": {},
   "outputs": [],
   "source": [
    "ccdr_unique_id = rd['Response']['value'][0]['dataset_unique_id']\n",
    "print(f\"ccdr_unique_id: {ccdr_unique_id}\")"
   ]
  },
  {
   "cell_type": "code",
   "execution_count": null,
   "id": "8d3a729b-a1c2-4a72-bccd-fefdb5ff01cf",
   "metadata": {},
   "outputs": [],
   "source": [
    "# Check this is the expected ID, i.e. the one this notebook expects\n",
    "assert ccdr_unique_id == '0061107'"
   ]
  },
  {
   "cell_type": "markdown",
   "id": "cb2908a5-0349-426a-afbf-c30f8eac9366",
   "metadata": {},
   "source": [
    "## Dataset metadata\n",
    "Runs the query to get these URLs:\n",
    "- The [list of indicators](https://api.worldbank.org/v2/sources/87/indicators), i.e. the \"columns\" and their description\n",
    "- The [data files (CSV zip)](https://databank.worldbank.org/data/download/CCDR_csv.zip)\n",
    "- The [data files (Excel zip)](https://databank.worldbank.org/data/download/CCDR_excel.zip)"
   ]
  },
  {
   "cell_type": "code",
   "execution_count": null,
   "id": "f7382587-68d4-4a8c-ae29-d9a7e32aca7d",
   "metadata": {},
   "outputs": [],
   "source": [
    "ccdr_unique_id = '0061107'"
   ]
  },
  {
   "cell_type": "code",
   "execution_count": null,
   "id": "32fa30da-6d5a-4916-9e31-e731b531d618",
   "metadata": {},
   "outputs": [],
   "source": [
    "# Omitting param `version_id` in the query parameter to get the latest version\n",
    "# Hint: version information is provided in the `maintenance_information` object of a dataset.\n",
    "preview_query = f\"https://datacatalogapi.worldbank.org/ddhxext/DatasetView?dataset_unique_id={ccdr_unique_id}\"\n",
    "r = requests.get(preview_query)\n",
    "rd = json.loads(r.text)"
   ]
  },
  {
   "cell_type": "code",
   "execution_count": null,
   "id": "22d597d2-81cc-4235-a3c5-d2094fdb3390",
   "metadata": {},
   "outputs": [],
   "source": [
    "IPython.display.JSON(rd)"
   ]
  },
  {
   "cell_type": "code",
   "execution_count": null,
   "id": "eb140d61-7133-40f2-b694-649d32ebcba2",
   "metadata": {},
   "outputs": [],
   "source": [
    "# Check info about the last version of this dataset\n",
    "# At the time of writing:\n",
    "# {'version': '2',\n",
    "# 'version_label': 'wdr check',\n",
    "# 'version_id': '2022-02-14T14:50:48.1328279Z',\n",
    "# 'uuid': '8d9c3141-1f8d-ec11-93b0-000d3a3b49e6',\n",
    "# 'version_date': '2022-02-14T14:50:48+00:00'}\n",
    "IPython.display.JSON(rd['maintenance_information']['version_history'][-1])"
   ]
  },
  {
   "cell_type": "code",
   "execution_count": null,
   "id": "4d50c3e7-2437-45a7-a0a4-d5c9967ae0c3",
   "metadata": {},
   "outputs": [],
   "source": [
    "resources = rd['Resources']\n",
    "for resource in resources:\n",
    "    website_url = resource['website_url']\n",
    "    if 'indicators' in website_url:\n",
    "        indicators_url = website_url.strip()\n",
    "    elif 'csv' in website_url:\n",
    "        # strip because the url contains an extra space in the end\n",
    "        csv_zip_url = website_url.strip()\n",
    "print(f\"Indicators: {indicators_url}\")\n",
    "print(f\"csv_zip_url: {csv_zip_url}\")"
   ]
  },
  {
   "cell_type": "markdown",
   "id": "ec06d3f7-049e-490c-8fc7-83130608e70a",
   "metadata": {},
   "source": [
    "## Download the data\n",
    "The zip file contains:\n",
    "- CCDRData.csv\n",
    "- CCDRCountry.csv\n",
    "- CCDRSeries.csv\n",
    "- CCDRCountry-Series.csv\n",
    "- CCDRSeries-Time.csv\n",
    "- CCDRFootNote.csv"
   ]
  },
  {
   "cell_type": "code",
   "execution_count": null,
   "id": "f2cbed4a-07c5-414a-8cb6-5502a2f6e43d",
   "metadata": {},
   "outputs": [],
   "source": [
    "# Assuming the data hasn't move, it available here:\n",
    "csv_zip_url = \"https://databank.worldbank.org/data/download/CCDR_csv.zip\"\n",
    "# In the zip file, the data is in:\n",
    "csv_filename = 'CCDRData.csv'\n",
    "# We like to download it to:\n",
    "data_dir = \"data\"\n",
    "worldbank_dir =  os.path.join(data_dir, \"worldbank\")\n",
    "csv_full_filename = os.path.join(worldbank_dir, csv_filename)\n",
    "csv_full_filename"
   ]
  },
  {
   "cell_type": "code",
   "execution_count": null,
   "id": "ac6cb157-c6c7-4b6f-9bb3-ffd25741f732",
   "metadata": {},
   "outputs": [],
   "source": [
    "# Download and extract the data file\n",
    "\n",
    "# Set to True if you've never downloaded the data or if you want to overwrite it\n",
    "download = False\n",
    "if download:\n",
    "    r = requests.get(csv_zip_url)\n",
    "    z = zipfile.ZipFile(io.BytesIO(r.content))\n",
    "    z.extractall(worldbank_dir)"
   ]
  },
  {
   "cell_type": "markdown",
   "id": "148041e8-f81a-421a-a772-0f7cf4806b37",
   "metadata": {},
   "source": [
    "## Load the dataset"
   ]
  },
  {
   "cell_type": "code",
   "execution_count": null,
   "id": "2727c503-6b33-4b1b-929c-e271e5fcf1c0",
   "metadata": {},
   "outputs": [],
   "source": [
    "df = pd.read_csv(csv_full_filename)\n",
    "df.head()"
   ]
  },
  {
   "cell_type": "code",
   "execution_count": null,
   "id": "50921871-7394-45ad-a7b2-bfefa575b326",
   "metadata": {},
   "outputs": [],
   "source": [
    "df.shape"
   ]
  },
  {
   "cell_type": "code",
   "execution_count": null,
   "id": "9ddc916b-ad4c-478d-ba79-bd72ff7e8871",
   "metadata": {},
   "outputs": [],
   "source": []
  }
 ],
 "metadata": {
  "kernelspec": {
   "display_name": "Python 3 (ipykernel)",
   "language": "python",
   "name": "python3"
  },
  "language_info": {
   "codemirror_mode": {
    "name": "ipython",
    "version": 3
   },
   "file_extension": ".py",
   "mimetype": "text/x-python",
   "name": "python",
   "nbconvert_exporter": "python",
   "pygments_lexer": "ipython3",
   "version": "3.10.7"
  }
 },
 "nbformat": 4,
 "nbformat_minor": 5
}
