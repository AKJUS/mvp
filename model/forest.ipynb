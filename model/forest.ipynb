{
 "cells": [
  {
   "cell_type": "code",
   "execution_count": 25,
   "metadata": {},
   "outputs": [],
   "source": [
    "import pandas as pd\n",
    "import numpy as np\n",
    "from sklearn.ensemble import RandomForestRegressor\n",
    "from sklearn.metrics import mean_absolute_error\n",
    "from sklearn.utils import shuffle\n",
    "\n",
    "import regionmask\n",
    "import xarray as xr\n",
    "\n",
    "import matplotlib.pyplot as plt\n",
    "\n",
    "from joblib import dump, load\n",
    "import pickle"
   ]
  },
  {
   "cell_type": "code",
   "execution_count": 26,
   "metadata": {},
   "outputs": [],
   "source": [
    "LAND_FEATURES = ['c3ann', 'c3nfx', 'c3per','c4ann', 'c4per',\n",
    " 'pastr', 'primf', 'primn', 'range', 'secdf', 'secdn', 'urban', 'cell_area']\n",
    "\n",
    "LAND_DIFF_FEATURES = ['c3ann_diff', 'c3nfx_diff', 'c3per_diff','c4ann_diff', 'c4per_diff',\n",
    " 'pastr_diff', 'primf_diff', 'primn_diff', 'range_diff', 'secdf_diff', 'secdn_diff', 'urban_diff']\n",
    "\n",
    "FEATURES = LAND_DIFF_FEATURES\n",
    "#FEATURES = LAND_FEATURES + LAND_DIFF_FEATURES\n",
    "LABEL = 'ELUC'\n",
    "\n",
    "# Great Britain, France, Germany, Netherlands, Belgium, Switzerland, Ireland\n",
    "COUNTRY_NAME_LIST = [\"GB\", \"F\", \"D\", \"NL\", \"B\", \"CH\", \"IRL\"]\n",
    "\n",
    "DATA_FILE_PATH = \"../data/merged_aggregated_dataset_1850_2022.zarr.zip\"\n",
    "UPDATE_FILE_PATH = \"../data/BLUE_LUH2-GCB2022_ELUC-committed_gridded_net_1850-2021.nc\"\n",
    "\n",
    "countries = regionmask.defined_regions.natural_earth_v5_0_0.countries_110\n",
    "countries_df = countries.to_dataframe()\n"
   ]
  },
  {
   "attachments": {},
   "cell_type": "markdown",
   "metadata": {},
   "source": [
    "## Data Preprocessing"
   ]
  },
  {
   "cell_type": "code",
   "execution_count": 27,
   "metadata": {},
   "outputs": [],
   "source": [
    "def import_data(path, update_path):\n",
    "    raw = xr.open_zarr(path, consolidated=True)\n",
    "\n",
    "    # Get updated ELUC\n",
    "    if update_path:\n",
    "        eluc = xr.open_dataset(update_path)\n",
    "        raw = raw.drop_vars([\"ELUC\", \"cell_area\"])\n",
    "        raw = raw.merge(eluc)\n",
    "\n",
    "    # Shift actions back a year\n",
    "    raw[LAND_DIFF_FEATURES] = raw[LAND_DIFF_FEATURES].shift(time=-1)\n",
    "\n",
    "    # Old time shifting\n",
    "    # raw['ELUC'] = raw['ELUC'].shift(time=1)\n",
    "    # raw['ELUC_diff'] = raw['ELUC_diff'].shift(time=1)\n",
    "    # raw['time'] = raw.time - 1\n",
    "    # assert(list(np.unique(raw.time)) == list(range(1849, 2022)))\n",
    "\n",
    "    mask = raw[\"ELUC_diff\"].isnull().compute()\n",
    "    raw = raw.where(~mask, drop=True)\n",
    "\n",
    "    country_mask = regionmask.defined_regions.natural_earth_v5_0_0.countries_110.mask(raw)\n",
    "    return raw, country_mask"
   ]
  },
  {
   "cell_type": "code",
   "execution_count": 28,
   "metadata": {},
   "outputs": [],
   "source": [
    "def process_input(da):\n",
    "    da = da[FEATURES + [LABEL]]\n",
    "    df = da.to_dataframe()\n",
    "    df = df.dropna()\n",
    "\n",
    "    return df[FEATURES], df[LABEL]"
   ]
  },
  {
   "cell_type": "code",
   "execution_count": 29,
   "metadata": {},
   "outputs": [],
   "source": [
    "class Scaler:\n",
    "    def __init__(self):\n",
    "        self.means = None\n",
    "        self.stdevs = None\n",
    "\n",
    "    def fit(self, X_train):\n",
    "        self.means = X_train.mean(axis=0)\n",
    "        self.stdevs = X_train.std(axis=0)\n",
    "        # Replace 0 stdevs with 1 so we don't divide by 0\n",
    "        self.stdevs = self.stdevs.replace(0, 1)\n",
    "\n",
    "    def transform(self, X):\n",
    "        return (X - self.means) / self.stdevs\n",
    "    \n",
    "    def fit_transform(self, X_train):\n",
    "        self.fit(X_train)\n",
    "        return self.transform(X_train)"
   ]
  },
  {
   "cell_type": "code",
   "execution_count": 30,
   "metadata": {},
   "outputs": [],
   "source": [
    "def create_country_dataset(ds, country_mask, country_name_list, first_train_year, last_train_year, scale=False, verbose=False):\n",
    "    country_id_list = countries_df.index[countries_df[\"abbrevs\"].isin(country_name_list)].values\n",
    "    train_da, test_da = None, None\n",
    "    if len(country_id_list) == 1:\n",
    "        test_da = ds.where(country_mask == country_id_list[0], drop=True).where(ds.time > last_train_year, drop=True).load()\n",
    "        train_da = ds.where(country_mask == country_id_list[0], drop=True).where((ds.time <= last_train_year) & (ds.time >= first_train_year), drop=True).load()\n",
    "    else:\n",
    "        c_mask = xr.DataArray(np.in1d(country_mask, country_id_list).reshape(country_mask.shape),\n",
    "                              dims=country_mask.dims, coords=country_mask.coords)\n",
    "        test_da = ds.where(c_mask, drop=True).where(ds.time > last_train_year, drop=True).load()\n",
    "        train_da = ds.where(c_mask, drop=True).where(ds.time <= last_train_year, drop=True).load() # 143 is the code for the UK\n",
    "\n",
    "    X_train, y_train = process_input(train_da)\n",
    "    X_test, y_test = process_input(test_da)\n",
    "    \n",
    "    if scale:\n",
    "        scaler = Scaler()\n",
    "        X_train = scaler.fit_transform(X_train)\n",
    "        X_test = scaler.transform(X_test)\n",
    "\n",
    "    if verbose:\n",
    "        print(X_train.shape)\n",
    "        print(y_train.shape)\n",
    "\n",
    "    return {\"Train\": {\"X\": X_train,\n",
    "                      \"y\": y_train},\n",
    "            \"Test\": {\"X\": X_test,\n",
    "                      \"y\": y_test}}"
   ]
  },
  {
   "cell_type": "code",
   "execution_count": 31,
   "metadata": {},
   "outputs": [
    {
     "name": "stdout",
     "output_type": "stream",
     "text": [
      "Loading data...\n"
     ]
    },
    {
     "name": "stderr",
     "output_type": "stream",
     "text": [
      "/Users/964840/anaconda3/envs/leaf/lib/python3.10/site-packages/dask/array/core.py:4830: PerformanceWarning: Increasing number of chunks by factor of 15\n",
      "  result = blockwise(\n",
      "/Users/964840/anaconda3/envs/leaf/lib/python3.10/site-packages/dask/array/core.py:4830: PerformanceWarning: Increasing number of chunks by factor of 15\n",
      "  result = blockwise(\n",
      "/Users/964840/anaconda3/envs/leaf/lib/python3.10/site-packages/dask/array/core.py:4830: PerformanceWarning: Increasing number of chunks by factor of 15\n",
      "  result = blockwise(\n",
      "/Users/964840/anaconda3/envs/leaf/lib/python3.10/site-packages/dask/array/core.py:4830: PerformanceWarning: Increasing number of chunks by factor of 15\n",
      "  result = blockwise(\n",
      "/Users/964840/anaconda3/envs/leaf/lib/python3.10/site-packages/dask/array/core.py:4830: PerformanceWarning: Increasing number of chunks by factor of 15\n",
      "  result = blockwise(\n",
      "/Users/964840/anaconda3/envs/leaf/lib/python3.10/site-packages/dask/array/core.py:4830: PerformanceWarning: Increasing number of chunks by factor of 15\n",
      "  result = blockwise(\n",
      "/Users/964840/anaconda3/envs/leaf/lib/python3.10/site-packages/dask/array/core.py:4830: PerformanceWarning: Increasing number of chunks by factor of 15\n",
      "  result = blockwise(\n",
      "/Users/964840/anaconda3/envs/leaf/lib/python3.10/site-packages/dask/array/core.py:4830: PerformanceWarning: Increasing number of chunks by factor of 15\n",
      "  result = blockwise(\n",
      "/Users/964840/anaconda3/envs/leaf/lib/python3.10/site-packages/dask/array/core.py:4830: PerformanceWarning: Increasing number of chunks by factor of 15\n",
      "  result = blockwise(\n",
      "/Users/964840/anaconda3/envs/leaf/lib/python3.10/site-packages/dask/array/core.py:4830: PerformanceWarning: Increasing number of chunks by factor of 15\n",
      "  result = blockwise(\n",
      "/Users/964840/anaconda3/envs/leaf/lib/python3.10/site-packages/dask/array/core.py:4830: PerformanceWarning: Increasing number of chunks by factor of 15\n",
      "  result = blockwise(\n",
      "/Users/964840/anaconda3/envs/leaf/lib/python3.10/site-packages/dask/array/core.py:4830: PerformanceWarning: Increasing number of chunks by factor of 15\n",
      "  result = blockwise(\n",
      "/Users/964840/anaconda3/envs/leaf/lib/python3.10/site-packages/dask/array/core.py:4830: PerformanceWarning: Increasing number of chunks by factor of 15\n",
      "  result = blockwise(\n",
      "/Users/964840/anaconda3/envs/leaf/lib/python3.10/site-packages/dask/array/core.py:4830: PerformanceWarning: Increasing number of chunks by factor of 15\n",
      "  result = blockwise(\n",
      "/Users/964840/anaconda3/envs/leaf/lib/python3.10/site-packages/dask/array/core.py:4830: PerformanceWarning: Increasing number of chunks by factor of 15\n",
      "  result = blockwise(\n",
      "/Users/964840/anaconda3/envs/leaf/lib/python3.10/site-packages/dask/array/core.py:4830: PerformanceWarning: Increasing number of chunks by factor of 15\n",
      "  result = blockwise(\n",
      "/Users/964840/anaconda3/envs/leaf/lib/python3.10/site-packages/dask/array/core.py:4830: PerformanceWarning: Increasing number of chunks by factor of 15\n",
      "  result = blockwise(\n",
      "/Users/964840/anaconda3/envs/leaf/lib/python3.10/site-packages/dask/array/core.py:4830: PerformanceWarning: Increasing number of chunks by factor of 15\n",
      "  result = blockwise(\n",
      "/Users/964840/anaconda3/envs/leaf/lib/python3.10/site-packages/dask/array/core.py:4830: PerformanceWarning: Increasing number of chunks by factor of 15\n",
      "  result = blockwise(\n",
      "/Users/964840/anaconda3/envs/leaf/lib/python3.10/site-packages/dask/array/core.py:4830: PerformanceWarning: Increasing number of chunks by factor of 15\n",
      "  result = blockwise(\n",
      "/Users/964840/anaconda3/envs/leaf/lib/python3.10/site-packages/dask/array/core.py:4830: PerformanceWarning: Increasing number of chunks by factor of 15\n",
      "  result = blockwise(\n",
      "/Users/964840/anaconda3/envs/leaf/lib/python3.10/site-packages/dask/array/core.py:4830: PerformanceWarning: Increasing number of chunks by factor of 15\n",
      "  result = blockwise(\n",
      "/Users/964840/anaconda3/envs/leaf/lib/python3.10/site-packages/dask/array/core.py:4830: PerformanceWarning: Increasing number of chunks by factor of 15\n",
      "  result = blockwise(\n",
      "/Users/964840/anaconda3/envs/leaf/lib/python3.10/site-packages/dask/array/core.py:4830: PerformanceWarning: Increasing number of chunks by factor of 15\n",
      "  result = blockwise(\n",
      "/Users/964840/anaconda3/envs/leaf/lib/python3.10/site-packages/dask/array/core.py:4830: PerformanceWarning: Increasing number of chunks by factor of 15\n",
      "  result = blockwise(\n",
      "/Users/964840/anaconda3/envs/leaf/lib/python3.10/site-packages/dask/array/core.py:4830: PerformanceWarning: Increasing number of chunks by factor of 15\n",
      "  result = blockwise(\n",
      "/Users/964840/anaconda3/envs/leaf/lib/python3.10/site-packages/dask/array/core.py:4830: PerformanceWarning: Increasing number of chunks by factor of 15\n",
      "  result = blockwise(\n"
     ]
    }
   ],
   "source": [
    "print(\"Loading data...\")\n",
    "raw, country_mask = import_data(DATA_FILE_PATH, UPDATE_FILE_PATH)\n",
    "data = create_country_dataset(raw, country_mask, COUNTRY_NAME_LIST, 1982, 2011)"
   ]
  },
  {
   "attachments": {},
   "cell_type": "markdown",
   "metadata": {},
   "source": [
    "## Model"
   ]
  },
  {
   "cell_type": "code",
   "execution_count": 32,
   "metadata": {},
   "outputs": [
    {
     "name": "stdout",
     "output_type": "stream",
     "text": [
      "MAE: 0.03661973635413101\n"
     ]
    }
   ],
   "source": [
    "X_train, y_train = shuffle(data[\"Train\"][\"X\"], data[\"Train\"][\"y\"], random_state=42)\n",
    "\n",
    "# model = XGBRegressor(random_state=42, n_jobs=-1)\n",
    "model = RandomForestRegressor(random_state=42, n_jobs=-1)\n",
    "model.fit(X_train, y_train)\n",
    "pred = model.predict(data[\"Test\"][\"X\"])\n",
    "print(f\"MAE: {mean_absolute_error(data['Test']['y'], pred)}\")\n",
    "\n",
    "dump(model, \"../demo/predictors/ELUC_forest.joblib\")"
   ]
  },
  {
   "cell_type": "markdown",
   "metadata": {},
   "source": [
    "### Tune on best year to train on"
   ]
  },
  {
   "cell_type": "code",
   "execution_count": 16,
   "metadata": {},
   "outputs": [],
   "source": [
    "def find_best_year(raw, country_mask, country_list):\n",
    "    X_train = pd.DataFrame(columns=FEATURES)\n",
    "    y_train = pd.Series(name=LABEL, dtype=float)\n",
    "    X_test = None\n",
    "    y_test = None\n",
    "    years = list(range(2012, 1851, -10))\n",
    "    maes = []\n",
    "    best_model = None\n",
    "    best_mae = None\n",
    "    for i in range(1, len(years)):\n",
    "        print(f\"Adding {years[i]}-{years[i-1]-1} to train set...\")\n",
    "        data = create_country_dataset(raw, country_mask, country_list, years[i], years[i-1]-1)\n",
    "        X_train = pd.concat((X_train, data[\"Train\"][\"X\"]), axis=0)\n",
    "        y_train = pd.concat((y_train, data[\"Train\"][\"y\"]))\n",
    "        if i == 1:\n",
    "            X_test = data[\"Test\"][\"X\"]\n",
    "            y_test = data[\"Test\"][\"y\"]\n",
    "\n",
    "        model = RandomForestRegressor(random_state=42, n_jobs=-1)\n",
    "        model.fit(X_train, y_train)\n",
    "        pred = model.predict(X_test)\n",
    "        mae = mean_absolute_error(y_test, pred)\n",
    "        print(f\"MAE: {mae}\")\n",
    "        maes.append(mae)\n",
    "\n",
    "        if not best_mae or best_mae > mae:\n",
    "            best_model = model\n",
    "            best_mae = mae\n",
    "    \n",
    "    plt.plot(years[1:], maes)\n",
    "    plt.xticks(rotation=90)\n",
    "    plt.title(f\"Year train set started vs. MAE for {' '.join(country_list)}\")\n",
    "    plt.xlabel(\"Year\")\n",
    "    plt.ylabel(\"MAE\")\n",
    "    plt.show()\n",
    "\n",
    "    return best_model, maes\n",
    "        "
   ]
  },
  {
   "cell_type": "code",
   "execution_count": 17,
   "metadata": {},
   "outputs": [
    {
     "name": "stdout",
     "output_type": "stream",
     "text": [
      "Adding 2002-2011 to train set...\n",
      "MAE: 0.03648469909050712\n",
      "Adding 1992-2001 to train set...\n",
      "MAE: 0.03710089250796529\n",
      "Adding 1982-1991 to train set...\n",
      "MAE: 0.037174860283775146\n",
      "Adding 1972-1981 to train set...\n",
      "MAE: 0.037956103687055286\n",
      "Adding 1962-1971 to train set...\n",
      "MAE: 0.038082952563230514\n",
      "Adding 1952-1961 to train set...\n",
      "MAE: 0.03796119643580342\n",
      "Adding 1942-1951 to train set...\n",
      "MAE: 0.037907506265799785\n",
      "Adding 1932-1941 to train set...\n",
      "MAE: 0.03792129119454972\n",
      "Adding 1922-1931 to train set...\n",
      "MAE: 0.03834665424151246\n",
      "Adding 1912-1921 to train set...\n",
      "MAE: 0.03839517526179118\n",
      "Adding 1902-1911 to train set...\n",
      "MAE: 0.03840008108683362\n",
      "Adding 1892-1901 to train set...\n",
      "MAE: 0.03820898943408478\n",
      "Adding 1882-1891 to train set...\n",
      "MAE: 0.038035298970404495\n",
      "Adding 1872-1881 to train set...\n",
      "MAE: 0.037873564280927814\n",
      "Adding 1862-1871 to train set...\n",
      "MAE: 0.03822668028038931\n",
      "Adding 1852-1861 to train set...\n",
      "MAE: 0.03859580199673611\n"
     ]
    },
    {
     "data": {
      "image/png": "[encoded data removed]",
      "text/plain": [
       "<Figure size 432x288 with 1 Axes>"
      ]
     },
     "metadata": {
      "needs_background": "light"
     },
     "output_type": "display_data"
    }
   ],
   "source": [
    "best_model, maes = find_best_year(raw, country_mask, COUNTRY_NAME_LIST)"
   ]
  },
  {
   "cell_type": "markdown",
   "metadata": {},
   "source": [
    "## Model Analysis"
   ]
  },
  {
   "cell_type": "code",
   "execution_count": 18,
   "metadata": {},
   "outputs": [
    {
     "data": {
      "image/png": "[encoded data removed]",
      "text/plain": [
       "<Figure size 432x288 with 1 Axes>"
      ]
     },
     "metadata": {
      "needs_background": "light"
     },
     "output_type": "display_data"
    }
   ],
   "source": [
    "plt.bar(data[\"Train\"][\"X\"].columns, model.feature_importances_)\n",
    "plt.xticks(rotation=90)\n",
    "plt.title(\"Feature Importances\")\n",
    "plt.show()"
   ]
  },
  {
   "cell_type": "code",
   "execution_count": 19,
   "metadata": {},
   "outputs": [
    {
     "data": {
      "image/png": "[encoded data removed]",
      "text/plain": [
       "<Figure size 432x288 with 1 Axes>"
      ]
     },
     "metadata": {
      "needs_background": "light"
     },
     "output_type": "display_data"
    }
   ],
   "source": [
    "X_irl = data[\"Test\"][\"X\"].loc[:, 54.125, -6.875]\n",
    "y_irl = data[\"Test\"][\"y\"].loc[:, 54.125, -6.875]\n",
    "\n",
    "preds = model.predict(X_irl)\n",
    "\n",
    "times = list(data[\"Test\"][\"X\"].index.unique(level=\"time\"))\n",
    "plt.title(\"Predicted vs. Actual ELUC for specific coords\")\n",
    "plt.plot(times, y_irl, label=\"Actual ELUC\")\n",
    "plt.plot(times, preds, label=\"Predicted ELUC\")\n",
    "plt.legend()\n",
    "plt.show()"
   ]
  },
  {
   "cell_type": "code",
   "execution_count": 20,
   "metadata": {},
   "outputs": [
    {
     "data": {
      "image/png": "[encoded data removed]",
      "text/plain": [
       "<Figure size 432x288 with 1 Axes>"
      ]
     },
     "metadata": {
      "needs_background": "light"
     },
     "output_type": "display_data"
    }
   ],
   "source": [
    "preds = model.predict(data[\"Test\"][\"X\"])\n",
    "test_copy = data[\"Test\"][\"X\"].copy()\n",
    "test_copy[\"pred\"] = preds\n",
    "test_copy[\"ELUC\"] = data[\"Test\"][\"y\"]\n",
    "pred_eluc_sums = []\n",
    "eluc_sums = []\n",
    "for time in times:\n",
    "    pred_eluc_sums.append(test_copy.loc[time, :, :][\"pred\"].mean())\n",
    "    eluc_sums.append(test_copy.loc[time, :, :][\"ELUC\"].mean())\n",
    "\n",
    "plt.title(\"Mean of ELUC over each time step actual vs. predicted\")\n",
    "plt.plot(times, eluc_sums, label=\"Actual ELUC\")\n",
    "plt.plot(times, pred_eluc_sums, label=\"Predicted ELUC\")\n",
    "plt.legend()\n",
    "plt.show()"
   ]
  }
 ],
 "metadata": {
  "kernelspec": {
   "display_name": "leaf",
   "language": "python",
   "name": "python3"
  },
  "language_info": {
   "codemirror_mode": {
    "name": "ipython",
    "version": 3
   },
   "file_extension": ".py",
   "mimetype": "text/x-python",
   "name": "python",
   "nbconvert_exporter": "python",
   "pygments_lexer": "ipython3",
   "version": "3.10.11"
  },
  "orig_nbformat": 4
 },
 "nbformat": 4,
 "nbformat_minor": 2
}
