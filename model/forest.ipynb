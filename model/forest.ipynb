{
 "cells": [
  {
   "cell_type": "code",
   "execution_count": 45,
   "metadata": {},
   "outputs": [],
   "source": [
    "import pandas as pd\n",
    "import numpy as np\n",
    "from sklearn.linear_model import LinearRegression\n",
    "from sklearn.ensemble import RandomForestRegressor\n",
    "from sklearn.metrics import mean_absolute_error\n",
    "from sklearn.utils import shuffle\n",
    "\n",
    "import regionmask\n",
    "import xarray as xr\n",
    "\n",
    "import matplotlib.pyplot as plt\n",
    "import plotly.express as px\n",
    "\n",
    "from joblib import dump, load\n",
    "\n",
    "from tqdm import tqdm"
   ]
  },
  {
   "cell_type": "code",
   "execution_count": 46,
   "metadata": {},
   "outputs": [],
   "source": [
    "LAND_FEATURES = ['c3ann', 'c3nfx', 'c3per','c4ann', 'c4per',\n",
    " 'pastr', 'primf', 'primn', 'range', 'secdf', 'secdn', 'urban', 'cell_area']\n",
    "\n",
    "LAND_DIFF_FEATURES = ['c3ann_diff', 'c3nfx_diff', 'c3per_diff','c4ann_diff', 'c4per_diff',\n",
    " 'pastr_diff', 'primf_diff', 'primn_diff', 'range_diff', 'secdf_diff', 'secdn_diff', 'urban_diff']\n",
    "\n",
    "#FEATURES = LAND_DIFF_FEATURES\n",
    "FEATURES = LAND_DIFF_FEATURES\n",
    "LABEL = 'ELUC'\n",
    "\n",
    "# Great Britain, France, Germany, Netherlands, Belgium, Switzerland, Ireland\n",
    "COUNTRY_NAME_LIST = [\"GB\", \"F\", \"D\", \"NL\", \"B\", \"CH\", \"IRL\"]\n",
    "\n",
    "DATA_FILE_PATH = \"../data/gcb/merged_aggregated_dataset_1850_2022.zarr.zip\"\n",
    "UPDATE_FILE_PATH = \"../data/gcb/BLUE_LUH2-GCB2022_ELUC-committed_gridded_net_1850-2021.nc\"\n",
    "\n",
    "MANUAL_MAP = {\n",
    "    \"INDO\": 360,\n",
    "    \"DRC\": 180,\n",
    "    \"RUS\": 643,\n",
    "    \"N\": 578,\n",
    "    \"F\": 250,\n",
    "    \"J\": 388,\n",
    "    \"NA\": 516,\n",
    "    \"PAL\": 275,\n",
    "    \"J\": 400,\n",
    "    \"IRQ\": 368,\n",
    "    \"IND\": 356,\n",
    "    \"IRN\": 364,\n",
    "    \"SYR\": 760,\n",
    "    \"ARM\": 51,\n",
    "    \"S\": 752,\n",
    "    \"A\": 36,\n",
    "    \"EST\": 233,\n",
    "    \"D\": 276,\n",
    "    \"L\": 442,\n",
    "    \"B\": 56,\n",
    "    \"P\": 620,\n",
    "    \"E\": 724,\n",
    "    \"IRL\": 372,\n",
    "    \"I\": 380,\n",
    "    \"SLO\": 705,\n",
    "    \"FIN\": 246,\n",
    "    \"J\": 392,\n",
    "    \"BiH\": 70,\n",
    "    \"NM\": 807,\n",
    "    \"KO\": 383,\n",
    "    \"SS\": 728\n",
    "}\n",
    "\n",
    "countries = regionmask.defined_regions.natural_earth_v5_0_0.countries_110\n",
    "countries_df = countries.to_dataframe()\n"
   ]
  },
  {
   "cell_type": "code",
   "execution_count": 47,
   "metadata": {},
   "outputs": [
    {
     "name": "stdout",
     "output_type": "stream",
     "text": [
      "        abbrevs                     names\n",
      "numbers                                  \n",
      "0            FJ                      Fiji\n",
      "1            TZ                  Tanzania\n",
      "2            WS                 W. Sahara\n",
      "3            CA                    Canada\n",
      "4            US  United States of America\n",
      "Int64Index([143], dtype='int64', name='numbers')\n"
     ]
    }
   ],
   "source": [
    "print(countries_df.head())\n",
    "print(countries_df[countries_df[\"abbrevs\"] == \"GB\"].index)"
   ]
  },
  {
   "attachments": {},
   "cell_type": "markdown",
   "metadata": {},
   "source": [
    "## Data Preprocessing"
   ]
  },
  {
   "cell_type": "code",
   "execution_count": 48,
   "metadata": {},
   "outputs": [],
   "source": [
    "def import_data(path, update_path):\n",
    "    raw = xr.open_zarr(path, consolidated=True)\n",
    "\n",
    "    # Get updated ELUC\n",
    "    if update_path:\n",
    "        eluc = xr.open_dataset(update_path)\n",
    "        raw = raw.drop_vars([\"ELUC\", \"cell_area\"])\n",
    "        raw = raw.merge(eluc)\n",
    "\n",
    "    # Shift actions back a year\n",
    "    raw[LAND_DIFF_FEATURES] = raw[LAND_DIFF_FEATURES].shift(time=-1)\n",
    "\n",
    "    # Old time shifting\n",
    "    # raw['ELUC'] = raw['ELUC'].shift(time=1)\n",
    "    # raw['ELUC_diff'] = raw['ELUC_diff'].shift(time=1)\n",
    "    # raw['time'] = raw.time - 1\n",
    "    # assert(list(np.unique(raw.time)) == list(range(1849, 2022)))\n",
    "\n",
    "    mask = raw[\"ELUC_diff\"].isnull().compute()\n",
    "    raw = raw.where(~mask, drop=True)\n",
    "\n",
    "    country_mask = regionmask.defined_regions.natural_earth_v5_0_0.countries_110.mask(raw)\n",
    "    raw[\"country\"] = country_mask\n",
    "    return raw"
   ]
  },
  {
   "cell_type": "code",
   "execution_count": 49,
   "metadata": {},
   "outputs": [],
   "source": [
    "def da_to_df(da):\n",
    "    df = da.to_dataframe()\n",
    "    df = df.dropna()\n",
    "    df['country_name'] = countries_df.loc[df['country'], 'names'].values\n",
    "    return df\n",
    "\n",
    "def process_input(da):\n",
    "    da = da[FEATURES + [LABEL]]\n",
    "    df = da.to_dataframe()\n",
    "    df = df.dropna()\n",
    "\n",
    "    return df[FEATURES], df[LABEL]"
   ]
  },
  {
   "cell_type": "code",
   "execution_count": 50,
   "metadata": {},
   "outputs": [],
   "source": [
    "class Scaler:\n",
    "    def __init__(self):\n",
    "        self.means = None\n",
    "        self.stdevs = None\n",
    "\n",
    "    def fit(self, X_train):\n",
    "        self.means = X_train.mean(axis=0)\n",
    "        self.stdevs = X_train.std(axis=0)\n",
    "        # Replace 0 stdevs with 1 so we don't divide by 0\n",
    "        self.stdevs = self.stdevs.replace(0, 1)\n",
    "\n",
    "    def transform(self, X):\n",
    "        return (X - self.means) / self.stdevs\n",
    "    \n",
    "    def fit_transform(self, X_train):\n",
    "        self.fit(X_train)\n",
    "        return self.transform(X_train)"
   ]
  },
  {
   "cell_type": "code",
   "execution_count": 51,
   "metadata": {},
   "outputs": [],
   "source": [
    "def create_country_dataset(ds, country_name_list, first_train_year, last_train_year, scale=False, verbose=False):\n",
    "    country_id_list = countries_df.index[countries_df[\"abbrevs\"].isin(country_name_list)].values\n",
    "    train_da, test_da = None, None\n",
    "    if len(country_id_list) == 1:\n",
    "        test_da = ds.where(ds[\"country\"] == country_id_list[0], drop=True).where(ds.time > last_train_year, drop=True).load()\n",
    "        train_da = ds.where(ds[\"country\"] == country_id_list[0], drop=True).where((ds.time <= last_train_year) & (ds.time >= first_train_year), drop=True).load()\n",
    "    else:\n",
    "        c_mask = xr.DataArray(np.in1d(ds[\"country\"], country_id_list).reshape(ds[\"country\"].shape),\n",
    "                              dims=ds[\"country\"].dims, coords=ds[\"country\"].coords)\n",
    "        test_da = ds.where(c_mask, drop=True).where(ds.time > last_train_year, drop=True).load()\n",
    "        train_da = ds.where(c_mask, drop=True).where(ds.time <= last_train_year, drop=True).load() # 143 is the code for the UK\n",
    "\n",
    "    X_train, y_train = process_input(train_da)\n",
    "    X_test, y_test = process_input(test_da)\n",
    "    \n",
    "    if scale:\n",
    "        scaler = Scaler()\n",
    "        X_train = scaler.fit_transform(X_train)\n",
    "        X_test = scaler.transform(X_test)\n",
    "\n",
    "    if verbose:\n",
    "        print(X_train.shape)\n",
    "        print(X_test.shape)\n",
    "\n",
    "    return {\"Train\": {\"X\": X_train,\n",
    "                      \"y\": y_train},\n",
    "            \"Test\": {\"X\": X_test,\n",
    "                      \"y\": y_test}}"
   ]
  },
  {
   "cell_type": "code",
   "execution_count": 52,
   "metadata": {},
   "outputs": [
    {
     "name": "stdout",
     "output_type": "stream",
     "text": [
      "Loading data...\n"
     ]
    },
    {
     "name": "stderr",
     "output_type": "stream",
     "text": [
      "/Users/964840/anaconda3/envs/leaf/lib/python3.10/site-packages/dask/array/core.py:4830: PerformanceWarning: Increasing number of chunks by factor of 15\n",
      "  result = blockwise(\n",
      "/Users/964840/anaconda3/envs/leaf/lib/python3.10/site-packages/dask/array/core.py:4830: PerformanceWarning: Increasing number of chunks by factor of 15\n",
      "  result = blockwise(\n",
      "/Users/964840/anaconda3/envs/leaf/lib/python3.10/site-packages/dask/array/core.py:4830: PerformanceWarning: Increasing number of chunks by factor of 15\n",
      "  result = blockwise(\n",
      "/Users/964840/anaconda3/envs/leaf/lib/python3.10/site-packages/dask/array/core.py:4830: PerformanceWarning: Increasing number of chunks by factor of 15\n",
      "  result = blockwise(\n",
      "/Users/964840/anaconda3/envs/leaf/lib/python3.10/site-packages/dask/array/core.py:4830: PerformanceWarning: Increasing number of chunks by factor of 15\n",
      "  result = blockwise(\n",
      "/Users/964840/anaconda3/envs/leaf/lib/python3.10/site-packages/dask/array/core.py:4830: PerformanceWarning: Increasing number of chunks by factor of 15\n",
      "  result = blockwise(\n",
      "/Users/964840/anaconda3/envs/leaf/lib/python3.10/site-packages/dask/array/core.py:4830: PerformanceWarning: Increasing number of chunks by factor of 15\n",
      "  result = blockwise(\n",
      "/Users/964840/anaconda3/envs/leaf/lib/python3.10/site-packages/dask/array/core.py:4830: PerformanceWarning: Increasing number of chunks by factor of 15\n",
      "  result = blockwise(\n",
      "/Users/964840/anaconda3/envs/leaf/lib/python3.10/site-packages/dask/array/core.py:4830: PerformanceWarning: Increasing number of chunks by factor of 15\n",
      "  result = blockwise(\n",
      "/Users/964840/anaconda3/envs/leaf/lib/python3.10/site-packages/dask/array/core.py:4830: PerformanceWarning: Increasing number of chunks by factor of 15\n",
      "  result = blockwise(\n",
      "/Users/964840/anaconda3/envs/leaf/lib/python3.10/site-packages/dask/array/core.py:4830: PerformanceWarning: Increasing number of chunks by factor of 15\n",
      "  result = blockwise(\n",
      "/Users/964840/anaconda3/envs/leaf/lib/python3.10/site-packages/dask/array/core.py:4830: PerformanceWarning: Increasing number of chunks by factor of 15\n",
      "  result = blockwise(\n",
      "/Users/964840/anaconda3/envs/leaf/lib/python3.10/site-packages/dask/array/core.py:4830: PerformanceWarning: Increasing number of chunks by factor of 15\n",
      "  result = blockwise(\n",
      "/Users/964840/anaconda3/envs/leaf/lib/python3.10/site-packages/dask/array/core.py:4830: PerformanceWarning: Increasing number of chunks by factor of 15\n",
      "  result = blockwise(\n",
      "/Users/964840/anaconda3/envs/leaf/lib/python3.10/site-packages/dask/array/core.py:4830: PerformanceWarning: Increasing number of chunks by factor of 15\n",
      "  result = blockwise(\n",
      "/Users/964840/anaconda3/envs/leaf/lib/python3.10/site-packages/dask/array/core.py:4830: PerformanceWarning: Increasing number of chunks by factor of 15\n",
      "  result = blockwise(\n",
      "/Users/964840/anaconda3/envs/leaf/lib/python3.10/site-packages/dask/array/core.py:4830: PerformanceWarning: Increasing number of chunks by factor of 15\n",
      "  result = blockwise(\n",
      "/Users/964840/anaconda3/envs/leaf/lib/python3.10/site-packages/dask/array/core.py:4830: PerformanceWarning: Increasing number of chunks by factor of 15\n",
      "  result = blockwise(\n",
      "/Users/964840/anaconda3/envs/leaf/lib/python3.10/site-packages/dask/array/core.py:4830: PerformanceWarning: Increasing number of chunks by factor of 15\n",
      "  result = blockwise(\n",
      "/Users/964840/anaconda3/envs/leaf/lib/python3.10/site-packages/dask/array/core.py:4830: PerformanceWarning: Increasing number of chunks by factor of 15\n",
      "  result = blockwise(\n",
      "/Users/964840/anaconda3/envs/leaf/lib/python3.10/site-packages/dask/array/core.py:4830: PerformanceWarning: Increasing number of chunks by factor of 15\n",
      "  result = blockwise(\n",
      "/Users/964840/anaconda3/envs/leaf/lib/python3.10/site-packages/dask/array/core.py:4830: PerformanceWarning: Increasing number of chunks by factor of 15\n",
      "  result = blockwise(\n",
      "/Users/964840/anaconda3/envs/leaf/lib/python3.10/site-packages/dask/array/core.py:4830: PerformanceWarning: Increasing number of chunks by factor of 15\n",
      "  result = blockwise(\n",
      "/Users/964840/anaconda3/envs/leaf/lib/python3.10/site-packages/dask/array/core.py:4830: PerformanceWarning: Increasing number of chunks by factor of 15\n",
      "  result = blockwise(\n",
      "/Users/964840/anaconda3/envs/leaf/lib/python3.10/site-packages/dask/array/core.py:4830: PerformanceWarning: Increasing number of chunks by factor of 15\n",
      "  result = blockwise(\n",
      "/Users/964840/anaconda3/envs/leaf/lib/python3.10/site-packages/dask/array/core.py:4830: PerformanceWarning: Increasing number of chunks by factor of 15\n",
      "  result = blockwise(\n",
      "/Users/964840/anaconda3/envs/leaf/lib/python3.10/site-packages/dask/array/core.py:4830: PerformanceWarning: Increasing number of chunks by factor of 15\n",
      "  result = blockwise(\n"
     ]
    },
    {
     "name": "stdout",
     "output_type": "stream",
     "text": [
      "(435183, 12)\n",
      "(27030, 12)\n"
     ]
    }
   ],
   "source": [
    "print(\"Loading data...\")\n",
    "raw = import_data(DATA_FILE_PATH, UPDATE_FILE_PATH)\n",
    "data = create_country_dataset(raw, COUNTRY_NAME_LIST, 1982, 2011, verbose=True)\n"
   ]
  },
  {
   "attachments": {},
   "cell_type": "markdown",
   "metadata": {},
   "source": [
    "## Model"
   ]
  },
  {
   "cell_type": "code",
   "execution_count": 53,
   "metadata": {},
   "outputs": [
    {
     "name": "stdout",
     "output_type": "stream",
     "text": [
      "MAE: 0.03661973635413101\n"
     ]
    }
   ],
   "source": [
    "X_train, y_train = shuffle(data[\"Train\"][\"X\"], data[\"Train\"][\"y\"], random_state=42)\n",
    "\n",
    "# model = XGBRegressor(random_state=42, n_jobs=-1)\n",
    "model = RandomForestRegressor(random_state=42, n_jobs=-1)\n",
    "model.fit(X_train, y_train)\n",
    "pred = model.predict(data[\"Test\"][\"X\"])\n",
    "print(f\"MAE: {mean_absolute_error(data['Test']['y'], pred)}\")\n",
    "\n",
    "# TODO: uncomment this to write model to file\n",
    "# dump(model, \"../demo/predictors/ELUC_forest.joblib\")"
   ]
  },
  {
   "cell_type": "code",
   "execution_count": 54,
   "metadata": {},
   "outputs": [
    {
     "name": "stdout",
     "output_type": "stream",
     "text": [
      "MAE: 0.03327479958534241\n"
     ]
    }
   ],
   "source": [
    "model = LinearRegression(n_jobs=-1)\n",
    "model.fit(X_train, y_train)\n",
    "pred = model.predict(data[\"Test\"][\"X\"])\n",
    "print(f\"MAE: {mean_absolute_error(data['Test']['y'], pred)}\")"
   ]
  },
  {
   "cell_type": "markdown",
   "metadata": {},
   "source": [
    "### Train by latitude"
   ]
  },
  {
   "cell_type": "code",
   "execution_count": 55,
   "metadata": {},
   "outputs": [
    {
     "data": {
      "text/html": [
       "<div>\n",
       "<style scoped>\n",
       "    .dataframe tbody tr th:only-of-type {\n",
       "        vertical-align: middle;\n",
       "    }\n",
       "\n",
       "    .dataframe tbody tr th {\n",
       "        vertical-align: top;\n",
       "    }\n",
       "\n",
       "    .dataframe thead th {\n",
       "        text-align: right;\n",
       "    }\n",
       "</style>\n",
       "<table border=\"1\" class=\"dataframe\">\n",
       "  <thead>\n",
       "    <tr style=\"text-align: right;\">\n",
       "      <th></th>\n",
       "      <th></th>\n",
       "      <th></th>\n",
       "      <th>ELUC_diff</th>\n",
       "      <th>c3ann</th>\n",
       "      <th>c3ann_diff</th>\n",
       "      <th>c3nfx</th>\n",
       "      <th>c3nfx_diff</th>\n",
       "      <th>c3per</th>\n",
       "      <th>c3per_diff</th>\n",
       "      <th>c4ann</th>\n",
       "      <th>c4ann_diff</th>\n",
       "      <th>c4per</th>\n",
       "      <th>...</th>\n",
       "      <th>secdf_diff</th>\n",
       "      <th>secdn</th>\n",
       "      <th>secdn_diff</th>\n",
       "      <th>urban</th>\n",
       "      <th>urban_diff</th>\n",
       "      <th>ELUC</th>\n",
       "      <th>cell_area</th>\n",
       "      <th>mask</th>\n",
       "      <th>country</th>\n",
       "      <th>country_name</th>\n",
       "    </tr>\n",
       "    <tr>\n",
       "      <th>time</th>\n",
       "      <th>lat</th>\n",
       "      <th>lon</th>\n",
       "      <th></th>\n",
       "      <th></th>\n",
       "      <th></th>\n",
       "      <th></th>\n",
       "      <th></th>\n",
       "      <th></th>\n",
       "      <th></th>\n",
       "      <th></th>\n",
       "      <th></th>\n",
       "      <th></th>\n",
       "      <th></th>\n",
       "      <th></th>\n",
       "      <th></th>\n",
       "      <th></th>\n",
       "      <th></th>\n",
       "      <th></th>\n",
       "      <th></th>\n",
       "      <th></th>\n",
       "      <th></th>\n",
       "      <th></th>\n",
       "      <th></th>\n",
       "    </tr>\n",
       "  </thead>\n",
       "  <tbody>\n",
       "    <tr>\n",
       "      <th rowspan=\"5\" valign=\"top\">1851</th>\n",
       "      <th rowspan=\"5\" valign=\"top\">-55.375</th>\n",
       "      <th>-69.375</th>\n",
       "      <td>1.585186e-04</td>\n",
       "      <td>1.529372e-07</td>\n",
       "      <td>-1.466177e-09</td>\n",
       "      <td>0.000000e+00</td>\n",
       "      <td>0.000000e+00</td>\n",
       "      <td>0.000000e+00</td>\n",
       "      <td>0.000000e+00</td>\n",
       "      <td>0.000000e+00</td>\n",
       "      <td>0.000000e+00</td>\n",
       "      <td>0.0</td>\n",
       "      <td>...</td>\n",
       "      <td>1.048539e-04</td>\n",
       "      <td>0.000000</td>\n",
       "      <td>0.000000e+00</td>\n",
       "      <td>0.0</td>\n",
       "      <td>0.0</td>\n",
       "      <td>4.283220e-03</td>\n",
       "      <td>43908.949219</td>\n",
       "      <td>1.0</td>\n",
       "      <td>10.0</td>\n",
       "      <td>Chile</td>\n",
       "    </tr>\n",
       "    <tr>\n",
       "      <th>-69.125</th>\n",
       "      <td>-1.669832e-09</td>\n",
       "      <td>6.256299e-08</td>\n",
       "      <td>-4.925624e-10</td>\n",
       "      <td>8.209591e-09</td>\n",
       "      <td>-6.463452e-11</td>\n",
       "      <td>1.742937e-08</td>\n",
       "      <td>-1.372218e-10</td>\n",
       "      <td>8.359032e-09</td>\n",
       "      <td>-6.581136e-11</td>\n",
       "      <td>0.0</td>\n",
       "      <td>...</td>\n",
       "      <td>-1.396984e-09</td>\n",
       "      <td>0.000000</td>\n",
       "      <td>0.000000e+00</td>\n",
       "      <td>0.0</td>\n",
       "      <td>0.0</td>\n",
       "      <td>-3.430041e-07</td>\n",
       "      <td>43908.949219</td>\n",
       "      <td>1.0</td>\n",
       "      <td>10.0</td>\n",
       "      <td>Chile</td>\n",
       "    </tr>\n",
       "    <tr>\n",
       "      <th>-68.875</th>\n",
       "      <td>3.134616e-07</td>\n",
       "      <td>2.541674e-08</td>\n",
       "      <td>3.165289e-08</td>\n",
       "      <td>0.000000e+00</td>\n",
       "      <td>0.000000e+00</td>\n",
       "      <td>0.000000e+00</td>\n",
       "      <td>0.000000e+00</td>\n",
       "      <td>0.000000e+00</td>\n",
       "      <td>0.000000e+00</td>\n",
       "      <td>0.0</td>\n",
       "      <td>...</td>\n",
       "      <td>0.000000e+00</td>\n",
       "      <td>0.000034</td>\n",
       "      <td>-3.637979e-12</td>\n",
       "      <td>0.0</td>\n",
       "      <td>0.0</td>\n",
       "      <td>3.217266e-06</td>\n",
       "      <td>43908.949219</td>\n",
       "      <td>1.0</td>\n",
       "      <td>10.0</td>\n",
       "      <td>Chile</td>\n",
       "    </tr>\n",
       "    <tr>\n",
       "      <th>-68.625</th>\n",
       "      <td>-2.126626e-08</td>\n",
       "      <td>6.788947e-08</td>\n",
       "      <td>-7.737526e-10</td>\n",
       "      <td>0.000000e+00</td>\n",
       "      <td>0.000000e+00</td>\n",
       "      <td>0.000000e+00</td>\n",
       "      <td>0.000000e+00</td>\n",
       "      <td>0.000000e+00</td>\n",
       "      <td>0.000000e+00</td>\n",
       "      <td>0.0</td>\n",
       "      <td>...</td>\n",
       "      <td>0.000000e+00</td>\n",
       "      <td>0.000038</td>\n",
       "      <td>5.940819e-09</td>\n",
       "      <td>0.0</td>\n",
       "      <td>0.0</td>\n",
       "      <td>-7.565677e-08</td>\n",
       "      <td>43908.949219</td>\n",
       "      <td>1.0</td>\n",
       "      <td>10.0</td>\n",
       "      <td>Chile</td>\n",
       "    </tr>\n",
       "    <tr>\n",
       "      <th>-68.375</th>\n",
       "      <td>-8.974894e-09</td>\n",
       "      <td>1.061018e-06</td>\n",
       "      <td>-5.096126e-09</td>\n",
       "      <td>0.000000e+00</td>\n",
       "      <td>0.000000e+00</td>\n",
       "      <td>0.000000e+00</td>\n",
       "      <td>0.000000e+00</td>\n",
       "      <td>0.000000e+00</td>\n",
       "      <td>0.000000e+00</td>\n",
       "      <td>0.0</td>\n",
       "      <td>...</td>\n",
       "      <td>0.000000e+00</td>\n",
       "      <td>0.000044</td>\n",
       "      <td>-3.637979e-12</td>\n",
       "      <td>0.0</td>\n",
       "      <td>0.0</td>\n",
       "      <td>-3.761452e-07</td>\n",
       "      <td>43908.949219</td>\n",
       "      <td>1.0</td>\n",
       "      <td>10.0</td>\n",
       "      <td>Chile</td>\n",
       "    </tr>\n",
       "  </tbody>\n",
       "</table>\n",
       "<p>5 rows × 31 columns</p>\n",
       "</div>"
      ],
      "text/plain": [
       "                         ELUC_diff         c3ann    c3ann_diff         c3nfx  \\\n",
       "time lat     lon                                                               \n",
       "1851 -55.375 -69.375  1.585186e-04  1.529372e-07 -1.466177e-09  0.000000e+00   \n",
       "             -69.125 -1.669832e-09  6.256299e-08 -4.925624e-10  8.209591e-09   \n",
       "             -68.875  3.134616e-07  2.541674e-08  3.165289e-08  0.000000e+00   \n",
       "             -68.625 -2.126626e-08  6.788947e-08 -7.737526e-10  0.000000e+00   \n",
       "             -68.375 -8.974894e-09  1.061018e-06 -5.096126e-09  0.000000e+00   \n",
       "\n",
       "                        c3nfx_diff         c3per    c3per_diff         c4ann  \\\n",
       "time lat     lon                                                               \n",
       "1851 -55.375 -69.375  0.000000e+00  0.000000e+00  0.000000e+00  0.000000e+00   \n",
       "             -69.125 -6.463452e-11  1.742937e-08 -1.372218e-10  8.359032e-09   \n",
       "             -68.875  0.000000e+00  0.000000e+00  0.000000e+00  0.000000e+00   \n",
       "             -68.625  0.000000e+00  0.000000e+00  0.000000e+00  0.000000e+00   \n",
       "             -68.375  0.000000e+00  0.000000e+00  0.000000e+00  0.000000e+00   \n",
       "\n",
       "                        c4ann_diff  c4per  ...    secdf_diff     secdn  \\\n",
       "time lat     lon                           ...                           \n",
       "1851 -55.375 -69.375  0.000000e+00    0.0  ...  1.048539e-04  0.000000   \n",
       "             -69.125 -6.581136e-11    0.0  ... -1.396984e-09  0.000000   \n",
       "             -68.875  0.000000e+00    0.0  ...  0.000000e+00  0.000034   \n",
       "             -68.625  0.000000e+00    0.0  ...  0.000000e+00  0.000038   \n",
       "             -68.375  0.000000e+00    0.0  ...  0.000000e+00  0.000044   \n",
       "\n",
       "                        secdn_diff  urban  urban_diff          ELUC  \\\n",
       "time lat     lon                                                      \n",
       "1851 -55.375 -69.375  0.000000e+00    0.0         0.0  4.283220e-03   \n",
       "             -69.125  0.000000e+00    0.0         0.0 -3.430041e-07   \n",
       "             -68.875 -3.637979e-12    0.0         0.0  3.217266e-06   \n",
       "             -68.625  5.940819e-09    0.0         0.0 -7.565677e-08   \n",
       "             -68.375 -3.637979e-12    0.0         0.0 -3.761452e-07   \n",
       "\n",
       "                         cell_area  mask  country  country_name  \n",
       "time lat     lon                                                 \n",
       "1851 -55.375 -69.375  43908.949219   1.0     10.0         Chile  \n",
       "             -69.125  43908.949219   1.0     10.0         Chile  \n",
       "             -68.875  43908.949219   1.0     10.0         Chile  \n",
       "             -68.625  43908.949219   1.0     10.0         Chile  \n",
       "             -68.375  43908.949219   1.0     10.0         Chile  \n",
       "\n",
       "[5 rows x 31 columns]"
      ]
     },
     "execution_count": 55,
     "metadata": {},
     "output_type": "execute_result"
    }
   ],
   "source": [
    "df = da_to_df(raw)\n",
    "df.head()"
   ]
  },
  {
   "cell_type": "code",
   "execution_count": 56,
   "metadata": {},
   "outputs": [
    {
     "data": {
      "text/plain": [
       "Russia                      4440101\n",
       "Canada                      2443603\n",
       "Greenland                   1773337\n",
       "Australia                   1043477\n",
       "United States of America     798714\n",
       "                             ...   \n",
       "South Korea                       2\n",
       "Bangladesh                        2\n",
       "Georgia                           2\n",
       "Moldova                           1\n",
       "Germany                           1\n",
       "Name: country_name, Length: 139, dtype: int64"
      ]
     },
     "execution_count": 56,
     "metadata": {},
     "output_type": "execute_result"
    }
   ],
   "source": [
    "df[df[\"ELUC\"] == 0][\"country_name\"].value_counts()"
   ]
  },
  {
   "cell_type": "code",
   "execution_count": 57,
   "metadata": {},
   "outputs": [],
   "source": [
    "zero = df[df[\"ELUC\"] == 0].copy()\n",
    "zero[\"change\"] = zero[zero[LAND_DIFF_FEATURES] > 0].sum(axis=1)"
   ]
  },
  {
   "cell_type": "code",
   "execution_count": 58,
   "metadata": {},
   "outputs": [
    {
     "data": {
      "text/plain": [
       "ELUC_diff            -0.003498\n",
       "c3ann                      0.0\n",
       "c3ann_diff                 0.0\n",
       "c3nfx                      0.0\n",
       "c3nfx_diff                 0.0\n",
       "c3per                      0.0\n",
       "c3per_diff                 0.0\n",
       "c4ann                      0.0\n",
       "c4ann_diff                 0.0\n",
       "c4per                      0.0\n",
       "c4per_diff                 0.0\n",
       "cell_area_diff    73229.828125\n",
       "pastr                      0.0\n",
       "pastr_diff                 0.0\n",
       "primf                      0.0\n",
       "primf_diff                 0.0\n",
       "primn                 0.794652\n",
       "primn_diff           -0.794652\n",
       "range                      0.0\n",
       "range_diff                 1.0\n",
       "secdf                      0.0\n",
       "secdf_diff                 0.0\n",
       "secdn                 0.205348\n",
       "secdn_diff           -0.205348\n",
       "urban                      0.0\n",
       "urban_diff                 0.0\n",
       "ELUC                       0.0\n",
       "cell_area         73229.828125\n",
       "mask                       1.0\n",
       "country                   14.0\n",
       "country_name             Sudan\n",
       "change                     1.0\n",
       "Name: (2003, 18.625, 36.125), dtype: object"
      ]
     },
     "execution_count": 58,
     "metadata": {},
     "output_type": "execute_result"
    }
   ],
   "source": [
    "zero = zero.sort_values(\"change\", ascending=False)\n",
    "zero.iloc[0]"
   ]
  },
  {
   "cell_type": "code",
   "execution_count": 60,
   "metadata": {},
   "outputs": [
    {
     "name": "stdout",
     "output_type": "stream",
     "text": [
      "Zone: (0, 23.5) mae: 0.10196232050657272\n",
      "Zone: (23.5, 40) mae: 0.09912386536598206\n",
      "Zone: (40, 60) mae: 0.06248398497700691\n",
      "Zone: (60, 90) mae: 0.006578302476555109\n"
     ]
    }
   ],
   "source": [
    "lat_zones = [(0, 23.5), (23.5, 40), (40, 60), (60, 90)]\n",
    "train_year_range = (1982, 2012)\n",
    "idx_vals = df.index.get_level_values('lat')\n",
    "for i, zone in enumerate(lat_zones):\n",
    "    pos = (idx_vals >= zone[0]) & (idx_vals < zone[1])\n",
    "    neg = (idx_vals <= -zone[0]) & (idx_vals > -zone[1])\n",
    "    df_zone = df.loc[(pos) | (neg)]\n",
    "    df_zone = df.loc[pos]\n",
    "\n",
    "    time_vals = df_zone.index.get_level_values('time')\n",
    "    train = df_zone.loc[(time_vals >= train_year_range[0]) & (time_vals < train_year_range[1])]\n",
    "    test = df_zone.loc[(time_vals >= train_year_range[1])]\n",
    "    X_train = train[FEATURES]\n",
    "    y_train = train[LABEL]\n",
    "    X_test = test[FEATURES]\n",
    "    y_test = test[LABEL]\n",
    "\n",
    "    model = LinearRegression(n_jobs=-1)\n",
    "    model.fit(X_train, y_train)\n",
    "    y_pred = model.predict(X_test)\n",
    "    print(f\"Zone: {zone} mae: {mean_absolute_error(y_test, y_pred)}\")\n",
    "    dump(model, f\"../demo/predictors/zone{i}_linear.joblib\")"
   ]
  },
  {
   "cell_type": "markdown",
   "metadata": {},
   "source": [
    "### Train for every country"
   ]
  },
  {
   "cell_type": "code",
   "execution_count": 12,
   "metadata": {},
   "outputs": [],
   "source": [
    "def train_country_model(X_train, y_train, X_test, y_test):\n",
    "    model = LinearRegression(n_jobs=-1)\n",
    "    model.fit(X_train, y_train)\n",
    "    y_pred = model.predict(X_test)\n",
    "    return model, mean_absolute_error(y_test, y_pred)"
   ]
  },
  {
   "cell_type": "code",
   "execution_count": 19,
   "metadata": {},
   "outputs": [
    {
     "name": "stdout",
     "output_type": "stream",
     "text": [
      "Fiji: 0.0006945133209228516\n",
      "Tanzania: 0.11322583258152008\n",
      "W. Sahara: 4.435848186706316e-14\n",
      "Canada: 0.007898674346506596\n",
      "United States of America: 0.03166184946894646\n",
      "Kazakhstan: 0.00505554024130106\n",
      "Uzbekistan: 0.0034026254434138536\n",
      "Papua New Guinea: 0.009446265175938606\n",
      "Indonesia: 0.09128442406654358\n",
      "Argentina: 0.02587825432419777\n",
      "Chile: 0.05365749076008797\n",
      "Dem. Rep. Congo: 0.07600587606430054\n",
      "Somalia: 0.003999932669103146\n",
      "Kenya: 0.021350150927901268\n",
      "Sudan: 0.0037722184788435698\n",
      "Chad: 0.0019041928462684155\n",
      "Haiti: 0.168892964720726\n",
      "Dominican Rep.: 0.03669315576553345\n",
      "Russia: 0.029004765674471855\n",
      "Bahamas: 0.0006989007233642042\n",
      "Falkland Is.: 1.7366366154866715e-19\n",
      "Norway: 0.006762273143976927\n",
      "Greenland: 4.7595399621513934e-08\n",
      "Fr. S. Antarctic Lands: 0.0\n",
      "Timor-Leste: 0.006666526198387146\n",
      "South Africa: 0.009950254112482071\n",
      "Lesotho: 0.043607939034700394\n",
      "Mexico: 0.2337242066860199\n",
      "Uruguay: 0.01772516407072544\n",
      "Brazil: 0.23421885073184967\n",
      "Bolivia: 0.08533409982919693\n",
      "Peru: 0.10230658203363419\n",
      "Colombia: 0.10836301743984222\n",
      "Panama: 0.019335856661200523\n",
      "Costa Rica: 0.03406773880124092\n",
      "Nicaragua: 0.049376778304576874\n",
      "Honduras: 0.06530608236789703\n",
      "El Salvador: 0.1433483213186264\n",
      "Guatemala: 0.08314727246761322\n",
      "Belize: 0.018185880035161972\n",
      "Venezuela: 0.030590539798140526\n",
      "Guyana: 0.0157922375947237\n",
      "Suriname: 0.001696964493021369\n",
      "France: 0.031856950372457504\n",
      "Ecuador: 0.17595990002155304\n",
      "Puerto Rico: 0.04339225962758064\n",
      "Jamaica: 0.025391146540641785\n",
      "Cuba: 0.059562910348176956\n",
      "Zimbabwe: 0.03128373622894287\n",
      "Botswana: 0.002681540558114648\n",
      "Namibia: 0.0033274320885539055\n",
      "Senegal: 0.0411263108253479\n",
      "Mali: 0.022245600819587708\n",
      "Mauritania: 0.0002964521700050682\n",
      "Benin: 0.23982390761375427\n",
      "Niger: 0.012874525040388107\n",
      "Nigeria: 0.2136783003807068\n",
      "Cameroon: 0.10295397788286209\n",
      "Togo: 0.1140170618891716\n",
      "Ghana: 0.1113494262099266\n",
      "Côte d'Ivoire: 0.1608056277036667\n",
      "Guinea: 0.09655483812093735\n",
      "Guinea-Bissau: 0.04173470661044121\n",
      "Liberia: 0.050629712641239166\n",
      "Sierra Leone: 0.05039641633629799\n",
      "Burkina Faso: 0.006063333246856928\n",
      "Central African Rep.: 0.013505643233656883\n",
      "Congo: 0.05884036049246788\n",
      "Gabon: 0.02798866294324398\n",
      "Eq. Guinea: 0.021793821826577187\n",
      "Zambia: 0.0816403478384018\n",
      "Malawi: 0.06724916398525238\n",
      "Mozambique: 0.08104854077100754\n",
      "eSwatini: 0.010424462147057056\n",
      "Angola: 0.0897381603717804\n",
      "Burundi: 0.1243428960442543\n",
      "Israel: 0.0060624899342656136\n",
      "Lebanon: 0.0013364996993914247\n",
      "Madagascar: 0.0857219249010086\n",
      "Palestine: 0.006544347386807203\n",
      "Gambia: 0.1541907638311386\n",
      "Tunisia: 0.03058893419802189\n",
      "Algeria: 0.0010306716430932283\n",
      "Jamaica: 0.025391146540641785\n",
      "United Arab Emirates: 0.0008012305479496717\n",
      "Qatar: 0.0031519706826657057\n",
      "Kuwait: 0.0005231995601207018\n",
      "Iraq: 0.055895742028951645\n",
      "Oman: 0.0017691374523565173\n",
      "Vanuatu: 0.07629485428333282\n",
      "Cambodia: 0.08088638633489609\n",
      "Thailand: 0.0324418880045414\n",
      "Laos: 0.05417168140411377\n",
      "Myanmar: 0.06686212122440338\n",
      "Vietnam: 0.4578927457332611\n",
      "North Korea: 0.005908172111958265\n",
      "South Korea: 0.006603362038731575\n",
      "Mongolia: 0.012988226488232613\n",
      "India: 0.5796884298324585\n",
      "Bangladesh: 0.014913075603544712\n",
      "Bhutan: 0.11041861027479172\n",
      "Nepal: 0.1549420952796936\n",
      "Pakistan: 0.028206320479512215\n",
      "Afghanistan: 0.001403314876370132\n",
      "Tajikistan: 0.005593677517026663\n",
      "Kyrgyzstan: 0.010854273103177547\n",
      "Turkmenistan: 0.0005043376586399972\n",
      "Iran: 0.007541493978351355\n",
      "Syria: 0.0027905788738280535\n",
      "Armenia: 0.07136669754981995\n",
      "Sweden: 0.00426696240901947\n",
      "Belarus: 0.03951396048069\n",
      "Ukraine: 0.07213880121707916\n",
      "Poland: 0.03968081623315811\n",
      "Austria: 0.044497471302747726\n",
      "Hungary: 0.045367322862148285\n",
      "Moldova: 0.16517461836338043\n",
      "Romania: 0.10195384919643402\n",
      "Lithuania: 0.04568299651145935\n",
      "Latvia: 0.01628728024661541\n",
      "Estonia: 0.021663200110197067\n",
      "Germany: 0.007109071593731642\n",
      "Bulgaria: 0.07773242890834808\n",
      "Greece: 0.39062240719795227\n",
      "Turkey: 0.044553499668836594\n",
      "Albania: 0.08098328113555908\n",
      "Croatia: 0.07124272733926773\n",
      "Switzerland: 0.04313364624977112\n",
      "Luxembourg: 7.432526763295755e-05\n",
      "Belgium: 0.012854264117777348\n",
      "Netherlands: 0.0257443655282259\n",
      "Portugal: 0.10593776404857635\n",
      "Spain: 0.07818455994129181\n",
      "Ireland: 0.04025563597679138\n",
      "New Caledonia: 0.008082435466349125\n",
      "Solomon Is.: 0.020382458344101906\n",
      "New Zealand: 0.14051711559295654\n",
      "Australia: 0.022728264331817627\n",
      "Sri Lanka: 0.02556879073381424\n",
      "China: 0.19920380413532257\n",
      "Taiwan: 0.01961962878704071\n",
      "Italy: 0.1356721818447113\n",
      "Denmark: 0.02454976737499237\n",
      "United Kingdom: 0.07678873091936111\n",
      "Israel: 0.0060624899342656136\n",
      "Azerbaijan: 0.1481979936361313\n",
      "Georgia: 0.13074088096618652\n",
      "Philippines: 0.007346519734710455\n",
      "Malaysia: 0.020353242754936218\n",
      "Brunei: 0.00402564974501729\n",
      "Slovenia: 0.003141318680718541\n",
      "Finland: 0.0046478635631501675\n",
      "Slovakia: 0.24423138797283173\n",
      "Czechia: 0.14545755088329315\n",
      "Eritrea: 0.002731503453105688\n",
      "Jamaica: 0.025391146540641785\n",
      "Paraguay: 0.20155486464500427\n",
      "Yemen: 0.008792635053396225\n",
      "Saudi Arabia: 0.003596642753109336\n",
      "Antarctica has no data\n",
      "China: 0.19920380413532257\n",
      "Cyprus: 0.024303968995809555\n",
      "Morocco: 0.04457329958677292\n",
      "Egypt: 0.0067213308066129684\n",
      "Libya: 0.00022172436001710594\n",
      "Ethiopia: 0.0835769921541214\n",
      "Djibouti: 7.399109745165333e-05\n",
      "Sierra Leone: 0.05039641633629799\n",
      "Uganda: 0.039081376045942307\n",
      "Rwanda: 0.08891848474740982\n",
      "Bosnia and Herz.: 0.012000193819403648\n",
      "North Macedonia: 0.009820315055549145\n",
      "Serbia: 0.034165751188993454\n",
      "Montenegro: 0.020024875178933144\n",
      "Kosovo: 0.013531478121876717\n",
      "Trinidad and Tobago: 0.0019424519268795848\n",
      "S. Sudan: 0.016010405495762825\n"
     ]
    }
   ],
   "source": [
    "models = []\n",
    "maes = []\n",
    "for country in list(countries_df[\"abbrevs\"]):\n",
    "    country_name = countries_df[countries_df[\"abbrevs\"] == country][\"names\"].iloc[0]\n",
    "    data = create_country_dataset(raw, country_mask, [country], 1982, 2011)\n",
    "    X_train = data[\"Train\"][\"X\"]\n",
    "    y_train = data[\"Train\"][\"y\"]\n",
    "    X_test = data[\"Test\"][\"X\"]\n",
    "    y_test = data[\"Test\"][\"y\"]\n",
    "\n",
    "    if len(X_train) == 0:\n",
    "        print(f\"{country_name} has no data\")\n",
    "        models.append(None)\n",
    "        maes.append(1)\n",
    "    else:\n",
    "        model, mae = train_country_model(X_train, y_train, X_test, y_test)\n",
    "\n",
    "        print(f\"{country_name}: {mae}\")\n",
    "        models.append(model)\n",
    "        maes.append(mae)"
   ]
  },
  {
   "cell_type": "markdown",
   "metadata": {},
   "source": [
    "We lost kosovo and south sudan"
   ]
  },
  {
   "cell_type": "code",
   "execution_count": 14,
   "metadata": {},
   "outputs": [],
   "source": [
    "def manual_map(code):\n",
    "    return MANUAL_MAP[code] if code in MANUAL_MAP.keys() else np.nan\n",
    "\n",
    "def map_plot_results(maes):\n",
    "    results_df = pd.DataFrame({\"name\": list(countries_df[\"names\"]), \"code\": list(countries_df[\"abbrevs\"]), \"mae\": maes})\n",
    "    print(results_df.shape)\n",
    "    results_df[\"num\"] = results_df[\"code\"].apply(manual_map)\n",
    "    codes_df = pd.read_csv(\"../data/gcb/conversion/codes.csv\")\n",
    "    merged_alpha = results_df.merge(codes_df, how=\"inner\", left_on=\"code\", right_on=\"Alpha-2 code\")\n",
    "    print(merged_alpha.shape)\n",
    "    merged_num = results_df.merge(codes_df, how=\"inner\", left_on=\"num\", right_on=\"Numeric code\")\n",
    "    print(merged_num.shape)\n",
    "\n",
    "    final = pd.concat([merged_alpha, merged_num])\n",
    "    print(final.shape)\n",
    "\n",
    "    print(results_df[~results_df[\"name\"].isin(final[\"name\"])])\n",
    "\n",
    "    fig=px.choropleth(final, locations=\"Alpha-3 code\", color=\"mae\", hover_name=\"English short name lower case\")\n",
    "    fig.show()"
   ]
  },
  {
   "cell_type": "code",
   "execution_count": 55,
   "metadata": {},
   "outputs": [
    {
     "data": {
      "application/vnd.plotly.v1+json": {
       "config": {
        "plotlyServerURL": "https://plot.ly"
       },
       "data": [
        {
         "coloraxis": "coloraxis",
         "geo": "geo",
         "hovertemplate": "<b>%{hovertext}</b><br><br>Alpha-3 code=%{location}<br>mae=%{z}<extra></extra>",
         "hovertext": [
          "Fiji",
          "Tanzania, United Republic of",
          "Samoa",
          "Canada",
          "United States",
          "Kazakhstan",
          "Uzbekistan",
          "Papua New Guinea",
          "Argentina",
          "Chile",
          "Somalia",
          "Kenya",
          "Sudan",
          "Chad",
          "Haiti",
          "Dominican Republic",
          "Bahamas",
          "Falkland Islands (Malvinas)",
          "Greenland",
          "French Southern Territories",
          "Timor-Leste",
          "South Africa",
          "Lesotho",
          "Mexico",
          "Uruguay",
          "Brazil",
          "Bolivia, Plurinational State of",
          "Peru",
          "Colombia",
          "Panama",
          "Costa Rica",
          "Nicaragua",
          "Honduras",
          "El Salvador",
          "Guatemala",
          "Belize",
          "Venezuela, Bolivarian Republic of",
          "Guyana",
          "Suriname",
          "Ecuador",
          "Puerto Rico",
          "Cuba",
          "Zimbabwe",
          "Botswana",
          "Senegal",
          "Mali",
          "Mauritania",
          "Benin",
          "Niger",
          "Nigeria",
          "Cameroon",
          "Togo",
          "Ghana",
          "Côte d'Ivoire",
          "Guinea",
          "Guinea-Bissau",
          "Liberia",
          "Sierra Leone",
          "Sierra Leone",
          "Burkina Faso",
          "Central African Republic",
          "Congo",
          "Gabon",
          "Equatorial Guinea",
          "Zambia",
          "Malawi",
          "Mozambique",
          "Spain",
          "Angola",
          "Burundi",
          "Iceland",
          "Iceland",
          "Lebanon",
          "Madagascar",
          "Gambia",
          "Tunisia",
          "Algeria",
          "United Arab Emirates",
          "Qatar",
          "Kuwait",
          "Oman",
          "Vanuatu",
          "Cambodia",
          "Thailand",
          "Lao People's Democratic Republic",
          "Myanmar",
          "Viet Nam",
          "Korea, Democratic People's Republic of",
          "Korea, Republic of",
          "Mongolia",
          "Bangladesh",
          "Bhutan",
          "Nepal",
          "Pakistan",
          "Afghanistan",
          "Tajikistan",
          "Kyrgyzstan",
          "Turkmenistan",
          "Belarus",
          "Ukraine",
          "Poland",
          "Hungary",
          "Moldova, Republic of",
          "Romania",
          "Lithuania",
          "Latvia",
          "Bulgaria",
          "Greece",
          "Turkey",
          "Albania",
          "Croatia",
          "Switzerland",
          "Netherlands",
          "New Caledonia",
          "Solomon Islands",
          "New Zealand",
          "Australia",
          "Sri Lanka",
          "China",
          "China",
          "Taiwan, Province of China",
          "Denmark",
          "United Kingdom",
          "Azerbaijan",
          "Georgia",
          "Philippines",
          "Malaysia",
          "Brunei Darussalam",
          "Slovakia",
          "Czech Republic",
          "Eritrea",
          "Paraguay",
          "Yemen",
          "Saudi Arabia",
          "Antarctica",
          "Cyprus",
          "Morocco",
          "Egypt",
          "Libyan Arab Jamahiriya",
          "Ethiopia",
          "Djibouti",
          "Uganda",
          "Rwanda",
          "Serbia",
          "Montenegro",
          "Trinidad and Tobago",
          "Indonesia",
          "Congo, the Democratic Republic of the",
          "Russian Federation",
          "Norway",
          "France",
          "Japan",
          "Japan",
          "Japan",
          "Namibia",
          "Palestinian Territory, Occupied",
          "Iraq",
          "India",
          "Iran, Islamic Republic of",
          "Syrian Arab Republic",
          "Armenia",
          "Sweden",
          "Australia",
          "Estonia",
          "Germany",
          "Luxembourg",
          "Belgium",
          "Portugal",
          "Spain",
          "Ireland",
          "Italy",
          "Slovenia",
          "Finland",
          "Bosnia and Herzegovina",
          "Macedonia, the former Yugoslav Republic of"
         ],
         "locations": [
          "FJI",
          "TZA",
          "WSM",
          "CAN",
          "USA",
          "KAZ",
          "UZB",
          "PNG",
          "ARG",
          "CHL",
          "SOM",
          "KEN",
          "SDN",
          "TCD",
          "HTI",
          "DOM",
          "BHS",
          "FLK",
          "GRL",
          "ATF",
          "TLS",
          "ZAF",
          "LSO",
          "MEX",
          "URY",
          "BRA",
          "BOL",
          "PER",
          "COL",
          "PAN",
          "CRI",
          "NIC",
          "HND",
          "SLV",
          "GTM",
          "BLZ",
          "VEN",
          "GUY",
          "SUR",
          "ECU",
          "PRI",
          "CUB",
          "ZWE",
          "BWA",
          "SEN",
          "MLI",
          "MRT",
          "BEN",
          "NER",
          "NGA",
          "CMR",
          "TGO",
          "GHA",
          "CIV",
          "GIN",
          "GNB",
          "LBR",
          "SLE",
          "SLE",
          "BFA",
          "CAF",
          "COG",
          "GAB",
          "GNQ",
          "ZMB",
          "MWI",
          "MOZ",
          "ESP",
          "AGO",
          "BDI",
          "ISL",
          "ISL",
          "LBN",
          "MDG",
          "GMB",
          "TUN",
          "DZA",
          "ARE",
          "QAT",
          "KWT",
          "OMN",
          "VUT",
          "KHM",
          "THA",
          "LAO",
          "MMR",
          "VNM",
          "PRK",
          "KOR",
          "MNG",
          "BGD",
          "BTN",
          "NPL",
          "PAK",
          "AFG",
          "TJK",
          "KGZ",
          "TKM",
          "BLR",
          "UKR",
          "POL",
          "HUN",
          "MDA",
          "ROU",
          "LTU",
          "LVA",
          "BGR",
          "GRC",
          "TUR",
          "ALB",
          "HRV",
          "CHE",
          "NLD",
          "NCL",
          "SLB",
          "NZL",
          "AUS",
          "LKA",
          "CHN",
          "CHN",
          "TWN",
          "DNK",
          "GBR",
          "AZE",
          "GEO",
          "PHL",
          "MYS",
          "BRN",
          "SVK",
          "CZE",
          "ERI",
          "PRY",
          "YEM",
          "SAU",
          "ATA",
          "CYP",
          "MAR",
          "EGY",
          "LBY",
          "ETH",
          "DJI",
          "UGA",
          "RWA",
          "SRB",
          "MNE",
          "TTO",
          "IDN",
          "COD",
          "RUS",
          "NOR",
          "FRA",
          "JPN",
          "JPN",
          "JPN",
          "NAM",
          "PSE",
          "IRQ",
          "IND",
          "IRN",
          "SYR",
          "ARM",
          "SWE",
          "AUS",
          "EST",
          "DEU",
          "LUX",
          "BEL",
          "PRT",
          "ESP",
          "IRL",
          "ITA",
          "SVN",
          "FIN",
          "BIH",
          "MKD"
         ],
         "name": "",
         "type": "choropleth",
         "z": [
          0.0006945133209228516,
          0.11322583258152008,
          4.435848186706316e-14,
          0.007898674346506596,
          0.03166184946894646,
          0.00505554024130106,
          0.0034026254434138536,
          0.009446265175938606,
          0.02587825432419777,
          0.05365749076008797,
          0.003999932669103146,
          0.021350150927901268,
          0.0037722184788435698,
          0.0019041928462684155,
          0.168892964720726,
          0.03669315576553345,
          0.0006989007233642042,
          1.7366366154866715e-19,
          4.7595399621513934e-8,
          0,
          0.006666526198387146,
          0.009950254112482071,
          0.043607939034700394,
          0.2337242066860199,
          0.01772516407072544,
          0.23421885073184967,
          0.08533409982919693,
          0.10230658203363419,
          0.10836301743984222,
          0.019335856661200523,
          0.03406773880124092,
          0.049376778304576874,
          0.06530608236789703,
          0.1433483213186264,
          0.08314727246761322,
          0.018185880035161972,
          0.030590539798140526,
          0.0157922375947237,
          0.001696964493021369,
          0.17595990002155304,
          0.04339225962758064,
          0.059562910348176956,
          0.03128373622894287,
          0.002681540558114648,
          0.0411263108253479,
          0.022245600819587708,
          0.0002964521700050682,
          0.23982390761375427,
          0.012874525040388107,
          0.2136783003807068,
          0.10295397788286209,
          0.1140170618891716,
          0.1113494262099266,
          0.1608056277036667,
          0.09655483812093735,
          0.04173470661044121,
          0.050629712641239166,
          0.05039641633629799,
          0.05039641633629799,
          0.006063333246856928,
          0.013505643233656883,
          0.05884036049246788,
          0.02798866294324398,
          0.021793821826577187,
          0.0816403478384018,
          0.06724916398525238,
          0.08104854077100754,
          0.010424462147057056,
          0.0897381603717804,
          0.1243428960442543,
          0.0060624899342656136,
          0.0060624899342656136,
          0.0013364996993914247,
          0.0857219249010086,
          0.1541907638311386,
          0.03058893419802189,
          0.0010306716430932283,
          0.0008012305479496717,
          0.0031519706826657057,
          0.0005231995601207018,
          0.0017691374523565173,
          0.07629485428333282,
          0.08088638633489609,
          0.0324418880045414,
          0.05417168140411377,
          0.06686212122440338,
          0.4578927457332611,
          0.005908172111958265,
          0.006603362038731575,
          0.012988226488232613,
          0.014913075603544712,
          0.11041861027479172,
          0.1549420952796936,
          0.028206320479512215,
          0.001403314876370132,
          0.005593677517026663,
          0.010854273103177547,
          0.0005043376586399972,
          0.03951396048069,
          0.07213880121707916,
          0.03968081623315811,
          0.045367322862148285,
          0.16517461836338043,
          0.10195384919643402,
          0.04568299651145935,
          0.01628728024661541,
          0.07773242890834808,
          0.39062240719795227,
          0.044553499668836594,
          0.08098328113555908,
          0.07124272733926773,
          0.04313364624977112,
          0.0257443655282259,
          0.008082435466349125,
          0.020382458344101906,
          0.14051711559295654,
          0.022728264331817627,
          0.02556879073381424,
          0.19920380413532257,
          0.19920380413532257,
          0.01961962878704071,
          0.02454976737499237,
          0.07678873091936111,
          0.1481979936361313,
          0.13074088096618652,
          0.007346519734710455,
          0.020353242754936218,
          0.00402564974501729,
          0.24423138797283173,
          0.14545755088329315,
          0.002731503453105688,
          0.20155486464500427,
          0.008792635053396225,
          0.003596642753109336,
          1,
          0.024303968995809555,
          0.04457329958677292,
          0.0067213308066129684,
          0.00022172436001710594,
          0.0835769921541214,
          0.00007399109745165333,
          0.039081376045942307,
          0.08891848474740982,
          0.034165751188993454,
          0.020024875178933144,
          0.0019424519268795848,
          0.09128442406654358,
          0.07600587606430054,
          0.029004765674471855,
          0.006762273143976927,
          0.031856950372457504,
          0.025391146540641785,
          0.025391146540641785,
          0.025391146540641785,
          0.0033274320885539055,
          0.006544347386807203,
          0.055895742028951645,
          0.5796884298324585,
          0.007541493978351355,
          0.0027905788738280535,
          0.07136669754981995,
          0.00426696240901947,
          0.044497471302747726,
          0.021663200110197067,
          0.007109071593731642,
          0.00007432526763295755,
          0.012854264117777348,
          0.10593776404857635,
          0.07818455994129181,
          0.04025563597679138,
          0.1356721818447113,
          0.003141318680718541,
          0.0046478635631501675,
          0.012000193819403648,
          0.009820315055549145
         ]
        }
       ],
       "layout": {
        "coloraxis": {
         "colorbar": {
          "title": {
           "text": "mae"
          }
         },
         "colorscale": [
          [
           0,
           "#0d0887"
          ],
          [
           0.1111111111111111,
           "#46039f"
          ],
          [
           0.2222222222222222,
           "#7201a8"
          ],
          [
           0.3333333333333333,
           "#9c179e"
          ],
          [
           0.4444444444444444,
           "#bd3786"
          ],
          [
           0.5555555555555556,
           "#d8576b"
          ],
          [
           0.6666666666666666,
           "#ed7953"
          ],
          [
           0.7777777777777778,
           "#fb9f3a"
          ],
          [
           0.8888888888888888,
           "#fdca26"
          ],
          [
           1,
           "#f0f921"
          ]
         ]
        },
        "geo": {
         "center": {},
         "domain": {
          "x": [
           0,
           1
          ],
          "y": [
           0,
           1
          ]
         }
        },
        "legend": {
         "tracegroupgap": 0
        },
        "margin": {
         "t": 60
        },
        "template": {
         "data": {
          "bar": [
           {
            "error_x": {
             "color": "#2a3f5f"
            },
            "error_y": {
             "color": "#2a3f5f"
            },
            "marker": {
             "line": {
              "color": "#E5ECF6",
              "width": 0.5
             },
             "pattern": {
              "fillmode": "overlay",
              "size": 10,
              "solidity": 0.2
             }
            },
            "type": "bar"
           }
          ],
          "barpolar": [
           {
            "marker": {
             "line": {
              "color": "#E5ECF6",
              "width": 0.5
             },
             "pattern": {
              "fillmode": "overlay",
              "size": 10,
              "solidity": 0.2
             }
            },
            "type": "barpolar"
           }
          ],
          "carpet": [
           {
            "aaxis": {
             "endlinecolor": "#2a3f5f",
             "gridcolor": "white",
             "linecolor": "white",
             "minorgridcolor": "white",
             "startlinecolor": "#2a3f5f"
            },
            "baxis": {
             "endlinecolor": "#2a3f5f",
             "gridcolor": "white",
             "linecolor": "white",
             "minorgridcolor": "white",
             "startlinecolor": "#2a3f5f"
            },
            "type": "carpet"
           }
          ],
          "choropleth": [
           {
            "colorbar": {
             "outlinewidth": 0,
             "ticks": ""
            },
            "type": "choropleth"
           }
          ],
          "contour": [
           {
            "colorbar": {
             "outlinewidth": 0,
             "ticks": ""
            },
            "colorscale": [
             [
              0,
              "#0d0887"
             ],
             [
              0.1111111111111111,
              "#46039f"
             ],
             [
              0.2222222222222222,
              "#7201a8"
             ],
             [
              0.3333333333333333,
              "#9c179e"
             ],
             [
              0.4444444444444444,
              "#bd3786"
             ],
             [
              0.5555555555555556,
              "#d8576b"
             ],
             [
              0.6666666666666666,
              "#ed7953"
             ],
             [
              0.7777777777777778,
              "#fb9f3a"
             ],
             [
              0.8888888888888888,
              "#fdca26"
             ],
             [
              1,
              "#f0f921"
             ]
            ],
            "type": "contour"
           }
          ],
          "contourcarpet": [
           {
            "colorbar": {
             "outlinewidth": 0,
             "ticks": ""
            },
            "type": "contourcarpet"
           }
          ],
          "heatmap": [
           {
            "colorbar": {
             "outlinewidth": 0,
             "ticks": ""
            },
            "colorscale": [
             [
              0,
              "#0d0887"
             ],
             [
              0.1111111111111111,
              "#46039f"
             ],
             [
              0.2222222222222222,
              "#7201a8"
             ],
             [
              0.3333333333333333,
              "#9c179e"
             ],
             [
              0.4444444444444444,
              "#bd3786"
             ],
             [
              0.5555555555555556,
              "#d8576b"
             ],
             [
              0.6666666666666666,
              "#ed7953"
             ],
             [
              0.7777777777777778,
              "#fb9f3a"
             ],
             [
              0.8888888888888888,
              "#fdca26"
             ],
             [
              1,
              "#f0f921"
             ]
            ],
            "type": "heatmap"
           }
          ],
          "heatmapgl": [
           {
            "colorbar": {
             "outlinewidth": 0,
             "ticks": ""
            },
            "colorscale": [
             [
              0,
              "#0d0887"
             ],
             [
              0.1111111111111111,
              "#46039f"
             ],
             [
              0.2222222222222222,
              "#7201a8"
             ],
             [
              0.3333333333333333,
              "#9c179e"
             ],
             [
              0.4444444444444444,
              "#bd3786"
             ],
             [
              0.5555555555555556,
              "#d8576b"
             ],
             [
              0.6666666666666666,
              "#ed7953"
             ],
             [
              0.7777777777777778,
              "#fb9f3a"
             ],
             [
              0.8888888888888888,
              "#fdca26"
             ],
             [
              1,
              "#f0f921"
             ]
            ],
            "type": "heatmapgl"
           }
          ],
          "histogram": [
           {
            "marker": {
             "pattern": {
              "fillmode": "overlay",
              "size": 10,
              "solidity": 0.2
             }
            },
            "type": "histogram"
           }
          ],
          "histogram2d": [
           {
            "colorbar": {
             "outlinewidth": 0,
             "ticks": ""
            },
            "colorscale": [
             [
              0,
              "#0d0887"
             ],
             [
              0.1111111111111111,
              "#46039f"
             ],
             [
              0.2222222222222222,
              "#7201a8"
             ],
             [
              0.3333333333333333,
              "#9c179e"
             ],
             [
              0.4444444444444444,
              "#bd3786"
             ],
             [
              0.5555555555555556,
              "#d8576b"
             ],
             [
              0.6666666666666666,
              "#ed7953"
             ],
             [
              0.7777777777777778,
              "#fb9f3a"
             ],
             [
              0.8888888888888888,
              "#fdca26"
             ],
             [
              1,
              "#f0f921"
             ]
            ],
            "type": "histogram2d"
           }
          ],
          "histogram2dcontour": [
           {
            "colorbar": {
             "outlinewidth": 0,
             "ticks": ""
            },
            "colorscale": [
             [
              0,
              "#0d0887"
             ],
             [
              0.1111111111111111,
              "#46039f"
             ],
             [
              0.2222222222222222,
              "#7201a8"
             ],
             [
              0.3333333333333333,
              "#9c179e"
             ],
             [
              0.4444444444444444,
              "#bd3786"
             ],
             [
              0.5555555555555556,
              "#d8576b"
             ],
             [
              0.6666666666666666,
              "#ed7953"
             ],
             [
              0.7777777777777778,
              "#fb9f3a"
             ],
             [
              0.8888888888888888,
              "#fdca26"
             ],
             [
              1,
              "#f0f921"
             ]
            ],
            "type": "histogram2dcontour"
           }
          ],
          "mesh3d": [
           {
            "colorbar": {
             "outlinewidth": 0,
             "ticks": ""
            },
            "type": "mesh3d"
           }
          ],
          "parcoords": [
           {
            "line": {
             "colorbar": {
              "outlinewidth": 0,
              "ticks": ""
             }
            },
            "type": "parcoords"
           }
          ],
          "pie": [
           {
            "automargin": true,
            "type": "pie"
           }
          ],
          "scatter": [
           {
            "fillpattern": {
             "fillmode": "overlay",
             "size": 10,
             "solidity": 0.2
            },
            "type": "scatter"
           }
          ],
          "scatter3d": [
           {
            "line": {
             "colorbar": {
              "outlinewidth": 0,
              "ticks": ""
             }
            },
            "marker": {
             "colorbar": {
              "outlinewidth": 0,
              "ticks": ""
             }
            },
            "type": "scatter3d"
           }
          ],
          "scattercarpet": [
           {
            "marker": {
             "colorbar": {
              "outlinewidth": 0,
              "ticks": ""
             }
            },
            "type": "scattercarpet"
           }
          ],
          "scattergeo": [
           {
            "marker": {
             "colorbar": {
              "outlinewidth": 0,
              "ticks": ""
             }
            },
            "type": "scattergeo"
           }
          ],
          "scattergl": [
           {
            "marker": {
             "colorbar": {
              "outlinewidth": 0,
              "ticks": ""
             }
            },
            "type": "scattergl"
           }
          ],
          "scattermapbox": [
           {
            "marker": {
             "colorbar": {
              "outlinewidth": 0,
              "ticks": ""
             }
            },
            "type": "scattermapbox"
           }
          ],
          "scatterpolar": [
           {
            "marker": {
             "colorbar": {
              "outlinewidth": 0,
              "ticks": ""
             }
            },
            "type": "scatterpolar"
           }
          ],
          "scatterpolargl": [
           {
            "marker": {
             "colorbar": {
              "outlinewidth": 0,
              "ticks": ""
             }
            },
            "type": "scatterpolargl"
           }
          ],
          "scatterternary": [
           {
            "marker": {
             "colorbar": {
              "outlinewidth": 0,
              "ticks": ""
             }
            },
            "type": "scatterternary"
           }
          ],
          "surface": [
           {
            "colorbar": {
             "outlinewidth": 0,
             "ticks": ""
            },
            "colorscale": [
             [
              0,
              "#0d0887"
             ],
             [
              0.1111111111111111,
              "#46039f"
             ],
             [
              0.2222222222222222,
              "#7201a8"
             ],
             [
              0.3333333333333333,
              "#9c179e"
             ],
             [
              0.4444444444444444,
              "#bd3786"
             ],
             [
              0.5555555555555556,
              "#d8576b"
             ],
             [
              0.6666666666666666,
              "#ed7953"
             ],
             [
              0.7777777777777778,
              "#fb9f3a"
             ],
             [
              0.8888888888888888,
              "#fdca26"
             ],
             [
              1,
              "#f0f921"
             ]
            ],
            "type": "surface"
           }
          ],
          "table": [
           {
            "cells": {
             "fill": {
              "color": "#EBF0F8"
             },
             "line": {
              "color": "white"
             }
            },
            "header": {
             "fill": {
              "color": "#C8D4E3"
             },
             "line": {
              "color": "white"
             }
            },
            "type": "table"
           }
          ]
         },
         "layout": {
          "annotationdefaults": {
           "arrowcolor": "#2a3f5f",
           "arrowhead": 0,
           "arrowwidth": 1
          },
          "autotypenumbers": "strict",
          "coloraxis": {
           "colorbar": {
            "outlinewidth": 0,
            "ticks": ""
           }
          },
          "colorscale": {
           "diverging": [
            [
             0,
             "#8e0152"
            ],
            [
             0.1,
             "#c51b7d"
            ],
            [
             0.2,
             "#de77ae"
            ],
            [
             0.3,
             "#f1b6da"
            ],
            [
             0.4,
             "#fde0ef"
            ],
            [
             0.5,
             "#f7f7f7"
            ],
            [
             0.6,
             "#e6f5d0"
            ],
            [
             0.7,
             "#b8e186"
            ],
            [
             0.8,
             "#7fbc41"
            ],
            [
             0.9,
             "#4d9221"
            ],
            [
             1,
             "#276419"
            ]
           ],
           "sequential": [
            [
             0,
             "#0d0887"
            ],
            [
             0.1111111111111111,
             "#46039f"
            ],
            [
             0.2222222222222222,
             "#7201a8"
            ],
            [
             0.3333333333333333,
             "#9c179e"
            ],
            [
             0.4444444444444444,
             "#bd3786"
            ],
            [
             0.5555555555555556,
             "#d8576b"
            ],
            [
             0.6666666666666666,
             "#ed7953"
            ],
            [
             0.7777777777777778,
             "#fb9f3a"
            ],
            [
             0.8888888888888888,
             "#fdca26"
            ],
            [
             1,
             "#f0f921"
            ]
           ],
           "sequentialminus": [
            [
             0,
             "#0d0887"
            ],
            [
             0.1111111111111111,
             "#46039f"
            ],
            [
             0.2222222222222222,
             "#7201a8"
            ],
            [
             0.3333333333333333,
             "#9c179e"
            ],
            [
             0.4444444444444444,
             "#bd3786"
            ],
            [
             0.5555555555555556,
             "#d8576b"
            ],
            [
             0.6666666666666666,
             "#ed7953"
            ],
            [
             0.7777777777777778,
             "#fb9f3a"
            ],
            [
             0.8888888888888888,
             "#fdca26"
            ],
            [
             1,
             "#f0f921"
            ]
           ]
          },
          "colorway": [
           "#636efa",
           "#EF553B",
           "#00cc96",
           "#ab63fa",
           "#FFA15A",
           "#19d3f3",
           "#FF6692",
           "#B6E880",
           "#FF97FF",
           "#FECB52"
          ],
          "font": {
           "color": "#2a3f5f"
          },
          "geo": {
           "bgcolor": "white",
           "lakecolor": "white",
           "landcolor": "#E5ECF6",
           "showlakes": true,
           "showland": true,
           "subunitcolor": "white"
          },
          "hoverlabel": {
           "align": "left"
          },
          "hovermode": "closest",
          "mapbox": {
           "style": "light"
          },
          "paper_bgcolor": "white",
          "plot_bgcolor": "#E5ECF6",
          "polar": {
           "angularaxis": {
            "gridcolor": "white",
            "linecolor": "white",
            "ticks": ""
           },
           "bgcolor": "#E5ECF6",
           "radialaxis": {
            "gridcolor": "white",
            "linecolor": "white",
            "ticks": ""
           }
          },
          "scene": {
           "xaxis": {
            "backgroundcolor": "#E5ECF6",
            "gridcolor": "white",
            "gridwidth": 2,
            "linecolor": "white",
            "showbackground": true,
            "ticks": "",
            "zerolinecolor": "white"
           },
           "yaxis": {
            "backgroundcolor": "#E5ECF6",
            "gridcolor": "white",
            "gridwidth": 2,
            "linecolor": "white",
            "showbackground": true,
            "ticks": "",
            "zerolinecolor": "white"
           },
           "zaxis": {
            "backgroundcolor": "#E5ECF6",
            "gridcolor": "white",
            "gridwidth": 2,
            "linecolor": "white",
            "showbackground": true,
            "ticks": "",
            "zerolinecolor": "white"
           }
          },
          "shapedefaults": {
           "line": {
            "color": "#2a3f5f"
           }
          },
          "ternary": {
           "aaxis": {
            "gridcolor": "white",
            "linecolor": "white",
            "ticks": ""
           },
           "baxis": {
            "gridcolor": "white",
            "linecolor": "white",
            "ticks": ""
           },
           "bgcolor": "#E5ECF6",
           "caxis": {
            "gridcolor": "white",
            "linecolor": "white",
            "ticks": ""
           }
          },
          "title": {
           "x": 0.05
          },
          "xaxis": {
           "automargin": true,
           "gridcolor": "white",
           "linecolor": "white",
           "ticks": "",
           "title": {
            "standoff": 15
           },
           "zerolinecolor": "white",
           "zerolinewidth": 2
          },
          "yaxis": {
           "automargin": true,
           "gridcolor": "white",
           "linecolor": "white",
           "ticks": "",
           "title": {
            "standoff": 15
           },
           "zerolinecolor": "white",
           "zerolinewidth": 2
          }
         }
        }
       }
      }
     },
     "metadata": {},
     "output_type": "display_data"
    },
    {
     "name": "stderr",
     "output_type": "stream",
     "text": [
      "Bad pipe message: %s [b'\\x99y\\xd9\\xe1\\xad\\x02\\x9f\\xf7>\\xdc\\xb0:\\xa6\\x92\\xb4mT\\xe7\\x00\\x01p\\x00\\x01\\x00\\x02\\x00\\x03\\x00\\x04\\x00\\x05']\n",
      "Bad pipe message: %s [b\".e\\x8a\\xb4K\\xdabb%\\xb6\\xf3\\xbd\\x83=z'\\xa0\\x8a\\x00\\x01p\\x00\\x01\\x00\\x02\\x00\\x03\\x00\\x04\\x00\\x05\\x00\\x06\\x00\\x07\\x00\\x08\\x00\\t\\x00\\n\\x00\\x0b\\x00\\x0c\\x00\\r\\x00\\x0e\\x00\\x0f\\x00\\x10\\x00\\x11\\x00\\x12\\x00\\x13\\x00\\x14\\x00\\x15\\x00\\x16\\x00\\x17\\x00\\x18\\x00\\x19\\x00\\x1a\\x00\\x1b\\x00/\\x000\\x001\\x002\\x003\\x004\\x005\\x006\\x007\\x008\\x009\\x00:\\x00;\\x00<\\x00=\\x00>\\x00?\\x00@\\x00g\\x00h\\x00i\\x00j\\x00k\\x00l\\x00m\\x00A\\x00B\\x00C\\x00D\\x00E\\x00F\\x00\\x84\\x00\\x85\\x00\\x86\\x00\\x87\\x00\\x88\\x00\\x89\\x00\\xba\\x00\\xbb\\x00\\xbc\\x00\\xbd\\x00\\xbe\\x00\\xbf\\x00\\xc0\\x00\\xc1\\x00\\xc2\\x00\\xc3\\x00\\xc4\\x00\\xc5\\x00\\x9c\\x00\\x9d\\x00\\x9e\\x00\\x9f\\x00\\xa0\\x00\\xa1\\x00\\xa2\\x00\\xa3\\x00\\xa4\\x00\\xa5\\x00\\xa6\\x00\\xa7\\xc0\\x01\\xc0\\x02\\xc0\\x03\\xc0\\x04\\xc0\\x05\\xc0\\x06\\xc0\\x07\\xc0\\x08\\xc0\\t\\xc0\\n\\xc0\\x0b\\xc0\\x0c\\xc0\\r\\xc0\\x0e\\xc0\\x0f\\xc0\\x10\\xc0\\x11\\xc0\\x12\\xc0\\x13\\xc0\\x14\\xc0\\x15\\xc0\\x16\\xc0\\x17\\xc0\"]\n",
      "Bad pipe message: %s [b'\\xc5\\xda\\x910\\xfb\\x93\\x17\\xc3Q4^\\xecl\\x8b\\xe5j\\x06\\xe7\\x00\\x01p\\x00\\x01\\x00\\x02\\x00\\x03\\x00\\x04\\x00\\x05\\x00\\x06\\x00\\x07\\x00\\x08\\x00\\t\\x00\\n\\x00\\x0b\\x00\\x0c\\x00\\r\\x00\\x0e\\x00\\x0f\\x00\\x10\\x00\\x11\\x00\\x12\\x00\\x13\\x00\\x14\\x00\\x15\\x00\\x16\\x00\\x17\\x00\\x18\\x00\\x19\\x00\\x1a\\x00\\x1b\\x00/\\x000\\x001\\x002\\x003\\x004\\x005\\x006\\x007\\x008\\x009\\x00:\\x00;\\x00<\\x00=\\x00>\\x00?\\x00@\\x00g\\x00h\\x00i\\x00j\\x00k\\x00l\\x00m\\x00A\\x00B\\x00C\\x00D\\x00E\\x00F\\x00\\x84\\x00\\x85\\x00\\x86\\x00\\x87\\x00\\x88\\x00\\x89\\x00\\xba\\x00\\xbb\\x00\\xbc\\x00\\xbd\\x00\\xbe\\x00\\xbf\\x00\\xc0\\x00\\xc1\\x00\\xc2\\x00\\xc3\\x00\\xc4\\x00\\xc5\\x00\\x9c\\x00\\x9d\\x00\\x9e\\x00\\x9f\\x00\\xa0\\x00\\xa1\\x00\\xa2\\x00\\xa3\\x00\\xa4\\x00\\xa5\\x00\\xa6\\x00\\xa7\\xc0\\x01\\xc0\\x02\\xc0\\x03\\xc0\\x04\\xc0\\x05\\xc0\\x06\\xc0\\x07\\xc0\\x08\\xc0\\t\\xc0\\n\\xc0\\x0b\\xc0\\x0c\\xc0\\r\\xc0\\x0e\\xc0\\x0f\\xc0\\x10\\xc0\\x11\\xc0\\x12\\xc0\\x13\\xc0\\x14\\xc0\\x15\\xc0\\x16\\xc0\\x17\\xc0\\x18\\xc0', b\"#\\xc0$\\xc0%\\xc0&\\xc0'\\xc0(\\xc0)\\xc0*\\xc0+\\xc0,\\xc0-\\xc0.\\xc0\"]\n",
      "Bad pipe message: %s [b'1\\xc00\\xc02\\xc0s\\xc0r\\xc0t\\xc0u\\xc0v\\xc0w\\xc0x\\xc0z\\xc0y\\xc0{\\xc0|\\xc0}\\xc0~\\xc0\\x7f\\xc0\\x80\\xc0\\x81\\xc0\\x82\\xc0\\x83\\xc0\\x84\\xc0\\x85\\xc0']\n",
      "Bad pipe message: %s [b\"\\x19\\xc0#\\xc0$\\xc0%\\xc0&\\xc0'\\xc0(\\xc0)\\xc0*\\xc0+\\xc0,\\xc0-\"]\n"
     ]
    }
   ],
   "source": [
    "map_plot_results(maes)"
   ]
  },
  {
   "cell_type": "markdown",
   "metadata": {},
   "source": [
    "### One big model"
   ]
  },
  {
   "cell_type": "code",
   "execution_count": 16,
   "metadata": {},
   "outputs": [
    {
     "name": "stdout",
     "output_type": "stream",
     "text": [
      "Overall mae: 0.07237880676984787\n",
      "Fiji: 0.25998103618621826\n",
      "Tanzania: 0.11994694918394089\n",
      "W. Sahara: 0.002217766596004367\n",
      "Canada: 0.01196061260998249\n",
      "United States of America: 0.03655775263905525\n",
      "Kazakhstan: 0.0142451710999012\n",
      "Uzbekistan: 0.026681696996092796\n",
      "Papua New Guinea: 0.02410385012626648\n",
      "Indonesia: 0.34527745842933655\n",
      "Argentina: 0.0327833890914917\n",
      "Chile: 0.059066932648420334\n",
      "Dem. Rep. Congo: 0.21269537508487701\n",
      "Somalia: 0.00844794325530529\n",
      "Kenya: 0.053222499787807465\n",
      "Sudan: 0.04614444449543953\n",
      "Chad: 0.04520940035581589\n",
      "Haiti: 0.22964303195476532\n",
      "Dominican Rep.: 0.062421295791864395\n",
      "Russia: 0.04026629775762558\n",
      "Bahamas: 0.003052665153518319\n",
      "Falkland Is.: 0.002015135483816266\n",
      "Norway: 0.019621944054961205\n",
      "Greenland: 0.0021683198865503073\n",
      "Fr. S. Antarctic Lands: 0.002146318554878235\n",
      "Timor-Leste: 0.33240267634391785\n",
      "South Africa: 0.014962580986320972\n",
      "Lesotho: 0.4382367730140686\n",
      "Mexico: 0.23798789083957672\n",
      "Uruguay: 0.30537712574005127\n",
      "Brazil: 0.2265893816947937\n",
      "Bolivia: 0.06574037671089172\n",
      "Peru: 0.07425758987665176\n",
      "Colombia: 0.24514879286289215\n",
      "Panama: 0.09228704869747162\n",
      "Costa Rica: 0.20133647322654724\n",
      "Nicaragua: 0.19021248817443848\n",
      "Honduras: 0.2663206160068512\n",
      "El Salvador: 0.15017066895961761\n",
      "Guatemala: 0.27901318669319153\n",
      "Belize: 0.33183780312538147\n",
      "Venezuela: 0.04149949923157692\n",
      "Guyana: 0.020897021517157555\n",
      "Suriname: 0.01806899532675743\n",
      "France: 0.055768515914678574\n",
      "Ecuador: 0.19918806850910187\n",
      "Puerto Rico: 0.09658095985651016\n",
      "Jamaica: 0.03550410270690918\n",
      "Cuba: 0.14941947162151337\n",
      "Zimbabwe: 0.029914304614067078\n",
      "Botswana: 0.010855922475457191\n",
      "Namibia: 0.005799848586320877\n",
      "Senegal: 0.03409455716609955\n",
      "Mali: 0.04281676933169365\n",
      "Mauritania: 0.017401980236172676\n",
      "Benin: 0.26295220851898193\n",
      "Niger: 0.07927418500185013\n",
      "Nigeria: 0.10384754091501236\n",
      "Cameroon: 0.07386922091245651\n",
      "Togo: 0.14707334339618683\n",
      "Ghana: 0.08209837973117828\n",
      "Côte d'Ivoire: 0.26589441299438477\n",
      "Guinea: 0.1184302344918251\n",
      "Guinea-Bissau: 0.14600177109241486\n",
      "Liberia: 0.11950912326574326\n",
      "Sierra Leone: 0.05070226639509201\n",
      "Burkina Faso: 0.03613663092255592\n",
      "Central African Rep.: 0.017964860424399376\n",
      "Congo: 0.11664029210805893\n",
      "Gabon: 0.13547292351722717\n",
      "Eq. Guinea: 0.08257972449064255\n",
      "Zambia: 0.09419068694114685\n",
      "Malawi: 0.05778200179338455\n",
      "Mozambique: 0.0537843257188797\n",
      "eSwatini: 0.010283345356583595\n",
      "Angola: 0.09478632360696793\n",
      "Burundi: 0.3279861509799957\n",
      "Israel: 0.05767844617366791\n",
      "Lebanon: 0.08173586428165436\n",
      "Madagascar: 0.10753609240055084\n",
      "Palestine: 0.22813211381435394\n",
      "Gambia: 0.05740102007985115\n",
      "Tunisia: 0.2559060752391815\n",
      "Algeria: 0.011606722138822079\n",
      "Jamaica: 0.03550410270690918\n",
      "United Arab Emirates: 0.03289555385708809\n",
      "Qatar: 0.07035517692565918\n",
      "Kuwait: 0.08859991282224655\n",
      "Iraq: 0.18513840436935425\n",
      "Oman: 0.020900221541523933\n",
      "Vanuatu: 0.12243451923131943\n",
      "Cambodia: 0.15962006151676178\n",
      "Thailand: 0.14832864701747894\n",
      "Laos: 0.13221117854118347\n",
      "Myanmar: 0.10635514557361603\n",
      "Vietnam: 0.5611446499824524\n",
      "North Korea: 0.016557767987251282\n",
      "South Korea: 0.010269034653902054\n",
      "Mongolia: 0.05192597955465317\n",
      "India: 0.0867801159620285\n",
      "Bangladesh: 0.0649617463350296\n",
      "Bhutan: 0.18221844732761383\n",
      "Nepal: 0.15358051657676697\n",
      "Pakistan: 0.1330474317073822\n",
      "Afghanistan: 0.01859182119369507\n",
      "Tajikistan: 0.05980862304568291\n",
      "Kyrgyzstan: 0.020504122599959373\n",
      "Turkmenistan: 0.004244324751198292\n",
      "Iran: 0.02475610002875328\n",
      "Syria: 0.01843000203371048\n",
      "Armenia: 0.05857326090335846\n",
      "Sweden: 0.009037206880748272\n",
      "Belarus: 0.17882391810417175\n",
      "Ukraine: 0.08440186828374863\n",
      "Poland: 0.07049469649791718\n",
      "Austria: 0.0766143947839737\n",
      "Hungary: 0.07680077850818634\n",
      "Moldova: 0.29942527413368225\n",
      "Romania: 0.18996962904930115\n",
      "Lithuania: 0.2996794879436493\n",
      "Latvia: 0.154774010181427\n",
      "Estonia: 0.0759260430932045\n",
      "Germany: 0.08015231788158417\n",
      "Bulgaria: 0.1666993796825409\n",
      "Greece: 0.5036654472351074\n",
      "Turkey: 0.03891901671886444\n",
      "Albania: 0.08093605935573578\n",
      "Croatia: 0.4535787105560303\n",
      "Switzerland: 0.03687657415866852\n",
      "Luxembourg: 0.045459456741809845\n",
      "Belgium: 0.23767389357089996\n",
      "Netherlands: 0.1651659905910492\n",
      "Portugal: 0.14989694952964783\n",
      "Spain: 0.12514163553714752\n",
      "Ireland: 0.5843956470489502\n",
      "New Caledonia: 0.006912948098033667\n",
      "Solomon Is.: 0.21417903900146484\n",
      "New Zealand: 0.17859962582588196\n",
      "Australia: 0.04923049733042717\n",
      "Sri Lanka: 0.2749406099319458\n",
      "China: 0.1579872965812683\n",
      "Taiwan: 0.10457219183444977\n",
      "Italy: 0.1954393833875656\n",
      "Denmark: 0.10844004154205322\n",
      "United Kingdom: 0.31904447078704834\n",
      "Israel: 0.05767844617366791\n",
      "Azerbaijan: 0.1709265112876892\n",
      "Georgia: 0.12609335780143738\n",
      "Philippines: 0.09521990269422531\n",
      "Malaysia: 0.1395542174577713\n",
      "Brunei: 0.12277442216873169\n",
      "Slovenia: 0.07495962828397751\n",
      "Finland: 0.011701511219143867\n",
      "Slovakia: 0.08904128521680832\n",
      "Czechia: 0.6125851273536682\n",
      "Eritrea: 0.037135783582925797\n",
      "Jamaica: 0.03550410270690918\n",
      "Paraguay: 0.20553065836429596\n",
      "Yemen: 0.02048868127167225\n",
      "Saudi Arabia: 0.03826325014233589\n",
      "Antarctica has no data\n",
      "China: 0.1579872965812683\n",
      "Cyprus: 0.3125675618648529\n",
      "Morocco: 0.1144525483250618\n",
      "Egypt: 0.025310546159744263\n",
      "Libya: 0.008052196353673935\n",
      "Ethiopia: 0.12721894681453705\n",
      "Djibouti: 0.008653134107589722\n",
      "Sierra Leone: 0.05070226639509201\n",
      "Uganda: 0.06384438276290894\n",
      "Rwanda: 0.1484285593032837\n",
      "Bosnia and Herz.: 0.14439131319522858\n",
      "North Macedonia: 0.10984142124652863\n",
      "Serbia: 0.11241506040096283\n",
      "Montenegro: 0.4421103298664093\n",
      "Kosovo: 0.1517351269721985\n",
      "Trinidad and Tobago: 0.045103371143341064\n",
      "S. Sudan: 0.13707353174686432\n"
     ]
    }
   ],
   "source": [
    "big_data = create_country_dataset(raw, country_mask, list(countries_df[\"abbrevs\"]), 1982, 2011)\n",
    "big, big_mae = train_country_model(big_data[\"Train\"][\"X\"], big_data[\"Train\"][\"y\"], big_data[\"Test\"][\"X\"], big_data[\"Test\"][\"y\"])\n",
    "print(f\"Overall mae: {big_mae}\")\n",
    "big_maes = []\n",
    "for country in list(countries_df[\"abbrevs\"]):\n",
    "    country_name = countries_df[countries_df[\"abbrevs\"] == country][\"names\"].iloc[0]\n",
    "    data = create_country_dataset(raw, country_mask, [country], 1982, 2011)\n",
    "    X_train = data[\"Train\"][\"X\"]\n",
    "    y_train = data[\"Train\"][\"y\"]\n",
    "    X_test = data[\"Test\"][\"X\"]\n",
    "    y_test = data[\"Test\"][\"y\"]\n",
    "\n",
    "    if len(X_test) == 0:\n",
    "        print(f\"{country_name} has no data\")\n",
    "        big_maes.append(1)\n",
    "    else:\n",
    "        mae = mean_absolute_error(y_test, big.predict(X_test))\n",
    "        print(f\"{country_name}: {mae}\")\n",
    "        big_maes.append(mae)\n"
   ]
  },
  {
   "cell_type": "code",
   "execution_count": 17,
   "metadata": {},
   "outputs": [
    {
     "name": "stdout",
     "output_type": "stream",
     "text": [
      "(177, 3)\n",
      "(146, 9)\n",
      "(29, 9)\n",
      "(175, 9)\n",
      "         name code       mae    num\n",
      "174    Kosovo   KO  0.151735  383.0\n",
      "176  S. Sudan   SS  0.137074  728.0\n"
     ]
    },
    {
     "data": {
      "application/vnd.plotly.v1+json": {
       "config": {
        "plotlyServerURL": "https://plot.ly"
       },
       "data": [
        {
         "coloraxis": "coloraxis",
         "geo": "geo",
         "hovertemplate": "<b>%{hovertext}</b><br><br>Alpha-3 code=%{location}<br>mae=%{z}<extra></extra>",
         "hovertext": [
          "Fiji",
          "Tanzania, United Republic of",
          "Samoa",
          "Canada",
          "United States",
          "Kazakhstan",
          "Uzbekistan",
          "Papua New Guinea",
          "Argentina",
          "Chile",
          "Somalia",
          "Kenya",
          "Sudan",
          "Chad",
          "Haiti",
          "Dominican Republic",
          "Bahamas",
          "Falkland Islands (Malvinas)",
          "Greenland",
          "French Southern Territories",
          "Timor-Leste",
          "South Africa",
          "Lesotho",
          "Mexico",
          "Uruguay",
          "Brazil",
          "Bolivia, Plurinational State of",
          "Peru",
          "Colombia",
          "Panama",
          "Costa Rica",
          "Nicaragua",
          "Honduras",
          "El Salvador",
          "Guatemala",
          "Belize",
          "Venezuela, Bolivarian Republic of",
          "Guyana",
          "Suriname",
          "Ecuador",
          "Puerto Rico",
          "Cuba",
          "Zimbabwe",
          "Botswana",
          "Senegal",
          "Mali",
          "Mauritania",
          "Benin",
          "Niger",
          "Nigeria",
          "Cameroon",
          "Togo",
          "Ghana",
          "Côte d'Ivoire",
          "Guinea",
          "Guinea-Bissau",
          "Liberia",
          "Sierra Leone",
          "Sierra Leone",
          "Burkina Faso",
          "Central African Republic",
          "Congo",
          "Gabon",
          "Equatorial Guinea",
          "Zambia",
          "Malawi",
          "Mozambique",
          "Spain",
          "Angola",
          "Burundi",
          "Iceland",
          "Iceland",
          "Lebanon",
          "Madagascar",
          "Gambia",
          "Tunisia",
          "Algeria",
          "United Arab Emirates",
          "Qatar",
          "Kuwait",
          "Oman",
          "Vanuatu",
          "Cambodia",
          "Thailand",
          "Lao People's Democratic Republic",
          "Myanmar",
          "Viet Nam",
          "Korea, Democratic People's Republic of",
          "Korea, Republic of",
          "Mongolia",
          "Bangladesh",
          "Bhutan",
          "Nepal",
          "Pakistan",
          "Afghanistan",
          "Tajikistan",
          "Kyrgyzstan",
          "Turkmenistan",
          "Belarus",
          "Ukraine",
          "Poland",
          "Hungary",
          "Moldova, Republic of",
          "Romania",
          "Lithuania",
          "Latvia",
          "Bulgaria",
          "Greece",
          "Turkey",
          "Albania",
          "Croatia",
          "Switzerland",
          "Netherlands",
          "New Caledonia",
          "Solomon Islands",
          "New Zealand",
          "Australia",
          "Sri Lanka",
          "China",
          "China",
          "Taiwan, Province of China",
          "Denmark",
          "United Kingdom",
          "Azerbaijan",
          "Georgia",
          "Philippines",
          "Malaysia",
          "Brunei Darussalam",
          "Slovakia",
          "Czech Republic",
          "Eritrea",
          "Paraguay",
          "Yemen",
          "Saudi Arabia",
          "Antarctica",
          "Cyprus",
          "Morocco",
          "Egypt",
          "Libyan Arab Jamahiriya",
          "Ethiopia",
          "Djibouti",
          "Uganda",
          "Rwanda",
          "Serbia",
          "Montenegro",
          "Trinidad and Tobago",
          "Indonesia",
          "Congo, the Democratic Republic of the",
          "Russian Federation",
          "Norway",
          "France",
          "Japan",
          "Japan",
          "Japan",
          "Namibia",
          "Palestinian Territory, Occupied",
          "Iraq",
          "India",
          "Iran, Islamic Republic of",
          "Syrian Arab Republic",
          "Armenia",
          "Sweden",
          "Australia",
          "Estonia",
          "Germany",
          "Luxembourg",
          "Belgium",
          "Portugal",
          "Spain",
          "Ireland",
          "Italy",
          "Slovenia",
          "Finland",
          "Bosnia and Herzegovina",
          "Macedonia, the former Yugoslav Republic of"
         ],
         "locations": [
          "FJI",
          "TZA",
          "WSM",
          "CAN",
          "USA",
          "KAZ",
          "UZB",
          "PNG",
          "ARG",
          "CHL",
          "SOM",
          "KEN",
          "SDN",
          "TCD",
          "HTI",
          "DOM",
          "BHS",
          "FLK",
          "GRL",
          "ATF",
          "TLS",
          "ZAF",
          "LSO",
          "MEX",
          "URY",
          "BRA",
          "BOL",
          "PER",
          "COL",
          "PAN",
          "CRI",
          "NIC",
          "HND",
          "SLV",
          "GTM",
          "BLZ",
          "VEN",
          "GUY",
          "SUR",
          "ECU",
          "PRI",
          "CUB",
          "ZWE",
          "BWA",
          "SEN",
          "MLI",
          "MRT",
          "BEN",
          "NER",
          "NGA",
          "CMR",
          "TGO",
          "GHA",
          "CIV",
          "GIN",
          "GNB",
          "LBR",
          "SLE",
          "SLE",
          "BFA",
          "CAF",
          "COG",
          "GAB",
          "GNQ",
          "ZMB",
          "MWI",
          "MOZ",
          "ESP",
          "AGO",
          "BDI",
          "ISL",
          "ISL",
          "LBN",
          "MDG",
          "GMB",
          "TUN",
          "DZA",
          "ARE",
          "QAT",
          "KWT",
          "OMN",
          "VUT",
          "KHM",
          "THA",
          "LAO",
          "MMR",
          "VNM",
          "PRK",
          "KOR",
          "MNG",
          "BGD",
          "BTN",
          "NPL",
          "PAK",
          "AFG",
          "TJK",
          "KGZ",
          "TKM",
          "BLR",
          "UKR",
          "POL",
          "HUN",
          "MDA",
          "ROU",
          "LTU",
          "LVA",
          "BGR",
          "GRC",
          "TUR",
          "ALB",
          "HRV",
          "CHE",
          "NLD",
          "NCL",
          "SLB",
          "NZL",
          "AUS",
          "LKA",
          "CHN",
          "CHN",
          "TWN",
          "DNK",
          "GBR",
          "AZE",
          "GEO",
          "PHL",
          "MYS",
          "BRN",
          "SVK",
          "CZE",
          "ERI",
          "PRY",
          "YEM",
          "SAU",
          "ATA",
          "CYP",
          "MAR",
          "EGY",
          "LBY",
          "ETH",
          "DJI",
          "UGA",
          "RWA",
          "SRB",
          "MNE",
          "TTO",
          "IDN",
          "COD",
          "RUS",
          "NOR",
          "FRA",
          "JPN",
          "JPN",
          "JPN",
          "NAM",
          "PSE",
          "IRQ",
          "IND",
          "IRN",
          "SYR",
          "ARM",
          "SWE",
          "AUS",
          "EST",
          "DEU",
          "LUX",
          "BEL",
          "PRT",
          "ESP",
          "IRL",
          "ITA",
          "SVN",
          "FIN",
          "BIH",
          "MKD"
         ],
         "name": "",
         "type": "choropleth",
         "z": [
          0.25998103618621826,
          0.11994694918394089,
          0.002217766596004367,
          0.01196061260998249,
          0.03655775263905525,
          0.0142451710999012,
          0.026681696996092796,
          0.02410385012626648,
          0.0327833890914917,
          0.059066932648420334,
          0.00844794325530529,
          0.053222499787807465,
          0.04614444449543953,
          0.04520940035581589,
          0.22964303195476532,
          0.062421295791864395,
          0.003052665153518319,
          0.002015135483816266,
          0.0021683198865503073,
          0.002146318554878235,
          0.33240267634391785,
          0.014962580986320972,
          0.4382367730140686,
          0.23798789083957672,
          0.30537712574005127,
          0.2265893816947937,
          0.06574037671089172,
          0.07425758987665176,
          0.24514879286289215,
          0.09228704869747162,
          0.20133647322654724,
          0.19021248817443848,
          0.2663206160068512,
          0.15017066895961761,
          0.27901318669319153,
          0.33183780312538147,
          0.04149949923157692,
          0.020897021517157555,
          0.01806899532675743,
          0.19918806850910187,
          0.09658095985651016,
          0.14941947162151337,
          0.029914304614067078,
          0.010855922475457191,
          0.03409455716609955,
          0.04281676933169365,
          0.017401980236172676,
          0.26295220851898193,
          0.07927418500185013,
          0.10384754091501236,
          0.07386922091245651,
          0.14707334339618683,
          0.08209837973117828,
          0.26589441299438477,
          0.1184302344918251,
          0.14600177109241486,
          0.11950912326574326,
          0.05070226639509201,
          0.05070226639509201,
          0.03613663092255592,
          0.017964860424399376,
          0.11664029210805893,
          0.13547292351722717,
          0.08257972449064255,
          0.09419068694114685,
          0.05778200179338455,
          0.0537843257188797,
          0.010283345356583595,
          0.09478632360696793,
          0.3279861509799957,
          0.05767844617366791,
          0.05767844617366791,
          0.08173586428165436,
          0.10753609240055084,
          0.05740102007985115,
          0.2559060752391815,
          0.011606722138822079,
          0.03289555385708809,
          0.07035517692565918,
          0.08859991282224655,
          0.020900221541523933,
          0.12243451923131943,
          0.15962006151676178,
          0.14832864701747894,
          0.13221117854118347,
          0.10635514557361603,
          0.5611446499824524,
          0.016557767987251282,
          0.010269034653902054,
          0.05192597955465317,
          0.0649617463350296,
          0.18221844732761383,
          0.15358051657676697,
          0.1330474317073822,
          0.01859182119369507,
          0.05980862304568291,
          0.020504122599959373,
          0.004244324751198292,
          0.17882391810417175,
          0.08440186828374863,
          0.07049469649791718,
          0.07680077850818634,
          0.29942527413368225,
          0.18996962904930115,
          0.2996794879436493,
          0.154774010181427,
          0.1666993796825409,
          0.5036654472351074,
          0.03891901671886444,
          0.08093605935573578,
          0.4535787105560303,
          0.03687657415866852,
          0.1651659905910492,
          0.006912948098033667,
          0.21417903900146484,
          0.17859962582588196,
          0.04923049733042717,
          0.2749406099319458,
          0.1579872965812683,
          0.1579872965812683,
          0.10457219183444977,
          0.10844004154205322,
          0.31904447078704834,
          0.1709265112876892,
          0.12609335780143738,
          0.09521990269422531,
          0.1395542174577713,
          0.12277442216873169,
          0.08904128521680832,
          0.6125851273536682,
          0.037135783582925797,
          0.20553065836429596,
          0.02048868127167225,
          0.03826325014233589,
          1,
          0.3125675618648529,
          0.1144525483250618,
          0.025310546159744263,
          0.008052196353673935,
          0.12721894681453705,
          0.008653134107589722,
          0.06384438276290894,
          0.1484285593032837,
          0.11241506040096283,
          0.4421103298664093,
          0.045103371143341064,
          0.34527745842933655,
          0.21269537508487701,
          0.04026629775762558,
          0.019621944054961205,
          0.055768515914678574,
          0.03550410270690918,
          0.03550410270690918,
          0.03550410270690918,
          0.005799848586320877,
          0.22813211381435394,
          0.18513840436935425,
          0.0867801159620285,
          0.02475610002875328,
          0.01843000203371048,
          0.05857326090335846,
          0.009037206880748272,
          0.0766143947839737,
          0.0759260430932045,
          0.08015231788158417,
          0.045459456741809845,
          0.23767389357089996,
          0.14989694952964783,
          0.12514163553714752,
          0.5843956470489502,
          0.1954393833875656,
          0.07495962828397751,
          0.011701511219143867,
          0.14439131319522858,
          0.10984142124652863
         ]
        }
       ],
       "layout": {
        "coloraxis": {
         "colorbar": {
          "title": {
           "text": "mae"
          }
         },
         "colorscale": [
          [
           0,
           "#0d0887"
          ],
          [
           0.1111111111111111,
           "#46039f"
          ],
          [
           0.2222222222222222,
           "#7201a8"
          ],
          [
           0.3333333333333333,
           "#9c179e"
          ],
          [
           0.4444444444444444,
           "#bd3786"
          ],
          [
           0.5555555555555556,
           "#d8576b"
          ],
          [
           0.6666666666666666,
           "#ed7953"
          ],
          [
           0.7777777777777778,
           "#fb9f3a"
          ],
          [
           0.8888888888888888,
           "#fdca26"
          ],
          [
           1,
           "#f0f921"
          ]
         ]
        },
        "geo": {
         "center": {},
         "domain": {
          "x": [
           0,
           1
          ],
          "y": [
           0,
           1
          ]
         }
        },
        "legend": {
         "tracegroupgap": 0
        },
        "margin": {
         "t": 60
        },
        "template": {
         "data": {
          "bar": [
           {
            "error_x": {
             "color": "#2a3f5f"
            },
            "error_y": {
             "color": "#2a3f5f"
            },
            "marker": {
             "line": {
              "color": "#E5ECF6",
              "width": 0.5
             },
             "pattern": {
              "fillmode": "overlay",
              "size": 10,
              "solidity": 0.2
             }
            },
            "type": "bar"
           }
          ],
          "barpolar": [
           {
            "marker": {
             "line": {
              "color": "#E5ECF6",
              "width": 0.5
             },
             "pattern": {
              "fillmode": "overlay",
              "size": 10,
              "solidity": 0.2
             }
            },
            "type": "barpolar"
           }
          ],
          "carpet": [
           {
            "aaxis": {
             "endlinecolor": "#2a3f5f",
             "gridcolor": "white",
             "linecolor": "white",
             "minorgridcolor": "white",
             "startlinecolor": "#2a3f5f"
            },
            "baxis": {
             "endlinecolor": "#2a3f5f",
             "gridcolor": "white",
             "linecolor": "white",
             "minorgridcolor": "white",
             "startlinecolor": "#2a3f5f"
            },
            "type": "carpet"
           }
          ],
          "choropleth": [
           {
            "colorbar": {
             "outlinewidth": 0,
             "ticks": ""
            },
            "type": "choropleth"
           }
          ],
          "contour": [
           {
            "colorbar": {
             "outlinewidth": 0,
             "ticks": ""
            },
            "colorscale": [
             [
              0,
              "#0d0887"
             ],
             [
              0.1111111111111111,
              "#46039f"
             ],
             [
              0.2222222222222222,
              "#7201a8"
             ],
             [
              0.3333333333333333,
              "#9c179e"
             ],
             [
              0.4444444444444444,
              "#bd3786"
             ],
             [
              0.5555555555555556,
              "#d8576b"
             ],
             [
              0.6666666666666666,
              "#ed7953"
             ],
             [
              0.7777777777777778,
              "#fb9f3a"
             ],
             [
              0.8888888888888888,
              "#fdca26"
             ],
             [
              1,
              "#f0f921"
             ]
            ],
            "type": "contour"
           }
          ],
          "contourcarpet": [
           {
            "colorbar": {
             "outlinewidth": 0,
             "ticks": ""
            },
            "type": "contourcarpet"
           }
          ],
          "heatmap": [
           {
            "colorbar": {
             "outlinewidth": 0,
             "ticks": ""
            },
            "colorscale": [
             [
              0,
              "#0d0887"
             ],
             [
              0.1111111111111111,
              "#46039f"
             ],
             [
              0.2222222222222222,
              "#7201a8"
             ],
             [
              0.3333333333333333,
              "#9c179e"
             ],
             [
              0.4444444444444444,
              "#bd3786"
             ],
             [
              0.5555555555555556,
              "#d8576b"
             ],
             [
              0.6666666666666666,
              "#ed7953"
             ],
             [
              0.7777777777777778,
              "#fb9f3a"
             ],
             [
              0.8888888888888888,
              "#fdca26"
             ],
             [
              1,
              "#f0f921"
             ]
            ],
            "type": "heatmap"
           }
          ],
          "heatmapgl": [
           {
            "colorbar": {
             "outlinewidth": 0,
             "ticks": ""
            },
            "colorscale": [
             [
              0,
              "#0d0887"
             ],
             [
              0.1111111111111111,
              "#46039f"
             ],
             [
              0.2222222222222222,
              "#7201a8"
             ],
             [
              0.3333333333333333,
              "#9c179e"
             ],
             [
              0.4444444444444444,
              "#bd3786"
             ],
             [
              0.5555555555555556,
              "#d8576b"
             ],
             [
              0.6666666666666666,
              "#ed7953"
             ],
             [
              0.7777777777777778,
              "#fb9f3a"
             ],
             [
              0.8888888888888888,
              "#fdca26"
             ],
             [
              1,
              "#f0f921"
             ]
            ],
            "type": "heatmapgl"
           }
          ],
          "histogram": [
           {
            "marker": {
             "pattern": {
              "fillmode": "overlay",
              "size": 10,
              "solidity": 0.2
             }
            },
            "type": "histogram"
           }
          ],
          "histogram2d": [
           {
            "colorbar": {
             "outlinewidth": 0,
             "ticks": ""
            },
            "colorscale": [
             [
              0,
              "#0d0887"
             ],
             [
              0.1111111111111111,
              "#46039f"
             ],
             [
              0.2222222222222222,
              "#7201a8"
             ],
             [
              0.3333333333333333,
              "#9c179e"
             ],
             [
              0.4444444444444444,
              "#bd3786"
             ],
             [
              0.5555555555555556,
              "#d8576b"
             ],
             [
              0.6666666666666666,
              "#ed7953"
             ],
             [
              0.7777777777777778,
              "#fb9f3a"
             ],
             [
              0.8888888888888888,
              "#fdca26"
             ],
             [
              1,
              "#f0f921"
             ]
            ],
            "type": "histogram2d"
           }
          ],
          "histogram2dcontour": [
           {
            "colorbar": {
             "outlinewidth": 0,
             "ticks": ""
            },
            "colorscale": [
             [
              0,
              "#0d0887"
             ],
             [
              0.1111111111111111,
              "#46039f"
             ],
             [
              0.2222222222222222,
              "#7201a8"
             ],
             [
              0.3333333333333333,
              "#9c179e"
             ],
             [
              0.4444444444444444,
              "#bd3786"
             ],
             [
              0.5555555555555556,
              "#d8576b"
             ],
             [
              0.6666666666666666,
              "#ed7953"
             ],
             [
              0.7777777777777778,
              "#fb9f3a"
             ],
             [
              0.8888888888888888,
              "#fdca26"
             ],
             [
              1,
              "#f0f921"
             ]
            ],
            "type": "histogram2dcontour"
           }
          ],
          "mesh3d": [
           {
            "colorbar": {
             "outlinewidth": 0,
             "ticks": ""
            },
            "type": "mesh3d"
           }
          ],
          "parcoords": [
           {
            "line": {
             "colorbar": {
              "outlinewidth": 0,
              "ticks": ""
             }
            },
            "type": "parcoords"
           }
          ],
          "pie": [
           {
            "automargin": true,
            "type": "pie"
           }
          ],
          "scatter": [
           {
            "fillpattern": {
             "fillmode": "overlay",
             "size": 10,
             "solidity": 0.2
            },
            "type": "scatter"
           }
          ],
          "scatter3d": [
           {
            "line": {
             "colorbar": {
              "outlinewidth": 0,
              "ticks": ""
             }
            },
            "marker": {
             "colorbar": {
              "outlinewidth": 0,
              "ticks": ""
             }
            },
            "type": "scatter3d"
           }
          ],
          "scattercarpet": [
           {
            "marker": {
             "colorbar": {
              "outlinewidth": 0,
              "ticks": ""
             }
            },
            "type": "scattercarpet"
           }
          ],
          "scattergeo": [
           {
            "marker": {
             "colorbar": {
              "outlinewidth": 0,
              "ticks": ""
             }
            },
            "type": "scattergeo"
           }
          ],
          "scattergl": [
           {
            "marker": {
             "colorbar": {
              "outlinewidth": 0,
              "ticks": ""
             }
            },
            "type": "scattergl"
           }
          ],
          "scattermapbox": [
           {
            "marker": {
             "colorbar": {
              "outlinewidth": 0,
              "ticks": ""
             }
            },
            "type": "scattermapbox"
           }
          ],
          "scatterpolar": [
           {
            "marker": {
             "colorbar": {
              "outlinewidth": 0,
              "ticks": ""
             }
            },
            "type": "scatterpolar"
           }
          ],
          "scatterpolargl": [
           {
            "marker": {
             "colorbar": {
              "outlinewidth": 0,
              "ticks": ""
             }
            },
            "type": "scatterpolargl"
           }
          ],
          "scatterternary": [
           {
            "marker": {
             "colorbar": {
              "outlinewidth": 0,
              "ticks": ""
             }
            },
            "type": "scatterternary"
           }
          ],
          "surface": [
           {
            "colorbar": {
             "outlinewidth": 0,
             "ticks": ""
            },
            "colorscale": [
             [
              0,
              "#0d0887"
             ],
             [
              0.1111111111111111,
              "#46039f"
             ],
             [
              0.2222222222222222,
              "#7201a8"
             ],
             [
              0.3333333333333333,
              "#9c179e"
             ],
             [
              0.4444444444444444,
              "#bd3786"
             ],
             [
              0.5555555555555556,
              "#d8576b"
             ],
             [
              0.6666666666666666,
              "#ed7953"
             ],
             [
              0.7777777777777778,
              "#fb9f3a"
             ],
             [
              0.8888888888888888,
              "#fdca26"
             ],
             [
              1,
              "#f0f921"
             ]
            ],
            "type": "surface"
           }
          ],
          "table": [
           {
            "cells": {
             "fill": {
              "color": "#EBF0F8"
             },
             "line": {
              "color": "white"
             }
            },
            "header": {
             "fill": {
              "color": "#C8D4E3"
             },
             "line": {
              "color": "white"
             }
            },
            "type": "table"
           }
          ]
         },
         "layout": {
          "annotationdefaults": {
           "arrowcolor": "#2a3f5f",
           "arrowhead": 0,
           "arrowwidth": 1
          },
          "autotypenumbers": "strict",
          "coloraxis": {
           "colorbar": {
            "outlinewidth": 0,
            "ticks": ""
           }
          },
          "colorscale": {
           "diverging": [
            [
             0,
             "#8e0152"
            ],
            [
             0.1,
             "#c51b7d"
            ],
            [
             0.2,
             "#de77ae"
            ],
            [
             0.3,
             "#f1b6da"
            ],
            [
             0.4,
             "#fde0ef"
            ],
            [
             0.5,
             "#f7f7f7"
            ],
            [
             0.6,
             "#e6f5d0"
            ],
            [
             0.7,
             "#b8e186"
            ],
            [
             0.8,
             "#7fbc41"
            ],
            [
             0.9,
             "#4d9221"
            ],
            [
             1,
             "#276419"
            ]
           ],
           "sequential": [
            [
             0,
             "#0d0887"
            ],
            [
             0.1111111111111111,
             "#46039f"
            ],
            [
             0.2222222222222222,
             "#7201a8"
            ],
            [
             0.3333333333333333,
             "#9c179e"
            ],
            [
             0.4444444444444444,
             "#bd3786"
            ],
            [
             0.5555555555555556,
             "#d8576b"
            ],
            [
             0.6666666666666666,
             "#ed7953"
            ],
            [
             0.7777777777777778,
             "#fb9f3a"
            ],
            [
             0.8888888888888888,
             "#fdca26"
            ],
            [
             1,
             "#f0f921"
            ]
           ],
           "sequentialminus": [
            [
             0,
             "#0d0887"
            ],
            [
             0.1111111111111111,
             "#46039f"
            ],
            [
             0.2222222222222222,
             "#7201a8"
            ],
            [
             0.3333333333333333,
             "#9c179e"
            ],
            [
             0.4444444444444444,
             "#bd3786"
            ],
            [
             0.5555555555555556,
             "#d8576b"
            ],
            [
             0.6666666666666666,
             "#ed7953"
            ],
            [
             0.7777777777777778,
             "#fb9f3a"
            ],
            [
             0.8888888888888888,
             "#fdca26"
            ],
            [
             1,
             "#f0f921"
            ]
           ]
          },
          "colorway": [
           "#636efa",
           "#EF553B",
           "#00cc96",
           "#ab63fa",
           "#FFA15A",
           "#19d3f3",
           "#FF6692",
           "#B6E880",
           "#FF97FF",
           "#FECB52"
          ],
          "font": {
           "color": "#2a3f5f"
          },
          "geo": {
           "bgcolor": "white",
           "lakecolor": "white",
           "landcolor": "#E5ECF6",
           "showlakes": true,
           "showland": true,
           "subunitcolor": "white"
          },
          "hoverlabel": {
           "align": "left"
          },
          "hovermode": "closest",
          "mapbox": {
           "style": "light"
          },
          "paper_bgcolor": "white",
          "plot_bgcolor": "#E5ECF6",
          "polar": {
           "angularaxis": {
            "gridcolor": "white",
            "linecolor": "white",
            "ticks": ""
           },
           "bgcolor": "#E5ECF6",
           "radialaxis": {
            "gridcolor": "white",
            "linecolor": "white",
            "ticks": ""
           }
          },
          "scene": {
           "xaxis": {
            "backgroundcolor": "#E5ECF6",
            "gridcolor": "white",
            "gridwidth": 2,
            "linecolor": "white",
            "showbackground": true,
            "ticks": "",
            "zerolinecolor": "white"
           },
           "yaxis": {
            "backgroundcolor": "#E5ECF6",
            "gridcolor": "white",
            "gridwidth": 2,
            "linecolor": "white",
            "showbackground": true,
            "ticks": "",
            "zerolinecolor": "white"
           },
           "zaxis": {
            "backgroundcolor": "#E5ECF6",
            "gridcolor": "white",
            "gridwidth": 2,
            "linecolor": "white",
            "showbackground": true,
            "ticks": "",
            "zerolinecolor": "white"
           }
          },
          "shapedefaults": {
           "line": {
            "color": "#2a3f5f"
           }
          },
          "ternary": {
           "aaxis": {
            "gridcolor": "white",
            "linecolor": "white",
            "ticks": ""
           },
           "baxis": {
            "gridcolor": "white",
            "linecolor": "white",
            "ticks": ""
           },
           "bgcolor": "#E5ECF6",
           "caxis": {
            "gridcolor": "white",
            "linecolor": "white",
            "ticks": ""
           }
          },
          "title": {
           "x": 0.05
          },
          "xaxis": {
           "automargin": true,
           "gridcolor": "white",
           "linecolor": "white",
           "ticks": "",
           "title": {
            "standoff": 15
           },
           "zerolinecolor": "white",
           "zerolinewidth": 2
          },
          "yaxis": {
           "automargin": true,
           "gridcolor": "white",
           "linecolor": "white",
           "ticks": "",
           "title": {
            "standoff": 15
           },
           "zerolinecolor": "white",
           "zerolinewidth": 2
          }
         }
        }
       }
      }
     },
     "metadata": {},
     "output_type": "display_data"
    }
   ],
   "source": [
    "map_plot_results(big_maes)"
   ]
  },
  {
   "cell_type": "markdown",
   "metadata": {},
   "source": [
    "#### Plot differences between individual models and general one"
   ]
  },
  {
   "cell_type": "code",
   "execution_count": 29,
   "metadata": {},
   "outputs": [
    {
     "data": {
      "image/png": "[encoded data removed]",
      "text/plain": [
       "<Figure size 1800x288 with 1 Axes>"
      ]
     },
     "metadata": {
      "needs_background": "light"
     },
     "output_type": "display_data"
    }
   ],
   "source": [
    "diffs = [mae - big_mae for mae, big_mae in zip(maes, big_maes)]\n",
    "plt.figure(figsize=(25, 4))\n",
    "plt.title(\"Individual model MAE - general model MAE\")\n",
    "plt.ylabel(\"MAE\")\n",
    "plt.bar(countries_df[\"abbrevs\"], diffs)\n",
    "plt.xticks(rotation=90, fontsize=7)\n",
    "plt.show()"
   ]
  },
  {
   "cell_type": "markdown",
   "metadata": {},
   "source": [
    "### Tune on neighboring countries"
   ]
  },
  {
   "cell_type": "code",
   "execution_count": 59,
   "metadata": {},
   "outputs": [],
   "source": [
    "def k_nearest_countries(country_id, k):\n",
    "    codes_df = pd.read_csv(\"../data/gcb/conversion/codes.csv\")\n",
    "    neighbor_df = pd.read_csv(\"../data/gcb/conversion/neighbors.csv\")\n",
    "    three_code = codes_df[codes_df[\"Alpha-2 code\"] == country_id][\"Alpha-3 code\"].iloc[0]\n",
    "    \n",
    "    idx = 0\n",
    "    queue = [three_code]\n",
    "    seen = set([three_code])\n",
    "    # Simple BFS to find neighbors\n",
    "    # Add one because the first element in the queue is our original country\n",
    "    while idx < len(queue) and len(queue) < k + 1:\n",
    "        curr = queue[idx]\n",
    "        neighbors = neighbor_df[neighbor_df[\"country_code\"] == curr][\"neighbor_code\"]\n",
    "        for neighbor in list(neighbors):\n",
    "            if neighbor not in seen:\n",
    "                queue.append(neighbor)\n",
    "        idx += 1\n",
    "    \n",
    "    if len(queue) > 1:\n",
    "        return [codes_df[codes_df[\"Alpha-3 code\"] == code][\"Alpha-2 code\"].iloc[0] for code in queue[1:k+1]]\n",
    "    \n",
    "    return []"
   ]
  },
  {
   "cell_type": "code",
   "execution_count": 69,
   "metadata": {},
   "outputs": [],
   "source": [
    "def find_model_for_country(country_id, raw, country_mask):\n",
    "    print(f\"Finding best model for {country_id}\")\n",
    "    country_data = create_country_dataset(raw, country_mask, [country_id], 1982, 2011)\n",
    "    X_train = country_data[\"Train\"][\"X\"]\n",
    "    y_train = country_data[\"Train\"][\"y\"]\n",
    "    X_test = country_data[\"Test\"][\"X\"]\n",
    "    y_test = country_data[\"Test\"][\"y\"]\n",
    "\n",
    "    print(X_train.shape)\n",
    "    print(y_train.shape)\n",
    "\n",
    "    best_model, best_mae = train_country_model(X_train, y_train, X_test, y_test)\n",
    "    best_countries = [country_id]\n",
    "    print(f\"Baseline score: {best_mae}\")\n",
    "\n",
    "    countries = [country_id]\n",
    "    k_nearest = k_nearest_countries(country_id, 5)\n",
    "    print(f\"Neighbors: {k_nearest}\")\n",
    "    for neighbor in k_nearest:\n",
    "        print(f\"Adding neighbor: {neighbor}\")\n",
    "        countries.append(neighbor)\n",
    "        data = create_country_dataset(raw, country_mask, countries, 1982, 2011)\n",
    "        print(X_train.shape)\n",
    "        print(y_train.shape)\n",
    "        model, mae = train_country_model(X_train, y_train, X_test, y_test)\n",
    "        print(f\"Score: {mae}\")\n",
    "        if mae < best_mae:\n",
    "            best_model = model\n",
    "            best_countries = countries\n",
    "            best_mae = mae\n",
    "\n",
    "    return best_model, best_mae, best_countries"
   ]
  },
  {
   "cell_type": "code",
   "execution_count": 70,
   "metadata": {},
   "outputs": [
    {
     "name": "stdout",
     "output_type": "stream",
     "text": [
      "Finding best model for GB\n",
      "(15060, 12)\n",
      "(15060,)\n",
      "Baseline score: 0.07678873091936111\n",
      "Neighbors: ['IE']\n",
      "Adding neighbor: IE\n",
      "(30120, 12)\n",
      "(30120,)\n",
      "Score: 0.07677499204874039\n"
     ]
    }
   ],
   "source": [
    "best_model, best_mae, best_countries = find_model_for_country(\"GB\", raw, country_mask)"
   ]
  },
  {
   "cell_type": "markdown",
   "metadata": {},
   "source": [
    "### Tune on best year to train on"
   ]
  },
  {
   "cell_type": "code",
   "execution_count": 16,
   "metadata": {},
   "outputs": [],
   "source": [
    "def find_best_year(raw, country_mask, country_list):\n",
    "    X_train = pd.DataFrame(columns=FEATURES)\n",
    "    y_train = pd.Series(name=LABEL, dtype=float)\n",
    "    X_test = None\n",
    "    y_test = None\n",
    "    years = list(range(2012, 1851, -10))\n",
    "    maes = []\n",
    "    best_model = None\n",
    "    best_mae = None\n",
    "    for i in range(1, len(years)):\n",
    "        print(f\"Adding {years[i]}-{years[i-1]-1} to train set...\")\n",
    "        data = create_country_dataset(raw, country_mask, country_list, years[i], years[i-1]-1)\n",
    "        X_train = pd.concat((X_train, data[\"Train\"][\"X\"]), axis=0)\n",
    "        y_train = pd.concat((y_train, data[\"Train\"][\"y\"]))\n",
    "        if i == 1:\n",
    "            X_test = data[\"Test\"][\"X\"]\n",
    "            y_test = data[\"Test\"][\"y\"]\n",
    "\n",
    "        model = RandomForestRegressor(random_state=42, n_jobs=-1)\n",
    "        model.fit(X_train, y_train)\n",
    "        pred = model.predict(X_test)\n",
    "        mae = mean_absolute_error(y_test, pred)\n",
    "        print(f\"MAE: {mae}\")\n",
    "        maes.append(mae)\n",
    "\n",
    "        if not best_mae or best_mae > mae:\n",
    "            best_model = model\n",
    "            best_mae = mae\n",
    "    \n",
    "    plt.plot(years[1:], maes)\n",
    "    plt.xticks(rotation=90)\n",
    "    plt.title(f\"Year train set started vs. MAE for {' '.join(country_list)}\")\n",
    "    plt.xlabel(\"Year\")\n",
    "    plt.ylabel(\"MAE\")\n",
    "    plt.show()\n",
    "\n",
    "    return best_model, maes\n",
    "        "
   ]
  },
  {
   "cell_type": "code",
   "execution_count": 17,
   "metadata": {},
   "outputs": [
    {
     "name": "stdout",
     "output_type": "stream",
     "text": [
      "Adding 2002-2011 to train set...\n",
      "MAE: 0.03648469909050712\n",
      "Adding 1992-2001 to train set...\n",
      "MAE: 0.03710089250796529\n",
      "Adding 1982-1991 to train set...\n",
      "MAE: 0.037174860283775146\n",
      "Adding 1972-1981 to train set...\n",
      "MAE: 0.037956103687055286\n",
      "Adding 1962-1971 to train set...\n",
      "MAE: 0.038082952563230514\n",
      "Adding 1952-1961 to train set...\n",
      "MAE: 0.03796119643580342\n",
      "Adding 1942-1951 to train set...\n",
      "MAE: 0.037907506265799785\n",
      "Adding 1932-1941 to train set...\n",
      "MAE: 0.03792129119454972\n",
      "Adding 1922-1931 to train set...\n",
      "MAE: 0.03834665424151246\n",
      "Adding 1912-1921 to train set...\n",
      "MAE: 0.03839517526179118\n",
      "Adding 1902-1911 to train set...\n",
      "MAE: 0.03840008108683362\n",
      "Adding 1892-1901 to train set...\n",
      "MAE: 0.03820898943408478\n",
      "Adding 1882-1891 to train set...\n",
      "MAE: 0.038035298970404495\n",
      "Adding 1872-1881 to train set...\n",
      "MAE: 0.037873564280927814\n",
      "Adding 1862-1871 to train set...\n",
      "MAE: 0.03822668028038931\n",
      "Adding 1852-1861 to train set...\n",
      "MAE: 0.03859580199673611\n"
     ]
    },
    {
     "data": {
      "image/png": "[encoded data removed]",
      "text/plain": [
       "<Figure size 432x288 with 1 Axes>"
      ]
     },
     "metadata": {
      "needs_background": "light"
     },
     "output_type": "display_data"
    }
   ],
   "source": [
    "best_model, maes = find_best_year(raw, country_mask, COUNTRY_NAME_LIST)"
   ]
  },
  {
   "cell_type": "markdown",
   "metadata": {},
   "source": [
    "## Model Analysis"
   ]
  },
  {
   "cell_type": "code",
   "execution_count": 20,
   "metadata": {},
   "outputs": [
    {
     "data": {
      "image/png": "[encoded data removed]",
      "text/plain": [
       "<Figure size 432x288 with 1 Axes>"
      ]
     },
     "metadata": {
      "needs_background": "light"
     },
     "output_type": "display_data"
    }
   ],
   "source": [
    "plt.bar(data[\"Train\"][\"X\"].columns, model.feature_importances_)\n",
    "plt.xticks(rotation=90)\n",
    "plt.title(\"Feature Importances\")\n",
    "plt.show()"
   ]
  },
  {
   "cell_type": "code",
   "execution_count": 19,
   "metadata": {},
   "outputs": [
    {
     "data": {
      "image/png": "[encoded data removed]",
      "text/plain": [
       "<Figure size 432x288 with 1 Axes>"
      ]
     },
     "metadata": {
      "needs_background": "light"
     },
     "output_type": "display_data"
    }
   ],
   "source": [
    "X_irl = data[\"Test\"][\"X\"].loc[:, 54.125, -6.875]\n",
    "y_irl = data[\"Test\"][\"y\"].loc[:, 54.125, -6.875]\n",
    "\n",
    "preds = model.predict(X_irl)\n",
    "\n",
    "times = list(data[\"Test\"][\"X\"].index.unique(level=\"time\"))\n",
    "plt.title(\"Predicted vs. Actual ELUC for specific coords\")\n",
    "plt.plot(times, y_irl, label=\"Actual ELUC\")\n",
    "plt.plot(times, preds, label=\"Predicted ELUC\")\n",
    "plt.legend()\n",
    "plt.show()"
   ]
  },
  {
   "cell_type": "code",
   "execution_count": 20,
   "metadata": {},
   "outputs": [
    {
     "data": {
      "image/png": "[encoded data removed]",
      "text/plain": [
       "<Figure size 432x288 with 1 Axes>"
      ]
     },
     "metadata": {
      "needs_background": "light"
     },
     "output_type": "display_data"
    }
   ],
   "source": [
    "preds = model.predict(data[\"Test\"][\"X\"])\n",
    "test_copy = data[\"Test\"][\"X\"].copy()\n",
    "test_copy[\"pred\"] = preds\n",
    "test_copy[\"ELUC\"] = data[\"Test\"][\"y\"]\n",
    "pred_eluc_sums = []\n",
    "eluc_sums = []\n",
    "for time in times:\n",
    "    pred_eluc_sums.append(test_copy.loc[time, :, :][\"pred\"].mean())\n",
    "    eluc_sums.append(test_copy.loc[time, :, :][\"ELUC\"].mean())\n",
    "\n",
    "plt.title(\"Mean of ELUC over each time step actual vs. predicted\")\n",
    "plt.plot(times, eluc_sums, label=\"Actual ELUC\")\n",
    "plt.plot(times, pred_eluc_sums, label=\"Predicted ELUC\")\n",
    "plt.legend()\n",
    "plt.show()"
   ]
  }
 ],
 "metadata": {
  "kernelspec": {
   "display_name": "leaf",
   "language": "python",
   "name": "python3"
  },
  "language_info": {
   "codemirror_mode": {
    "name": "ipython",
    "version": 3
   },
   "file_extension": ".py",
   "mimetype": "text/x-python",
   "name": "python",
   "nbconvert_exporter": "python",
   "pygments_lexer": "ipython3",
   "version": "3.10.11"
  },
  "orig_nbformat": 4
 },
 "nbformat": 4,
 "nbformat_minor": 2
}
