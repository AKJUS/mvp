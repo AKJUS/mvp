{
 "cells": [
  {
   "cell_type": "code",
   "execution_count": 1,
   "metadata": {},
   "outputs": [],
   "source": [
    "import pandas as pd\n",
    "import numpy as np\n",
    "from sklearn.linear_model import LinearRegression\n",
    "from sklearn.ensemble import RandomForestRegressor\n",
    "from sklearn.preprocessing import StandardScaler\n",
    "from sklearn.metrics import mean_absolute_error\n",
    "from sklearn.utils import shuffle\n",
    "\n",
    "import regionmask\n",
    "import xarray as xr\n",
    "\n",
    "import matplotlib.pyplot as plt\n",
    "import plotly.express as px\n",
    "\n",
    "from joblib import dump, load\n",
    "\n",
    "from tqdm import tqdm"
   ]
  },
  {
   "cell_type": "code",
   "execution_count": 79,
   "metadata": {},
   "outputs": [],
   "source": [
    "LAND_FEATURES = ['c3ann', 'c3nfx', 'c3per','c4ann', 'c4per',\n",
    " 'pastr', 'primf', 'primn', 'range', 'secdf', 'secdn', 'urban']\n",
    "\n",
    "LAND_DIFF_FEATURES = ['c3ann_diff', 'c3nfx_diff', 'c3per_diff','c4ann_diff', 'c4per_diff',\n",
    " 'pastr_diff', 'primf_diff', 'primn_diff', 'range_diff', 'secdf_diff', 'secdn_diff', 'urban_diff']\n",
    "\n",
    "# FEATURES = LAND_FEATURES + [\"cell_area\"]\n",
    "FEATURES = LAND_DIFF_FEATURES\n",
    "LABEL = 'ELUC'\n",
    "\n",
    "# Great Britain, France, Germany, Netherlands, Belgium, Switzerland, Ireland\n",
    "COUNTRY_NAME_LIST = [\"GB\", \"F\", \"D\", \"NL\", \"B\", \"CH\", \"IRL\"]\n",
    "\n",
    "DATA_FILE_PATH = \"../data/gcb/merged_aggregated_dataset_1850_2022.zarr.zip\"\n",
    "UPDATE_FILE_PATH = \"../data/gcb/BLUE_LUH2-GCB2022_ELUC-committed_gridded_net_1850-2021.nc\"\n",
    "\n",
    "MANUAL_MAP = {\n",
    "    \"INDO\": 360,\n",
    "    \"DRC\": 180,\n",
    "    \"RUS\": 643,\n",
    "    \"N\": 578,\n",
    "    \"F\": 250,\n",
    "    \"J\": 388,\n",
    "    \"NA\": 516,\n",
    "    \"PAL\": 275,\n",
    "    \"J\": 400,\n",
    "    \"IRQ\": 368,\n",
    "    \"IND\": 356,\n",
    "    \"IRN\": 364,\n",
    "    \"SYR\": 760,\n",
    "    \"ARM\": 51,\n",
    "    \"S\": 752,\n",
    "    \"A\": 36,\n",
    "    \"EST\": 233,\n",
    "    \"D\": 276,\n",
    "    \"L\": 442,\n",
    "    \"B\": 56,\n",
    "    \"P\": 620,\n",
    "    \"E\": 724,\n",
    "    \"IRL\": 372,\n",
    "    \"I\": 380,\n",
    "    \"SLO\": 705,\n",
    "    \"FIN\": 246,\n",
    "    \"J\": 392,\n",
    "    \"BiH\": 70,\n",
    "    \"NM\": 807,\n",
    "    \"KO\": 383,\n",
    "    \"SS\": 728\n",
    "}\n",
    "\n",
    "countries = regionmask.defined_regions.natural_earth_v5_0_0.countries_110\n",
    "countries_df = countries.to_dataframe()\n",
    "\n",
    "codes_df = pd.read_csv(\"../data/gcb/conversion/codes.csv\")\n",
    "\n",
    "# Replace all the bad codes with their real ones\n",
    "for i in range(len(countries_df)):\n",
    "    old_abbrev = countries_df.iloc[i][\"abbrevs\"]\n",
    "    if old_abbrev in MANUAL_MAP.keys() and MANUAL_MAP[old_abbrev] in codes_df[\"Numeric code\"].unique():\n",
    "        countries_df.iloc[i][\"abbrevs\"] = codes_df[codes_df[\"Numeric code\"] == MANUAL_MAP[old_abbrev]][\"Alpha-2 code\"].iloc[0]"
   ]
  },
  {
   "cell_type": "code",
   "execution_count": 3,
   "metadata": {},
   "outputs": [
    {
     "name": "stdout",
     "output_type": "stream",
     "text": [
      "        abbrevs                     names\n",
      "numbers                                  \n",
      "0            FJ                      Fiji\n",
      "1            TZ                  Tanzania\n",
      "2            WS                 W. Sahara\n",
      "3            CA                    Canada\n",
      "4            US  United States of America\n",
      "Int64Index([143], dtype='int64', name='numbers')\n"
     ]
    }
   ],
   "source": [
    "print(countries_df.head())\n",
    "print(countries_df[countries_df[\"abbrevs\"] == \"GB\"].index)"
   ]
  },
  {
   "attachments": {},
   "cell_type": "markdown",
   "metadata": {},
   "source": [
    "## Data Preprocessing"
   ]
  },
  {
   "cell_type": "code",
   "execution_count": 4,
   "metadata": {},
   "outputs": [],
   "source": [
    "def import_data(path, update_path):\n",
    "    raw = xr.open_zarr(path, consolidated=True)\n",
    "\n",
    "    # Get updated ELUC\n",
    "    if update_path:\n",
    "        eluc = xr.open_dataset(update_path)\n",
    "        raw = raw.drop_vars([\"ELUC\", \"cell_area\"])\n",
    "        raw = raw.merge(eluc)\n",
    "\n",
    "    # Shift actions back a year\n",
    "    raw[LAND_DIFF_FEATURES] = raw[LAND_DIFF_FEATURES].shift(time=-1)\n",
    "\n",
    "    # Old time shifting\n",
    "    # raw['ELUC'] = raw['ELUC'].shift(time=1)\n",
    "    # raw['ELUC_diff'] = raw['ELUC_diff'].shift(time=1)\n",
    "    # raw['time'] = raw.time - 1\n",
    "    # assert(list(np.unique(raw.time)) == list(range(1849, 2022)))\n",
    "\n",
    "    mask = raw[\"ELUC_diff\"].isnull().compute()\n",
    "    raw = raw.where(~mask, drop=True)\n",
    "\n",
    "    country_mask = regionmask.defined_regions.natural_earth_v5_0_0.countries_110.mask(raw)\n",
    "    raw[\"country\"] = country_mask\n",
    "    return raw"
   ]
  },
  {
   "cell_type": "code",
   "execution_count": 28,
   "metadata": {},
   "outputs": [],
   "source": [
    "def subset_countries(df, countries):\n",
    "    idx = countries_df[countries_df[\"abbrevs\"].isin(countries)].index.values\n",
    "    return df[df[\"country\"].isin(idx)]\n",
    "\n",
    "def da_to_df(da, start_year=None, end_year=None, countries=None):\n",
    "    df = da.to_dataframe()\n",
    "    df = df.dropna()\n",
    "    df['country_name'] = countries_df.loc[df['country'], 'names'].values\n",
    "    if start_year:\n",
    "        df = df.loc[start_year:]\n",
    "    if end_year:\n",
    "        df = df.loc[:end_year]\n",
    "    if countries:\n",
    "        df = subset_countries(df, countries)\n",
    "        \n",
    "    return df"
   ]
  },
  {
   "cell_type": "code",
   "execution_count": 10,
   "metadata": {},
   "outputs": [],
   "source": [
    "class Scaler:\n",
    "    def __init__(self):\n",
    "        self.means = None\n",
    "        self.stdevs = None\n",
    "\n",
    "    def fit(self, X_train):\n",
    "        self.means = X_train.mean(axis=0)\n",
    "        self.stdevs = X_train.std(axis=0)\n",
    "        # Replace 0 stdevs with 1 so we don't divide by 0\n",
    "        self.stdevs = self.stdevs.replace(0, 1)\n",
    "\n",
    "    def transform(self, X):\n",
    "        return (X - self.means) / self.stdevs\n",
    "    \n",
    "    def fit_transform(self, X_train):\n",
    "        self.fit(X_train)\n",
    "        return self.transform(X_train)"
   ]
  },
  {
   "cell_type": "code",
   "execution_count": 8,
   "metadata": {},
   "outputs": [
    {
     "name": "stdout",
     "output_type": "stream",
     "text": [
      "Loading data...\n"
     ]
    },
    {
     "name": "stderr",
     "output_type": "stream",
     "text": [
      "/Users/964840/anaconda3/envs/leaf/lib/python3.10/site-packages/dask/array/core.py:4830: PerformanceWarning: Increasing number of chunks by factor of 15\n",
      "  result = blockwise(\n",
      "/Users/964840/anaconda3/envs/leaf/lib/python3.10/site-packages/dask/array/core.py:4830: PerformanceWarning: Increasing number of chunks by factor of 15\n",
      "  result = blockwise(\n",
      "/Users/964840/anaconda3/envs/leaf/lib/python3.10/site-packages/dask/array/core.py:4830: PerformanceWarning: Increasing number of chunks by factor of 15\n",
      "  result = blockwise(\n",
      "/Users/964840/anaconda3/envs/leaf/lib/python3.10/site-packages/dask/array/core.py:4830: PerformanceWarning: Increasing number of chunks by factor of 15\n",
      "  result = blockwise(\n",
      "/Users/964840/anaconda3/envs/leaf/lib/python3.10/site-packages/dask/array/core.py:4830: PerformanceWarning: Increasing number of chunks by factor of 15\n",
      "  result = blockwise(\n",
      "/Users/964840/anaconda3/envs/leaf/lib/python3.10/site-packages/dask/array/core.py:4830: PerformanceWarning: Increasing number of chunks by factor of 15\n",
      "  result = blockwise(\n",
      "/Users/964840/anaconda3/envs/leaf/lib/python3.10/site-packages/dask/array/core.py:4830: PerformanceWarning: Increasing number of chunks by factor of 15\n",
      "  result = blockwise(\n",
      "/Users/964840/anaconda3/envs/leaf/lib/python3.10/site-packages/dask/array/core.py:4830: PerformanceWarning: Increasing number of chunks by factor of 15\n",
      "  result = blockwise(\n",
      "/Users/964840/anaconda3/envs/leaf/lib/python3.10/site-packages/dask/array/core.py:4830: PerformanceWarning: Increasing number of chunks by factor of 15\n",
      "  result = blockwise(\n",
      "/Users/964840/anaconda3/envs/leaf/lib/python3.10/site-packages/dask/array/core.py:4830: PerformanceWarning: Increasing number of chunks by factor of 15\n",
      "  result = blockwise(\n",
      "/Users/964840/anaconda3/envs/leaf/lib/python3.10/site-packages/dask/array/core.py:4830: PerformanceWarning: Increasing number of chunks by factor of 15\n",
      "  result = blockwise(\n",
      "/Users/964840/anaconda3/envs/leaf/lib/python3.10/site-packages/dask/array/core.py:4830: PerformanceWarning: Increasing number of chunks by factor of 15\n",
      "  result = blockwise(\n",
      "/Users/964840/anaconda3/envs/leaf/lib/python3.10/site-packages/dask/array/core.py:4830: PerformanceWarning: Increasing number of chunks by factor of 15\n",
      "  result = blockwise(\n",
      "/Users/964840/anaconda3/envs/leaf/lib/python3.10/site-packages/dask/array/core.py:4830: PerformanceWarning: Increasing number of chunks by factor of 15\n",
      "  result = blockwise(\n",
      "/Users/964840/anaconda3/envs/leaf/lib/python3.10/site-packages/dask/array/core.py:4830: PerformanceWarning: Increasing number of chunks by factor of 15\n",
      "  result = blockwise(\n",
      "/Users/964840/anaconda3/envs/leaf/lib/python3.10/site-packages/dask/array/core.py:4830: PerformanceWarning: Increasing number of chunks by factor of 15\n",
      "  result = blockwise(\n",
      "/Users/964840/anaconda3/envs/leaf/lib/python3.10/site-packages/dask/array/core.py:4830: PerformanceWarning: Increasing number of chunks by factor of 15\n",
      "  result = blockwise(\n",
      "/Users/964840/anaconda3/envs/leaf/lib/python3.10/site-packages/dask/array/core.py:4830: PerformanceWarning: Increasing number of chunks by factor of 15\n",
      "  result = blockwise(\n",
      "/Users/964840/anaconda3/envs/leaf/lib/python3.10/site-packages/dask/array/core.py:4830: PerformanceWarning: Increasing number of chunks by factor of 15\n",
      "  result = blockwise(\n",
      "/Users/964840/anaconda3/envs/leaf/lib/python3.10/site-packages/dask/array/core.py:4830: PerformanceWarning: Increasing number of chunks by factor of 15\n",
      "  result = blockwise(\n",
      "/Users/964840/anaconda3/envs/leaf/lib/python3.10/site-packages/dask/array/core.py:4830: PerformanceWarning: Increasing number of chunks by factor of 15\n",
      "  result = blockwise(\n",
      "/Users/964840/anaconda3/envs/leaf/lib/python3.10/site-packages/dask/array/core.py:4830: PerformanceWarning: Increasing number of chunks by factor of 15\n",
      "  result = blockwise(\n",
      "/Users/964840/anaconda3/envs/leaf/lib/python3.10/site-packages/dask/array/core.py:4830: PerformanceWarning: Increasing number of chunks by factor of 15\n",
      "  result = blockwise(\n",
      "/Users/964840/anaconda3/envs/leaf/lib/python3.10/site-packages/dask/array/core.py:4830: PerformanceWarning: Increasing number of chunks by factor of 15\n",
      "  result = blockwise(\n",
      "/Users/964840/anaconda3/envs/leaf/lib/python3.10/site-packages/dask/array/core.py:4830: PerformanceWarning: Increasing number of chunks by factor of 15\n",
      "  result = blockwise(\n",
      "/Users/964840/anaconda3/envs/leaf/lib/python3.10/site-packages/dask/array/core.py:4830: PerformanceWarning: Increasing number of chunks by factor of 15\n",
      "  result = blockwise(\n",
      "/Users/964840/anaconda3/envs/leaf/lib/python3.10/site-packages/dask/array/core.py:4830: PerformanceWarning: Increasing number of chunks by factor of 15\n",
      "  result = blockwise(\n"
     ]
    },
    {
     "name": "stdout",
     "output_type": "stream",
     "text": [
      "(435183, 12)\n",
      "(27030, 12)\n"
     ]
    }
   ],
   "source": [
    "print(\"Loading data...\")\n",
    "raw = import_data(DATA_FILE_PATH, UPDATE_FILE_PATH)"
   ]
  },
  {
   "cell_type": "code",
   "execution_count": 13,
   "metadata": {},
   "outputs": [
    {
     "name": "stdout",
     "output_type": "stream",
     "text": [
      "(41387985, 31)\n"
     ]
    },
    {
     "data": {
      "text/html": [
       "<div>\n",
       "<style scoped>\n",
       "    .dataframe tbody tr th:only-of-type {\n",
       "        vertical-align: middle;\n",
       "    }\n",
       "\n",
       "    .dataframe tbody tr th {\n",
       "        vertical-align: top;\n",
       "    }\n",
       "\n",
       "    .dataframe thead th {\n",
       "        text-align: right;\n",
       "    }\n",
       "</style>\n",
       "<table border=\"1\" class=\"dataframe\">\n",
       "  <thead>\n",
       "    <tr style=\"text-align: right;\">\n",
       "      <th></th>\n",
       "      <th></th>\n",
       "      <th></th>\n",
       "      <th>ELUC_diff</th>\n",
       "      <th>c3ann</th>\n",
       "      <th>c3ann_diff</th>\n",
       "      <th>c3nfx</th>\n",
       "      <th>c3nfx_diff</th>\n",
       "      <th>c3per</th>\n",
       "      <th>c3per_diff</th>\n",
       "      <th>c4ann</th>\n",
       "      <th>c4ann_diff</th>\n",
       "      <th>c4per</th>\n",
       "      <th>...</th>\n",
       "      <th>secdf_diff</th>\n",
       "      <th>secdn</th>\n",
       "      <th>secdn_diff</th>\n",
       "      <th>urban</th>\n",
       "      <th>urban_diff</th>\n",
       "      <th>ELUC</th>\n",
       "      <th>cell_area</th>\n",
       "      <th>mask</th>\n",
       "      <th>country</th>\n",
       "      <th>country_name</th>\n",
       "    </tr>\n",
       "    <tr>\n",
       "      <th>time</th>\n",
       "      <th>lat</th>\n",
       "      <th>lon</th>\n",
       "      <th></th>\n",
       "      <th></th>\n",
       "      <th></th>\n",
       "      <th></th>\n",
       "      <th></th>\n",
       "      <th></th>\n",
       "      <th></th>\n",
       "      <th></th>\n",
       "      <th></th>\n",
       "      <th></th>\n",
       "      <th></th>\n",
       "      <th></th>\n",
       "      <th></th>\n",
       "      <th></th>\n",
       "      <th></th>\n",
       "      <th></th>\n",
       "      <th></th>\n",
       "      <th></th>\n",
       "      <th></th>\n",
       "      <th></th>\n",
       "      <th></th>\n",
       "    </tr>\n",
       "  </thead>\n",
       "  <tbody>\n",
       "    <tr>\n",
       "      <th rowspan=\"5\" valign=\"top\">1851</th>\n",
       "      <th rowspan=\"5\" valign=\"top\">-55.375</th>\n",
       "      <th>-69.375</th>\n",
       "      <td>1.585186e-04</td>\n",
       "      <td>1.529372e-07</td>\n",
       "      <td>-1.466177e-09</td>\n",
       "      <td>0.000000e+00</td>\n",
       "      <td>0.000000e+00</td>\n",
       "      <td>0.000000e+00</td>\n",
       "      <td>0.000000e+00</td>\n",
       "      <td>0.000000e+00</td>\n",
       "      <td>0.000000e+00</td>\n",
       "      <td>0.0</td>\n",
       "      <td>...</td>\n",
       "      <td>1.048539e-04</td>\n",
       "      <td>0.000000</td>\n",
       "      <td>0.000000e+00</td>\n",
       "      <td>0.0</td>\n",
       "      <td>0.0</td>\n",
       "      <td>4.283220e-03</td>\n",
       "      <td>43908.949219</td>\n",
       "      <td>1.0</td>\n",
       "      <td>10.0</td>\n",
       "      <td>Chile</td>\n",
       "    </tr>\n",
       "    <tr>\n",
       "      <th>-69.125</th>\n",
       "      <td>-1.669832e-09</td>\n",
       "      <td>6.256299e-08</td>\n",
       "      <td>-4.925624e-10</td>\n",
       "      <td>8.209591e-09</td>\n",
       "      <td>-6.463452e-11</td>\n",
       "      <td>1.742937e-08</td>\n",
       "      <td>-1.372218e-10</td>\n",
       "      <td>8.359032e-09</td>\n",
       "      <td>-6.581136e-11</td>\n",
       "      <td>0.0</td>\n",
       "      <td>...</td>\n",
       "      <td>-1.396984e-09</td>\n",
       "      <td>0.000000</td>\n",
       "      <td>0.000000e+00</td>\n",
       "      <td>0.0</td>\n",
       "      <td>0.0</td>\n",
       "      <td>-3.430041e-07</td>\n",
       "      <td>43908.949219</td>\n",
       "      <td>1.0</td>\n",
       "      <td>10.0</td>\n",
       "      <td>Chile</td>\n",
       "    </tr>\n",
       "    <tr>\n",
       "      <th>-68.875</th>\n",
       "      <td>3.134616e-07</td>\n",
       "      <td>2.541674e-08</td>\n",
       "      <td>3.165289e-08</td>\n",
       "      <td>0.000000e+00</td>\n",
       "      <td>0.000000e+00</td>\n",
       "      <td>0.000000e+00</td>\n",
       "      <td>0.000000e+00</td>\n",
       "      <td>0.000000e+00</td>\n",
       "      <td>0.000000e+00</td>\n",
       "      <td>0.0</td>\n",
       "      <td>...</td>\n",
       "      <td>0.000000e+00</td>\n",
       "      <td>0.000034</td>\n",
       "      <td>-3.637979e-12</td>\n",
       "      <td>0.0</td>\n",
       "      <td>0.0</td>\n",
       "      <td>3.217266e-06</td>\n",
       "      <td>43908.949219</td>\n",
       "      <td>1.0</td>\n",
       "      <td>10.0</td>\n",
       "      <td>Chile</td>\n",
       "    </tr>\n",
       "    <tr>\n",
       "      <th>-68.625</th>\n",
       "      <td>-2.126626e-08</td>\n",
       "      <td>6.788947e-08</td>\n",
       "      <td>-7.737526e-10</td>\n",
       "      <td>0.000000e+00</td>\n",
       "      <td>0.000000e+00</td>\n",
       "      <td>0.000000e+00</td>\n",
       "      <td>0.000000e+00</td>\n",
       "      <td>0.000000e+00</td>\n",
       "      <td>0.000000e+00</td>\n",
       "      <td>0.0</td>\n",
       "      <td>...</td>\n",
       "      <td>0.000000e+00</td>\n",
       "      <td>0.000038</td>\n",
       "      <td>5.940819e-09</td>\n",
       "      <td>0.0</td>\n",
       "      <td>0.0</td>\n",
       "      <td>-7.565677e-08</td>\n",
       "      <td>43908.949219</td>\n",
       "      <td>1.0</td>\n",
       "      <td>10.0</td>\n",
       "      <td>Chile</td>\n",
       "    </tr>\n",
       "    <tr>\n",
       "      <th>-68.375</th>\n",
       "      <td>-8.974894e-09</td>\n",
       "      <td>1.061018e-06</td>\n",
       "      <td>-5.096126e-09</td>\n",
       "      <td>0.000000e+00</td>\n",
       "      <td>0.000000e+00</td>\n",
       "      <td>0.000000e+00</td>\n",
       "      <td>0.000000e+00</td>\n",
       "      <td>0.000000e+00</td>\n",
       "      <td>0.000000e+00</td>\n",
       "      <td>0.0</td>\n",
       "      <td>...</td>\n",
       "      <td>0.000000e+00</td>\n",
       "      <td>0.000044</td>\n",
       "      <td>-3.637979e-12</td>\n",
       "      <td>0.0</td>\n",
       "      <td>0.0</td>\n",
       "      <td>-3.761452e-07</td>\n",
       "      <td>43908.949219</td>\n",
       "      <td>1.0</td>\n",
       "      <td>10.0</td>\n",
       "      <td>Chile</td>\n",
       "    </tr>\n",
       "  </tbody>\n",
       "</table>\n",
       "<p>5 rows × 31 columns</p>\n",
       "</div>"
      ],
      "text/plain": [
       "                         ELUC_diff         c3ann    c3ann_diff         c3nfx  \\\n",
       "time lat     lon                                                               \n",
       "1851 -55.375 -69.375  1.585186e-04  1.529372e-07 -1.466177e-09  0.000000e+00   \n",
       "             -69.125 -1.669832e-09  6.256299e-08 -4.925624e-10  8.209591e-09   \n",
       "             -68.875  3.134616e-07  2.541674e-08  3.165289e-08  0.000000e+00   \n",
       "             -68.625 -2.126626e-08  6.788947e-08 -7.737526e-10  0.000000e+00   \n",
       "             -68.375 -8.974894e-09  1.061018e-06 -5.096126e-09  0.000000e+00   \n",
       "\n",
       "                        c3nfx_diff         c3per    c3per_diff         c4ann  \\\n",
       "time lat     lon                                                               \n",
       "1851 -55.375 -69.375  0.000000e+00  0.000000e+00  0.000000e+00  0.000000e+00   \n",
       "             -69.125 -6.463452e-11  1.742937e-08 -1.372218e-10  8.359032e-09   \n",
       "             -68.875  0.000000e+00  0.000000e+00  0.000000e+00  0.000000e+00   \n",
       "             -68.625  0.000000e+00  0.000000e+00  0.000000e+00  0.000000e+00   \n",
       "             -68.375  0.000000e+00  0.000000e+00  0.000000e+00  0.000000e+00   \n",
       "\n",
       "                        c4ann_diff  c4per  ...    secdf_diff     secdn  \\\n",
       "time lat     lon                           ...                           \n",
       "1851 -55.375 -69.375  0.000000e+00    0.0  ...  1.048539e-04  0.000000   \n",
       "             -69.125 -6.581136e-11    0.0  ... -1.396984e-09  0.000000   \n",
       "             -68.875  0.000000e+00    0.0  ...  0.000000e+00  0.000034   \n",
       "             -68.625  0.000000e+00    0.0  ...  0.000000e+00  0.000038   \n",
       "             -68.375  0.000000e+00    0.0  ...  0.000000e+00  0.000044   \n",
       "\n",
       "                        secdn_diff  urban  urban_diff          ELUC  \\\n",
       "time lat     lon                                                      \n",
       "1851 -55.375 -69.375  0.000000e+00    0.0         0.0  4.283220e-03   \n",
       "             -69.125  0.000000e+00    0.0         0.0 -3.430041e-07   \n",
       "             -68.875 -3.637979e-12    0.0         0.0  3.217266e-06   \n",
       "             -68.625  5.940819e-09    0.0         0.0 -7.565677e-08   \n",
       "             -68.375 -3.637979e-12    0.0         0.0 -3.761452e-07   \n",
       "\n",
       "                         cell_area  mask  country  country_name  \n",
       "time lat     lon                                                 \n",
       "1851 -55.375 -69.375  43908.949219   1.0     10.0         Chile  \n",
       "             -69.125  43908.949219   1.0     10.0         Chile  \n",
       "             -68.875  43908.949219   1.0     10.0         Chile  \n",
       "             -68.625  43908.949219   1.0     10.0         Chile  \n",
       "             -68.375  43908.949219   1.0     10.0         Chile  \n",
       "\n",
       "[5 rows x 31 columns]"
      ]
     },
     "execution_count": 13,
     "metadata": {},
     "output_type": "execute_result"
    }
   ],
   "source": [
    "df = da_to_df(raw)\n",
    "print(df.shape)\n",
    "df.head()"
   ]
  },
  {
   "cell_type": "code",
   "execution_count": null,
   "metadata": {},
   "outputs": [],
   "source": [
    "eu_df = subset_countries(df, COUNTRY_NAME_LIST)\n",
    "print(eu_df.shape)\n",
    "eu_df.head()"
   ]
  },
  {
   "attachments": {},
   "cell_type": "markdown",
   "metadata": {},
   "source": [
    "## Model"
   ]
  },
  {
   "cell_type": "markdown",
   "metadata": {},
   "source": [
    "### Train general model"
   ]
  },
  {
   "cell_type": "code",
   "execution_count": 26,
   "metadata": {},
   "outputs": [],
   "source": [
    "def eval_model(model, df, test_year):\n",
    "    test = df.loc[test_year:]\n",
    "    X_test = test[FEATURES]\n",
    "    y_test = test[LABEL]\n",
    "    y_pred = model.predict(X_test)\n",
    "    mae = mean_absolute_error(y_test, y_pred)\n",
    "    return mae\n",
    "\n",
    "def train_model(df, test_year):\n",
    "    model = LinearRegression(n_jobs=-1)\n",
    "    train = df.loc[:test_year]\n",
    "    X_train = train[FEATURES]\n",
    "    y_train = train[LABEL]\n",
    "    model.fit(X_train, y_train)\n",
    "    mae = eval_model(model, df, test_year)\n",
    "    return model, mae"
   ]
  },
  {
   "cell_type": "code",
   "execution_count": 37,
   "metadata": {},
   "outputs": [],
   "source": [
    "def plot_model_weights(model, title):\n",
    "    plt.bar(LAND_DIFF_FEATURES, model.coef_)\n",
    "    plt.title(title)\n",
    "    plt.xticks(rotation=90)\n",
    "    plt.show()"
   ]
  },
  {
   "cell_type": "code",
   "execution_count": 39,
   "metadata": {},
   "outputs": [
    {
     "name": "stdout",
     "output_type": "stream",
     "text": [
      "total mae: 0.07230156660079956\n",
      "eu mae: 0.14098775386810303\n"
     ]
    },
    {
     "data": {
      "image/png": "[encoded data removed]",
      "text/plain": [
       "<Figure size 432x288 with 1 Axes>"
      ]
     },
     "metadata": {
      "needs_background": "light"
     },
     "output_type": "display_data"
    }
   ],
   "source": [
    "model, mae = train_model(df, 2012)\n",
    "print(f\"total mae: {mae}\")\n",
    "\n",
    "whole_eu_mae = eval_model(model, eu_df, 2012)\n",
    "print(f\"eu mae: {whole_eu_mae}\")\n",
    "\n",
    "plot_model_weights(model, \"Whole world\")"
   ]
  },
  {
   "cell_type": "code",
   "execution_count": 43,
   "metadata": {},
   "outputs": [
    {
     "name": "stdout",
     "output_type": "stream",
     "text": [
      "eu mae: 0.03312671184539795\n"
     ]
    },
    {
     "data": {
      "image/png": "[encoded data removed]",
      "text/plain": [
       "<Figure size 432x288 with 1 Axes>"
      ]
     },
     "metadata": {
      "needs_background": "light"
     },
     "output_type": "display_data"
    }
   ],
   "source": [
    "eu_model, eu_mae = train_model(eu_df, 2012)\n",
    "print(f\"eu mae: {eu_mae}\")\n",
    "\n",
    "plot_model_weights(eu_model, \"EU\")"
   ]
  },
  {
   "cell_type": "code",
   "execution_count": 22,
   "metadata": {},
   "outputs": [],
   "source": [
    "def find_best_start_year(df, test_year, verbose=0):\n",
    "    years_df = pd.DataFrame(columns=df.columns)\n",
    "    years = list(range(1852, test_year + 10, 10))\n",
    "\n",
    "    test = df.loc[years[-1]:]\n",
    "    X_test = test[FEATURES]\n",
    "    y_test = test[LABEL]\n",
    "\n",
    "    best_mae = np.inf\n",
    "    best_year = None\n",
    "    best_model = None\n",
    "    for i in range(1, len(years)):\n",
    "        start = years[len(years) - i - 1]\n",
    "        end = years[len(years) - i]\n",
    "        to_append = df.loc[start:end]\n",
    "        years_df = pd.concat((years_df, to_append), axis=0)\n",
    "        \n",
    "        X_train = years_df[FEATURES]\n",
    "        y_train = years_df[LABEL]\n",
    "        model = LinearRegression(n_jobs=-1)\n",
    "        model.fit(X_train, y_train)\n",
    "        y_pred = model.predict(X_test)\n",
    "        mae = mean_absolute_error(y_test, y_pred)\n",
    "        if verbose > 0:\n",
    "            print(f\"{start} : {mae}\")\n",
    "\n",
    "        if mae < best_mae:\n",
    "            best_mae = mae\n",
    "            best_year = start\n",
    "            best_model = model\n",
    "\n",
    "    return best_model, best_mae, best_year"
   ]
  },
  {
   "cell_type": "markdown",
   "metadata": {},
   "source": [
    "### Tune on specific regions"
   ]
  },
  {
   "cell_type": "markdown",
   "metadata": {},
   "source": [
    "#### United States"
   ]
  },
  {
   "cell_type": "code",
   "execution_count": null,
   "metadata": {},
   "outputs": [
    {
     "data": {
      "text/html": [
       "<div>\n",
       "<style scoped>\n",
       "    .dataframe tbody tr th:only-of-type {\n",
       "        vertical-align: middle;\n",
       "    }\n",
       "\n",
       "    .dataframe tbody tr th {\n",
       "        vertical-align: top;\n",
       "    }\n",
       "\n",
       "    .dataframe thead th {\n",
       "        text-align: right;\n",
       "    }\n",
       "</style>\n",
       "<table border=\"1\" class=\"dataframe\">\n",
       "  <thead>\n",
       "    <tr style=\"text-align: right;\">\n",
       "      <th></th>\n",
       "      <th>abbrevs</th>\n",
       "      <th>names</th>\n",
       "    </tr>\n",
       "    <tr>\n",
       "      <th>numbers</th>\n",
       "      <th></th>\n",
       "      <th></th>\n",
       "    </tr>\n",
       "  </thead>\n",
       "  <tbody>\n",
       "    <tr>\n",
       "      <th>143</th>\n",
       "      <td>GB</td>\n",
       "      <td>United Kingdom</td>\n",
       "    </tr>\n",
       "  </tbody>\n",
       "</table>\n",
       "</div>"
      ],
      "text/plain": [
       "        abbrevs           names\n",
       "numbers                        \n",
       "143          GB  United Kingdom"
      ]
     },
     "metadata": {},
     "output_type": "display_data"
    }
   ],
   "source": [
    "countries_df[countries_df[\"names\"] == \"United Kingdom\"]"
   ]
  },
  {
   "cell_type": "markdown",
   "metadata": {},
   "source": [
    "#### Europe"
   ]
  },
  {
   "cell_type": "code",
   "execution_count": null,
   "metadata": {},
   "outputs": [
    {
     "name": "stdout",
     "output_type": "stream",
     "text": [
      "EU: 0.02580469287931919\n"
     ]
    },
    {
     "data": {
      "text/plain": [
       "['../demo/predictors/countries/143_linear.joblib']"
      ]
     },
     "metadata": {},
     "output_type": "display_data"
    }
   ],
   "source": [
    "eu_idx = countries_df[countries_df[\"abbrevs\"].isin(COUNTRY_NAME_LIST)].index.values\n",
    "eu_df = df[df[\"country\"].isin(eu_idx)]\n",
    "eu_model, eu_year, eu_mae = find_best_start_year(eu_df)\n",
    "print(f\"EU: {eu_mae}\")\n",
    "\n",
    "# dump(eu_model, f\"../demo/predictors/countries/143_linear.joblib\")"
   ]
  },
  {
   "cell_type": "markdown",
   "metadata": {},
   "source": [
    "#### Greedy Search"
   ]
  },
  {
   "cell_type": "code",
   "execution_count": null,
   "metadata": {},
   "outputs": [],
   "source": [
    "start_country = \"F\"\n"
   ]
  },
  {
   "cell_type": "markdown",
   "metadata": {},
   "source": [
    "#### Brazil"
   ]
  },
  {
   "cell_type": "code",
   "execution_count": null,
   "metadata": {},
   "outputs": [
    {
     "name": "stdout",
     "output_type": "stream",
     "text": [
      "0.11708375\n"
     ]
    },
    {
     "data": {
      "text/plain": [
       "['../demo/predictors/countries/29_linear.joblib']"
      ]
     },
     "metadata": {},
     "output_type": "display_data"
    }
   ],
   "source": [
    "brazil_countries = [\"Brazil\", \"Bolivia\", \"Paraguay\", \"Peru\", \"Ecuador\", \"Colombia\", \"Venezuela\", \"Guyana\", \"Suriname\", \"French Guiana\", \"Uruguay\", \"Argentina\", \"Chile\"]\n",
    "brazil_idx = countries_df[countries_df[\"names\"].isin(brazil_countries)].index.values\n",
    "brazil_df = df[df[\"country\"].isin(brazil_idx)]\n",
    "brazil_model, brazil_year, brazil_mae = find_best_start_year(brazil_df)\n",
    "\n",
    "test_idx = countries_df[countries_df[\"names\"] == \"Brazil\"].index[0]\n",
    "test = df[df[\"country\"]==test_idx]\n",
    "test = df.loc[2012:]\n",
    "X_test = test[FEATURES]\n",
    "y_test = test[LABEL]\n",
    "print(mean_absolute_error(y_test, brazil_model.predict(X_test)))\n",
    "\n",
    "# dump(brazil_model, f\"../demo/predictors/countries/{test_idx}_linear.joblib\")\n"
   ]
  },
  {
   "cell_type": "code",
   "execution_count": null,
   "metadata": {},
   "outputs": [],
   "source": [
    "i = 4"
   ]
  },
  {
   "cell_type": "markdown",
   "metadata": {},
   "source": [
    "#### Plot differences between individual models and general one"
   ]
  },
  {
   "cell_type": "code",
   "execution_count": null,
   "metadata": {},
   "outputs": [
    {
     "data": {
      "image/png": "[encoded data removed]",
      "text/plain": [
       "<Figure size 1800x288 with 1 Axes>"
      ]
     },
     "metadata": {},
     "output_type": "display_data"
    }
   ],
   "source": [
    "diffs = [mae - big_mae for mae, big_mae in zip(maes, big_maes)]\n",
    "plt.figure(figsize=(25, 4))\n",
    "plt.title(\"Individual model MAE - general model MAE\")\n",
    "plt.ylabel(\"MAE\")\n",
    "plt.bar(countries_df[\"abbrevs\"], diffs)\n",
    "plt.xticks(rotation=90, fontsize=7)\n",
    "plt.show()"
   ]
  },
  {
   "cell_type": "code",
   "execution_count": null,
   "metadata": {},
   "outputs": [],
   "source": []
  },
  {
   "cell_type": "markdown",
   "metadata": {},
   "source": [
    "### Train by latitude"
   ]
  },
  {
   "cell_type": "code",
   "execution_count": 14,
   "metadata": {},
   "outputs": [],
   "source": [
    "def train_lat_zones(df, lat_zones):\n",
    "    idx_vals = df.index.get_level_values('lat')\n",
    "    lat_models = []\n",
    "    tae = 0\n",
    "    n = 0\n",
    "    for i, zone in enumerate(lat_zones):\n",
    "        pos = (idx_vals >= zone[0]) & (idx_vals < zone[1])\n",
    "        neg = (idx_vals <= -zone[0]) & (idx_vals > -zone[1])\n",
    "        df_zone = df.loc[(pos) | (neg)]\n",
    "\n",
    "        model, year, mae = find_best_start_year(df_zone)\n",
    "        lat_models.append(model)\n",
    "\n",
    "        time_vals = df_zone.index.get_level_values('time')\n",
    "        num = len(df_zone.loc[time_vals >= 2012])\n",
    "        tae += num * mae\n",
    "        n += num\n",
    "        print(f\"{zone} : {year} : {num} : {mae}\")\n",
    "\n",
    "\n",
    "    print(f\"tmae : {tae / n}\")\n",
    "    return lat_models\n",
    "\n",
    "def eval_lat_models_countries(df, lat_models, lat_zones, test_year):\n",
    "    idx_vals = df.index.get_level_values('lat')\n",
    "    for i, zone in enumerate(lat_zones):\n",
    "        print(f\"Zone: {zone}\")\n",
    "        pos = (idx_vals >= zone[0]) & (idx_vals < zone[1])\n",
    "        neg = (idx_vals <= -zone[0]) & (idx_vals > -zone[1])\n",
    "        df_zone = df.loc[(pos) | (neg)]\n",
    "        for country in df_zone[\"country\"].unique():\n",
    "            df_country = df_zone[df_zone[\"country\"] == country]\n",
    "            test = df_country.loc[test_year:]\n",
    "            X_test = test[FEATURES]\n",
    "            y_test = test[LABEL]\n",
    "            model = lat_models[i]\n",
    "            y_pred = model.predict(X_test)\n",
    "            print(f\"\\t{countries_df.iloc[int(country)]['names']} : {mean_absolute_error(y_test, y_pred)}\")"
   ]
  },
  {
   "cell_type": "code",
   "execution_count": 15,
   "metadata": {},
   "outputs": [
    {
     "name": "stdout",
     "output_type": "stream",
     "text": [
      "(0, 23.5) : 2002 : 654250 : 0.10516833513975143\n",
      "(23.5, 40) : 1872 : 537450 : 0.0719539150595665\n",
      "(40, 60) : 1862 : 636340 : 0.06187371164560318\n",
      "(60, 90) : 1962 : 592310 : 0.006592103745788336\n",
      "tmae : 0.06228657076545847\n",
      "Zone: (0, 23.5)\n",
      "\tChile : 0.004657070618122816\n",
      "\tArgentina : 0.05517253279685974\n",
      "\tParaguay : 0.21034173667430878\n",
      "\tBrazil : 0.17116178572177887\n",
      "\tNamibia : 0.010462622158229351\n",
      "\tBotswana : 0.015911279246211052\n",
      "\tSouth Africa : 0.012933804653584957\n",
      "\tMozambique : 0.05408736690878868\n",
      "\tMadagascar : 0.08428777754306793\n",
      "\tAustralia : 0.03479412570595741\n",
      "\tBolivia : 0.0650295540690422\n",
      "\tZimbabwe : 0.049378711730241776\n",
      "\tNew Caledonia : 0.024725956842303276\n",
      "\tPeru : 0.07732682675123215\n",
      "\tFiji : 0.311270147562027\n",
      "\tAngola : 0.09140355885028839\n",
      "\tZambia : 0.0755486711859703\n",
      "\tMalawi : 0.06590357422828674\n",
      "\tVanuatu : 0.0977180153131485\n",
      "\tDem. Rep. Congo : 0.11972624063491821\n",
      "\tTanzania : 0.12938565015792847\n",
      "\tPapua New Guinea : 0.00931924395263195\n",
      "\tSolomon Is. : 0.16999788582324982\n",
      "\tIndonesia : 0.1792333573102951\n",
      "\tTimor-Leste : 0.22586344182491302\n",
      "\tEcuador : 0.22698169946670532\n",
      "\tCongo : 0.07099262624979019\n",
      "\tBurundi : 0.3963652551174164\n",
      "\tKenya : 0.07841923087835312\n",
      "\tColombia : 0.14688828587532043\n",
      "\tGabon : 0.05137348920106888\n",
      "\tRwanda : 0.18919044733047485\n",
      "\tUganda : 0.04381554201245308\n",
      "\tSomalia : 0.006600083317607641\n",
      "\tVenezuela : 0.03436756879091263\n",
      "\tMalaysia : 0.06971552968025208\n",
      "\tEq. Guinea : 0.02661913074553013\n",
      "\tGuyana : 0.014214872382581234\n",
      "\tSuriname : 0.007282255217432976\n",
      "\tCameroon : 0.03976576775312424\n",
      "\tFrance : 0.008154687471687794\n",
      "\tCentral African Rep. : 0.016214514151215553\n",
      "\tS. Sudan : 0.053756993263959885\n",
      "\tEthiopia : 0.21211634576320648\n",
      "\tBrunei : 0.037358809262514114\n",
      "\tCôte d'Ivoire : 0.3564819395542145\n",
      "\tNigeria : 0.09842878580093384\n",
      "\tLiberia : 0.055475786328315735\n",
      "\tGhana : 0.08825765550136566\n",
      "\tPhilippines : 0.036356814205646515\n",
      "\tThailand : 0.13532695174217224\n",
      "\tTogo : 0.1785859912633896\n",
      "\tSri Lanka : 0.21380549669265747\n",
      "\tBenin : 0.30636200308799744\n",
      "\tSierra Leone : 0.1887965202331543\n",
      "\tPanama : 0.0343778133392334\n",
      "\tGuinea : 0.1415208876132965\n",
      "\tChad : 0.043674733489751816\n",
      "\tSomaliland : 0.007697716820985079\n",
      "\tCosta Rica : 0.0877668708562851\n",
      "\tSudan : 0.046559907495975494\n",
      "\tVietnam : 0.4712236523628235\n",
      "\tIndia : 0.1702532321214676\n",
      "\tBurkina Faso : 0.02351054921746254\n",
      "\tTrinidad and Tobago : 0.022399626672267914\n",
      "\tMyanmar : 0.047171853482723236\n",
      "\tMali : 0.04144704341888428\n",
      "\tCambodia : 0.11465131491422653\n",
      "\tNicaragua : 0.08846577256917953\n",
      "\tGuinea-Bissau : 0.21488916873931885\n",
      "\tDjibouti : 0.017642736434936523\n",
      "\tNiger : 0.0545613169670105\n",
      "\tSenegal : 0.025277236476540565\n",
      "\tEritrea : 0.08349698781967163\n",
      "\tYemen : 0.016403047367930412\n",
      "\tHonduras : 0.11052753031253815\n",
      "\tEl Salvador : 0.1533384621143341\n",
      "\tGambia : 0.05404823273420334\n",
      "\tGuatemala : 0.1184600219130516\n",
      "\tLaos : 0.05560268089175224\n",
      "\tMexico : 0.45789963006973267\n",
      "\tMauritania : 0.030979642644524574\n",
      "\tBelize : 0.2648468017578125\n",
      "\tSaudi Arabia : 0.024420108646154404\n",
      "\tOman : 0.011951493099331856\n",
      "\tJamaica : 0.10093449801206589\n",
      "\tDominican Rep. : 0.05560022220015526\n",
      "\tHaiti : 0.332050085067749\n",
      "\tPuerto Rico : 0.09475390613079071\n",
      "\tChina : 0.16468022763729095\n",
      "\tUnited States of America : 0.16380026936531067\n",
      "\tAlgeria : 0.01974942721426487\n",
      "\tCuba : 0.23978650569915771\n",
      "\tLibya : 0.015832651406526566\n",
      "\tBangladesh : 0.02210812270641327\n",
      "\tW. Sahara : 0.004569629207253456\n",
      "\tMorocco : 0.006229856051504612\n",
      "\tEgypt : 0.013698062859475613\n",
      "\tTaiwan : 0.044190913438797\n",
      "\tUnited Arab Emirates : 0.002527449047192931\n",
      "Zone: (23.5, 40)\n",
      "\tChile : 0.09581455588340759\n",
      "\tArgentina : 0.03990219533443451\n",
      "\tNew Zealand : 0.22185097634792328\n",
      "\tAustralia : 0.04095835983753204\n",
      "\tUruguay : 0.19459444284439087\n",
      "\tSouth Africa : 0.016863659024238586\n",
      "\tBrazil : 0.2823834717273712\n",
      "\tLesotho : 0.43039894104003906\n",
      "\tNamibia : 0.002341068349778652\n",
      "\tParaguay : 0.16746020317077637\n",
      "\teSwatini : 0.010223379358649254\n",
      "\tBotswana : 0.036383889615535736\n",
      "\tMozambique : 0.03463605418801308\n",
      "\tMadagascar : 0.06845082342624664\n",
      "\tMexico : 0.12614797055721283\n",
      "\tMorocco : 0.08353506773710251\n",
      "\tW. Sahara : 0.0032228603959083557\n",
      "\tMauritania : 0.001217765617184341\n",
      "\tMali : 0.00042517666588537395\n",
      "\tAlgeria : 0.006073900498449802\n",
      "\tLibya : 0.003338706446811557\n",
      "\tEgypt : 0.028148390352725983\n",
      "\tSaudi Arabia : 0.037135761231184006\n",
      "\tUnited Arab Emirates : 0.05086860805749893\n",
      "\tOman : 0.049662478268146515\n",
      "\tIndia : 0.05701683834195137\n",
      "\tBangladesh : 0.15470118820667267\n",
      "\tMyanmar : 0.14615926146507263\n",
      "\tChina : 0.14579923450946808\n",
      "\tTaiwan : 0.1255759596824646\n",
      "\tBahamas : 0.00393084529787302\n",
      "\tPakistan : 0.09159465879201889\n",
      "\tQatar : 0.05610458925366402\n",
      "\tIran : 0.018323732540011406\n",
      "\tUnited States of America : 0.06001196801662445\n",
      "\tNepal : 0.16557715833187103\n",
      "\tBhutan : 0.23415252566337585\n",
      "\tKuwait : 0.08042147010564804\n",
      "\tIraq : 0.20216938853263855\n",
      "\tJordan : 0.05252207815647125\n",
      "\tAfghanistan : 0.019582698121666908\n",
      "\tIsrael : 0.2543170154094696\n",
      "\tTunisia : 0.13801166415214539\n",
      "\tJapan : 0.02108200639486313\n",
      "\tPalestine : 0.11600742489099503\n",
      "\tSyria : 0.013194028288125992\n",
      "\tLebanon : 0.06890793144702911\n",
      "\tSouth Korea : 0.07423229515552521\n",
      "\tCyprus : 0.3386008143424988\n",
      "\tGreece : 0.4571726620197296\n",
      "\tN. Cyprus : 0.7154685854911804\n",
      "\tTurkmenistan : 0.004917037673294544\n",
      "\tTurkey : 0.03112529218196869\n",
      "\tSpain : 0.0821114033460617\n",
      "\tItaly : 0.2075948715209961\n",
      "\tTajikistan : 0.044313620775938034\n",
      "\tPortugal : 0.10315034538507462\n",
      "\tUzbekistan : 0.03725024312734604\n",
      "\tNorth Korea : 0.028907671570777893\n",
      "\tAzerbaijan : 0.12770304083824158\n",
      "\tArmenia : 0.025339528918266296\n",
      "\tKyrgyzstan : 0.023246709257364273\n",
      "\tAlbania : 0.0679202526807785\n",
      "Zone: (40, 60)\n",
      "\tChile : 0.06854593008756638\n",
      "\tArgentina : 0.019053082913160324\n",
      "\tFalkland Is. : 0.008758941665291786\n",
      "\tFr. S. Antarctic Lands : 0.008934908546507359\n",
      "\tNew Zealand : 0.16079303622245789\n",
      "\tAustralia : 0.13359083235263824\n",
      "\tUnited States of America : 0.05196813493967056\n",
      "\tPortugal : 0.11041994392871857\n",
      "\tSpain : 0.12239424139261246\n",
      "\tItaly : 0.14560478925704956\n",
      "\tAlbania : 0.07658276706933975\n",
      "\tGreece : 0.42851829528808594\n",
      "\tTurkey : 0.03485873341560364\n",
      "\tArmenia : 0.062263235449790955\n",
      "\tAzerbaijan : 0.17611615359783173\n",
      "\tTurkmenistan : 0.011467834934592247\n",
      "\tUzbekistan : 0.02775155007839203\n",
      "\tTajikistan : 0.036487121134996414\n",
      "\tKyrgyzstan : 0.028706226497888565\n",
      "\tChina : 0.11753663420677185\n",
      "\tNorth Korea : 0.0506654717028141\n",
      "\tJapan : 0.010381809435784817\n",
      "\tNorth Macedonia : 0.07375653088092804\n",
      "\tKazakhstan : 0.027754031121730804\n",
      "\tGeorgia : 0.1404687613248825\n",
      "\tBulgaria : 0.11078589409589767\n",
      "\tRussia : 0.07052833586931229\n",
      "\tFrance : 0.0465732105076313\n",
      "\tCanada : 0.022337215021252632\n",
      "\tKosovo : 0.12096758931875229\n",
      "\tMongolia : 0.0358540415763855\n",
      "\tMontenegro : 0.48549509048461914\n",
      "\tSerbia : 0.07642907649278641\n",
      "\tCroatia : 0.35104161500930786\n",
      "\tBosnia and Herz. : 0.11830782890319824\n",
      "\tRomania : 0.14239971339702606\n",
      "\tUkraine : 0.07656274735927582\n",
      "\tSlovenia : 0.06665981560945511\n",
      "\tMoldova : 0.18400545418262482\n",
      "\tSwitzerland : 0.03609617426991463\n",
      "\tHungary : 0.04828519746661186\n",
      "\tAustria : 0.06613510102033615\n",
      "\tGermany : 0.04645579308271408\n",
      "\tSlovakia : 0.08091612160205841\n",
      "\tCzechia : 0.38242360949516296\n",
      "\tPoland : 0.051027193665504456\n",
      "\tBelgium : 0.1330740749835968\n",
      "\tLuxembourg : 0.05044732615351677\n",
      "\tUnited Kingdom : 0.27061086893081665\n",
      "\tNetherlands : 0.10509651899337769\n",
      "\tBelarus : 0.11159568279981613\n",
      "\tIreland : 0.45264679193496704\n",
      "\tLithuania : 0.1767818033695221\n",
      "\tDenmark : 0.08289550244808197\n",
      "\tSweden : 0.016707411035895348\n",
      "\tLatvia : 0.11675005406141281\n",
      "\tEstonia : 0.04211052134633064\n",
      "\tNorway : 0.020296333357691765\n",
      "Zone: (60, 90)\n",
      "\tUnited States of America : 0.0008957716054283082\n",
      "\tCanada : 0.00024272213340736926\n",
      "\tGreenland : 0.00012864968448411673\n",
      "\tNorway : 0.0064629679545760155\n",
      "\tSweden : 0.0014389578718692064\n",
      "\tFinland : 0.0046870228834450245\n",
      "\tRussia : 0.013153557665646076\n",
      "\tIceland : 0.0020227311179041862\n"
     ]
    }
   ],
   "source": [
    "lat_zones = [(0, 23.5), (23.5, 40), (40, 60), (60, 90)]\n",
    "#lat_zones = [(0, 5), (5, 10), (10, 15), (15, 20), (20, 25), (25, 30), (30, 35), (35, 40), (40, 60), (60, 90)]\n",
    "lat_models = train_lat_zones(df, lat_zones)\n",
    "eval_lat_models_countries(df, lat_models, lat_zones, 2012)\n",
    "\n",
    "#lat_models_full = train_lat_zones(df, lat_zones, train_year_range, deploy=True)"
   ]
  },
  {
   "cell_type": "markdown",
   "metadata": {},
   "source": [
    "### Map Code"
   ]
  },
  {
   "cell_type": "code",
   "execution_count": 16,
   "metadata": {},
   "outputs": [],
   "source": [
    "def manual_map(code):\n",
    "    return MANUAL_MAP[code] if code in MANUAL_MAP.keys() else np.nan\n",
    "\n",
    "def map_plot_results(maes):\n",
    "    results_df = pd.DataFrame({\"name\": list(countries_df[\"names\"]), \"code\": list(countries_df[\"abbrevs\"]), \"mae\": maes})\n",
    "    print(results_df.shape)\n",
    "    results_df[\"num\"] = results_df[\"code\"].apply(manual_map)\n",
    "    codes_df = pd.read_csv(\"../data/gcb/conversion/codes.csv\")\n",
    "    merged_alpha = results_df.merge(codes_df, how=\"inner\", left_on=\"code\", right_on=\"Alpha-2 code\")\n",
    "    print(merged_alpha.shape)\n",
    "    merged_num = results_df.merge(codes_df, how=\"inner\", left_on=\"num\", right_on=\"Numeric code\")\n",
    "    print(merged_num.shape)\n",
    "\n",
    "    final = pd.concat([merged_alpha, merged_num])\n",
    "    print(final.shape)\n",
    "\n",
    "    print(results_df[~results_df[\"name\"].isin(final[\"name\"])])\n",
    "\n",
    "    fig=px.choropleth(final, locations=\"Alpha-3 code\", color=\"mae\", hover_name=\"English short name lower case\")\n",
    "    fig.show()"
   ]
  },
  {
   "cell_type": "code",
   "execution_count": 17,
   "metadata": {},
   "outputs": [],
   "source": [
    "#map_plot_results(maes)"
   ]
  },
  {
   "cell_type": "markdown",
   "metadata": {},
   "source": [
    "### One big model"
   ]
  },
  {
   "cell_type": "code",
   "execution_count": 33,
   "metadata": {},
   "outputs": [],
   "source": [
    "def train_big_model(df, verbose=0):\n",
    "    model, year, mae = find_best_start_year(df, verbose=verbose)\n",
    "    print(f\"total : {year} : {mae}\")\n",
    "    return model\n",
    "\n",
    "def eval_big_countries(df, model):\n",
    "    for country in df[\"country\"].unique():\n",
    "        df_country = df[df[\"country\"] == country]\n",
    "        test = df_country.loc[2012:]\n",
    "        X_test = test[FEATURES]\n",
    "        y_test = test[LABEL]\n",
    "        y_pred = model.predict(X_test)\n",
    "        print(f\"\\t{countries_df.iloc[int(country)]['names']} : {mean_absolute_error(y_test, y_pred)}\")"
   ]
  },
  {
   "cell_type": "code",
   "execution_count": 34,
   "metadata": {},
   "outputs": [
    {
     "name": "stdout",
     "output_type": "stream",
     "text": [
      "total : 1862 : 0.07320143282413483\n",
      "\tChile : 0.05935186892747879\n",
      "\tArgentina : 0.0332520455121994\n",
      "\tFalkland Is. : 0.003422390902414918\n",
      "\tFr. S. Antarctic Lands : 0.0035780523903667927\n",
      "\tNew Zealand : 0.17733795940876007\n",
      "\tAustralia : 0.05035422369837761\n",
      "\tUruguay : 0.3056822121143341\n",
      "\tSouth Africa : 0.015447142533957958\n",
      "\tBrazil : 0.22473694384098053\n",
      "\tLesotho : 0.4361390769481659\n",
      "\tNamibia : 0.005597725044935942\n",
      "\tParaguay : 0.20393122732639313\n",
      "\teSwatini : 0.009923632256686687\n",
      "\tBotswana : 0.010391957126557827\n",
      "\tMozambique : 0.05319204181432724\n",
      "\tMadagascar : 0.10618831217288971\n",
      "\tBolivia : 0.06632786244153976\n",
      "\tZimbabwe : 0.03028523176908493\n",
      "\tNew Caledonia : 0.0074117956683039665\n",
      "\tPeru : 0.07493804395198822\n",
      "\tFiji : 0.2557278871536255\n",
      "\tAngola : 0.09498321264982224\n",
      "\tZambia : 0.09397637099027634\n",
      "\tMalawi : 0.05719132721424103\n",
      "\tVanuatu : 0.12367340177297592\n",
      "\tDem. Rep. Congo : 0.21152909100055695\n",
      "\tTanzania : 0.11971926689147949\n",
      "\tPapua New Guinea : 0.024857763200998306\n",
      "\tSolomon Is. : 0.2135429084300995\n",
      "\tIndonesia : 0.34315991401672363\n",
      "\tTimor-Leste : 0.3302391767501831\n",
      "\tEcuador : 0.20020028948783875\n",
      "\tCongo : 0.11592809855937958\n",
      "\tBurundi : 0.32452550530433655\n",
      "\tKenya : 0.05370207875967026\n",
      "\tColombia : 0.24530655145645142\n",
      "\tGabon : 0.13455988466739655\n",
      "\tRwanda : 0.14685553312301636\n",
      "\tUganda : 0.06289619952440262\n",
      "\tSomalia : 0.00862376019358635\n",
      "\tVenezuela : 0.0420195497572422\n",
      "\tMalaysia : 0.13529925048351288\n",
      "\tEq. Guinea : 0.08212573081254959\n",
      "\tGuyana : 0.021709052845835686\n",
      "\tSuriname : 0.019069751724600792\n",
      "\tCameroon : 0.07344873249530792\n",
      "\tFrance : 0.056403011083602905\n",
      "\tCentral African Rep. : 0.018499385565519333\n",
      "\tS. Sudan : 0.13319703936576843\n",
      "\tEthiopia : 0.13131596148014069\n",
      "\tBrunei : 0.12052711844444275\n",
      "\tCôte d'Ivoire : 0.2668708264827728\n",
      "\tNigeria : 0.10341347754001617\n",
      "\tLiberia : 0.11765262484550476\n",
      "\tGhana : 0.08191218972206116\n",
      "\tPhilippines : 0.09491188824176788\n",
      "\tThailand : 0.14818206429481506\n",
      "\tTogo : 0.1480747014284134\n",
      "\tSri Lanka : 0.2744446396827698\n",
      "\tBenin : 0.263490229845047\n",
      "\tSierra Leone : 0.15132172405719757\n",
      "\tPanama : 0.09234338253736496\n",
      "\tGuinea : 0.11808114498853683\n",
      "\tChad : 0.044532861560583115\n",
      "\tSomaliland : 0.0058258771896362305\n",
      "\tCosta Rica : 0.20220033824443817\n",
      "\tSudan : 0.04610114172101021\n",
      "\tVietnam : 0.5569966435432434\n",
      "\tIndia : 0.08946437388658524\n",
      "\tBurkina Faso : 0.03433707356452942\n",
      "\tTrinidad and Tobago : 0.045557983219623566\n",
      "\tMyanmar : 0.10585492104291916\n",
      "\tMali : 0.042439546436071396\n",
      "\tCambodia : 0.15899083018302917\n",
      "\tNicaragua : 0.18977797031402588\n",
      "\tGuinea-Bissau : 0.14717894792556763\n",
      "\tDjibouti : 0.008147042244672775\n",
      "\tNiger : 0.07570482790470123\n",
      "\tSenegal : 0.03301683068275452\n",
      "\tEritrea : 0.03948233276605606\n",
      "\tYemen : 0.021632948890328407\n",
      "\tHonduras : 0.2656964063644409\n",
      "\tEl Salvador : 0.15085653960704803\n",
      "\tGambia : 0.05648006498813629\n",
      "\tGuatemala : 0.27662262320518494\n",
      "\tLaos : 0.13035623729228973\n",
      "\tMexico : 0.23802943527698517\n",
      "\tMauritania : 0.017840160056948662\n",
      "\tBelize : 0.33152732253074646\n",
      "\tSaudi Arabia : 0.039037760347127914\n",
      "\tOman : 0.021635400131344795\n",
      "\tJamaica : 0.24584168195724487\n",
      "\tDominican Rep. : 0.06260275095701218\n",
      "\tHaiti : 0.23111511766910553\n",
      "\tPuerto Rico : 0.09607686847448349\n",
      "\tChina : 0.16050204634666443\n",
      "\tUnited States of America : 0.03729606792330742\n",
      "\tAlgeria : 0.011160939000546932\n",
      "\tCuba : 0.14969632029533386\n",
      "\tLibya : 0.007490703370422125\n",
      "\tBangladesh : 0.06591539829969406\n",
      "\tW. Sahara : 0.003631108207628131\n",
      "\tMorocco : 0.11463888734579086\n",
      "\tEgypt : 0.02611606940627098\n",
      "\tTaiwan : 0.10513326525688171\n",
      "\tUnited Arab Emirates : 0.03373241797089577\n",
      "\tBahamas : 0.003825365798547864\n",
      "\tPakistan : 0.13066008687019348\n",
      "\tQatar : 0.07051897048950195\n",
      "\tIran : 0.025725195184350014\n",
      "\tNepal : 0.15214727818965912\n",
      "\tBhutan : 0.1767352670431137\n",
      "\tKuwait : 0.08955984562635422\n",
      "\tIraq : 0.18317894637584686\n",
      "\tJordan : 0.1066121980547905\n",
      "\tAfghanistan : 0.018868910148739815\n",
      "\tIsrael : 0.5227487683296204\n",
      "\tTunisia : 0.25736305117607117\n",
      "\tJapan : 0.013451078906655312\n",
      "\tPalestine : 0.2281070351600647\n",
      "\tSyria : 0.018443798646330833\n",
      "\tLebanon : 0.0810566395521164\n",
      "\tSouth Korea : 0.009997580200433731\n",
      "\tCyprus : 0.3183470368385315\n",
      "\tGreece : 0.5045843720436096\n",
      "\tN. Cyprus : 0.6627302169799805\n",
      "\tTurkmenistan : 0.005512645468115807\n",
      "\tTurkey : 0.03879869729280472\n",
      "\tSpain : 0.12634038925170898\n",
      "\tItaly : 0.19811514019966125\n",
      "\tTajikistan : 0.059710461646318436\n",
      "\tPortugal : 0.15162353217601776\n",
      "\tUzbekistan : 0.02736237831413746\n",
      "\tNorth Korea : 0.015316399745643139\n",
      "\tAzerbaijan : 0.17165249586105347\n",
      "\tArmenia : 0.058588963001966476\n",
      "\tKyrgyzstan : 0.0210336372256279\n",
      "\tAlbania : 0.0813969299197197\n",
      "\tNorth Macedonia : 0.11118907481431961\n",
      "\tKazakhstan : 0.01473922748118639\n",
      "\tGeorgia : 0.12699924409389496\n",
      "\tBulgaria : 0.16960498690605164\n",
      "\tRussia : 0.04217773675918579\n",
      "\tCanada : 0.013247203081846237\n",
      "\tKosovo : 0.15364456176757812\n",
      "\tMongolia : 0.0534081906080246\n",
      "\tMontenegro : 0.44620099663734436\n",
      "\tSerbia : 0.11345910280942917\n",
      "\tCroatia : 0.46007880568504333\n",
      "\tBosnia and Herz. : 0.14590802788734436\n",
      "\tRomania : 0.1914271116256714\n",
      "\tUkraine : 0.0849182978272438\n",
      "\tSlovenia : 0.076520174741745\n",
      "\tMoldova : 0.29876476526260376\n",
      "\tSwitzerland : 0.03710722178220749\n",
      "\tHungary : 0.07727450877428055\n",
      "\tAustria : 0.07700001448392868\n",
      "\tGermany : 0.08158531785011292\n",
      "\tSlovakia : 0.09064681828022003\n",
      "\tCzechia : 0.616183876991272\n",
      "\tPoland : 0.0705128163099289\n",
      "\tBelgium : 0.2391229271888733\n",
      "\tLuxembourg : 0.04581354558467865\n",
      "\tUnited Kingdom : 0.3231445848941803\n",
      "\tNetherlands : 0.16735295951366425\n",
      "\tBelarus : 0.18134231865406036\n",
      "\tIreland : 0.6001211404800415\n",
      "\tLithuania : 0.3069778382778168\n",
      "\tDenmark : 0.11034929007291794\n",
      "\tSweden : 0.010122662410140038\n",
      "\tLatvia : 0.15563316643238068\n",
      "\tEstonia : 0.07667746394872665\n",
      "\tNorway : 0.021269842982292175\n",
      "\tGreenland : 0.0036000206600874662\n",
      "\tFinland : 0.012626498006284237\n",
      "\tIceland : 0.006681959144771099\n"
     ]
    }
   ],
   "source": [
    "big_model = train_big_model(df)\n",
    "#dump(big_model, \"../demo/predictors/ELUC_linear.joblib\")\n",
    "eval_big_countries(df, big_model)"
   ]
  },
  {
   "cell_type": "code",
   "execution_count": 38,
   "metadata": {},
   "outputs": [
    {
     "ename": "KeyboardInterrupt",
     "evalue": "",
     "output_type": "error",
     "traceback": [
      "\u001b[0;31m---------------------------------------------------------------------------\u001b[0m",
      "\u001b[0;31mKeyboardInterrupt\u001b[0m                         Traceback (most recent call last)",
      "\u001b[1;32m/Users/964840/workspace/mvp/model/forest.ipynb Cell 24\u001b[0m in \u001b[0;36m<cell line: 10>\u001b[0;34m()\u001b[0m\n\u001b[1;32m      <a href='vscode-notebook-cell:/Users/964840/workspace/mvp/model/forest.ipynb#Y101sZmlsZQ%3D%3D?line=6'>7</a>\u001b[0m X_train \u001b[39m=\u001b[39m train[FEATURES]\n\u001b[1;32m      <a href='vscode-notebook-cell:/Users/964840/workspace/mvp/model/forest.ipynb#Y101sZmlsZQ%3D%3D?line=7'>8</a>\u001b[0m y_train \u001b[39m=\u001b[39m train[LABEL]\n\u001b[0;32m---> <a href='vscode-notebook-cell:/Users/964840/workspace/mvp/model/forest.ipynb#Y101sZmlsZQ%3D%3D?line=9'>10</a>\u001b[0m big_forest\u001b[39m.\u001b[39;49mfit(X_train, y_train)\n\u001b[1;32m     <a href='vscode-notebook-cell:/Users/964840/workspace/mvp/model/forest.ipynb#Y101sZmlsZQ%3D%3D?line=10'>11</a>\u001b[0m y_pred \u001b[39m=\u001b[39m big_forest\u001b[39m.\u001b[39mpredict(X_test)\n\u001b[1;32m     <a href='vscode-notebook-cell:/Users/964840/workspace/mvp/model/forest.ipynb#Y101sZmlsZQ%3D%3D?line=11'>12</a>\u001b[0m \u001b[39mprint\u001b[39m(\u001b[39mf\u001b[39m\u001b[39m\"\u001b[39m\u001b[39mMAE: \u001b[39m\u001b[39m{\u001b[39;00mmean_absolute_error(y_test, y_pred)\u001b[39m}\u001b[39;00m\u001b[39m\"\u001b[39m)\n",
      "File \u001b[0;32m~/anaconda3/envs/leaf/lib/python3.10/site-packages/sklearn/ensemble/_forest.py:473\u001b[0m, in \u001b[0;36mBaseForest.fit\u001b[0;34m(self, X, y, sample_weight)\u001b[0m\n\u001b[1;32m    462\u001b[0m trees \u001b[39m=\u001b[39m [\n\u001b[1;32m    463\u001b[0m     \u001b[39mself\u001b[39m\u001b[39m.\u001b[39m_make_estimator(append\u001b[39m=\u001b[39m\u001b[39mFalse\u001b[39;00m, random_state\u001b[39m=\u001b[39mrandom_state)\n\u001b[1;32m    464\u001b[0m     \u001b[39mfor\u001b[39;00m i \u001b[39min\u001b[39;00m \u001b[39mrange\u001b[39m(n_more_estimators)\n\u001b[1;32m    465\u001b[0m ]\n\u001b[1;32m    467\u001b[0m \u001b[39m# Parallel loop: we prefer the threading backend as the Cython code\u001b[39;00m\n\u001b[1;32m    468\u001b[0m \u001b[39m# for fitting the trees is internally releasing the Python GIL\u001b[39;00m\n\u001b[1;32m    469\u001b[0m \u001b[39m# making threading more efficient than multiprocessing in\u001b[39;00m\n\u001b[1;32m    470\u001b[0m \u001b[39m# that case. However, for joblib 0.12+ we respect any\u001b[39;00m\n\u001b[1;32m    471\u001b[0m \u001b[39m# parallel_backend contexts set at a higher level,\u001b[39;00m\n\u001b[1;32m    472\u001b[0m \u001b[39m# since correctness does not rely on using threads.\u001b[39;00m\n\u001b[0;32m--> 473\u001b[0m trees \u001b[39m=\u001b[39m Parallel(\n\u001b[1;32m    474\u001b[0m     n_jobs\u001b[39m=\u001b[39;49m\u001b[39mself\u001b[39;49m\u001b[39m.\u001b[39;49mn_jobs,\n\u001b[1;32m    475\u001b[0m     verbose\u001b[39m=\u001b[39;49m\u001b[39mself\u001b[39;49m\u001b[39m.\u001b[39;49mverbose,\n\u001b[1;32m    476\u001b[0m     prefer\u001b[39m=\u001b[39;49m\u001b[39m\"\u001b[39;49m\u001b[39mthreads\u001b[39;49m\u001b[39m\"\u001b[39;49m,\n\u001b[1;32m    477\u001b[0m )(\n\u001b[1;32m    478\u001b[0m     delayed(_parallel_build_trees)(\n\u001b[1;32m    479\u001b[0m         t,\n\u001b[1;32m    480\u001b[0m         \u001b[39mself\u001b[39;49m\u001b[39m.\u001b[39;49mbootstrap,\n\u001b[1;32m    481\u001b[0m         X,\n\u001b[1;32m    482\u001b[0m         y,\n\u001b[1;32m    483\u001b[0m         sample_weight,\n\u001b[1;32m    484\u001b[0m         i,\n\u001b[1;32m    485\u001b[0m         \u001b[39mlen\u001b[39;49m(trees),\n\u001b[1;32m    486\u001b[0m         verbose\u001b[39m=\u001b[39;49m\u001b[39mself\u001b[39;49m\u001b[39m.\u001b[39;49mverbose,\n\u001b[1;32m    487\u001b[0m         class_weight\u001b[39m=\u001b[39;49m\u001b[39mself\u001b[39;49m\u001b[39m.\u001b[39;49mclass_weight,\n\u001b[1;32m    488\u001b[0m         n_samples_bootstrap\u001b[39m=\u001b[39;49mn_samples_bootstrap,\n\u001b[1;32m    489\u001b[0m     )\n\u001b[1;32m    490\u001b[0m     \u001b[39mfor\u001b[39;49;00m i, t \u001b[39min\u001b[39;49;00m \u001b[39menumerate\u001b[39;49m(trees)\n\u001b[1;32m    491\u001b[0m )\n\u001b[1;32m    493\u001b[0m \u001b[39m# Collect newly grown trees\u001b[39;00m\n\u001b[1;32m    494\u001b[0m \u001b[39mself\u001b[39m\u001b[39m.\u001b[39mestimators_\u001b[39m.\u001b[39mextend(trees)\n",
      "File \u001b[0;32m~/anaconda3/envs/leaf/lib/python3.10/site-packages/sklearn/utils/parallel.py:63\u001b[0m, in \u001b[0;36mParallel.__call__\u001b[0;34m(self, iterable)\u001b[0m\n\u001b[1;32m     58\u001b[0m config \u001b[39m=\u001b[39m get_config()\n\u001b[1;32m     59\u001b[0m iterable_with_config \u001b[39m=\u001b[39m (\n\u001b[1;32m     60\u001b[0m     (_with_config(delayed_func, config), args, kwargs)\n\u001b[1;32m     61\u001b[0m     \u001b[39mfor\u001b[39;00m delayed_func, args, kwargs \u001b[39min\u001b[39;00m iterable\n\u001b[1;32m     62\u001b[0m )\n\u001b[0;32m---> 63\u001b[0m \u001b[39mreturn\u001b[39;00m \u001b[39msuper\u001b[39;49m()\u001b[39m.\u001b[39;49m\u001b[39m__call__\u001b[39;49m(iterable_with_config)\n",
      "File \u001b[0;32m~/anaconda3/envs/leaf/lib/python3.10/site-packages/joblib/parallel.py:1098\u001b[0m, in \u001b[0;36mParallel.__call__\u001b[0;34m(self, iterable)\u001b[0m\n\u001b[1;32m   1095\u001b[0m     \u001b[39mself\u001b[39m\u001b[39m.\u001b[39m_iterating \u001b[39m=\u001b[39m \u001b[39mFalse\u001b[39;00m\n\u001b[1;32m   1097\u001b[0m \u001b[39mwith\u001b[39;00m \u001b[39mself\u001b[39m\u001b[39m.\u001b[39m_backend\u001b[39m.\u001b[39mretrieval_context():\n\u001b[0;32m-> 1098\u001b[0m     \u001b[39mself\u001b[39;49m\u001b[39m.\u001b[39;49mretrieve()\n\u001b[1;32m   1099\u001b[0m \u001b[39m# Make sure that we get a last message telling us we are done\u001b[39;00m\n\u001b[1;32m   1100\u001b[0m elapsed_time \u001b[39m=\u001b[39m time\u001b[39m.\u001b[39mtime() \u001b[39m-\u001b[39m \u001b[39mself\u001b[39m\u001b[39m.\u001b[39m_start_time\n",
      "File \u001b[0;32m~/anaconda3/envs/leaf/lib/python3.10/site-packages/joblib/parallel.py:975\u001b[0m, in \u001b[0;36mParallel.retrieve\u001b[0;34m(self)\u001b[0m\n\u001b[1;32m    973\u001b[0m \u001b[39mtry\u001b[39;00m:\n\u001b[1;32m    974\u001b[0m     \u001b[39mif\u001b[39;00m \u001b[39mgetattr\u001b[39m(\u001b[39mself\u001b[39m\u001b[39m.\u001b[39m_backend, \u001b[39m'\u001b[39m\u001b[39msupports_timeout\u001b[39m\u001b[39m'\u001b[39m, \u001b[39mFalse\u001b[39;00m):\n\u001b[0;32m--> 975\u001b[0m         \u001b[39mself\u001b[39m\u001b[39m.\u001b[39m_output\u001b[39m.\u001b[39mextend(job\u001b[39m.\u001b[39;49mget(timeout\u001b[39m=\u001b[39;49m\u001b[39mself\u001b[39;49m\u001b[39m.\u001b[39;49mtimeout))\n\u001b[1;32m    976\u001b[0m     \u001b[39melse\u001b[39;00m:\n\u001b[1;32m    977\u001b[0m         \u001b[39mself\u001b[39m\u001b[39m.\u001b[39m_output\u001b[39m.\u001b[39mextend(job\u001b[39m.\u001b[39mget())\n",
      "File \u001b[0;32m~/anaconda3/envs/leaf/lib/python3.10/multiprocessing/pool.py:768\u001b[0m, in \u001b[0;36mApplyResult.get\u001b[0;34m(self, timeout)\u001b[0m\n\u001b[1;32m    767\u001b[0m \u001b[39mdef\u001b[39;00m \u001b[39mget\u001b[39m(\u001b[39mself\u001b[39m, timeout\u001b[39m=\u001b[39m\u001b[39mNone\u001b[39;00m):\n\u001b[0;32m--> 768\u001b[0m     \u001b[39mself\u001b[39;49m\u001b[39m.\u001b[39;49mwait(timeout)\n\u001b[1;32m    769\u001b[0m     \u001b[39mif\u001b[39;00m \u001b[39mnot\u001b[39;00m \u001b[39mself\u001b[39m\u001b[39m.\u001b[39mready():\n\u001b[1;32m    770\u001b[0m         \u001b[39mraise\u001b[39;00m \u001b[39mTimeoutError\u001b[39;00m\n",
      "File \u001b[0;32m~/anaconda3/envs/leaf/lib/python3.10/multiprocessing/pool.py:765\u001b[0m, in \u001b[0;36mApplyResult.wait\u001b[0;34m(self, timeout)\u001b[0m\n\u001b[1;32m    764\u001b[0m \u001b[39mdef\u001b[39;00m \u001b[39mwait\u001b[39m(\u001b[39mself\u001b[39m, timeout\u001b[39m=\u001b[39m\u001b[39mNone\u001b[39;00m):\n\u001b[0;32m--> 765\u001b[0m     \u001b[39mself\u001b[39;49m\u001b[39m.\u001b[39;49m_event\u001b[39m.\u001b[39;49mwait(timeout)\n",
      "File \u001b[0;32m~/anaconda3/envs/leaf/lib/python3.10/threading.py:607\u001b[0m, in \u001b[0;36mEvent.wait\u001b[0;34m(self, timeout)\u001b[0m\n\u001b[1;32m    605\u001b[0m signaled \u001b[39m=\u001b[39m \u001b[39mself\u001b[39m\u001b[39m.\u001b[39m_flag\n\u001b[1;32m    606\u001b[0m \u001b[39mif\u001b[39;00m \u001b[39mnot\u001b[39;00m signaled:\n\u001b[0;32m--> 607\u001b[0m     signaled \u001b[39m=\u001b[39m \u001b[39mself\u001b[39;49m\u001b[39m.\u001b[39;49m_cond\u001b[39m.\u001b[39;49mwait(timeout)\n\u001b[1;32m    608\u001b[0m \u001b[39mreturn\u001b[39;00m signaled\n",
      "File \u001b[0;32m~/anaconda3/envs/leaf/lib/python3.10/threading.py:320\u001b[0m, in \u001b[0;36mCondition.wait\u001b[0;34m(self, timeout)\u001b[0m\n\u001b[1;32m    318\u001b[0m \u001b[39mtry\u001b[39;00m:    \u001b[39m# restore state no matter what (e.g., KeyboardInterrupt)\u001b[39;00m\n\u001b[1;32m    319\u001b[0m     \u001b[39mif\u001b[39;00m timeout \u001b[39mis\u001b[39;00m \u001b[39mNone\u001b[39;00m:\n\u001b[0;32m--> 320\u001b[0m         waiter\u001b[39m.\u001b[39;49macquire()\n\u001b[1;32m    321\u001b[0m         gotit \u001b[39m=\u001b[39m \u001b[39mTrue\u001b[39;00m\n\u001b[1;32m    322\u001b[0m     \u001b[39melse\u001b[39;00m:\n",
      "\u001b[0;31mKeyboardInterrupt\u001b[0m: "
     ]
    }
   ],
   "source": [
    "# big_forest = RandomForestRegressor(random_state=42, n_jobs=-1)\n",
    "# test = df.loc[2012:]\n",
    "# X_test = test[FEATURES]\n",
    "# y_test = test[LABEL]\n",
    "\n",
    "# train = df.loc[1982:2012]\n",
    "# X_train = train[FEATURES]\n",
    "# y_train = train[LABEL]\n",
    "\n",
    "# big_forest.fit(X_train, y_train)\n",
    "# y_pred = big_forest.predict(X_test)\n",
    "# print(f\"MAE: {mean_absolute_error(y_test, y_pred)}\")\n",
    "\n",
    "# eval_big_countries(df, big_forest)"
   ]
  },
  {
   "cell_type": "markdown",
   "metadata": {},
   "source": [
    "### By country"
   ]
  },
  {
   "cell_type": "code",
   "execution_count": 20,
   "metadata": {},
   "outputs": [],
   "source": [
    "def search_country_time(df):\n",
    "    models = dict()\n",
    "    maes = dict()\n",
    "    times = dict()\n",
    "    tmae = 0\n",
    "    n = 0\n",
    "    for country in df[\"country\"].unique():\n",
    "        country = int(country)\n",
    "        df_zone = df[df[\"country\"] == country]\n",
    "        if len(df_zone) > 0:\n",
    "            model, year, mae = find_best_start_year(df_zone)\n",
    "            models[country] = model\n",
    "            maes[country] = mae\n",
    "            times[country] = year\n",
    "\n",
    "            # For computing tmae\n",
    "            time_idx = df_zone.index.get_level_values('time')\n",
    "            num = len(df_zone.loc[time_idx >= 2012])\n",
    "            n += num\n",
    "            tmae += num * mae\n",
    "            \n",
    "            print(f\"{countries_df.iloc[int(country)]['names']} : {year} : {num} : {mae}\")\n",
    "\n",
    "    print(f\"tmae: {tmae / n}\")\n",
    "\n",
    "    return models, maes, times, tmae"
   ]
  },
  {
   "cell_type": "code",
   "execution_count": 21,
   "metadata": {},
   "outputs": [
    {
     "name": "stdout",
     "output_type": "stream",
     "text": [
      "Chile : 1992 : 12470 : 0.05250595510005951\n",
      "Argentina : 1962 : 41610 : 0.024132506921887398\n",
      "Falkland Is. : 1952 : 190 : 1.7364521800594664e-19\n",
      "Fr. S. Antarctic Lands : 2002 : 140 : 0.0\n",
      "New Zealand : 2002 : 4570 : 0.13517604768276215\n",
      "Australia : 2002 : 110290 : 0.021834256127476692\n",
      "Uruguay : 1942 : 2750 : 0.016207514330744743\n",
      "South Africa : 2002 : 17940 : 0.007175841834396124\n",
      "Brazil : 2002 : 113030 : 0.21014809608459473\n",
      "Lesotho : 1982 : 400 : 0.04406321421265602\n",
      "Namibia : 1962 : 11690 : 0.0031127119436860085\n",
      "Paraguay : 2002 : 5690 : 0.1704024225473404\n",
      "eSwatini : 2002 : 260 : 0.008940009400248528\n",
      "Botswana : 2002 : 8200 : 0.002552191959694028\n",
      "Mozambique : 2002 : 10880 : 0.05131052806973457\n",
      "Madagascar : 1852 : 8000 : 0.07417353987693787\n",
      "Bolivia : 1852 : 14750 : 0.08182799816131592\n",
      "Zimbabwe : 2002 : 5170 : 0.025294017046689987\n",
      "New Caledonia : 1852 : 200 : 0.0058424328453838825\n",
      "Peru : 1962 : 17060 : 0.09561536461114883\n",
      "Fiji : 1852 : 200 : 0.0005480592953972518\n",
      "Angola : 1962 : 16440 : 0.08878244459629059\n",
      "Zambia : 1972 : 9950 : 0.07808129489421844\n",
      "Malawi : 1912 : 1460 : 0.05201805755496025\n",
      "Vanuatu : 1982 : 60 : 0.07363346964120865\n",
      "Dem. Rep. Congo : 1992 : 30280 : 0.07616263628005981\n",
      "Tanzania : 1972 : 11850 : 0.11154202371835709\n",
      "Papua New Guinea : 1992 : 5820 : 0.008942986838519573\n",
      "Solomon Is. : 1992 : 220 : 0.0166571456938982\n",
      "Indonesia : 2002 : 22430 : 0.0893312320113182\n",
      "Timor-Leste : 2002 : 190 : 0.004728666972368956\n",
      "Ecuador : 1992 : 3230 : 0.1629439741373062\n",
      "Congo : 1962 : 4400 : 0.056139905005693436\n",
      "Burundi : 1982 : 340 : 0.11717228591442108\n",
      "Kenya : 1952 : 7640 : 0.020167289301753044\n",
      "Colombia : 1982 : 14910 : 0.10890517383813858\n",
      "Gabon : 1972 : 3400 : 0.028162067756056786\n",
      "Rwanda : 1952 : 310 : 0.07271477580070496\n",
      "Uganda : 2002 : 3020 : 0.03411165997385979\n",
      "Somalia : 1962 : 6150 : 0.0036821065004915\n",
      "Venezuela : 1992 : 11830 : 0.029688529670238495\n",
      "Malaysia : 1992 : 4270 : 0.01799601875245571\n",
      "Eq. Guinea : 2002 : 330 : 0.01596623659133911\n",
      "Guyana : 1962 : 2690 : 0.010511601343750954\n",
      "Suriname : 2002 : 1890 : 0.0013881396735087037\n",
      "Cameroon : 2002 : 5950 : 0.0559462234377861\n",
      "France : 1852 : 11290 : 0.017457667738199234\n",
      "Central African Rep. : 2002 : 8080 : 0.013072118163108826\n",
      "S. Sudan : 1852 : 8250 : 0.01478336751461029\n",
      "Ethiopia : 1932 : 14860 : 0.0539950430393219\n",
      "Brunei : 2002 : 140 : 0.0014554166700690985\n",
      "Côte d'Ivoire : 2002 : 4320 : 0.154713436961174\n",
      "Nigeria : 1852 : 11740 : 0.1113036498427391\n",
      "Liberia : 1992 : 1180 : 0.04772451892495155\n",
      "Ghana : 1852 : 3140 : 0.08951324969530106\n",
      "Philippines : 1862 : 3390 : 0.007365521043539047\n",
      "Thailand : 1982 : 6720 : 0.032342176884412766\n",
      "Togo : 1962 : 810 : 0.10736377537250519\n",
      "Sri Lanka : 1952 : 870 : 0.023769035935401917\n",
      "Benin : 2002 : 1520 : 0.23708079755306244\n",
      "Sierra Leone : 1852 : 970 : 0.12955692410469055\n",
      "Panama : 2002 : 960 : 0.014155632816255093\n",
      "Guinea : 2002 : 3130 : 0.09370069205760956\n",
      "Chad : 1852 : 17130 : 0.0017552739009261131\n",
      "Somaliland : 1982 : 2200 : 0.0007094282773323357\n",
      "Costa Rica : 1982 : 680 : 0.033828191459178925\n",
      "Sudan : 1852 : 25050 : 0.0036985722836107016\n",
      "Vietnam : 1912 : 4490 : 0.43370309472084045\n",
      "India : 2002 : 40030 : 0.06290566176176071\n",
      "Burkina Faso : 1992 : 3590 : 0.005971438251435757\n",
      "Trinidad and Tobago : 2002 : 70 : 0.0015510024968534708\n",
      "Myanmar : 1992 : 9330 : 0.030908938497304916\n",
      "Mali : 2002 : 16830 : 0.017015647143125534\n",
      "Cambodia : 1992 : 2400 : 0.06290087103843689\n",
      "Nicaragua : 1992 : 1700 : 0.04761296883225441\n",
      "Guinea-Bissau : 2002 : 390 : 0.03288048505783081\n",
      "Djibouti : 1932 : 290 : 5.6226948800031096e-05\n",
      "Niger : 1992 : 16110 : 0.012216124683618546\n",
      "Senegal : 1952 : 2590 : 0.02924341708421707\n",
      "Eritrea : 1962 : 1590 : 0.0010837683221325278\n",
      "Yemen : 2002 : 6090 : 0.008086314424872398\n",
      "Honduras : 2002 : 1500 : 0.0618160106241703\n",
      "El Salvador : 2002 : 280 : 0.1285434067249298\n",
      "Gambia : 1902 : 150 : 0.04969479516148567\n",
      "Guatemala : 1962 : 1420 : 0.08202946931123734\n",
      "Laos : 1962 : 3170 : 0.05323071405291557\n",
      "Mexico : 1962 : 27550 : 0.23005157709121704\n",
      "Mauritania : 1962 : 14480 : 0.00027814036002382636\n",
      "Belize : 1852 : 320 : 0.016570186242461205\n",
      "Saudi Arabia : 1892 : 27250 : 0.0035218647681176662\n",
      "Oman : 1952 : 4250 : 0.0017183367162942886\n",
      "Jamaica : 1872 : 150 : 0.039234161376953125\n",
      "Dominican Rep. : 1872 : 630 : 0.0366935208439827\n",
      "Haiti : 1852 : 340 : 0.15694449841976166\n",
      "Puerto Rico : 1952 : 120 : 0.03079906478524208\n",
      "China : 2002 : 152260 : 0.14465303719043732\n",
      "United States of America : 1912 : 175740 : 0.030708298087120056\n",
      "Algeria : 1852 : 34080 : 0.00089904764899984\n",
      "Cuba : 1972 : 1450 : 0.05767664313316345\n",
      "Libya : 1912 : 23720 : 0.00018711242591962218\n",
      "Bangladesh : 1952 : 1920 : 0.014723212458193302\n",
      "W. Sahara : 1852 : 1360 : 2.863102143606591e-14\n",
      "Morocco : 1962 : 8570 : 0.045235127210617065\n",
      "Egypt : 1852 : 14310 : 0.005476425401866436\n",
      "Taiwan : 2002 : 470 : 0.01802794449031353\n",
      "United Arab Emirates : 1862 : 1070 : 0.000368809443898499\n",
      "Bahamas : 1852 : 150 : 0.0006591149140149355\n",
      "Pakistan : 1992 : 13100 : 0.027756527066230774\n",
      "Qatar : 1872 : 160 : 0.00313172722235322\n",
      "Iran : 2002 : 24830 : 0.007077980320900679\n",
      "Nepal : 1852 : 2220 : 0.15157710015773773\n",
      "Bhutan : 1952 : 590 : 0.10402879863977432\n",
      "Kuwait : 1942 : 260 : 0.00047514354810118675\n",
      "Iraq : 1942 : 6710 : 0.05526525899767876\n",
      "Jordan : 1972 : 1370 : 0.011527526192367077\n",
      "Afghanistan : 1982 : 10200 : 0.0012992257252335548\n",
      "Israel : 1902 : 330 : 0.02942514419555664\n",
      "Tunisia : 1972 : 2420 : 0.0305145476013422\n",
      "Japan : 1992 : 5690 : 0.011822960339486599\n",
      "Palestine : 1942 : 70 : 0.006314430385828018\n",
      "Syria : 1982 : 2910 : 0.0026624687016010284\n",
      "Lebanon : 1862 : 150 : 0.0007176993531174958\n",
      "South Korea : 2002 : 1450 : 0.00565184373408556\n",
      "Cyprus : 1852 : 80 : 0.022073663771152496\n",
      "Greece : 1982 : 1890 : 0.39080238342285156\n",
      "N. Cyprus : 1872 : 40 : 0.004088850691914558\n",
      "Turkmenistan : 1872 : 7980 : 0.0002969768247567117\n",
      "Turkey : 1992 : 12910 : 0.04049225524067879\n",
      "Spain : 1982 : 8340 : 0.0778767466545105\n",
      "Italy : 2002 : 5250 : 0.12526530027389526\n",
      "Tajikistan : 1982 : 2240 : 0.005585027858614922\n",
      "Portugal : 2002 : 1470 : 0.10107174515724182\n",
      "Uzbekistan : 2002 : 7670 : 0.003139566397294402\n",
      "North Korea : 1862 : 2130 : 0.005721168126910925\n",
      "Azerbaijan : 2002 : 1540 : 0.13418501615524292\n",
      "Armenia : 1862 : 490 : 0.057778019458055496\n",
      "Kyrgyzstan : 1952 : 3400 : 0.009034723043441772\n",
      "Albania : 1962 : 480 : 0.07569108158349991\n",
      "North Macedonia : 1992 : 430 : 0.009599750861525536\n",
      "Kazakhstan : 2002 : 52550 : 0.004802168346941471\n",
      "Georgia : 1942 : 1210 : 0.12058819085359573\n",
      "Bulgaria : 2002 : 1930 : 0.07491595298051834\n",
      "Russia : 1962 : 461160 : 0.0290821585804224\n",
      "Canada : 1972 : 263090 : 0.00782719999551773\n",
      "Kosovo : 1862 : 210 : 0.012272752821445465\n",
      "Mongolia : 1912 : 29110 : 0.014248996041715145\n",
      "Montenegro : 1972 : 240 : 0.018122775480151176\n",
      "Serbia : 1912 : 1380 : 0.03329608589410782\n",
      "Croatia : 2002 : 1030 : 0.03268942981958389\n",
      "Bosnia and Herz. : 1992 : 900 : 0.011582126840949059\n",
      "Romania : 1962 : 4440 : 0.10175638645887375\n",
      "Ukraine : 1962 : 11190 : 0.06910746544599533\n",
      "Slovenia : 1972 : 370 : 0.003096021246165037\n",
      "Moldova : 1892 : 620 : 0.16312681138515472\n",
      "Switzerland : 1912 : 890 : 0.041231509298086166\n",
      "Hungary : 1992 : 1730 : 0.045024629682302475\n",
      "Austria : 1982 : 1600 : 0.04489975795149803\n",
      "Germany : 2002 : 7320 : 0.007007787935435772\n",
      "Slovakia : 2002 : 930 : 0.21574737131595612\n",
      "Czechia : 1972 : 1630 : 0.11185724288225174\n",
      "Poland : 1952 : 6400 : 0.031152348965406418\n",
      "Belgium : 1962 : 600 : 0.012694883160293102\n",
      "Luxembourg : 1992 : 40 : 7.379726594081149e-05\n",
      "United Kingdom : 1962 : 5020 : 0.07510610669851303\n",
      "Netherlands : 1902 : 710 : 0.0247593242675066\n",
      "Belarus : 1952 : 4590 : 0.03891713172197342\n",
      "Ireland : 1882 : 1200 : 0.039418164640665054\n",
      "Lithuania : 1892 : 1380 : 0.04454079642891884\n",
      "Denmark : 1932 : 830 : 0.024145374074578285\n",
      "Sweden : 1982 : 12320 : 0.004298029933124781\n",
      "Latvia : 1962 : 1490 : 0.01610281504690647\n",
      "Estonia : 1962 : 1080 : 0.022015700116753578\n",
      "Norway : 1972 : 12430 : 0.006864779628813267\n",
      "Greenland : 1852 : 103720 : 1.1661369647697484e-08\n",
      "Finland : 1952 : 10090 : 0.004611546639353037\n",
      "Iceland : 1982 : 2930 : 0.0005434101913124323\n",
      "tmae: 0.04754537017029973\n"
     ]
    }
   ],
   "source": [
    "models, maes, times, tmae = search_country_time(df)"
   ]
  },
  {
   "cell_type": "code",
   "execution_count": 22,
   "metadata": {},
   "outputs": [],
   "source": [
    "for i in models.keys():\n",
    "    model = models[i]\n",
    "    #dump(model, f\"../demo/predictors/countries/{i}_linear.joblib\")"
   ]
  },
  {
   "cell_type": "code",
   "execution_count": 23,
   "metadata": {},
   "outputs": [
    {
     "name": "stdout",
     "output_type": "stream",
     "text": [
      "4\n"
     ]
    }
   ],
   "source": [
    "us_idx = countries_df[countries_df[\"names\"] == \"United States of America\"].index[0]\n",
    "print(us_idx)"
   ]
  },
  {
   "cell_type": "markdown",
   "metadata": {},
   "source": [
    "#### United States"
   ]
  },
  {
   "cell_type": "code",
   "execution_count": 27,
   "metadata": {},
   "outputs": [
    {
     "data": {
      "text/html": [
       "<div>\n",
       "<style scoped>\n",
       "    .dataframe tbody tr th:only-of-type {\n",
       "        vertical-align: middle;\n",
       "    }\n",
       "\n",
       "    .dataframe tbody tr th {\n",
       "        vertical-align: top;\n",
       "    }\n",
       "\n",
       "    .dataframe thead th {\n",
       "        text-align: right;\n",
       "    }\n",
       "</style>\n",
       "<table border=\"1\" class=\"dataframe\">\n",
       "  <thead>\n",
       "    <tr style=\"text-align: right;\">\n",
       "      <th></th>\n",
       "      <th>abbrevs</th>\n",
       "      <th>names</th>\n",
       "    </tr>\n",
       "    <tr>\n",
       "      <th>numbers</th>\n",
       "      <th></th>\n",
       "      <th></th>\n",
       "    </tr>\n",
       "  </thead>\n",
       "  <tbody>\n",
       "    <tr>\n",
       "      <th>143</th>\n",
       "      <td>GB</td>\n",
       "      <td>United Kingdom</td>\n",
       "    </tr>\n",
       "  </tbody>\n",
       "</table>\n",
       "</div>"
      ],
      "text/plain": [
       "        abbrevs           names\n",
       "numbers                        \n",
       "143          GB  United Kingdom"
      ]
     },
     "execution_count": 27,
     "metadata": {},
     "output_type": "execute_result"
    }
   ],
   "source": [
    "countries_df[countries_df[\"names\"] == \"United Kingdom\"]"
   ]
  },
  {
   "cell_type": "markdown",
   "metadata": {},
   "source": [
    "#### Europe"
   ]
  },
  {
   "cell_type": "code",
   "execution_count": 28,
   "metadata": {},
   "outputs": [
    {
     "name": "stdout",
     "output_type": "stream",
     "text": [
      "EU: 0.02580469287931919\n"
     ]
    },
    {
     "data": {
      "text/plain": [
       "['../demo/predictors/countries/143_linear.joblib']"
      ]
     },
     "execution_count": 28,
     "metadata": {},
     "output_type": "execute_result"
    }
   ],
   "source": [
    "eu_idx = countries_df[countries_df[\"abbrevs\"].isin(COUNTRY_NAME_LIST)].index.values\n",
    "eu_df = df[df[\"country\"].isin(eu_idx)]\n",
    "eu_model, eu_year, eu_mae = find_best_start_year(eu_df)\n",
    "print(f\"EU: {eu_mae}\")\n",
    "\n",
    "# dump(eu_model, f\"../demo/predictors/countries/143_linear.joblib\")"
   ]
  },
  {
   "cell_type": "markdown",
   "metadata": {},
   "source": [
    "#### Brazil"
   ]
  },
  {
   "cell_type": "code",
   "execution_count": 29,
   "metadata": {},
   "outputs": [
    {
     "name": "stdout",
     "output_type": "stream",
     "text": [
      "0.11708375\n"
     ]
    },
    {
     "data": {
      "text/plain": [
       "['../demo/predictors/countries/29_linear.joblib']"
      ]
     },
     "execution_count": 29,
     "metadata": {},
     "output_type": "execute_result"
    }
   ],
   "source": [
    "brazil_countries = [\"Brazil\", \"Bolivia\", \"Paraguay\", \"Peru\", \"Ecuador\", \"Colombia\", \"Venezuela\", \"Guyana\", \"Suriname\", \"French Guiana\", \"Uruguay\", \"Argentina\", \"Chile\"]\n",
    "brazil_idx = countries_df[countries_df[\"names\"].isin(brazil_countries)].index.values\n",
    "brazil_df = df[df[\"country\"].isin(brazil_idx)]\n",
    "brazil_model, brazil_year, brazil_mae = find_best_start_year(brazil_df)\n",
    "\n",
    "test_idx = countries_df[countries_df[\"names\"] == \"Brazil\"].index[0]\n",
    "test = df[df[\"country\"]==test_idx]\n",
    "test = df.loc[2012:]\n",
    "X_test = test[FEATURES]\n",
    "y_test = test[LABEL]\n",
    "print(mean_absolute_error(y_test, brazil_model.predict(X_test)))\n",
    "\n",
    "# dump(brazil_model, f\"../demo/predictors/countries/{test_idx}_linear.joblib\")\n"
   ]
  },
  {
   "cell_type": "code",
   "execution_count": null,
   "metadata": {},
   "outputs": [],
   "source": [
    "i = 4"
   ]
  },
  {
   "cell_type": "markdown",
   "metadata": {},
   "source": [
    "#### Plot differences between individual models and general one"
   ]
  },
  {
   "cell_type": "code",
   "execution_count": 29,
   "metadata": {},
   "outputs": [
    {
     "data": {
      "image/png": "[encoded data removed]",
      "text/plain": [
       "<Figure size 1800x288 with 1 Axes>"
      ]
     },
     "metadata": {
      "needs_background": "light"
     },
     "output_type": "display_data"
    }
   ],
   "source": [
    "diffs = [mae - big_mae for mae, big_mae in zip(maes, big_maes)]\n",
    "plt.figure(figsize=(25, 4))\n",
    "plt.title(\"Individual model MAE - general model MAE\")\n",
    "plt.ylabel(\"MAE\")\n",
    "plt.bar(countries_df[\"abbrevs\"], diffs)\n",
    "plt.xticks(rotation=90, fontsize=7)\n",
    "plt.show()"
   ]
  },
  {
   "cell_type": "markdown",
   "metadata": {},
   "source": [
    "### Tune on neighboring countries"
   ]
  },
  {
   "cell_type": "code",
   "execution_count": 70,
   "metadata": {},
   "outputs": [
    {
     "data": {
      "text/html": [
       "<div>\n",
       "<style scoped>\n",
       "    .dataframe tbody tr th:only-of-type {\n",
       "        vertical-align: middle;\n",
       "    }\n",
       "\n",
       "    .dataframe tbody tr th {\n",
       "        vertical-align: top;\n",
       "    }\n",
       "\n",
       "    .dataframe thead th {\n",
       "        text-align: right;\n",
       "    }\n",
       "</style>\n",
       "<table border=\"1\" class=\"dataframe\">\n",
       "  <thead>\n",
       "    <tr style=\"text-align: right;\">\n",
       "      <th></th>\n",
       "      <th>English short name lower case</th>\n",
       "      <th>Alpha-2 code</th>\n",
       "      <th>Alpha-3 code</th>\n",
       "      <th>Numeric code</th>\n",
       "      <th>ISO 3166-2</th>\n",
       "    </tr>\n",
       "  </thead>\n",
       "  <tbody>\n",
       "    <tr>\n",
       "      <th>8</th>\n",
       "      <td>Antarctica</td>\n",
       "      <td>AQ</td>\n",
       "      <td>ATA</td>\n",
       "      <td>10</td>\n",
       "      <td>ISO 3166-2:AQ</td>\n",
       "    </tr>\n",
       "  </tbody>\n",
       "</table>\n",
       "</div>"
      ],
      "text/plain": [
       "  English short name lower case Alpha-2 code Alpha-3 code  Numeric code  \\\n",
       "8                    Antarctica           AQ          ATA            10   \n",
       "\n",
       "      ISO 3166-2  \n",
       "8  ISO 3166-2:AQ  "
      ]
     },
     "execution_count": 70,
     "metadata": {},
     "output_type": "execute_result"
    }
   ],
   "source": [
    "codes = pd.read_csv(\"../data/gcb/conversion/codes.csv\")\n",
    "codes[codes[\"Numeric code\"] == 10]"
   ]
  },
  {
   "cell_type": "code",
   "execution_count": 72,
   "metadata": {},
   "outputs": [
    {
     "data": {
      "text/html": [
       "<div>\n",
       "<style scoped>\n",
       "    .dataframe tbody tr th:only-of-type {\n",
       "        vertical-align: middle;\n",
       "    }\n",
       "\n",
       "    .dataframe tbody tr th {\n",
       "        vertical-align: top;\n",
       "    }\n",
       "\n",
       "    .dataframe thead th {\n",
       "        text-align: right;\n",
       "    }\n",
       "</style>\n",
       "<table border=\"1\" class=\"dataframe\">\n",
       "  <thead>\n",
       "    <tr style=\"text-align: right;\">\n",
       "      <th></th>\n",
       "      <th>abbrevs</th>\n",
       "      <th>names</th>\n",
       "    </tr>\n",
       "    <tr>\n",
       "      <th>numbers</th>\n",
       "      <th></th>\n",
       "      <th></th>\n",
       "    </tr>\n",
       "  </thead>\n",
       "  <tbody>\n",
       "    <tr>\n",
       "      <th>0</th>\n",
       "      <td>FJ</td>\n",
       "      <td>Fiji</td>\n",
       "    </tr>\n",
       "    <tr>\n",
       "      <th>1</th>\n",
       "      <td>TZ</td>\n",
       "      <td>Tanzania</td>\n",
       "    </tr>\n",
       "    <tr>\n",
       "      <th>2</th>\n",
       "      <td>WS</td>\n",
       "      <td>W. Sahara</td>\n",
       "    </tr>\n",
       "    <tr>\n",
       "      <th>3</th>\n",
       "      <td>CA</td>\n",
       "      <td>Canada</td>\n",
       "    </tr>\n",
       "    <tr>\n",
       "      <th>4</th>\n",
       "      <td>US</td>\n",
       "      <td>United States of America</td>\n",
       "    </tr>\n",
       "    <tr>\n",
       "      <th>...</th>\n",
       "      <td>...</td>\n",
       "      <td>...</td>\n",
       "    </tr>\n",
       "    <tr>\n",
       "      <th>172</th>\n",
       "      <td>RS</td>\n",
       "      <td>Serbia</td>\n",
       "    </tr>\n",
       "    <tr>\n",
       "      <th>173</th>\n",
       "      <td>ME</td>\n",
       "      <td>Montenegro</td>\n",
       "    </tr>\n",
       "    <tr>\n",
       "      <th>174</th>\n",
       "      <td>KO</td>\n",
       "      <td>Kosovo</td>\n",
       "    </tr>\n",
       "    <tr>\n",
       "      <th>175</th>\n",
       "      <td>TT</td>\n",
       "      <td>Trinidad and Tobago</td>\n",
       "    </tr>\n",
       "    <tr>\n",
       "      <th>176</th>\n",
       "      <td>SS</td>\n",
       "      <td>S. Sudan</td>\n",
       "    </tr>\n",
       "  </tbody>\n",
       "</table>\n",
       "<p>177 rows × 2 columns</p>\n",
       "</div>"
      ],
      "text/plain": [
       "        abbrevs                     names\n",
       "numbers                                  \n",
       "0            FJ                      Fiji\n",
       "1            TZ                  Tanzania\n",
       "2            WS                 W. Sahara\n",
       "3            CA                    Canada\n",
       "4            US  United States of America\n",
       "...         ...                       ...\n",
       "172          RS                    Serbia\n",
       "173          ME                Montenegro\n",
       "174          KO                    Kosovo\n",
       "175          TT       Trinidad and Tobago\n",
       "176          SS                  S. Sudan\n",
       "\n",
       "[177 rows x 2 columns]"
      ]
     },
     "execution_count": 72,
     "metadata": {},
     "output_type": "execute_result"
    }
   ],
   "source": [
    "countries_df"
   ]
  },
  {
   "cell_type": "code",
   "execution_count": 98,
   "metadata": {},
   "outputs": [],
   "source": [
    "def k_nearest_countries(country_id, k):\n",
    "    neighbor_df = pd.read_csv(\"../data/gcb/conversion/neighbors.csv\")\n",
    "    three_code = codes_df[codes_df[\"Alpha-2 code\"] == country_id][\"Alpha-3 code\"].iloc[0]\n",
    "    \n",
    "    idx = 0\n",
    "    queue = [three_code]\n",
    "    seen = set([three_code])\n",
    "    # Simple BFS to find neighbors\n",
    "    # Add one because the first element in the queue is our original country\n",
    "    while idx < len(queue) and len(queue) < k + 1:\n",
    "        curr = queue[idx]\n",
    "        neighbors = neighbor_df[neighbor_df[\"country_code\"] == curr][\"neighbor_code\"]\n",
    "        for neighbor in list(neighbors):\n",
    "            if neighbor not in seen:\n",
    "                queue.append(neighbor)\n",
    "        idx += 1\n",
    "    \n",
    "    if len(queue) > 1:\n",
    "        return [codes_df[codes_df[\"Alpha-3 code\"] == code][\"Alpha-2 code\"].iloc[0] for code in queue[1:k+1]]\n",
    "    \n",
    "    return []"
   ]
  },
  {
   "cell_type": "code",
   "execution_count": 96,
   "metadata": {},
   "outputs": [],
   "source": [
    "def find_model_for_country(country_id, raw):\n",
    "    print(f\"Finding best model for {country_id}\")\n",
    "    whole_df = da_to_df(raw)\n",
    "    print(f\"whole len: {len(whole_df)}\")\n",
    "\n",
    "    baseline_df = subset_countries(whole_df, [country_id])\n",
    "    print(f\"baseline len: {len(baseline_df)}\")\n",
    "    best_model, best_mae = train_model(baseline_df, 2012)\n",
    "    best_countries = [country_id]\n",
    "    print(f\"Baseline score: {best_mae}\")\n",
    "\n",
    "    countries = [country_id]\n",
    "    k_nearest = k_nearest_countries(country_id, 20)\n",
    "    print(f\"Neighbors: {k_nearest}\")\n",
    "    for neighbor in k_nearest:\n",
    "        df = subset_countries(whole_df, countries + [neighbor])\n",
    "        model, mae = train_model(df, 2012)\n",
    "        if mae < best_mae:\n",
    "            print(f\"\\tAdded {neighbor}\")\n",
    "            print(f\"\\tScore: {mae}\")\n",
    "            best_model = model\n",
    "            countries.append(neighbor)\n",
    "            best_countries = countries\n",
    "            best_mae = mae\n",
    "    \n",
    "\n",
    "    print(f\"mae: {best_mae}, countries: {list(countries_df[countries_df['abbrevs'].isin(best_countries)]['names'])}\")\n",
    "    return best_model, best_mae, best_countries"
   ]
  },
  {
   "cell_type": "code",
   "execution_count": 97,
   "metadata": {},
   "outputs": [
    {
     "name": "stdout",
     "output_type": "stream",
     "text": [
      "Finding best model for FR\n",
      "whole len: 41387985\n",
      "baseline len: 193059\n",
      "Baseline score: 0.017622433602809906\n",
      "Neighbors: ['BE', 'BR', 'CH', 'DE', 'ES', 'IT', 'LU', 'SR', 'DE', 'LU', 'NL', 'AR', 'BO', 'CO', 'GY', 'PE', 'PY', 'SR', 'UY', 'VE']\n",
      "\tAdded BE\n",
      "\tScore: 0.016981830820441246\n",
      "\tAdded DE\n",
      "\tScore: 0.011274890974164009\n",
      "\tAdded SR\n",
      "\tScore: 0.011138525791466236\n",
      "\tAdded LU\n",
      "\tScore: 0.011135482229292393\n",
      "mae: 0.011135482229292393, countries: numbers\n",
      "42       Suriname\n",
      "43         France\n",
      "121       Germany\n",
      "128    Luxembourg\n",
      "129       Belgium\n",
      "Name: names, dtype: object\n"
     ]
    }
   ],
   "source": [
    "best_model, best_mae, best_countries = find_model_for_country(\"FR\", raw)"
   ]
  },
  {
   "cell_type": "markdown",
   "metadata": {},
   "source": [
    "### Tune on best year to train on"
   ]
  },
  {
   "cell_type": "code",
   "execution_count": 16,
   "metadata": {},
   "outputs": [],
   "source": [
    "def find_best_year(raw, country_mask, country_list):\n",
    "    X_train = pd.DataFrame(columns=FEATURES)\n",
    "    y_train = pd.Series(name=LABEL, dtype=float)\n",
    "    X_test = None\n",
    "    y_test = None\n",
    "    years = list(range(2012, 1851, -10))\n",
    "    maes = []\n",
    "    best_model = None\n",
    "    best_mae = None\n",
    "    for i in range(1, len(years)):\n",
    "        print(f\"Adding {years[i]}-{years[i-1]-1} to train set...\")\n",
    "        data = create_country_dataset(raw, country_mask, country_list, years[i], years[i-1]-1)\n",
    "        X_train = pd.concat((X_train, data[\"Train\"][\"X\"]), axis=0)\n",
    "        y_train = pd.concat((y_train, data[\"Train\"][\"y\"]))\n",
    "        if i == 1:\n",
    "            X_test = data[\"Test\"][\"X\"]\n",
    "            y_test = data[\"Test\"][\"y\"]\n",
    "\n",
    "        model = RandomForestRegressor(random_state=42, n_jobs=-1)\n",
    "        model.fit(X_train, y_train)\n",
    "        pred = model.predict(X_test)\n",
    "        mae = mean_absolute_error(y_test, pred)\n",
    "        print(f\"MAE: {mae}\")\n",
    "        maes.append(mae)\n",
    "\n",
    "        if not best_mae or best_mae > mae:\n",
    "            best_model = model\n",
    "            best_mae = mae\n",
    "    \n",
    "    plt.plot(years[1:], maes)\n",
    "    plt.xticks(rotation=90)\n",
    "    plt.title(f\"Year train set started vs. MAE for {' '.join(country_list)}\")\n",
    "    plt.xlabel(\"Year\")\n",
    "    plt.ylabel(\"MAE\")\n",
    "    plt.show()\n",
    "\n",
    "    return best_model, maes\n",
    "        "
   ]
  },
  {
   "cell_type": "code",
   "execution_count": 17,
   "metadata": {},
   "outputs": [
    {
     "name": "stdout",
     "output_type": "stream",
     "text": [
      "Adding 2002-2011 to train set...\n",
      "MAE: 0.03648469909050712\n",
      "Adding 1992-2001 to train set...\n",
      "MAE: 0.03710089250796529\n",
      "Adding 1982-1991 to train set...\n",
      "MAE: 0.037174860283775146\n",
      "Adding 1972-1981 to train set...\n",
      "MAE: 0.037956103687055286\n",
      "Adding 1962-1971 to train set...\n",
      "MAE: 0.038082952563230514\n",
      "Adding 1952-1961 to train set...\n",
      "MAE: 0.03796119643580342\n",
      "Adding 1942-1951 to train set...\n",
      "MAE: 0.037907506265799785\n",
      "Adding 1932-1941 to train set...\n",
      "MAE: 0.03792129119454972\n",
      "Adding 1922-1931 to train set...\n",
      "MAE: 0.03834665424151246\n",
      "Adding 1912-1921 to train set...\n",
      "MAE: 0.03839517526179118\n",
      "Adding 1902-1911 to train set...\n",
      "MAE: 0.03840008108683362\n",
      "Adding 1892-1901 to train set...\n",
      "MAE: 0.03820898943408478\n",
      "Adding 1882-1891 to train set...\n",
      "MAE: 0.038035298970404495\n",
      "Adding 1872-1881 to train set...\n",
      "MAE: 0.037873564280927814\n",
      "Adding 1862-1871 to train set...\n",
      "MAE: 0.03822668028038931\n",
      "Adding 1852-1861 to train set...\n",
      "MAE: 0.03859580199673611\n"
     ]
    },
    {
     "data": {
      "image/png": "[encoded data removed]",
      "text/plain": [
       "<Figure size 432x288 with 1 Axes>"
      ]
     },
     "metadata": {
      "needs_background": "light"
     },
     "output_type": "display_data"
    }
   ],
   "source": [
    "best_model, maes = find_best_year(raw, country_mask, COUNTRY_NAME_LIST)"
   ]
  },
  {
   "cell_type": "markdown",
   "metadata": {},
   "source": [
    "## Model Analysis"
   ]
  },
  {
   "cell_type": "code",
   "execution_count": 20,
   "metadata": {},
   "outputs": [
    {
     "data": {
      "image/png": "[encoded data removed]",
      "text/plain": [
       "<Figure size 432x288 with 1 Axes>"
      ]
     },
     "metadata": {
      "needs_background": "light"
     },
     "output_type": "display_data"
    }
   ],
   "source": [
    "plt.bar(data[\"Train\"][\"X\"].columns, model.feature_importances_)\n",
    "plt.xticks(rotation=90)\n",
    "plt.title(\"Feature Importances\")\n",
    "plt.show()"
   ]
  },
  {
   "cell_type": "code",
   "execution_count": 19,
   "metadata": {},
   "outputs": [
    {
     "data": {
      "image/png": "[encoded data removed]",
      "text/plain": [
       "<Figure size 432x288 with 1 Axes>"
      ]
     },
     "metadata": {
      "needs_background": "light"
     },
     "output_type": "display_data"
    }
   ],
   "source": [
    "X_irl = data[\"Test\"][\"X\"].loc[:, 54.125, -6.875]\n",
    "y_irl = data[\"Test\"][\"y\"].loc[:, 54.125, -6.875]\n",
    "\n",
    "preds = model.predict(X_irl)\n",
    "\n",
    "times = list(data[\"Test\"][\"X\"].index.unique(level=\"time\"))\n",
    "plt.title(\"Predicted vs. Actual ELUC for specific coords\")\n",
    "plt.plot(times, y_irl, label=\"Actual ELUC\")\n",
    "plt.plot(times, preds, label=\"Predicted ELUC\")\n",
    "plt.legend()\n",
    "plt.show()"
   ]
  },
  {
   "cell_type": "code",
   "execution_count": 20,
   "metadata": {},
   "outputs": [
    {
     "data": {
      "image/png": "[encoded data removed]",
      "text/plain": [
       "<Figure size 432x288 with 1 Axes>"
      ]
     },
     "metadata": {
      "needs_background": "light"
     },
     "output_type": "display_data"
    }
   ],
   "source": [
    "preds = model.predict(data[\"Test\"][\"X\"])\n",
    "test_copy = data[\"Test\"][\"X\"].copy()\n",
    "test_copy[\"pred\"] = preds\n",
    "test_copy[\"ELUC\"] = data[\"Test\"][\"y\"]\n",
    "pred_eluc_sums = []\n",
    "eluc_sums = []\n",
    "for time in times:\n",
    "    pred_eluc_sums.append(test_copy.loc[time, :, :][\"pred\"].mean())\n",
    "    eluc_sums.append(test_copy.loc[time, :, :][\"ELUC\"].mean())\n",
    "\n",
    "plt.title(\"Mean of ELUC over each time step actual vs. predicted\")\n",
    "plt.plot(times, eluc_sums, label=\"Actual ELUC\")\n",
    "plt.plot(times, pred_eluc_sums, label=\"Predicted ELUC\")\n",
    "plt.legend()\n",
    "plt.show()"
   ]
  }
 ],
 "metadata": {
  "kernelspec": {
   "display_name": "leaf",
   "language": "python",
   "name": "python3"
  },
  "language_info": {
   "codemirror_mode": {
    "name": "ipython",
    "version": 3
   },
   "file_extension": ".py",
   "mimetype": "text/x-python",
   "name": "python",
   "nbconvert_exporter": "python",
   "pygments_lexer": "ipython3",
   "version": "3.10.11"
  },
  "orig_nbformat": 4
 },
 "nbformat": 4,
 "nbformat_minor": 2
}
