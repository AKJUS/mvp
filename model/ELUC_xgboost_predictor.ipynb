{
 "cells": [
  {
   "cell_type": "markdown",
   "id": "4121705d-e0ff-4671-8d57-13008150e49a",
   "metadata": {},
   "source": [
    "# ELUC Predictor\n",
    "Train an XGBoost model that can predict ELUC"
   ]
  },
  {
   "cell_type": "code",
   "execution_count": null,
   "id": "46a1ff3e-73e8-428b-9f1d-e75f45d68528",
   "metadata": {},
   "outputs": [],
   "source": [
    "# %pip install zarr\n",
    "# %pip install regionmask\n",
    "# %pip install xgboost\n",
    "# %pip install scikit-learn"
   ]
  },
  {
   "cell_type": "code",
   "execution_count": null,
   "id": "58b1bb94-175a-487a-adc0-ead3f3032a03",
   "metadata": {},
   "outputs": [],
   "source": [
    "import numpy as np\n",
    "import pandas as pd\n",
    "import regionmask\n",
    "import xarray as xr\n",
    "import matplotlib.pyplot as plt"
   ]
  },
  {
   "cell_type": "code",
   "execution_count": null,
   "id": "2673f477-b7bc-4a16-90a7-9a83b58efe7a",
   "metadata": {},
   "outputs": [],
   "source": [
    "ds = xr.open_zarr(\"../data/gcb/processed/merged_aggregated_dataset_1850_2022.zarr.zip\", consolidated=True)"
   ]
  },
  {
   "cell_type": "markdown",
   "id": "a5fc4fbf-2581-4c65-a856-5d1fc5d63097",
   "metadata": {},
   "source": [
    "# Data prep\n",
    "## Shift ELUC by 1 year\n",
    "According to the [ELUC Data Exploration](../data/gcb/ELUC_data_exploration.ipynb) notebook ELUC is off by one year when compared to the change in land use. Shifting it by 1 year here."
   ]
  },
  {
   "cell_type": "code",
   "execution_count": null,
   "id": "536e45de-cd36-4021-bd1d-db6ca76f4796",
   "metadata": {},
   "outputs": [],
   "source": [
    "ds['ELUC'] = ds['ELUC'].roll(time=1, roll_coords=False)\n",
    "ds['ELUC_diff'] = ds['ELUC_diff'].roll(time=1, roll_coords=False)"
   ]
  },
  {
   "cell_type": "markdown",
   "id": "535abf29-9409-48be-a587-74e1794281e6",
   "metadata": {},
   "source": [
    "## Add countries"
   ]
  },
  {
   "cell_type": "code",
   "execution_count": null,
   "id": "03c1a1c7-91ed-4eb3-8e95-75376773d0d4",
   "metadata": {},
   "outputs": [],
   "source": [
    "ds = ds.stack(latlon=('lat', 'lon'))"
   ]
  },
  {
   "cell_type": "code",
   "execution_count": null,
   "id": "7a23791a-957f-4250-abe1-e35d80c8df9d",
   "metadata": {},
   "outputs": [],
   "source": [
    "regionmask.__version__"
   ]
  },
  {
   "cell_type": "code",
   "execution_count": null,
   "id": "e77ba2da-66c0-45d7-9a6c-657520d54dc8",
   "metadata": {},
   "outputs": [],
   "source": [
    "# Train on countries 0-80, and test on the rest, and test on the last 15 years of data\n",
    "country_mask = regionmask.defined_regions.natural_earth_v5_0_0.countries_110.mask(ds)\n",
    "ds = ds.assign_coords(country=country_mask)"
   ]
  },
  {
   "cell_type": "code",
   "execution_count": null,
   "id": "679f40e8-cd49-4241-8f49-03615a5cd196",
   "metadata": {},
   "outputs": [],
   "source": [
    "ds"
   ]
  },
  {
   "cell_type": "code",
   "execution_count": null,
   "id": "9f6b9a5d-5fb5-4667-84c7-9c2e92e0a803",
   "metadata": {},
   "outputs": [],
   "source": [
    "countries = regionmask.defined_regions.natural_earth_v5_0_0.countries_110\n",
    "countries"
   ]
  },
  {
   "cell_type": "code",
   "execution_count": null,
   "id": "5ffe9e54-e7d0-40d4-9fd2-49e406db4b90",
   "metadata": {},
   "outputs": [],
   "source": [
    "ds.country"
   ]
  },
  {
   "cell_type": "code",
   "execution_count": null,
   "id": "2074989c-de57-4c63-a39b-89c2643142ea",
   "metadata": {},
   "outputs": [],
   "source": [
    "np.unique(ds.time)"
   ]
  },
  {
   "cell_type": "markdown",
   "id": "dd080b37-27a9-4724-8283-d3ff36332d84",
   "metadata": {},
   "source": [
    "## Remove NaN ELUC_diff"
   ]
  },
  {
   "cell_type": "code",
   "execution_count": null,
   "id": "3e8ccfd5-5cef-4573-98fd-f9bd7f1c29a3",
   "metadata": {},
   "outputs": [],
   "source": [
    "# Create a boolean mask based on NaN values for ELUC_diff\n",
    "mask = ds['ELUC_diff'].isnull()"
   ]
  },
  {
   "cell_type": "code",
   "execution_count": null,
   "id": "2b305bb6-9e9e-4d98-b4f0-4d31907bca70",
   "metadata": {},
   "outputs": [],
   "source": [
    "# Filter the dataset based on the mask\n",
    "ds = ds.where(~mask, drop=True)"
   ]
  },
  {
   "cell_type": "markdown",
   "id": "618b11cd-c4a3-4312-970a-e375cc7fd65e",
   "metadata": {},
   "source": [
    "## Train and test sets\n",
    "Create a dataset for a single country to keep it small and easy to train on  \n",
    "Country: United Kingdom  \n",
    "Train on data between 1850 and 2007  \n",
    "Test on data after 2007 (i.e. 2008 to 2021)"
   ]
  },
  {
   "cell_type": "code",
   "execution_count": null,
   "id": "e9d2ce3d-b9ac-424d-950b-bf565d85c4ab",
   "metadata": {},
   "outputs": [],
   "source": [
    "countries_df = countries.to_dataframe()\n",
    "countries_df"
   ]
  },
  {
   "cell_type": "code",
   "execution_count": null,
   "id": "8f91d432-61e6-4c90-aa3e-f5a8b8eea5f2",
   "metadata": {},
   "outputs": [],
   "source": [
    "countries_df[countries_df.names == 'United Kingdom']"
   ]
  },
  {
   "cell_type": "code",
   "execution_count": null,
   "id": "1ae18483-e71d-4be8-bf99-3019a3de52d0",
   "metadata": {},
   "outputs": [],
   "source": [
    "# train_da = dataset.where(dataset.country <= 80, drop=True).where(dataset.time <= 2007, drop=True)\n",
    "# test_da = dataset.where(dataset.country > 80,  drop=True).where(dataset.time > 2007, drop=True)\n",
    "train_da = ds.where(ds.country == 143, drop=True).where(ds.time <= 2007, drop=True)\n",
    "test_da = ds.where(ds.country == 143,  drop=True).where(ds.time > 2007, drop=True)"
   ]
  },
  {
   "cell_type": "code",
   "execution_count": null,
   "id": "3c3f0216-13cf-440c-be1c-a3d1da65caf5",
   "metadata": {},
   "outputs": [],
   "source": [
    "train_da"
   ]
  },
  {
   "cell_type": "code",
   "execution_count": null,
   "id": "46c2600a-0da4-460d-afad-82aa6170b9c2",
   "metadata": {},
   "outputs": [],
   "source": [
    "test_da"
   ]
  },
  {
   "cell_type": "markdown",
   "id": "0951606c-adaf-462c-978d-de664ef42de4",
   "metadata": {},
   "source": [
    "## Features"
   ]
  },
  {
   "cell_type": "code",
   "execution_count": null,
   "id": "133613cf-dd0d-4261-8e08-3f87f24b79a1",
   "metadata": {},
   "outputs": [],
   "source": [
    "features = list(train_da.data_vars)\n",
    "# This is the target\n",
    "features.remove('ELUC_diff')\n",
    "features.remove('ELUC')\n",
    "# Do not use:\n",
    "features.remove('cell_area')\n",
    "features.remove('cell_area_diff')"
   ]
  },
  {
   "cell_type": "code",
   "execution_count": null,
   "id": "e9b2e175-bdab-4799-98cf-abcd42493be7",
   "metadata": {},
   "outputs": [],
   "source": [
    "features"
   ]
  },
  {
   "cell_type": "code",
   "execution_count": null,
   "id": "9e7ea10c-623d-42d8-8862-ac85f1179237",
   "metadata": {},
   "outputs": [],
   "source": [
    "# Extract features and target variable from the training dataset\n",
    "X_train = train_da[features]\n",
    "# y_train = train_da['ELUC_diff']\n",
    "y_train = train_da['ELUC']"
   ]
  },
  {
   "cell_type": "code",
   "execution_count": null,
   "id": "82d473ed-f75e-4b69-829b-ca320bdd7fb5",
   "metadata": {},
   "outputs": [],
   "source": [
    "# Extract features and target variable from the test dataset\n",
    "X_test = test_da[features]\n",
    "# y_test = test_da['ELUC_diff']\n",
    "y_test = test_da['ELUC']"
   ]
  },
  {
   "cell_type": "code",
   "execution_count": null,
   "id": "0049c491-7b1d-4000-b4a3-66bd0c37ce03",
   "metadata": {},
   "outputs": [],
   "source": [
    "X_test"
   ]
  },
  {
   "cell_type": "code",
   "execution_count": null,
   "id": "b264a964-c68a-437a-b608-e5e80a2796fd",
   "metadata": {},
   "outputs": [],
   "source": [
    "y_test"
   ]
  },
  {
   "cell_type": "code",
   "execution_count": null,
   "id": "c4258a93-f662-4dfe-ae55-c41010f6f9c2",
   "metadata": {
    "tags": []
   },
   "outputs": [],
   "source": [
    "def convert_to_dataframe(da):\n",
    "    df = da.to_dataframe()\n",
    "    df.index = df.index.set_names(['time', 'i_lat', 'i_lon'])\n",
    "    df = df.reset_index()\n",
    "    return df"
   ]
  },
  {
   "cell_type": "code",
   "execution_count": null,
   "id": "086a79d1-eaaa-400a-8ed4-9158f454207e",
   "metadata": {},
   "outputs": [],
   "source": [
    "X_test_df = convert_to_dataframe(X_test)"
   ]
  },
  {
   "cell_type": "code",
   "execution_count": null,
   "id": "38399d5f-4194-498b-8b5e-d2c5140df5e7",
   "metadata": {},
   "outputs": [],
   "source": [
    "X_test_df.tail(10)"
   ]
  },
  {
   "cell_type": "code",
   "execution_count": null,
   "id": "a5a5f2f1-a8b9-4b33-a664-630522730289",
   "metadata": {},
   "outputs": [],
   "source": [
    "y_test_df = convert_to_dataframe(y_test)\n",
    "y_test_df.tail()"
   ]
  },
  {
   "cell_type": "code",
   "execution_count": null,
   "id": "550587b0-c1dd-4f39-8349-8680998f4545",
   "metadata": {},
   "outputs": [],
   "source": [
    "np.isnan(y_test.values)"
   ]
  },
  {
   "cell_type": "markdown",
   "id": "7f02a057-5196-4c3e-a5aa-d67ee1afb4c0",
   "metadata": {},
   "source": [
    "# XGBoost (xarray)"
   ]
  },
  {
   "cell_type": "code",
   "execution_count": null,
   "id": "f1b4a572-3435-460a-9ee5-1491a8ccfd48",
   "metadata": {},
   "outputs": [],
   "source": [
    "# import xgboost as xgb\n",
    "# from sklearn.metrics import mean_squared_error\n",
    "# from sklearn.metrics import mean_absolute_error"
   ]
  },
  {
   "cell_type": "code",
   "execution_count": null,
   "id": "90368dfa-03bb-4bd9-8702-731907efb937",
   "metadata": {},
   "outputs": [],
   "source": [
    "# X_train = np.column_stack([X_train[feature].values for feature in features])"
   ]
  },
  {
   "cell_type": "code",
   "execution_count": null,
   "id": "1c25d2bf-d782-4bbc-98e3-2cf614f17420",
   "metadata": {},
   "outputs": [],
   "source": [
    "# model = xgb.XGBRegressor()"
   ]
  },
  {
   "cell_type": "code",
   "execution_count": null,
   "id": "6f48cab3-5a5f-4b78-ba36-6b7f870f0edb",
   "metadata": {},
   "outputs": [],
   "source": [
    "# %%time\n",
    "# model.fit(X_train, y_train)"
   ]
  },
  {
   "cell_type": "code",
   "execution_count": null,
   "id": "dabaec83-5e9f-4d50-8a14-4500146a6f59",
   "metadata": {},
   "outputs": [],
   "source": [
    "# X_test = np.column_stack([X_test[feature].values for feature in features])"
   ]
  },
  {
   "cell_type": "code",
   "execution_count": null,
   "id": "9e658d89-dda7-4d1f-b197-e0d1bd8e2e8d",
   "metadata": {},
   "outputs": [],
   "source": [
    "# preds = model.predict(X_test)\n",
    "# preds"
   ]
  },
  {
   "cell_type": "code",
   "execution_count": null,
   "id": "e3e36b19-77be-48b3-aabc-ee4bfacdcc8d",
   "metadata": {},
   "outputs": [],
   "source": [
    "\n",
    "# mse = mean_squared_error(y_test, preds, squared=True)\n",
    "# rmse = mean_squared_error(y_test, preds, squared=False)\n",
    "# mae = mean_absolute_error(y_test, preds)\n",
    "# print(f\"MSE: {mse}\")\n",
    "# print(f\"RMSE: {rmse}\")\n",
    "# print(f\"MAE: {mae}\")"
   ]
  },
  {
   "cell_type": "code",
   "execution_count": null,
   "id": "a97b6c4d-610f-4af4-81fe-f385cd05503d",
   "metadata": {},
   "outputs": [],
   "source": [
    "# preds.shape"
   ]
  },
  {
   "cell_type": "markdown",
   "id": "1e0f40c0-343c-41e7-8a2c-cd5690b4d34b",
   "metadata": {},
   "source": [
    "# XGBoost Train (df)"
   ]
  },
  {
   "cell_type": "code",
   "execution_count": null,
   "id": "3aabcc78-e6b1-4a14-a105-d09ed80b55ee",
   "metadata": {},
   "outputs": [],
   "source": [
    "import xgboost as xgb\n",
    "from sklearn.metrics import mean_squared_error\n",
    "from sklearn.metrics import mean_absolute_error"
   ]
  },
  {
   "cell_type": "code",
   "execution_count": null,
   "id": "0362301a-7c60-4be7-9eb0-1b47ec05a210",
   "metadata": {},
   "outputs": [],
   "source": [
    "predictor = xgb.XGBRegressor()"
   ]
  },
  {
   "cell_type": "code",
   "execution_count": null,
   "id": "02c58541-24e0-48b3-9705-c28434cef773",
   "metadata": {},
   "outputs": [],
   "source": [
    "X_train_df = convert_to_dataframe(X_train)\n",
    "y_train_df = convert_to_dataframe(y_train)"
   ]
  },
  {
   "cell_type": "code",
   "execution_count": null,
   "id": "82444b77-5477-40d3-89e6-a64e9a36fe24",
   "metadata": {},
   "outputs": [],
   "source": [
    "%%time\n",
    "predictor.fit(X_train_df[features], y_train_df[\"ELUC\"])"
   ]
  },
  {
   "cell_type": "code",
   "execution_count": null,
   "id": "b2cceec3-969c-4c59-b7d1-452fa8804ced",
   "metadata": {},
   "outputs": [],
   "source": [
    "preds = predictor.predict(X_test_df[features])"
   ]
  },
  {
   "cell_type": "code",
   "execution_count": null,
   "id": "b5c12c52-a134-4739-a7b7-aca22e62a613",
   "metadata": {},
   "outputs": [],
   "source": [
    "preds.shape"
   ]
  },
  {
   "cell_type": "code",
   "execution_count": null,
   "id": "84defc9a-c7c4-453d-b0ab-f08fff7296d2",
   "metadata": {},
   "outputs": [],
   "source": [
    "# y_test_df = y_test_df[\"ELUC\"]"
   ]
  },
  {
   "cell_type": "code",
   "execution_count": null,
   "id": "487fb717-0ada-4a8b-a513-c5ba9c541385",
   "metadata": {},
   "outputs": [],
   "source": [
    "mse = mean_squared_error(y_test_df[\"ELUC\"], preds, squared=True)\n",
    "rmse = mean_squared_error(y_test_df[\"ELUC\"], preds, squared=False)\n",
    "mae = mean_absolute_error(y_test_df[\"ELUC\"], preds)\n",
    "print(f\"MSE: {mse}\")\n",
    "print(f\"RMSE: {rmse}\")\n",
    "print(f\"MAE: {mae}\")"
   ]
  },
  {
   "cell_type": "code",
   "execution_count": null,
   "id": "94159bab-8371-4cbc-8b5e-db762d25c824",
   "metadata": {},
   "outputs": [],
   "source": [
    "feature_important = predictor.get_booster().get_score(importance_type='weight')\n",
    "keys = list(feature_important.keys())\n",
    "values = list(feature_important.values())\n",
    "\n",
    "feature_importance_df = pd.DataFrame(data=values, index=keys, columns=[\"score\"]).sort_values(by = \"score\", ascending=False)\n",
    "feature_importance_df.nlargest(40, columns=\"score\").plot(kind='barh', figsize = (20,10)) ## plot top 40 features"
   ]
  },
  {
   "cell_type": "markdown",
   "id": "8ca5fb12-0e5f-485b-b2a9-56552421d5d2",
   "metadata": {},
   "source": [
    "# Evaluate\n",
    "## Aggregate at the country level"
   ]
  },
  {
   "cell_type": "code",
   "execution_count": null,
   "id": "6da48f2b-390a-4769-bfda-9da6e3f23113",
   "metadata": {},
   "outputs": [],
   "source": [
    "LAND_FEATURES = ['c3ann', 'c3nfx', 'c3per','c4ann', 'c4per',\n",
    " 'pastr', 'primf', 'primn', 'range', 'secdf', 'secdn', 'urban']\n",
    "LAND_DIFF_FEATURES = ['c3ann_diff', 'c3nfx_diff', 'c3per_diff','c4ann_diff', 'c4per_diff',\n",
    " 'pastr_diff', 'primf_diff', 'primn_diff', 'range_diff', 'secdf_diff', 'secdn_diff', 'urban_diff']"
   ]
  },
  {
   "cell_type": "code",
   "execution_count": null,
   "id": "24ab1275-8899-43be-922f-09b2b3c0fb64",
   "metadata": {},
   "outputs": [],
   "source": [
    "agg_df = X_test_df \\\n",
    "        .groupby([\"time\"])[LAND_DIFF_FEATURES] \\\n",
    "        .mean() \\\n",
    "        .sort_values(by=[\"time\"]).reset_index()"
   ]
  },
  {
   "cell_type": "code",
   "execution_count": null,
   "id": "fcc488b1-052a-4eae-abc7-fa476719448c",
   "metadata": {},
   "outputs": [],
   "source": [
    "agg_df[[\"time\"] + LAND_DIFF_FEATURES].plot(title=\"Mean LUC in UK\", x='time')\n",
    "plt.legend(bbox_to_anchor=(1.0, 1.0))"
   ]
  },
  {
   "cell_type": "code",
   "execution_count": null,
   "id": "39161d1a-d09e-45d0-bc80-63a88d4b3a20",
   "metadata": {},
   "outputs": [],
   "source": [
    "uk_y_df = y_test_df"
   ]
  },
  {
   "cell_type": "code",
   "execution_count": null,
   "id": "580a9ee3-219c-4b2c-8d8f-4edac6ece087",
   "metadata": {},
   "outputs": [],
   "source": [
    "uk_preds = predictor.predict(X_test_df[features])"
   ]
  },
  {
   "cell_type": "code",
   "execution_count": null,
   "id": "b17a83ec-bdab-408e-a71e-6f3880f85c09",
   "metadata": {},
   "outputs": [],
   "source": [
    "uk_y_df[\"ELUC_Pred\"] = uk_preds"
   ]
  },
  {
   "cell_type": "code",
   "execution_count": null,
   "id": "cb17284a-2d36-4c39-9690-97447771b78a",
   "metadata": {},
   "outputs": [],
   "source": [
    "agg_y_df = uk_y_df \\\n",
    "        .groupby([\"time\"])[[\"ELUC\", \"ELUC_Pred\"]] \\\n",
    "        .mean() \\\n",
    "        .sort_values(by=[\"time\"]).reset_index()"
   ]
  },
  {
   "cell_type": "code",
   "execution_count": null,
   "id": "aa9da773-fe1a-4af3-a5f8-d6943d258767",
   "metadata": {},
   "outputs": [],
   "source": [
    "agg_y_df.plot(x=\"time\", y=[\"ELUC\", \"ELUC_Pred\"], title=\"ELUC vs Predicted ELUC in UK\")"
   ]
  },
  {
   "cell_type": "markdown",
   "id": "40424e7a-f30c-48ef-b69c-e6c0185ef43c",
   "metadata": {},
   "source": [
    "## Single point"
   ]
  },
  {
   "cell_type": "code",
   "execution_count": null,
   "id": "f879b2c4-537e-48ff-9dc6-7b205c02bc15",
   "metadata": {},
   "outputs": [],
   "source": [
    "# Max ELUC\n",
    "y_test_df[\"ELUC\"].max()"
   ]
  },
  {
   "cell_type": "code",
   "execution_count": null,
   "id": "1e74cba8-6690-44ed-a135-2558c99b4799",
   "metadata": {},
   "outputs": [],
   "source": [
    "y_test_df[y_test_df[\"ELUC\"] == y_test_df[\"ELUC\"].max()]"
   ]
  },
  {
   "cell_type": "code",
   "execution_count": null,
   "id": "805c6074-388c-4aa2-b759-c9ac815a0c74",
   "metadata": {},
   "outputs": [],
   "source": [
    "wales_y_df = y_test_df[(y_test_df.i_lat==52.875) & \n",
    "                       (y_test_df.i_lon==-4.625)]\n",
    "wales_y_df"
   ]
  },
  {
   "cell_type": "code",
   "execution_count": null,
   "id": "7cd80596-deec-4596-aa99-e02fbc244daf",
   "metadata": {},
   "outputs": [],
   "source": [
    "wales_X_df = X_test_df[(X_test_df.i_lat==52.875) & \n",
    "                       (X_test_df.i_lon==-4.625)]\n",
    "wales_X_df"
   ]
  },
  {
   "cell_type": "code",
   "execution_count": null,
   "id": "550de249-c153-4848-bf98-d71014f55c79",
   "metadata": {},
   "outputs": [],
   "source": [
    "wales_X_df[[\"time\"] + LAND_DIFF_FEATURES].plot(x='time')\n",
    "plt.legend(bbox_to_anchor=(1.0, 1.0))"
   ]
  },
  {
   "cell_type": "code",
   "execution_count": null,
   "id": "957c01f4-e396-46a4-a5de-e6db11913187",
   "metadata": {},
   "outputs": [],
   "source": [
    "wales_y_df[['ELUC', 'time']].plot(x=\"time\", y=\"ELUC\")"
   ]
  },
  {
   "cell_type": "code",
   "execution_count": null,
   "id": "d4a1f221-32c0-4687-82c4-4bcdbc78fafd",
   "metadata": {},
   "outputs": [],
   "source": [
    "wales_preds = predictor.predict(wales_X_df)"
   ]
  },
  {
   "cell_type": "code",
   "execution_count": null,
   "id": "645ebb0a-e62b-48c0-a7c3-ebd387ff2ac8",
   "metadata": {},
   "outputs": [],
   "source": [
    "wales_preds.shape"
   ]
  },
  {
   "cell_type": "code",
   "execution_count": null,
   "id": "b76284a3-a2b6-44dd-a787-59e74e9c4fcd",
   "metadata": {},
   "outputs": [],
   "source": [
    "wales_y_df[\"ELUC_Pred\"] = wales_preds"
   ]
  },
  {
   "cell_type": "code",
   "execution_count": null,
   "id": "f39b9a73-95d9-417c-a0f5-a158ec3a371e",
   "metadata": {},
   "outputs": [],
   "source": [
    "wales_y_df"
   ]
  },
  {
   "cell_type": "code",
   "execution_count": null,
   "id": "2ea7d27b-4ebc-4571-80b7-bdfac3f4e35d",
   "metadata": {},
   "outputs": [],
   "source": [
    "wales_y_df.plot(x=\"time\", y=[\"ELUC\", \"ELUC_Pred\"])"
   ]
  },
  {
   "cell_type": "code",
   "execution_count": null,
   "id": "84bfb1a6-c6bf-4101-b3a2-69795a02ce57",
   "metadata": {},
   "outputs": [],
   "source": []
  }
 ],
 "metadata": {
  "kernelspec": {
   "display_name": "Python 3 (ipykernel)",
   "language": "python",
   "name": "python3"
  },
  "language_info": {
   "codemirror_mode": {
    "name": "ipython",
    "version": 3
   },
   "file_extension": ".py",
   "mimetype": "text/x-python",
   "name": "python",
   "nbconvert_exporter": "python",
   "pygments_lexer": "ipython3",
   "version": "3.10.7"
  },
  "toc-autonumbering": false,
  "toc-showcode": false,
  "toc-showtags": false
 },
 "nbformat": 4,
 "nbformat_minor": 5
}
