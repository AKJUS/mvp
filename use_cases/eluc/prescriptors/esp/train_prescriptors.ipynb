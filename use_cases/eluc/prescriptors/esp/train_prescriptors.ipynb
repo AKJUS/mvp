{
 "cells": [
  {
   "cell_type": "code",
   "execution_count": 4,
   "metadata": {},
   "outputs": [],
   "source": [
    "import os\n",
    "import json\n",
    "from pathlib import Path\n",
    "\n",
    "from esp_sdk.esp_service import EspService\n",
    "\n",
    "from data import constants\n",
    "from data.eluc_data import ELUCData\n",
    "from predictors.neural_network.neural_net_predictor import NeuralNetPredictor\n",
    "from prescriptors.prescriptor import UnileafPrescriptor"
   ]
  },
  {
   "cell_type": "code",
   "execution_count": 5,
   "metadata": {},
   "outputs": [],
   "source": [
    "dataset = ELUCData()"
   ]
  },
  {
   "cell_type": "code",
   "execution_count": 6,
   "metadata": {},
   "outputs": [
    {
     "name": "stdout",
     "output_type": "stream",
     "text": [
      "Initializing predictor...\n",
      "Loading predictor...\n",
      "Done!\n"
     ]
    }
   ],
   "source": [
    "print(\"Initializing predictor...\")\n",
    "nnp = NeuralNetPredictor()\n",
    "print(\"Loading predictor...\")\n",
    "nnp.load(\"predictors/neural_network/trained_models/experiment_nn\")\n",
    "print(\"Done!\")"
   ]
  },
  {
   "cell_type": "code",
   "execution_count": 7,
   "metadata": {},
   "outputs": [
    {
     "name": "stdout",
     "output_type": "stream",
     "text": [
      "ESP Service username and password found.\n",
      "Running prescriptor training...\n",
      "ESP service: localhost:50051\n",
      "gRPC options:\n",
      "  grpc.max_send_message_length: 52428800\n",
      "  grpc.max_receive_message_length: 52428800\n",
      "Ready to connect.\n",
      "Starting training:\n",
      "  experiment_id: test\n",
      "  checkpoint_id: None\n",
      "  timestamp: 20240213-120921\n",
      "Asking ESP for a seed generation...\n",
      "Sending NextPopulation request\n",
      "NextPopulation response received.\n",
      "Seed generation received.\n",
      "Evaluating PopulationResponse for generation 1...:\n",
      "PopulationResponse:\n",
      "  Generation: 1\n",
      "  Population size: 100\n",
      "  Checkpoint id: test/1/20240213-200922\n",
      "Evaluating candidates synchronously because max_workers == 0\n",
      "Metal device set to: Apple M1 Pro\n",
      "\n",
      "systemMemory: 16.00 GB\n",
      "maxCacheSize: 5.33 GB\n",
      "\n",
      "1233/1233 [==============================] - 5s 3ms/step\n",
      "1233/1233 [==============================] - 4s 4ms/step\n",
      "1233/1233 [==============================] - 4s 4ms/step\n",
      "1233/1233 [==============================] - 4s 3ms/step\n",
      "1233/1233 [==============================] - 4s 3ms/step\n",
      "1233/1233 [==============================] - 4s 3ms/step\n",
      "1233/1233 [==============================] - 4s 3ms/step\n",
      "1233/1233 [==============================] - 4s 3ms/step\n",
      "1233/1233 [==============================] - 4s 3ms/step\n",
      "1233/1233 [==============================] - 4s 3ms/step\n",
      "1233/1233 [==============================] - 4s 3ms/step\n",
      "1233/1233 [==============================] - 4s 3ms/step\n",
      "1233/1233 [==============================] - 4s 3ms/step\n",
      "1233/1233 [==============================] - 4s 3ms/step\n",
      "1233/1233 [==============================] - 4s 3ms/step\n",
      "1233/1233 [==============================] - 4s 3ms/step\n",
      "1233/1233 [==============================] - 4s 3ms/step\n",
      "1233/1233 [==============================] - 4s 3ms/step\n",
      "1233/1233 [==============================] - 4s 3ms/step\n",
      "1233/1233 [==============================] - 4s 3ms/step\n",
      "1233/1233 [==============================] - 4s 3ms/step\n",
      "1233/1233 [==============================] - 4s 3ms/step\n",
      "1233/1233 [==============================] - 4s 3ms/step\n",
      "1233/1233 [==============================] - 4s 3ms/step\n",
      "1233/1233 [==============================] - 4s 3ms/step\n",
      "1233/1233 [==============================] - 4s 3ms/step\n",
      "1233/1233 [==============================] - 4s 3ms/step\n",
      "1233/1233 [==============================] - 4s 3ms/step\n",
      "1233/1233 [==============================] - 4s 4ms/step\n",
      "1233/1233 [==============================] - 4s 3ms/step\n",
      "1233/1233 [==============================] - 4s 3ms/step\n",
      "1233/1233 [==============================] - 4s 3ms/step\n",
      "1233/1233 [==============================] - 4s 3ms/step\n",
      "1233/1233 [==============================] - 4s 3ms/step\n",
      "1233/1233 [==============================] - 4s 3ms/step\n",
      "1233/1233 [==============================] - 4s 3ms/step\n",
      "1233/1233 [==============================] - 4s 3ms/step\n",
      "1233/1233 [==============================] - 4s 3ms/step\n",
      "1233/1233 [==============================] - 4s 3ms/step\n",
      "1233/1233 [==============================] - 4s 3ms/step\n",
      "1233/1233 [==============================] - 4s 3ms/step\n",
      "1233/1233 [==============================] - 4s 3ms/step\n",
      "1233/1233 [==============================] - 4s 3ms/step\n",
      "1233/1233 [==============================] - 4s 3ms/step\n",
      "1233/1233 [==============================] - 4s 3ms/step\n",
      "1233/1233 [==============================] - 4s 3ms/step\n",
      "1233/1233 [==============================] - 4s 3ms/step\n",
      "1233/1233 [==============================] - 4s 3ms/step\n",
      "1233/1233 [==============================] - 4s 3ms/step\n",
      "1233/1233 [==============================] - 4s 3ms/step\n",
      "1233/1233 [==============================] - 4s 3ms/step\n",
      "1233/1233 [==============================] - 4s 3ms/step\n",
      "1233/1233 [==============================] - 4s 3ms/step\n",
      "1233/1233 [==============================] - 4s 3ms/step\n",
      "1233/1233 [==============================] - 4s 3ms/step\n",
      "1233/1233 [==============================] - 4s 3ms/step\n",
      "1233/1233 [==============================] - 4s 3ms/step\n",
      "1233/1233 [==============================] - 4s 3ms/step\n",
      "1233/1233 [==============================] - 4s 3ms/step\n",
      "1233/1233 [==============================] - 4s 3ms/step\n",
      "1233/1233 [==============================] - 4s 3ms/step\n",
      "1233/1233 [==============================] - 4s 4ms/step\n",
      "1233/1233 [==============================] - 4s 4ms/step\n",
      "1233/1233 [==============================] - 4s 4ms/step\n",
      "1233/1233 [==============================] - 4s 4ms/step\n",
      "1233/1233 [==============================] - 5s 4ms/step\n",
      "1233/1233 [==============================] - 4s 4ms/step\n",
      "1233/1233 [==============================] - 4s 4ms/step\n",
      "1233/1233 [==============================] - 4s 3ms/step\n",
      "1233/1233 [==============================] - 4s 3ms/step\n",
      "1233/1233 [==============================] - 4s 3ms/step\n",
      "1233/1233 [==============================] - 4s 4ms/step\n",
      "1233/1233 [==============================] - 4s 3ms/step\n",
      "1233/1233 [==============================] - 4s 3ms/step\n",
      "1233/1233 [==============================] - 4s 3ms/step\n",
      "1233/1233 [==============================] - 4s 3ms/step\n",
      "1233/1233 [==============================] - 4s 3ms/step\n",
      "1233/1233 [==============================] - 4s 3ms/step\n",
      "1233/1233 [==============================] - 4s 3ms/step\n",
      "1233/1233 [==============================] - 4s 3ms/step\n",
      "1233/1233 [==============================] - 4s 3ms/step\n",
      "1233/1233 [==============================] - 4s 3ms/step\n",
      "1233/1233 [==============================] - 4s 3ms/step\n",
      "1233/1233 [==============================] - 4s 3ms/step\n",
      "1233/1233 [==============================] - 4s 3ms/step\n",
      "1233/1233 [==============================] - 4s 3ms/step\n",
      "1233/1233 [==============================] - 4s 3ms/step\n",
      "1233/1233 [==============================] - 4s 3ms/step\n",
      "1233/1233 [==============================] - 4s 3ms/step\n",
      "1233/1233 [==============================] - 4s 3ms/step\n",
      "1233/1233 [==============================] - 4s 3ms/step\n",
      "1233/1233 [==============================] - 4s 3ms/step\n",
      "1233/1233 [==============================] - 4s 3ms/step\n",
      "1233/1233 [==============================] - 4s 3ms/step\n",
      "1233/1233 [==============================] - 4s 3ms/step\n",
      "1233/1233 [==============================] - 4s 4ms/step\n",
      "1233/1233 [==============================] - 4s 3ms/step\n",
      "1233/1233 [==============================] - 4s 3ms/step\n",
      "1233/1233 [==============================] - 4s 4ms/step\n",
      "1233/1233 [==============================] - 4s 3ms/step\n",
      "Evaluation done.\n",
      "Reporting evaluated population for generation 1 and asking ESP for generation 2...:\n",
      "Sending NextPopulation request\n",
      "NextPopulation response received.\n",
      "WARNING:tensorflow:Compiled the loaded model, but the compiled metrics have yet to be built. `model.compile_metrics` will be empty until you train or evaluate the model.\n"
     ]
    },
    {
     "name": "stderr",
     "output_type": "stream",
     "text": [
      "/Users/964840/anaconda3/envs/leaf/lib/python3.10/site-packages/keras/src/engine/training.py:3000: UserWarning: You are saving your model as an HDF5 file via `model.save()`. This file format is considered legacy. We recommend using instead the native Keras format, e.g. `model.save('my_model.keras')`.\n",
      "  saving_api.save_model(\n",
      "WARNING:tensorflow:Compiled the loaded model, but the compiled metrics have yet to be built. `model.compile_metrics` will be empty until you train or evaluate the model.\n"
     ]
    },
    {
     "name": "stdout",
     "output_type": "stream",
     "text": [
      "WARNING:tensorflow:Compiled the loaded model, but the compiled metrics have yet to be built. `model.compile_metrics` will be empty until you train or evaluate the model.\n"
     ]
    },
    {
     "name": "stderr",
     "output_type": "stream",
     "text": [
      "WARNING:tensorflow:Compiled the loaded model, but the compiled metrics have yet to be built. `model.compile_metrics` will be empty until you train or evaluate the model.\n"
     ]
    },
    {
     "name": "stdout",
     "output_type": "stream",
     "text": [
      "WARNING:tensorflow:Compiled the loaded model, but the compiled metrics have yet to be built. `model.compile_metrics` will be empty until you train or evaluate the model.\n"
     ]
    },
    {
     "name": "stderr",
     "output_type": "stream",
     "text": [
      "WARNING:tensorflow:Compiled the loaded model, but the compiled metrics have yet to be built. `model.compile_metrics` will be empty until you train or evaluate the model.\n"
     ]
    },
    {
     "name": "stdout",
     "output_type": "stream",
     "text": [
      "WARNING:tensorflow:Compiled the loaded model, but the compiled metrics have yet to be built. `model.compile_metrics` will be empty until you train or evaluate the model.\n"
     ]
    },
    {
     "name": "stderr",
     "output_type": "stream",
     "text": [
      "WARNING:tensorflow:Compiled the loaded model, but the compiled metrics have yet to be built. `model.compile_metrics` will be empty until you train or evaluate the model.\n"
     ]
    },
    {
     "name": "stdout",
     "output_type": "stream",
     "text": [
      "WARNING:tensorflow:Compiled the loaded model, but the compiled metrics have yet to be built. `model.compile_metrics` will be empty until you train or evaluate the model.\n"
     ]
    },
    {
     "name": "stderr",
     "output_type": "stream",
     "text": [
      "WARNING:tensorflow:Compiled the loaded model, but the compiled metrics have yet to be built. `model.compile_metrics` will be empty until you train or evaluate the model.\n"
     ]
    },
    {
     "name": "stdout",
     "output_type": "stream",
     "text": [
      "WARNING:tensorflow:Compiled the loaded model, but the compiled metrics have yet to be built. `model.compile_metrics` will be empty until you train or evaluate the model.\n"
     ]
    },
    {
     "name": "stderr",
     "output_type": "stream",
     "text": [
      "WARNING:tensorflow:Compiled the loaded model, but the compiled metrics have yet to be built. `model.compile_metrics` will be empty until you train or evaluate the model.\n"
     ]
    },
    {
     "name": "stdout",
     "output_type": "stream",
     "text": [
      "WARNING:tensorflow:Compiled the loaded model, but the compiled metrics have yet to be built. `model.compile_metrics` will be empty until you train or evaluate the model.\n"
     ]
    },
    {
     "name": "stderr",
     "output_type": "stream",
     "text": [
      "WARNING:tensorflow:Compiled the loaded model, but the compiled metrics have yet to be built. `model.compile_metrics` will be empty until you train or evaluate the model.\n"
     ]
    },
    {
     "name": "stdout",
     "output_type": "stream",
     "text": [
      "WARNING:tensorflow:Compiled the loaded model, but the compiled metrics have yet to be built. `model.compile_metrics` will be empty until you train or evaluate the model.\n"
     ]
    },
    {
     "name": "stderr",
     "output_type": "stream",
     "text": [
      "WARNING:tensorflow:Compiled the loaded model, but the compiled metrics have yet to be built. `model.compile_metrics` will be empty until you train or evaluate the model.\n"
     ]
    },
    {
     "name": "stdout",
     "output_type": "stream",
     "text": [
      "WARNING:tensorflow:Compiled the loaded model, but the compiled metrics have yet to be built. `model.compile_metrics` will be empty until you train or evaluate the model.\n"
     ]
    },
    {
     "name": "stderr",
     "output_type": "stream",
     "text": [
      "WARNING:tensorflow:Compiled the loaded model, but the compiled metrics have yet to be built. `model.compile_metrics` will be empty until you train or evaluate the model.\n"
     ]
    },
    {
     "name": "stdout",
     "output_type": "stream",
     "text": [
      "WARNING:tensorflow:Compiled the loaded model, but the compiled metrics have yet to be built. `model.compile_metrics` will be empty until you train or evaluate the model.\n"
     ]
    },
    {
     "name": "stderr",
     "output_type": "stream",
     "text": [
      "WARNING:tensorflow:Compiled the loaded model, but the compiled metrics have yet to be built. `model.compile_metrics` will be empty until you train or evaluate the model.\n"
     ]
    },
    {
     "name": "stdout",
     "output_type": "stream",
     "text": [
      "Generation 1 data persisted.\n",
      "Evaluated candidates:\n",
      "Id: 1_62 Identity: {'ancestor_count': 0, 'ancestor_ids': [], 'birth_generation': 1, 'domain_name': None, 'experiment_version': 'test', 'unique_id': '1_62', 'origin': '(none)'} Metrics: ['ELUC: 24.16837250217435', 'NSGA-II_crowding_distance: inf', 'NSGA-II_rank: 19', 'change: 0.3058792256784068', 'is_elite: False']\n",
      "Id: 1_48 Identity: {'ancestor_count': 0, 'ancestor_ids': [], 'birth_generation': 1, 'domain_name': None, 'experiment_version': 'test', 'unique_id': '1_48', 'origin': '(none)'} Metrics: ['ELUC: 24.160377914680172', 'NSGA-II_crowding_distance: inf', 'NSGA-II_rank: 18', 'change: 0.3058522537369433', 'is_elite: False']\n",
      "Id: 1_33 Identity: {'ancestor_count': 0, 'ancestor_ids': [], 'birth_generation': 1, 'domain_name': None, 'experiment_version': 'test', 'unique_id': '1_33', 'origin': '(none)'} Metrics: ['ELUC: 21.8340816775995', 'NSGA-II_crowding_distance: inf', 'NSGA-II_rank: 17', 'change: 0.29215513419957373', 'is_elite: False']\n",
      "Id: 1_36 Identity: {'ancestor_count': 0, 'ancestor_ids': [], 'birth_generation': 1, 'domain_name': None, 'experiment_version': 'test', 'unique_id': '1_36', 'origin': '(none)'} Metrics: ['ELUC: 21.81998855865037', 'NSGA-II_crowding_distance: inf', 'NSGA-II_rank: 16', 'change: 0.2906404291183297', 'is_elite: False']\n",
      "Id: 1_19 Identity: {'ancestor_count': 0, 'ancestor_ids': [], 'birth_generation': 1, 'domain_name': None, 'experiment_version': 'test', 'unique_id': '1_19', 'origin': '(none)'} Metrics: ['ELUC: 21.206734397175566', 'NSGA-II_crowding_distance: inf', 'NSGA-II_rank: 15', 'change: 0.2886055412282111', 'is_elite: False']\n",
      "Id: 1_34 Identity: {'ancestor_count': 0, 'ancestor_ids': [], 'birth_generation': 1, 'domain_name': None, 'experiment_version': 'test', 'unique_id': '1_34', 'origin': '(none)'} Metrics: ['ELUC: 16.227480856574246', 'NSGA-II_crowding_distance: inf', 'NSGA-II_rank: 11', 'change: 0.2592234636053112', 'is_elite: False']\n",
      "Id: 1_75 Identity: {'ancestor_count': 0, 'ancestor_ids': [], 'birth_generation': 1, 'domain_name': None, 'experiment_version': 'test', 'unique_id': '1_75', 'origin': '(none)'} Metrics: ['ELUC: 16.14581851799852', 'NSGA-II_crowding_distance: inf', 'NSGA-II_rank: 14', 'change: 0.28538044591214784', 'is_elite: False']\n",
      "Id: 1_50 Identity: {'ancestor_count': 0, 'ancestor_ids': [], 'birth_generation': 1, 'domain_name': None, 'experiment_version': 'test', 'unique_id': '1_50', 'origin': '(none)'} Metrics: ['ELUC: 14.686779811768218', 'NSGA-II_crowding_distance: inf', 'NSGA-II_rank: 13', 'change: 0.27222708250538713', 'is_elite: False']\n",
      "Id: 1_28 Identity: {'ancestor_count': 0, 'ancestor_ids': [], 'birth_generation': 1, 'domain_name': None, 'experiment_version': 'test', 'unique_id': '1_28', 'origin': '(none)'} Metrics: ['ELUC: 14.54547678690605', 'NSGA-II_crowding_distance: 1.098163339336243', 'NSGA-II_rank: 13', 'change: 0.28459661160048616', 'is_elite: False']\n",
      "Id: 1_99 Identity: {'ancestor_count': 0, 'ancestor_ids': [], 'birth_generation': 1, 'domain_name': None, 'experiment_version': 'test', 'unique_id': '1_99', 'origin': '(none)'} Metrics: ['ELUC: 14.468930451722956', 'NSGA-II_crowding_distance: inf', 'NSGA-II_rank: 10', 'change: 0.2528801942852757', 'is_elite: False']\n",
      "Id: 1_89 Identity: {'ancestor_count': 0, 'ancestor_ids': [], 'birth_generation': 1, 'domain_name': None, 'experiment_version': 'test', 'unique_id': '1_89', 'origin': '(none)'} Metrics: ['ELUC: 13.489656978165689', 'NSGA-II_crowding_distance: inf', 'NSGA-II_rank: 9', 'change: 0.2527074760235092', 'is_elite: False']\n",
      "Id: 1_90 Identity: {'ancestor_count': 0, 'ancestor_ids': [], 'birth_generation': 1, 'domain_name': None, 'experiment_version': 'test', 'unique_id': '1_90', 'origin': '(none)'} Metrics: ['ELUC: 13.28978093446168', 'NSGA-II_crowding_distance: inf', 'NSGA-II_rank: 4', 'change: 0.23281620422563812', 'is_elite: False']\n",
      "Id: 1_43 Identity: {'ancestor_count': 0, 'ancestor_ids': [], 'birth_generation': 1, 'domain_name': None, 'experiment_version': 'test', 'unique_id': '1_43', 'origin': '(none)'} Metrics: ['ELUC: 12.194331721044524', 'NSGA-II_crowding_distance: 1.2463626181992233', 'NSGA-II_rank: 14', 'change: 0.3015629215508569', 'is_elite: False']\n",
      "Id: 1_58 Identity: {'ancestor_count': 0, 'ancestor_ids': [], 'birth_generation': 1, 'domain_name': None, 'experiment_version': 'test', 'unique_id': '1_58', 'origin': '(none)'} Metrics: ['ELUC: 8.103104676511496', 'NSGA-II_crowding_distance: 1.4121515717445599', 'NSGA-II_rank: 10', 'change: 0.25747244524863994', 'is_elite: False']\n",
      "Id: 1_46 Identity: {'ancestor_count': 0, 'ancestor_ids': [], 'birth_generation': 1, 'domain_name': None, 'experiment_version': 'test', 'unique_id': '1_46', 'origin': '(none)'} Metrics: ['ELUC: 7.760362617737104', 'NSGA-II_crowding_distance: inf', 'NSGA-II_rank: 12', 'change: 0.2689163199899994', 'is_elite: False']\n",
      "Id: 1_67 Identity: {'ancestor_count': 0, 'ancestor_ids': [], 'birth_generation': 1, 'domain_name': None, 'experiment_version': 'test', 'unique_id': '1_67', 'origin': '(none)'} Metrics: ['ELUC: 7.742237866838712', 'NSGA-II_crowding_distance: 1.8199962519253705', 'NSGA-II_rank: 12', 'change: 0.28219094213592955', 'is_elite: False']\n",
      "Id: 1_60 Identity: {'ancestor_count': 0, 'ancestor_ids': [], 'birth_generation': 1, 'domain_name': None, 'experiment_version': 'test', 'unique_id': '1_60', 'origin': '(none)'} Metrics: ['ELUC: 6.276140666014528', 'NSGA-II_crowding_distance: 1.9729368853996552', 'NSGA-II_rank: 15', 'change: 0.3125575026661681', 'is_elite: False']\n",
      "Id: 1_74 Identity: {'ancestor_count': 0, 'ancestor_ids': [], 'birth_generation': 1, 'domain_name': None, 'experiment_version': 'test', 'unique_id': '1_74', 'origin': '(none)'} Metrics: ['ELUC: 5.175379443608467', 'NSGA-II_crowding_distance: 1.6293657735282299', 'NSGA-II_rank: 9', 'change: 0.2563338304410789', 'is_elite: False']\n",
      "Id: 1_51 Identity: {'ancestor_count': 0, 'ancestor_ids': [], 'birth_generation': 1, 'domain_name': None, 'experiment_version': 'test', 'unique_id': '1_51', 'origin': '(none)'} Metrics: ['ELUC: 4.022880649890961', 'NSGA-II_crowding_distance: 1.2394291000432813', 'NSGA-II_rank: 14', 'change: 0.3042894254562674', 'is_elite: False']\n",
      "Id: 1_15 Identity: {'ancestor_count': 0, 'ancestor_ids': [], 'birth_generation': 1, 'domain_name': None, 'experiment_version': 'test', 'unique_id': '1_15', 'origin': '(none)'} Metrics: ['ELUC: 4.011335714663428', 'NSGA-II_crowding_distance: inf', 'NSGA-II_rank: 3', 'change: 0.22676464370277882', 'is_elite: False']\n",
      "Id: 1_97 Identity: {'ancestor_count': 0, 'ancestor_ids': [], 'birth_generation': 1, 'domain_name': None, 'experiment_version': 'test', 'unique_id': '1_97', 'origin': '(none)'} Metrics: ['ELUC: 3.64209418955004', 'NSGA-II_crowding_distance: 2.0', 'NSGA-II_rank: 11', 'change: 0.26487270902292165', 'is_elite: False']\n",
      "Id: 1_13 Identity: {'ancestor_count': 0, 'ancestor_ids': [], 'birth_generation': 1, 'domain_name': None, 'experiment_version': 'test', 'unique_id': '1_13', 'origin': '(none)'} Metrics: ['ELUC: 3.5779167009948085', 'NSGA-II_crowding_distance: 1.3836497419486453', 'NSGA-II_rank: 13', 'change: 0.2951768808281396', 'is_elite: False']\n",
      "Id: 1_76 Identity: {'ancestor_count': 0, 'ancestor_ids': [], 'birth_generation': 1, 'domain_name': None, 'experiment_version': 'test', 'unique_id': '1_76', 'origin': '(none)'} Metrics: ['ELUC: 3.17294914362004', 'NSGA-II_crowding_distance: inf', 'NSGA-II_rank: 7', 'change: 0.24561578434953166', 'is_elite: False']\n",
      "Id: 1_63 Identity: {'ancestor_count': 0, 'ancestor_ids': [], 'birth_generation': 1, 'domain_name': None, 'experiment_version': 'test', 'unique_id': '1_63', 'origin': '(none)'} Metrics: ['ELUC: 3.011222273559701', 'NSGA-II_crowding_distance: 1.2395199988876495', 'NSGA-II_rank: 10', 'change: 0.2641199960152691', 'is_elite: False']\n",
      "Id: 1_64 Identity: {'ancestor_count': 0, 'ancestor_ids': [], 'birth_generation': 1, 'domain_name': None, 'experiment_version': 'test', 'unique_id': '1_64', 'origin': '(none)'} Metrics: ['ELUC: 2.681652585814098', 'NSGA-II_crowding_distance: 1.1704961237120017', 'NSGA-II_rank: 9', 'change: 0.2636047301589581', 'is_elite: False']\n",
      "Id: 1_83 Identity: {'ancestor_count': 0, 'ancestor_ids': [], 'birth_generation': 1, 'domain_name': None, 'experiment_version': 'test', 'unique_id': '1_83', 'origin': '(none)'} Metrics: ['ELUC: 2.6010482073800945', 'NSGA-II_crowding_distance: 0.6343334534033878', 'NSGA-II_rank: 3', 'change: 0.23664220099610356', 'is_elite: False']\n",
      "Id: 1_4 Identity: {'ancestor_count': 0, 'ancestor_ids': [], 'birth_generation': 1, 'domain_name': None, 'experiment_version': 'test', 'unique_id': '1_4', 'origin': '(none)'} Metrics: ['ELUC: 2.560974368320742', 'NSGA-II_crowding_distance: inf', 'NSGA-II_rank: 6', 'change: 0.24316776013445646', 'is_elite: False']\n",
      "Id: 1_77 Identity: {'ancestor_count': 0, 'ancestor_ids': [], 'birth_generation': 1, 'domain_name': None, 'experiment_version': 'test', 'unique_id': '1_77', 'origin': '(none)'} Metrics: ['ELUC: 2.455070202705463', 'NSGA-II_crowding_distance: inf', 'NSGA-II_rank: 8', 'change: 0.25217118412652817', 'is_elite: False']\n",
      "Id: 1_41 Identity: {'ancestor_count': 0, 'ancestor_ids': [], 'birth_generation': 1, 'domain_name': None, 'experiment_version': 'test', 'unique_id': '1_41', 'origin': '(none)'} Metrics: ['ELUC: 2.310102889976668', 'NSGA-II_crowding_distance: 0.8360749899106681', 'NSGA-II_rank: 15', 'change: 0.349874774646134', 'is_elite: False']\n",
      "Id: 1_6 Identity: {'ancestor_count': 0, 'ancestor_ids': [], 'birth_generation': 1, 'domain_name': None, 'experiment_version': 'test', 'unique_id': '1_6', 'origin': '(none)'} Metrics: ['ELUC: 2.0409874431454655', 'NSGA-II_crowding_distance: inf', 'NSGA-II_rank: 16', 'change: 0.3527712988545227', 'is_elite: False']\n",
      "Id: 1_9 Identity: {'ancestor_count': 0, 'ancestor_ids': [], 'birth_generation': 1, 'domain_name': None, 'experiment_version': 'test', 'unique_id': '1_9', 'origin': '(none)'} Metrics: ['ELUC: 2.0409874431454655', 'NSGA-II_crowding_distance: 0.0', 'NSGA-II_rank: 16', 'change: 0.3527712988545227', 'is_elite: False']\n",
      "Id: 1_27 Identity: {'ancestor_count': 0, 'ancestor_ids': [], 'birth_generation': 1, 'domain_name': None, 'experiment_version': 'test', 'unique_id': '1_27', 'origin': '(none)'} Metrics: ['ELUC: 2.0409874431454655', 'NSGA-II_crowding_distance: inf', 'NSGA-II_rank: 16', 'change: 0.3527712988545227', 'is_elite: False']\n",
      "Id: 1_12 Identity: {'ancestor_count': 0, 'ancestor_ids': [], 'birth_generation': 1, 'domain_name': None, 'experiment_version': 'test', 'unique_id': '1_12', 'origin': '(none)'} Metrics: ['ELUC: 1.9951530835576219', 'NSGA-II_crowding_distance: inf', 'NSGA-II_rank: 15', 'change: 0.35053552843580854', 'is_elite: False']\n",
      "Id: 1_71 Identity: {'ancestor_count': 0, 'ancestor_ids': [], 'birth_generation': 1, 'domain_name': None, 'experiment_version': 'test', 'unique_id': '1_71', 'origin': '(none)'} Metrics: ['ELUC: 1.747915293719701', 'NSGA-II_crowding_distance: 0.5129371187328966', 'NSGA-II_rank: 7', 'change: 0.25011323997937396', 'is_elite: False']\n",
      "Id: 1_68 Identity: {'ancestor_count': 0, 'ancestor_ids': [], 'birth_generation': 1, 'domain_name': None, 'experiment_version': 'test', 'unique_id': '1_68', 'origin': '(none)'} Metrics: ['ELUC: 1.7475455431224656', 'NSGA-II_crowding_distance: 1.076603192707598', 'NSGA-II_rank: 7', 'change: 0.2550400918497024', 'is_elite: False']\n",
      "Id: 1_30 Identity: {'ancestor_count': 0, 'ancestor_ids': [], 'birth_generation': 1, 'domain_name': None, 'experiment_version': 'test', 'unique_id': '1_30', 'origin': '(none)'} Metrics: ['ELUC: 1.5755472293780193', 'NSGA-II_crowding_distance: 0.7536373818007768', 'NSGA-II_rank: 14', 'change: 0.32429088014507657', 'is_elite: False']\n",
      "Id: 1_2 Identity: {'ancestor_count': 0, 'ancestor_ids': [], 'birth_generation': 1, 'domain_name': None, 'experiment_version': 'test', 'unique_id': '1_2', 'origin': '(none)'} Metrics: ['ELUC: 0.8646508105982956', 'NSGA-II_crowding_distance: inf', 'NSGA-II_rank: 14', 'change: 0.32711868970859537', 'is_elite: False']\n",
      "Id: 1_20 Identity: {'ancestor_count': 0, 'ancestor_ids': [], 'birth_generation': 1, 'domain_name': None, 'experiment_version': 'test', 'unique_id': '1_20', 'origin': '(none)'} Metrics: ['ELUC: 0.35835904787961637', 'NSGA-II_crowding_distance: 0.9018366606637569', 'NSGA-II_rank: 13', 'change: 0.3126328503055798', 'is_elite: False']\n",
      "Id: 1_35 Identity: {'ancestor_count': 0, 'ancestor_ids': [], 'birth_generation': 1, 'domain_name': None, 'experiment_version': 'test', 'unique_id': '1_35', 'origin': '(none)'} Metrics: ['ELUC: 0.164752157337882', 'NSGA-II_crowding_distance: inf', 'NSGA-II_rank: 5', 'change: 0.23998292679082303', 'is_elite: False']\n",
      "Id: 1_44 Identity: {'ancestor_count': 0, 'ancestor_ids': [], 'birth_generation': 1, 'domain_name': None, 'experiment_version': 'test', 'unique_id': '1_44', 'origin': '(none)'} Metrics: ['ELUC: 0.050031465149887204', 'NSGA-II_crowding_distance: inf', 'NSGA-II_rank: 13', 'change: 0.3398871539036199', 'is_elite: False']\n",
      "Id: 1_61 Identity: {'ancestor_count': 0, 'ancestor_ids': [], 'birth_generation': 1, 'domain_name': None, 'experiment_version': 'test', 'unique_id': '1_61', 'origin': '(none)'} Metrics: ['ELUC: 0.012517319378487159', 'NSGA-II_crowding_distance: 0.04239364358735292', 'NSGA-II_rank: 5', 'change: 0.24050026731696617', 'is_elite: False']\n",
      "Id: 1_70 Identity: {'ancestor_count': 0, 'ancestor_ids': [], 'birth_generation': 1, 'domain_name': None, 'experiment_version': 'test', 'unique_id': '1_70', 'origin': '(none)'} Metrics: ['ELUC: 0.012517319378487159', 'NSGA-II_crowding_distance: 0.080181678416793', 'NSGA-II_rank: 5', 'change: 0.24050026731696617', 'is_elite: False']\n",
      "Id: 1_47 Identity: {'ancestor_count': 0, 'ancestor_ids': [], 'birth_generation': 1, 'domain_name': None, 'experiment_version': 'test', 'unique_id': '1_47', 'origin': '(none)'} Metrics: ['ELUC: 0.010276717188162157', 'NSGA-II_crowding_distance: 0.7773482440794071', 'NSGA-II_rank: 4', 'change: 0.2396959800888411', 'is_elite: False']\n",
      "Id: 1_14 Identity: {'ancestor_count': 0, 'ancestor_ids': [], 'birth_generation': 1, 'domain_name': None, 'experiment_version': 'test', 'unique_id': '1_14', 'origin': '(none)'} Metrics: ['ELUC: -0.21727721487948554', 'NSGA-II_crowding_distance: 1.4820604122540768', 'NSGA-II_rank: 12', 'change: 0.2933858456780706', 'is_elite: False']\n",
      "Id: 1_1 Identity: {'ancestor_count': 0, 'ancestor_ids': [], 'birth_generation': 1, 'domain_name': None, 'experiment_version': 'test', 'unique_id': '1_1', 'origin': '(none)'} Metrics: ['ELUC: -0.2227250343797053', 'NSGA-II_crowding_distance: 1.2964442765422464', 'NSGA-II_rank: 6', 'change: 0.2499296406395586', 'is_elite: False']\n",
      "Id: 1_7 Identity: {'ancestor_count': 0, 'ancestor_ids': [], 'birth_generation': 1, 'domain_name': None, 'experiment_version': 'test', 'unique_id': '1_7', 'origin': '(none)'} Metrics: ['ELUC: -0.2888341221702056', 'NSGA-II_crowding_distance: inf', 'NSGA-II_rank: 2', 'change: 0.22668387310715232', 'is_elite: False']\n",
      "Id: 1_55 Identity: {'ancestor_count': 0, 'ancestor_ids': [], 'birth_generation': 1, 'domain_name': None, 'experiment_version': 'test', 'unique_id': '1_55', 'origin': '(none)'} Metrics: ['ELUC: -0.30853011692439725', 'NSGA-II_crowding_distance: 0.13640301787301395', 'NSGA-II_rank: 5', 'change: 0.24467631242640347', 'is_elite: False']\n",
      "Id: 1_52 Identity: {'ancestor_count': 0, 'ancestor_ids': [], 'birth_generation': 1, 'domain_name': None, 'experiment_version': 'test', 'unique_id': '1_52', 'origin': '(none)'} Metrics: ['ELUC: -0.39568227009633317', 'NSGA-II_crowding_distance: 0.4452586754965745', 'NSGA-II_rank: 5', 'change: 0.24655573347421406', 'is_elite: False']\n",
      "Id: 1_79 Identity: {'ancestor_count': 0, 'ancestor_ids': [], 'birth_generation': 1, 'domain_name': None, 'experiment_version': 'test', 'unique_id': '1_79', 'origin': '(none)'} Metrics: ['ELUC: -0.7273529288078069', 'NSGA-II_crowding_distance: 0.19444635911150895', 'NSGA-II_rank: 4', 'change: 0.24039441127927505', 'is_elite: False']\n",
      "Id: 1_87 Identity: {'ancestor_count': 0, 'ancestor_ids': [], 'birth_generation': 1, 'domain_name': None, 'experiment_version': 'test', 'unique_id': '1_87', 'origin': '(none)'} Metrics: ['ELUC: -0.8255930035433484', 'NSGA-II_crowding_distance: 0.5878484282554401', 'NSGA-II_rank: 10', 'change: 0.2684209967120516', 'is_elite: False']\n",
      "Id: 1_95 Identity: {'ancestor_count': 0, 'ancestor_ids': [], 'birth_generation': 1, 'domain_name': None, 'experiment_version': 'test', 'unique_id': '1_95', 'origin': '(none)'} Metrics: ['ELUC: -0.851637702509403', 'NSGA-II_crowding_distance: 0.4588235537554882', 'NSGA-II_rank: 4', 'change: 0.24658760609192684', 'is_elite: False']\n",
      "Id: 1_57 Identity: {'ancestor_count': 0, 'ancestor_ids': [], 'birth_generation': 1, 'domain_name': None, 'experiment_version': 'test', 'unique_id': '1_57', 'origin': '(none)'} Metrics: ['ELUC: -1.4209369638858649', 'NSGA-II_crowding_distance: inf', 'NSGA-II_rank: 12', 'change: 0.29464405239417896', 'is_elite: False']\n",
      "Id: 1_84 Identity: {'ancestor_count': 0, 'ancestor_ids': [], 'birth_generation': 1, 'domain_name': None, 'experiment_version': 'test', 'unique_id': '1_84', 'origin': '(none)'} Metrics: ['ELUC: -1.5048084307792846', 'NSGA-II_crowding_distance: inf', 'NSGA-II_rank: 11', 'change: 0.27793805552368134', 'is_elite: False']\n",
      "Id: 1_24 Identity: {'ancestor_count': 0, 'ancestor_ids': [], 'birth_generation': 1, 'domain_name': None, 'experiment_version': 'test', 'unique_id': '1_24', 'origin': '(none)'} Metrics: ['ELUC: -1.9389253057812874', 'NSGA-II_crowding_distance: inf', 'NSGA-II_rank: 10', 'change: 0.2686256244829513', 'is_elite: False']\n",
      "Id: 1_73 Identity: {'ancestor_count': 0, 'ancestor_ids': [], 'birth_generation': 1, 'domain_name': None, 'experiment_version': 'test', 'unique_id': '1_73', 'origin': '(none)'} Metrics: ['ELUC: -2.1540166709288586', 'NSGA-II_crowding_distance: 0.7558443418442955', 'NSGA-II_rank: 3', 'change: 0.2380852701101791', 'is_elite: False']\n",
      "Id: 1_5 Identity: {'ancestor_count': 0, 'ancestor_ids': [], 'birth_generation': 1, 'domain_name': None, 'experiment_version': 'test', 'unique_id': '1_5', 'origin': '(none)'} Metrics: ['ELUC: -2.9155698509918704', 'NSGA-II_crowding_distance: 0.6237959196104762', 'NSGA-II_rank: 5', 'change: 0.2554856188132912', 'is_elite: False']\n",
      "Id: 1_45 Identity: {'ancestor_count': 0, 'ancestor_ids': [], 'birth_generation': 1, 'domain_name': None, 'experiment_version': 'test', 'unique_id': '1_45', 'origin': '(none)'} Metrics: ['ELUC: -2.931542935674633', 'NSGA-II_crowding_distance: inf', 'NSGA-II_rank: 9', 'change: 0.2639279710538597', 'is_elite: False']\n",
      "Id: 1_26 Identity: {'ancestor_count': 0, 'ancestor_ids': [], 'birth_generation': 1, 'domain_name': None, 'experiment_version': 'test', 'unique_id': '1_26', 'origin': '(none)'} Metrics: ['ELUC: -3.150228623763059', 'NSGA-II_crowding_distance: 0.519859631046565', 'NSGA-II_rank: 2', 'change: 0.2349909360761232', 'is_elite: False']\n",
      "Id: 1_92 Identity: {'ancestor_count': 0, 'ancestor_ids': [], 'birth_generation': 1, 'domain_name': None, 'experiment_version': 'test', 'unique_id': '1_92', 'origin': '(none)'} Metrics: ['ELUC: -3.2790619157289447', 'NSGA-II_crowding_distance: 2.0', 'NSGA-II_rank: 8', 'change: 0.2603260280264673', 'is_elite: False']\n",
      "Id: 1_98 Identity: {'ancestor_count': 0, 'ancestor_ids': [], 'birth_generation': 1, 'domain_name': None, 'experiment_version': 'test', 'unique_id': '1_98', 'origin': '(none)'} Metrics: ['ELUC: -3.364414440894428', 'NSGA-II_crowding_distance: inf', 'NSGA-II_rank: 8', 'change: 0.283258287664256', 'is_elite: False']\n",
      "Id: 1_91 Identity: {'ancestor_count': 0, 'ancestor_ids': [], 'birth_generation': 1, 'domain_name': None, 'experiment_version': 'test', 'unique_id': '1_91', 'origin': '(none)'} Metrics: ['ELUC: -3.3746813728077396', 'NSGA-II_crowding_distance: 1.4870628812671034', 'NSGA-II_rank: 7', 'change: 0.2597757471736627', 'is_elite: False']\n",
      "Id: 1_29 Identity: {'ancestor_count': 0, 'ancestor_ids': [], 'birth_generation': 1, 'domain_name': None, 'experiment_version': 'test', 'unique_id': '1_29', 'origin': '(none)'} Metrics: ['ELUC: -3.4685336610348103', 'NSGA-II_crowding_distance: 0.6082626262418325', 'NSGA-II_rank: 3', 'change: 0.25477622192675226', 'is_elite: False']\n",
      "Id: 1_93 Identity: {'ancestor_count': 0, 'ancestor_ids': [], 'birth_generation': 1, 'domain_name': None, 'experiment_version': 'test', 'unique_id': '1_93', 'origin': '(none)'} Metrics: ['ELUC: -3.475235890963808', 'NSGA-II_crowding_distance: inf', 'NSGA-II_rank: 7', 'change: 0.2771845988197979', 'is_elite: False']\n",
      "Id: 1_88 Identity: {'ancestor_count': 0, 'ancestor_ids': [], 'birth_generation': 1, 'domain_name': None, 'experiment_version': 'test', 'unique_id': '1_88', 'origin': '(none)'} Metrics: ['ELUC: -3.4898379123337464', 'NSGA-II_crowding_distance: 1.4038715842536253', 'NSGA-II_rank: 6', 'change: 0.25789577044235984', 'is_elite: False']\n",
      "Id: 1_78 Identity: {'ancestor_count': 0, 'ancestor_ids': [], 'birth_generation': 1, 'domain_name': None, 'experiment_version': 'test', 'unique_id': '1_78', 'origin': '(none)'} Metrics: ['ELUC: -3.515961585542842', 'NSGA-II_crowding_distance: 0.4061901550914813', 'NSGA-II_rank: 4', 'change: 0.25523011236673177', 'is_elite: False']\n",
      "Id: 1_49 Identity: {'ancestor_count': 0, 'ancestor_ids': [], 'birth_generation': 1, 'domain_name': None, 'experiment_version': 'test', 'unique_id': '1_49', 'origin': '(none)'} Metrics: ['ELUC: -3.5621183479575067', 'NSGA-II_crowding_distance: 0.4022493319161961', 'NSGA-II_rank: 2', 'change: 0.24444970115258685', 'is_elite: False']\n",
      "Id: 1_53 Identity: {'ancestor_count': 0, 'ancestor_ids': [], 'birth_generation': 1, 'domain_name': None, 'experiment_version': 'test', 'unique_id': '1_53', 'origin': '(none)'} Metrics: ['ELUC: -3.67653466206307', 'NSGA-II_crowding_distance: inf', 'NSGA-II_rank: 6', 'change: 0.28829371745985455', 'is_elite: False']\n",
      "Id: 1_42 Identity: {'ancestor_count': 0, 'ancestor_ids': [], 'birth_generation': 1, 'domain_name': None, 'experiment_version': 'test', 'unique_id': '1_42', 'origin': '(none)'} Metrics: ['ELUC: -4.696959015355664', 'NSGA-II_crowding_distance: 1.097419546013398', 'NSGA-II_rank: 5', 'change: 0.25713901778266246', 'is_elite: False']\n",
      "Id: 1_22 Identity: {'ancestor_count': 0, 'ancestor_ids': [], 'birth_generation': 1, 'domain_name': None, 'experiment_version': 'test', 'unique_id': '1_22', 'origin': '(none)'} Metrics: ['ELUC: -4.749842160281162', 'NSGA-II_crowding_distance: inf', 'NSGA-II_rank: 1', 'change: 0.22310495691341786', 'is_elite: True']\n",
      "Id: 1_72 Identity: {'ancestor_count': 0, 'ancestor_ids': [], 'birth_generation': 1, 'domain_name': None, 'experiment_version': 'test', 'unique_id': '1_72', 'origin': '(none)'} Metrics: ['ELUC: -5.105024067677041', 'NSGA-II_crowding_distance: 0.4773744263764076', 'NSGA-II_rank: 4', 'change: 0.2563496323271655', 'is_elite: False']\n",
      "Id: 1_21 Identity: {'ancestor_count': 0, 'ancestor_ids': [], 'birth_generation': 1, 'domain_name': None, 'experiment_version': 'test', 'unique_id': '1_21', 'origin': '(none)'} Metrics: ['ELUC: -5.208242310623751', 'NSGA-II_crowding_distance: 0.3401183099389573', 'NSGA-II_rank: 2', 'change: 0.25098300615583374', 'is_elite: False']\n",
      "Id: 1_59 Identity: {'ancestor_count': 0, 'ancestor_ids': [], 'birth_generation': 1, 'domain_name': None, 'experiment_version': 'test', 'unique_id': '1_59', 'origin': '(none)'} Metrics: ['ELUC: -6.341352951385072', 'NSGA-II_crowding_distance: 0.365411795155298', 'NSGA-II_rank: 3', 'change: 0.255214673376636', 'is_elite: False']\n",
      "Id: 1_38 Identity: {'ancestor_count': 0, 'ancestor_ids': [], 'birth_generation': 1, 'domain_name': None, 'experiment_version': 'test', 'unique_id': '1_38', 'origin': '(none)'} Metrics: ['ELUC: -6.477469844409696', 'NSGA-II_crowding_distance: 0.312209556214807', 'NSGA-II_rank: 2', 'change: 0.25241295493997634', 'is_elite: False']\n",
      "Id: 1_80 Identity: {'ancestor_count': 0, 'ancestor_ids': [], 'birth_generation': 1, 'domain_name': None, 'experiment_version': 'test', 'unique_id': '1_80', 'origin': '(none)'} Metrics: ['ELUC: -6.520730586577443', 'NSGA-II_crowding_distance: 0.44658529336441205', 'NSGA-II_rank: 1', 'change: 0.23723970522187782', 'is_elite: True']\n",
      "Id: 1_82 Identity: {'ancestor_count': 0, 'ancestor_ids': [], 'birth_generation': 1, 'domain_name': None, 'experiment_version': 'test', 'unique_id': '1_82', 'origin': '(none)'} Metrics: ['ELUC: -6.833186416126583', 'NSGA-II_crowding_distance: 0.47571819239515356', 'NSGA-II_rank: 4', 'change: 0.2698799313750465', 'is_elite: False']\n",
      "Id: 1_40 Identity: {'ancestor_count': 0, 'ancestor_ids': [], 'birth_generation': 1, 'domain_name': None, 'experiment_version': 'test', 'unique_id': '1_40', 'origin': '(none)'} Metrics: ['ELUC: -7.110222850313951', 'NSGA-II_crowding_distance: 0.22012437381176264', 'NSGA-II_rank: 1', 'change: 0.24412666188444093', 'is_elite: True']\n",
      "Id: 1_31 Identity: {'ancestor_count': 0, 'ancestor_ids': [], 'birth_generation': 1, 'domain_name': None, 'experiment_version': 'test', 'unique_id': '1_31', 'origin': '(none)'} Metrics: ['ELUC: -7.505625353213676', 'NSGA-II_crowding_distance: 1.1872006193359272', 'NSGA-II_rank: 5', 'change: 0.29502651805695573', 'is_elite: False']\n",
      "Id: 1_18 Identity: {'ancestor_count': 0, 'ancestor_ids': [], 'birth_generation': 1, 'domain_name': None, 'experiment_version': 'test', 'unique_id': '1_18', 'origin': '(none)'} Metrics: ['ELUC: -8.084301976530588', 'NSGA-II_crowding_distance: 0.11300735601266435', 'NSGA-II_rank: 4', 'change: 0.2715653705470806', 'is_elite: False']\n",
      "Id: 1_23 Identity: {'ancestor_count': 0, 'ancestor_ids': [], 'birth_generation': 1, 'domain_name': None, 'experiment_version': 'test', 'unique_id': '1_23', 'origin': '(none)'} Metrics: ['ELUC: -8.12467078249326', 'NSGA-II_crowding_distance: 0.23318769381319776', 'NSGA-II_rank: 1', 'change: 0.2448984513869198', 'is_elite: True']\n",
      "Id: 1_3 Identity: {'ancestor_count': 0, 'ancestor_ids': [], 'birth_generation': 1, 'domain_name': None, 'experiment_version': 'test', 'unique_id': '1_3', 'origin': '(none)'} Metrics: ['ELUC: -8.209504292664239', 'NSGA-II_crowding_distance: 0.03941012892419736', 'NSGA-II_rank: 4', 'change: 0.2722312695170447', 'is_elite: False']\n",
      "Id: 1_16 Identity: {'ancestor_count': 0, 'ancestor_ids': [], 'birth_generation': 1, 'domain_name': None, 'experiment_version': 'test', 'unique_id': '1_16', 'origin': '(none)'} Metrics: ['ELUC: -8.227040721925775', 'NSGA-II_crowding_distance: 0.05277319057294641', 'NSGA-II_rank: 4', 'change: 0.27302252546627814', 'is_elite: False']\n",
      "Id: 1_8 Identity: {'ancestor_count': 0, 'ancestor_ids': [], 'birth_generation': 1, 'domain_name': None, 'experiment_version': 'test', 'unique_id': '1_8', 'origin': '(none)'} Metrics: ['ELUC: -8.417574766783341', 'NSGA-II_crowding_distance: 0.15463208816854895', 'NSGA-II_rank: 4', 'change: 0.2741505212965655', 'is_elite: False']\n",
      "Id: 1_96 Identity: {'ancestor_count': 0, 'ancestor_ids': [], 'birth_generation': 1, 'domain_name': None, 'experiment_version': 'test', 'unique_id': '1_96', 'origin': '(none)'} Metrics: ['ELUC: -8.656624906941426', 'NSGA-II_crowding_distance: 0.6491913924181971', 'NSGA-II_rank: 3', 'change: 0.255344071181877', 'is_elite: False']\n",
      "Id: 1_11 Identity: {'ancestor_count': 0, 'ancestor_ids': [], 'birth_generation': 1, 'domain_name': None, 'experiment_version': 'test', 'unique_id': '1_11', 'origin': '(none)'} Metrics: ['ELUC: -8.994615048092896', 'NSGA-II_crowding_distance: 0.3347464564858816', 'NSGA-II_rank: 5', 'change: 0.30460885547172883', 'is_elite: False']\n",
      "Id: 1_66 Identity: {'ancestor_count': 0, 'ancestor_ids': [], 'birth_generation': 1, 'domain_name': None, 'experiment_version': 'test', 'unique_id': '1_66', 'origin': '(none)'} Metrics: ['ELUC: -9.074297745245556', 'NSGA-II_crowding_distance: 0.25148646748048264', 'NSGA-II_rank: 2', 'change: 0.25266455434506097', 'is_elite: False']\n",
      "Id: 1_39 Identity: {'ancestor_count': 0, 'ancestor_ids': [], 'birth_generation': 1, 'domain_name': None, 'experiment_version': 'test', 'unique_id': '1_39', 'origin': '(none)'} Metrics: ['ELUC: -9.144657479263008', 'NSGA-II_crowding_distance: inf', 'NSGA-II_rank: 5', 'change: 0.30540855668247086', 'is_elite: False']\n",
      "Id: 1_86 Identity: {'ancestor_count': 0, 'ancestor_ids': [], 'birth_generation': 1, 'domain_name': None, 'experiment_version': 'test', 'unique_id': '1_86', 'origin': '(none)'} Metrics: ['ELUC: -9.39189814617824', 'NSGA-II_crowding_distance: 0.1787127283276076', 'NSGA-II_rank: 2', 'change: 0.2547120191182602', 'is_elite: False']\n",
      "Id: 1_94 Identity: {'ancestor_count': 0, 'ancestor_ids': [], 'birth_generation': 1, 'domain_name': None, 'experiment_version': 'test', 'unique_id': '1_94', 'origin': '(none)'} Metrics: ['ELUC: -9.742974149774458', 'NSGA-II_crowding_distance: 0.35862818925692125', 'NSGA-II_rank: 1', 'change: 0.24651100589774422', 'is_elite: True']\n",
      "Id: 1_37 Identity: {'ancestor_count': 0, 'ancestor_ids': [], 'birth_generation': 1, 'domain_name': None, 'experiment_version': 'test', 'unique_id': '1_37', 'origin': '(none)'} Metrics: ['ELUC: -9.902150012807782', 'NSGA-II_crowding_distance: inf', 'NSGA-II_rank: 4', 'change: 0.27663322214642416', 'is_elite: False']\n",
      "Id: 1_81 Identity: {'ancestor_count': 0, 'ancestor_ids': [], 'birth_generation': 1, 'domain_name': None, 'experiment_version': 'test', 'unique_id': '1_81', 'origin': '(none)'} Metrics: ['ELUC: -10.476679650565861', 'NSGA-II_crowding_distance: 0.5966637102374339', 'NSGA-II_rank: 3', 'change: 0.27471089920463004', 'is_elite: False']\n",
      "Id: 1_85 Identity: {'ancestor_count': 0, 'ancestor_ids': [], 'birth_generation': 1, 'domain_name': None, 'experiment_version': 'test', 'unique_id': '1_85', 'origin': '(none)'} Metrics: ['ELUC: -10.613760713717365', 'NSGA-II_crowding_distance: inf', 'NSGA-II_rank: 3', 'change: 0.27996965753031977', 'is_elite: False']\n",
      "Id: 1_54 Identity: {'ancestor_count': 0, 'ancestor_ids': [], 'birth_generation': 1, 'domain_name': None, 'experiment_version': 'test', 'unique_id': '1_54', 'origin': '(none)'} Metrics: ['ELUC: -10.94191353696159', 'NSGA-II_crowding_distance: 0.3662555320740146', 'NSGA-II_rank: 2', 'change: 0.25526064127447917', 'is_elite: False']\n",
      "Id: 1_17 Identity: {'ancestor_count': 0, 'ancestor_ids': [], 'birth_generation': 1, 'domain_name': None, 'experiment_version': 'test', 'unique_id': '1_17', 'origin': '(none)'} Metrics: ['ELUC: -11.144308180976543', 'NSGA-II_crowding_distance: 0.3214005412602207', 'NSGA-II_rank: 2', 'change: 0.26984754771287206', 'is_elite: False']\n",
      "Id: 1_69 Identity: {'ancestor_count': 0, 'ancestor_ids': [], 'birth_generation': 1, 'domain_name': None, 'experiment_version': 'test', 'unique_id': '1_69', 'origin': '(none)'} Metrics: ['ELUC: -11.230568070901706', 'NSGA-II_crowding_distance: 0.5222800594599805', 'NSGA-II_rank: 2', 'change: 0.2744508829616873', 'is_elite: False']\n",
      "Id: 1_32 Identity: {'ancestor_count': 0, 'ancestor_ids': [], 'birth_generation': 1, 'domain_name': None, 'experiment_version': 'test', 'unique_id': '1_32', 'origin': '(none)'} Metrics: ['ELUC: -11.261973725541184', 'NSGA-II_crowding_distance: 0.3841090012158862', 'NSGA-II_rank: 1', 'change: 0.25415983088095273', 'is_elite: True']\n",
      "Id: 1_56 Identity: {'ancestor_count': 0, 'ancestor_ids': [], 'birth_generation': 1, 'domain_name': None, 'experiment_version': 'test', 'unique_id': '1_56', 'origin': '(none)'} Metrics: ['ELUC: -12.434823816828384', 'NSGA-II_crowding_distance: 0.6256350145740086', 'NSGA-II_rank: 1', 'change: 0.2605316124824141', 'is_elite: True']\n",
      "Id: 1_100 Identity: {'ancestor_count': 0, 'ancestor_ids': [], 'birth_generation': 1, 'domain_name': None, 'experiment_version': 'test', 'unique_id': '1_100', 'origin': '(none)'} Metrics: ['ELUC: -13.810416881607777', 'NSGA-II_crowding_distance: inf', 'NSGA-II_rank: 2', 'change: 0.29064007781330314', 'is_elite: False']\n",
      "Id: 1_65 Identity: {'ancestor_count': 0, 'ancestor_ids': [], 'birth_generation': 1, 'domain_name': None, 'experiment_version': 'test', 'unique_id': '1_65', 'origin': '(none)'} Metrics: ['ELUC: -15.424949134878572', 'NSGA-II_crowding_distance: 0.9136398314287504', 'NSGA-II_rank: 1', 'change: 0.2783556836638049', 'is_elite: True']\n",
      "Id: 1_10 Identity: {'ancestor_count': 0, 'ancestor_ids': [], 'birth_generation': 1, 'domain_name': None, 'experiment_version': 'test', 'unique_id': '1_10', 'origin': '(none)'} Metrics: ['ELUC: -17.580724861049067', 'NSGA-II_crowding_distance: 0.4811481889215347', 'NSGA-II_rank: 1', 'change: 0.3015936736594201', 'is_elite: True']\n",
      "Id: 1_25 Identity: {'ancestor_count': 0, 'ancestor_ids': [], 'birth_generation': 1, 'domain_name': None, 'experiment_version': 'test', 'unique_id': '1_25', 'origin': '(none)'} Metrics: ['ELUC: -17.706449051990806', 'NSGA-II_crowding_distance: inf', 'NSGA-II_rank: 1', 'change: 0.30260931794172286', 'is_elite: True']\n",
      "\n",
      "Done with generation 1.\n",
      "--------\n",
      "\n",
      "Evaluating PopulationResponse for generation 2...:\n",
      "PopulationResponse:\n",
      "  Generation: 2\n",
      "  Population size: 100\n",
      "  Checkpoint id: test/2/20240213-201723\n",
      "Evaluating candidates synchronously because max_workers == 0\n",
      "1233/1233 [==============================] - 4s 3ms/step\n",
      "1233/1233 [==============================] - 4s 4ms/step\n",
      "1233/1233 [==============================] - 4s 4ms/step\n",
      "1233/1233 [==============================] - 4s 3ms/step\n",
      "1233/1233 [==============================] - 4s 3ms/step\n",
      "1233/1233 [==============================] - 4s 4ms/step\n",
      "1233/1233 [==============================] - 4s 3ms/step\n",
      "1233/1233 [==============================] - 4s 4ms/step\n",
      "1233/1233 [==============================] - 5s 4ms/step\n",
      "1233/1233 [==============================] - 4s 4ms/step\n",
      "1233/1233 [==============================] - 4s 4ms/step\n",
      "1233/1233 [==============================] - 4s 4ms/step\n",
      "1233/1233 [==============================] - 4s 4ms/step\n",
      "1233/1233 [==============================] - 4s 4ms/step\n",
      "1233/1233 [==============================] - 4s 4ms/step\n",
      "1233/1233 [==============================] - 4s 4ms/step\n",
      "1233/1233 [==============================] - 4s 4ms/step\n",
      "1233/1233 [==============================] - 4s 4ms/step\n",
      "1233/1233 [==============================] - 4s 3ms/step\n",
      "1233/1233 [==============================] - 4s 4ms/step\n",
      "1233/1233 [==============================] - 4s 4ms/step\n",
      "1233/1233 [==============================] - 4s 4ms/step\n",
      "1233/1233 [==============================] - 4s 4ms/step\n",
      "1233/1233 [==============================] - 4s 4ms/step\n",
      "1233/1233 [==============================] - 4s 3ms/step\n",
      "1233/1233 [==============================] - 4s 4ms/step\n",
      "1233/1233 [==============================] - 4s 4ms/step\n",
      "1233/1233 [==============================] - 4s 4ms/step\n",
      "1233/1233 [==============================] - 4s 4ms/step\n",
      "1233/1233 [==============================] - 4s 4ms/step\n",
      "1233/1233 [==============================] - 4s 4ms/step\n",
      "1233/1233 [==============================] - 4s 3ms/step\n",
      "1233/1233 [==============================] - 4s 4ms/step\n",
      "1233/1233 [==============================] - 4s 3ms/step\n",
      "1233/1233 [==============================] - 4s 4ms/step\n",
      "1233/1233 [==============================] - 4s 3ms/step\n",
      "1233/1233 [==============================] - 4s 4ms/step\n",
      "1233/1233 [==============================] - 4s 4ms/step\n",
      "1233/1233 [==============================] - 4s 4ms/step\n",
      "1233/1233 [==============================] - 4s 4ms/step\n",
      "1233/1233 [==============================] - 4s 4ms/step\n",
      "1233/1233 [==============================] - 4s 4ms/step\n",
      "1233/1233 [==============================] - 4s 4ms/step\n",
      "1233/1233 [==============================] - 4s 4ms/step\n",
      "1233/1233 [==============================] - 4s 4ms/step\n",
      "1233/1233 [==============================] - 4s 4ms/step\n",
      "1233/1233 [==============================] - 4s 4ms/step\n",
      "1233/1233 [==============================] - 4s 4ms/step\n",
      "1233/1233 [==============================] - 4s 3ms/step\n",
      "1233/1233 [==============================] - 4s 3ms/step\n",
      "1233/1233 [==============================] - 4s 4ms/step\n",
      "1233/1233 [==============================] - 4s 4ms/step\n",
      "1233/1233 [==============================] - 4s 4ms/step\n",
      "1233/1233 [==============================] - 4s 4ms/step\n",
      "1233/1233 [==============================] - 4s 4ms/step\n",
      "1233/1233 [==============================] - 4s 4ms/step\n",
      "1233/1233 [==============================] - 4s 4ms/step\n",
      "1233/1233 [==============================] - 4s 4ms/step\n",
      "1233/1233 [==============================] - 4s 4ms/step\n",
      "1233/1233 [==============================] - 4s 3ms/step\n",
      "1233/1233 [==============================] - 4s 3ms/step\n",
      "1233/1233 [==============================] - 4s 4ms/step\n",
      "1233/1233 [==============================] - 4s 4ms/step\n",
      "1233/1233 [==============================] - 4s 4ms/step\n",
      "1233/1233 [==============================] - 4s 4ms/step\n",
      "1233/1233 [==============================] - 4s 4ms/step\n",
      "1233/1233 [==============================] - 4s 4ms/step\n",
      "1233/1233 [==============================] - 4s 4ms/step\n",
      "1233/1233 [==============================] - 4s 4ms/step\n",
      "1233/1233 [==============================] - 4s 4ms/step\n",
      "1233/1233 [==============================] - 4s 4ms/step\n",
      "1233/1233 [==============================] - 4s 4ms/step\n",
      "1233/1233 [==============================] - 4s 4ms/step\n",
      "1233/1233 [==============================] - 4s 4ms/step\n",
      "1233/1233 [==============================] - 4s 4ms/step\n",
      "1233/1233 [==============================] - 4s 3ms/step\n",
      "1233/1233 [==============================] - 4s 3ms/step\n",
      "1233/1233 [==============================] - 4s 4ms/step\n",
      "1233/1233 [==============================] - 4s 4ms/step\n",
      "1233/1233 [==============================] - 4s 4ms/step\n",
      "1233/1233 [==============================] - 4s 4ms/step\n",
      "1233/1233 [==============================] - 4s 4ms/step\n",
      "1233/1233 [==============================] - 4s 4ms/step\n",
      "1233/1233 [==============================] - 4s 4ms/step\n",
      "1233/1233 [==============================] - 4s 4ms/step\n",
      "1233/1233 [==============================] - 4s 3ms/step\n",
      "1233/1233 [==============================] - 4s 4ms/step\n",
      "1233/1233 [==============================] - 4s 4ms/step\n",
      "1233/1233 [==============================] - 4s 4ms/step\n",
      "1233/1233 [==============================] - 4s 4ms/step\n",
      "1233/1233 [==============================] - 4s 4ms/step\n",
      "1233/1233 [==============================] - 4s 4ms/step\n",
      "1233/1233 [==============================] - 4s 4ms/step\n",
      "1233/1233 [==============================] - 4s 4ms/step\n",
      "1233/1233 [==============================] - 4s 4ms/step\n",
      "1233/1233 [==============================] - 4s 4ms/step\n",
      "1233/1233 [==============================] - 4s 4ms/step\n",
      "1233/1233 [==============================] - 4s 4ms/step\n",
      "1233/1233 [==============================] - 4s 4ms/step\n",
      "1233/1233 [==============================] - 4s 4ms/step\n",
      "Evaluation done.\n",
      "Reporting evaluated population for generation 2 and asking ESP for generation 3...:\n",
      "Sending NextPopulation request\n",
      "NextPopulation response received.\n",
      "WARNING:tensorflow:Compiled the loaded model, but the compiled metrics have yet to be built. `model.compile_metrics` will be empty until you train or evaluate the model.\n"
     ]
    },
    {
     "name": "stderr",
     "output_type": "stream",
     "text": [
      "/Users/964840/anaconda3/envs/leaf/lib/python3.10/site-packages/keras/src/engine/training.py:3000: UserWarning: You are saving your model as an HDF5 file via `model.save()`. This file format is considered legacy. We recommend using instead the native Keras format, e.g. `model.save('my_model.keras')`.\n",
      "  saving_api.save_model(\n",
      "WARNING:tensorflow:Compiled the loaded model, but the compiled metrics have yet to be built. `model.compile_metrics` will be empty until you train or evaluate the model.\n"
     ]
    },
    {
     "name": "stdout",
     "output_type": "stream",
     "text": [
      "WARNING:tensorflow:Compiled the loaded model, but the compiled metrics have yet to be built. `model.compile_metrics` will be empty until you train or evaluate the model.\n"
     ]
    },
    {
     "name": "stderr",
     "output_type": "stream",
     "text": [
      "WARNING:tensorflow:Compiled the loaded model, but the compiled metrics have yet to be built. `model.compile_metrics` will be empty until you train or evaluate the model.\n"
     ]
    },
    {
     "name": "stdout",
     "output_type": "stream",
     "text": [
      "WARNING:tensorflow:Compiled the loaded model, but the compiled metrics have yet to be built. `model.compile_metrics` will be empty until you train or evaluate the model.\n"
     ]
    },
    {
     "name": "stderr",
     "output_type": "stream",
     "text": [
      "WARNING:tensorflow:Compiled the loaded model, but the compiled metrics have yet to be built. `model.compile_metrics` will be empty until you train or evaluate the model.\n"
     ]
    },
    {
     "name": "stdout",
     "output_type": "stream",
     "text": [
      "WARNING:tensorflow:Compiled the loaded model, but the compiled metrics have yet to be built. `model.compile_metrics` will be empty until you train or evaluate the model.\n"
     ]
    },
    {
     "name": "stderr",
     "output_type": "stream",
     "text": [
      "WARNING:tensorflow:Compiled the loaded model, but the compiled metrics have yet to be built. `model.compile_metrics` will be empty until you train or evaluate the model.\n"
     ]
    },
    {
     "name": "stdout",
     "output_type": "stream",
     "text": [
      "WARNING:tensorflow:Compiled the loaded model, but the compiled metrics have yet to be built. `model.compile_metrics` will be empty until you train or evaluate the model.\n"
     ]
    },
    {
     "name": "stderr",
     "output_type": "stream",
     "text": [
      "WARNING:tensorflow:Compiled the loaded model, but the compiled metrics have yet to be built. `model.compile_metrics` will be empty until you train or evaluate the model.\n"
     ]
    },
    {
     "name": "stdout",
     "output_type": "stream",
     "text": [
      "WARNING:tensorflow:Compiled the loaded model, but the compiled metrics have yet to be built. `model.compile_metrics` will be empty until you train or evaluate the model.\n"
     ]
    },
    {
     "name": "stderr",
     "output_type": "stream",
     "text": [
      "WARNING:tensorflow:Compiled the loaded model, but the compiled metrics have yet to be built. `model.compile_metrics` will be empty until you train or evaluate the model.\n"
     ]
    },
    {
     "name": "stdout",
     "output_type": "stream",
     "text": [
      "WARNING:tensorflow:Compiled the loaded model, but the compiled metrics have yet to be built. `model.compile_metrics` will be empty until you train or evaluate the model.\n"
     ]
    },
    {
     "name": "stderr",
     "output_type": "stream",
     "text": [
      "WARNING:tensorflow:Compiled the loaded model, but the compiled metrics have yet to be built. `model.compile_metrics` will be empty until you train or evaluate the model.\n"
     ]
    },
    {
     "name": "stdout",
     "output_type": "stream",
     "text": [
      "WARNING:tensorflow:Compiled the loaded model, but the compiled metrics have yet to be built. `model.compile_metrics` will be empty until you train or evaluate the model.\n"
     ]
    },
    {
     "name": "stderr",
     "output_type": "stream",
     "text": [
      "WARNING:tensorflow:Compiled the loaded model, but the compiled metrics have yet to be built. `model.compile_metrics` will be empty until you train or evaluate the model.\n"
     ]
    },
    {
     "name": "stdout",
     "output_type": "stream",
     "text": [
      "WARNING:tensorflow:Compiled the loaded model, but the compiled metrics have yet to be built. `model.compile_metrics` will be empty until you train or evaluate the model.\n"
     ]
    },
    {
     "name": "stderr",
     "output_type": "stream",
     "text": [
      "WARNING:tensorflow:Compiled the loaded model, but the compiled metrics have yet to be built. `model.compile_metrics` will be empty until you train or evaluate the model.\n"
     ]
    },
    {
     "name": "stdout",
     "output_type": "stream",
     "text": [
      "WARNING:tensorflow:Compiled the loaded model, but the compiled metrics have yet to be built. `model.compile_metrics` will be empty until you train or evaluate the model.\n"
     ]
    },
    {
     "name": "stderr",
     "output_type": "stream",
     "text": [
      "WARNING:tensorflow:Compiled the loaded model, but the compiled metrics have yet to be built. `model.compile_metrics` will be empty until you train or evaluate the model.\n"
     ]
    },
    {
     "name": "stdout",
     "output_type": "stream",
     "text": [
      "WARNING:tensorflow:Compiled the loaded model, but the compiled metrics have yet to be built. `model.compile_metrics` will be empty until you train or evaluate the model.\n"
     ]
    },
    {
     "name": "stderr",
     "output_type": "stream",
     "text": [
      "WARNING:tensorflow:Compiled the loaded model, but the compiled metrics have yet to be built. `model.compile_metrics` will be empty until you train or evaluate the model.\n"
     ]
    },
    {
     "name": "stdout",
     "output_type": "stream",
     "text": [
      "WARNING:tensorflow:Compiled the loaded model, but the compiled metrics have yet to be built. `model.compile_metrics` will be empty until you train or evaluate the model.\n"
     ]
    },
    {
     "name": "stderr",
     "output_type": "stream",
     "text": [
      "WARNING:tensorflow:Compiled the loaded model, but the compiled metrics have yet to be built. `model.compile_metrics` will be empty until you train or evaluate the model.\n"
     ]
    },
    {
     "name": "stdout",
     "output_type": "stream",
     "text": [
      "WARNING:tensorflow:Compiled the loaded model, but the compiled metrics have yet to be built. `model.compile_metrics` will be empty until you train or evaluate the model.\n"
     ]
    },
    {
     "name": "stderr",
     "output_type": "stream",
     "text": [
      "WARNING:tensorflow:Compiled the loaded model, but the compiled metrics have yet to be built. `model.compile_metrics` will be empty until you train or evaluate the model.\n"
     ]
    },
    {
     "name": "stdout",
     "output_type": "stream",
     "text": [
      "WARNING:tensorflow:Compiled the loaded model, but the compiled metrics have yet to be built. `model.compile_metrics` will be empty until you train or evaluate the model.\n"
     ]
    },
    {
     "name": "stderr",
     "output_type": "stream",
     "text": [
      "WARNING:tensorflow:Compiled the loaded model, but the compiled metrics have yet to be built. `model.compile_metrics` will be empty until you train or evaluate the model.\n"
     ]
    },
    {
     "name": "stdout",
     "output_type": "stream",
     "text": [
      "WARNING:tensorflow:Compiled the loaded model, but the compiled metrics have yet to be built. `model.compile_metrics` will be empty until you train or evaluate the model.\n"
     ]
    },
    {
     "name": "stderr",
     "output_type": "stream",
     "text": [
      "WARNING:tensorflow:Compiled the loaded model, but the compiled metrics have yet to be built. `model.compile_metrics` will be empty until you train or evaluate the model.\n"
     ]
    },
    {
     "name": "stdout",
     "output_type": "stream",
     "text": [
      "WARNING:tensorflow:Compiled the loaded model, but the compiled metrics have yet to be built. `model.compile_metrics` will be empty until you train or evaluate the model.\n"
     ]
    },
    {
     "name": "stderr",
     "output_type": "stream",
     "text": [
      "WARNING:tensorflow:Compiled the loaded model, but the compiled metrics have yet to be built. `model.compile_metrics` will be empty until you train or evaluate the model.\n"
     ]
    },
    {
     "name": "stdout",
     "output_type": "stream",
     "text": [
      "WARNING:tensorflow:Compiled the loaded model, but the compiled metrics have yet to be built. `model.compile_metrics` will be empty until you train or evaluate the model.\n"
     ]
    },
    {
     "name": "stderr",
     "output_type": "stream",
     "text": [
      "WARNING:tensorflow:Compiled the loaded model, but the compiled metrics have yet to be built. `model.compile_metrics` will be empty until you train or evaluate the model.\n"
     ]
    },
    {
     "name": "stdout",
     "output_type": "stream",
     "text": [
      "WARNING:tensorflow:Compiled the loaded model, but the compiled metrics have yet to be built. `model.compile_metrics` will be empty until you train or evaluate the model.\n"
     ]
    },
    {
     "name": "stderr",
     "output_type": "stream",
     "text": [
      "WARNING:tensorflow:Compiled the loaded model, but the compiled metrics have yet to be built. `model.compile_metrics` will be empty until you train or evaluate the model.\n"
     ]
    },
    {
     "name": "stdout",
     "output_type": "stream",
     "text": [
      "WARNING:tensorflow:Compiled the loaded model, but the compiled metrics have yet to be built. `model.compile_metrics` will be empty until you train or evaluate the model.\n"
     ]
    },
    {
     "name": "stderr",
     "output_type": "stream",
     "text": [
      "WARNING:tensorflow:Compiled the loaded model, but the compiled metrics have yet to be built. `model.compile_metrics` will be empty until you train or evaluate the model.\n"
     ]
    },
    {
     "name": "stdout",
     "output_type": "stream",
     "text": [
      "WARNING:tensorflow:Compiled the loaded model, but the compiled metrics have yet to be built. `model.compile_metrics` will be empty until you train or evaluate the model.\n"
     ]
    },
    {
     "name": "stderr",
     "output_type": "stream",
     "text": [
      "WARNING:tensorflow:Compiled the loaded model, but the compiled metrics have yet to be built. `model.compile_metrics` will be empty until you train or evaluate the model.\n"
     ]
    },
    {
     "name": "stdout",
     "output_type": "stream",
     "text": [
      "Generation 2 data persisted.\n",
      "Evaluated candidates:\n",
      "Id: 2_48 Identity: {'ancestor_count': 1, 'ancestor_ids': ['1_7', '1_80'], 'birth_generation': 2, 'domain_name': None, 'experiment_version': 'test', 'unique_id': '2_48', 'origin': '1_7~CUW~1_80#MGNP'} Metrics: ['ELUC: 20.426217328818765', 'NSGA-II_crowding_distance: inf', 'NSGA-II_rank: 12', 'change: 0.28388163557441326', 'is_elite: False']\n",
      "Id: 2_30 Identity: {'ancestor_count': 1, 'ancestor_ids': ['1_49', '1_32'], 'birth_generation': 2, 'domain_name': None, 'experiment_version': 'test', 'unique_id': '2_30', 'origin': '1_49~CUW~1_32#MGNP'} Metrics: ['ELUC: 15.660917880085844', 'NSGA-II_crowding_distance: inf', 'NSGA-II_rank: 8', 'change: 0.2619445933698604', 'is_elite: False']\n",
      "Id: 2_13 Identity: {'ancestor_count': 1, 'ancestor_ids': ['1_25', '1_40'], 'birth_generation': 2, 'domain_name': None, 'experiment_version': 'test', 'unique_id': '2_13', 'origin': '1_25~CUW~1_40#MGNP'} Metrics: ['ELUC: 12.838778286446749', 'NSGA-II_crowding_distance: inf', 'NSGA-II_rank: 7', 'change: 0.2513969080783454', 'is_elite: False']\n",
      "Id: 2_37 Identity: {'ancestor_count': 1, 'ancestor_ids': ['1_22', '1_25'], 'birth_generation': 2, 'domain_name': None, 'experiment_version': 'test', 'unique_id': '2_37', 'origin': '1_22~CUW~1_25#MGNP'} Metrics: ['ELUC: 12.7240622901354', 'NSGA-II_crowding_distance: 2.0', 'NSGA-II_rank: 12', 'change: 0.29343572271977947', 'is_elite: False']\n",
      "Id: 2_84 Identity: {'ancestor_count': 1, 'ancestor_ids': ['1_80', '1_32'], 'birth_generation': 2, 'domain_name': None, 'experiment_version': 'test', 'unique_id': '2_84', 'origin': '1_80~CUW~1_32#MGNP'} Metrics: ['ELUC: 12.056501792997064', 'NSGA-II_crowding_distance: inf', 'NSGA-II_rank: 6', 'change: 0.24777232727449255', 'is_elite: False']\n",
      "Id: 2_43 Identity: {'ancestor_count': 1, 'ancestor_ids': ['1_10', '1_22'], 'birth_generation': 2, 'domain_name': None, 'experiment_version': 'test', 'unique_id': '2_43', 'origin': '1_10~CUW~1_22#MGNP'} Metrics: ['ELUC: 9.001547075600925', 'NSGA-II_crowding_distance: inf', 'NSGA-II_rank: 5', 'change: 0.24434930859213802', 'is_elite: False']\n",
      "Id: 2_81 Identity: {'ancestor_count': 1, 'ancestor_ids': ['1_49', '1_21'], 'birth_generation': 2, 'domain_name': None, 'experiment_version': 'test', 'unique_id': '2_81', 'origin': '1_49~CUW~1_21#MGNP'} Metrics: ['ELUC: 3.6938531773462806', 'NSGA-II_crowding_distance: inf', 'NSGA-II_rank: 4', 'change: 0.2404335225436354', 'is_elite: False']\n",
      "Id: 2_59 Identity: {'ancestor_count': 1, 'ancestor_ids': ['1_56', '1_65'], 'birth_generation': 2, 'domain_name': None, 'experiment_version': 'test', 'unique_id': '2_59', 'origin': '1_56~CUW~1_65#MGNP'} Metrics: ['ELUC: 2.6772179515421946', 'NSGA-II_crowding_distance: inf', 'NSGA-II_rank: 3', 'change: 0.2368409668392598', 'is_elite: False']\n",
      "Id: 2_69 Identity: {'ancestor_count': 1, 'ancestor_ids': ['1_56', '1_22'], 'birth_generation': 2, 'domain_name': None, 'experiment_version': 'test', 'unique_id': '2_69', 'origin': '1_56~CUW~1_22#MGNP'} Metrics: ['ELUC: 2.4045494606766438', 'NSGA-II_crowding_distance: 0.9553581362381198', 'NSGA-II_rank: 5', 'change: 0.25054444620273914', 'is_elite: False']\n",
      "Id: 2_19 Identity: {'ancestor_count': 1, 'ancestor_ids': ['1_54', '1_22'], 'birth_generation': 2, 'domain_name': None, 'experiment_version': 'test', 'unique_id': '2_19', 'origin': '1_54~CUW~1_22#MGNP'} Metrics: ['ELUC: 2.097709799994767', 'NSGA-II_crowding_distance: inf', 'NSGA-II_rank: 15', 'change: 0.35200566041479775', 'is_elite: False']\n",
      "Id: 2_36 Identity: {'ancestor_count': 1, 'ancestor_ids': ['1_25', '1_22'], 'birth_generation': 2, 'domain_name': None, 'experiment_version': 'test', 'unique_id': '2_36', 'origin': '1_25~CUW~1_22#MGNP'} Metrics: ['ELUC: 2.0410628671776574', 'NSGA-II_crowding_distance: 2.0', 'NSGA-II_rank: 15', 'change: 0.3527707209256947', 'is_elite: False']\n",
      "Id: 2_40 Identity: {'ancestor_count': 1, 'ancestor_ids': ['1_10', '1_65'], 'birth_generation': 2, 'domain_name': None, 'experiment_version': 'test', 'unique_id': '2_40', 'origin': '1_10~CUW~1_65#MGNP'} Metrics: ['ELUC: 2.0409874431454655', 'NSGA-II_crowding_distance: inf', 'NSGA-II_rank: 15', 'change: 0.3527712988545227', 'is_elite: False']\n",
      "Id: 2_51 Identity: {'ancestor_count': 1, 'ancestor_ids': ['1_65', '1_56'], 'birth_generation': 2, 'domain_name': None, 'experiment_version': 'test', 'unique_id': '2_51', 'origin': '1_65~CUW~1_56#MGNP'} Metrics: ['ELUC: 1.9366482789062243', 'NSGA-II_crowding_distance: inf', 'NSGA-II_rank: 10', 'change: 0.27087890015770416', 'is_elite: False']\n",
      "Id: 2_15 Identity: {'ancestor_count': 1, 'ancestor_ids': ['1_10', '1_56'], 'birth_generation': 2, 'domain_name': None, 'experiment_version': 'test', 'unique_id': '2_15', 'origin': '1_10~CUW~1_56#MGNP'} Metrics: ['ELUC: 1.9041322550506818', 'NSGA-II_crowding_distance: inf', 'NSGA-II_rank: 14', 'change: 0.3502944593570661', 'is_elite: False']\n",
      "Id: 2_53 Identity: {'ancestor_count': 1, 'ancestor_ids': ['1_10', '1_32'], 'birth_generation': 2, 'domain_name': None, 'experiment_version': 'test', 'unique_id': '2_53', 'origin': '1_10~CUW~1_32#MGNP'} Metrics: ['ELUC: 1.4280209827221864', 'NSGA-II_crowding_distance: inf', 'NSGA-II_rank: 13', 'change: 0.33987967962493404', 'is_elite: False']\n",
      "Id: 2_50 Identity: {'ancestor_count': 1, 'ancestor_ids': ['1_54', '1_56'], 'birth_generation': 2, 'domain_name': None, 'experiment_version': 'test', 'unique_id': '2_50', 'origin': '1_54~CUW~1_56#MGNP'} Metrics: ['ELUC: 1.3892363908474943', 'NSGA-II_crowding_distance: inf', 'NSGA-II_rank: 12', 'change: 0.33465143733302843', 'is_elite: False']\n",
      "Id: 2_99 Identity: {'ancestor_count': 1, 'ancestor_ids': ['1_54', '1_22'], 'birth_generation': 2, 'domain_name': None, 'experiment_version': 'test', 'unique_id': '2_99', 'origin': '1_54~CUW~1_22#MGNP'} Metrics: ['ELUC: 0.5841690159022983', 'NSGA-II_crowding_distance: inf', 'NSGA-II_rank: 11', 'change: 0.2761969731076208', 'is_elite: False']\n",
      "Id: 2_85 Identity: {'ancestor_count': 1, 'ancestor_ids': ['1_22', '1_80'], 'birth_generation': 2, 'domain_name': None, 'experiment_version': 'test', 'unique_id': '2_85', 'origin': '1_22~CUW~1_80#MGNP'} Metrics: ['ELUC: 0.313245763661834', 'NSGA-II_crowding_distance: 0.3373597950493061', 'NSGA-II_rank: 3', 'change: 0.23818122564259014', 'is_elite: False']\n",
      "Id: 2_57 Identity: {'ancestor_count': 1, 'ancestor_ids': ['1_56', '1_25'], 'birth_generation': 2, 'domain_name': None, 'experiment_version': 'test', 'unique_id': '2_57', 'origin': '1_56~CUW~1_25#MGNP'} Metrics: ['ELUC: 0.012517319378487159', 'NSGA-II_crowding_distance: 0.017483746472284276', 'NSGA-II_rank: 4', 'change: 0.24050026731696617', 'is_elite: False']\n",
      "Id: 2_76 Identity: {'ancestor_count': 1, 'ancestor_ids': ['1_94', '1_25'], 'birth_generation': 2, 'domain_name': None, 'experiment_version': 'test', 'unique_id': '2_76', 'origin': '1_94~CUW~1_25#MGNP'} Metrics: ['ELUC: 0.012517319378487159', 'NSGA-II_crowding_distance: 0.0', 'NSGA-II_rank: 4', 'change: 0.24050026731696617', 'is_elite: False']\n",
      "Id: 2_100 Identity: {'ancestor_count': 1, 'ancestor_ids': ['1_32', '1_10'], 'birth_generation': 2, 'domain_name': None, 'experiment_version': 'test', 'unique_id': '2_100', 'origin': '1_32~CUW~1_10#MGNP'} Metrics: ['ELUC: 0.012517319378487159', 'NSGA-II_crowding_distance: 0.289120583133341', 'NSGA-II_rank: 4', 'change: 0.24050026731696617', 'is_elite: False']\n",
      "Id: 2_42 Identity: {'ancestor_count': 1, 'ancestor_ids': ['1_26', '1_21'], 'birth_generation': 2, 'domain_name': None, 'experiment_version': 'test', 'unique_id': '2_42', 'origin': '1_26~CUW~1_21#MGNP'} Metrics: ['ELUC: -0.22610957912182805', 'NSGA-II_crowding_distance: 0.602694014869001', 'NSGA-II_rank: 4', 'change: 0.24223628500712518', 'is_elite: False']\n",
      "Id: 2_61 Identity: {'ancestor_count': 1, 'ancestor_ids': ['1_32', '1_54'], 'birth_generation': 2, 'domain_name': None, 'experiment_version': 'test', 'unique_id': '2_61', 'origin': '1_32~CUW~1_54#MGNP'} Metrics: ['ELUC: -0.6717420700468756', 'NSGA-II_crowding_distance: inf', 'NSGA-II_rank: 2', 'change: 0.23500270042168184', 'is_elite: False']\n",
      "Id: 2_87 Identity: {'ancestor_count': 1, 'ancestor_ids': ['1_17', '1_22'], 'birth_generation': 2, 'domain_name': None, 'experiment_version': 'test', 'unique_id': '2_87', 'origin': '1_17~CUW~1_22#MGNP'} Metrics: ['ELUC: -1.459243038609209', 'NSGA-II_crowding_distance: 1.4970516539613068', 'NSGA-II_rank: 10', 'change: 0.2754706530635265', 'is_elite: False']\n",
      "Id: 2_71 Identity: {'ancestor_count': 1, 'ancestor_ids': ['1_80', '1_25'], 'birth_generation': 2, 'domain_name': None, 'experiment_version': 'test', 'unique_id': '2_71', 'origin': '1_80~CUW~1_25#MGNP'} Metrics: ['ELUC: -1.6665029908548898', 'NSGA-II_crowding_distance: 0.2932778318810981', 'NSGA-II_rank: 3', 'change: 0.2398788107089712', 'is_elite: False']\n",
      "Id: 2_72 Identity: {'ancestor_count': 1, 'ancestor_ids': ['1_56', '1_17'], 'birth_generation': 2, 'domain_name': None, 'experiment_version': 'test', 'unique_id': '2_72', 'origin': '1_56~CUW~1_17#MGNP'} Metrics: ['ELUC: -1.8825945564079392', 'NSGA-II_crowding_distance: 1.108778032999376', 'NSGA-II_rank: 7', 'change: 0.26320186632813636', 'is_elite: False']\n",
      "Id: 2_94 Identity: {'ancestor_count': 1, 'ancestor_ids': ['1_23', '1_56'], 'birth_generation': 2, 'domain_name': None, 'experiment_version': 'test', 'unique_id': '2_94', 'origin': '1_23~CUW~1_56#MGNP'} Metrics: ['ELUC: -2.1645298207787618', 'NSGA-II_crowding_distance: 0.6596815787942834', 'NSGA-II_rank: 5', 'change: 0.2548879254348382', 'is_elite: False']\n",
      "Id: 2_93 Identity: {'ancestor_count': 1, 'ancestor_ids': ['1_10', '1_80'], 'birth_generation': 2, 'domain_name': None, 'experiment_version': 'test', 'unique_id': '2_93', 'origin': '1_10~CUW~1_80#MGNP'} Metrics: ['ELUC: -2.3883695800495013', 'NSGA-II_crowding_distance: 0.3343560154290871', 'NSGA-II_rank: 2', 'change: 0.23769694164458563', 'is_elite: False']\n",
      "Id: 2_54 Identity: {'ancestor_count': 1, 'ancestor_ids': ['1_54', '1_10'], 'birth_generation': 2, 'domain_name': None, 'experiment_version': 'test', 'unique_id': '2_54', 'origin': '1_54~CUW~1_10#MGNP'} Metrics: ['ELUC: -2.5559508421266006', 'NSGA-II_crowding_distance: 1.191671879805221', 'NSGA-II_rank: 10', 'change: 0.28552958773921727', 'is_elite: False']\n",
      "Id: 2_32 Identity: {'ancestor_count': 1, 'ancestor_ids': ['1_100', '1_32'], 'birth_generation': 2, 'domain_name': None, 'experiment_version': 'test', 'unique_id': '2_32', 'origin': '1_100~CUW~1_32#MGNP'} Metrics: ['ELUC: -2.976369611056865', 'NSGA-II_crowding_distance: 0.4373287319925716', 'NSGA-II_rank: 3', 'change: 0.24233832715140477', 'is_elite: False']\n",
      "Id: 2_12 Identity: {'ancestor_count': 1, 'ancestor_ids': ['1_10', '1_40'], 'birth_generation': 2, 'domain_name': None, 'experiment_version': 'test', 'unique_id': '2_12', 'origin': '1_10~CUW~1_40#MGNP'} Metrics: ['ELUC: -3.2232666068481546', 'NSGA-II_crowding_distance: inf', 'NSGA-II_rank: 9', 'change: 0.26829354468304945', 'is_elite: False']\n",
      "Id: 2_78 Identity: {'ancestor_count': 1, 'ancestor_ids': ['1_23', '1_65'], 'birth_generation': 2, 'domain_name': None, 'experiment_version': 'test', 'unique_id': '2_78', 'origin': '1_23~CUW~1_65#MGNP'} Metrics: ['ELUC: -3.3228046422293285', 'NSGA-II_crowding_distance: inf', 'NSGA-II_rank: 11', 'change: 0.2944450152971345', 'is_elite: False']\n",
      "Id: 2_65 Identity: {'ancestor_count': 1, 'ancestor_ids': ['1_69', '1_80'], 'birth_generation': 2, 'domain_name': None, 'experiment_version': 'test', 'unique_id': '2_65', 'origin': '1_69~CUW~1_80#MGNP'} Metrics: ['ELUC: -3.9249608417979815', 'NSGA-II_crowding_distance: inf', 'NSGA-II_rank: 10', 'change: 0.2909316618803815', 'is_elite: False']\n",
      "Id: 2_24 Identity: {'ancestor_count': 1, 'ancestor_ids': ['1_65', '1_94'], 'birth_generation': 2, 'domain_name': None, 'experiment_version': 'test', 'unique_id': '2_24', 'origin': '1_65~CUW~1_94#MGNP'} Metrics: ['ELUC: -4.024203330515323', 'NSGA-II_crowding_distance: 0.9495673909777134', 'NSGA-II_rank: 9', 'change: 0.2889673810429613', 'is_elite: False']\n",
      "Id: 2_34 Identity: {'ancestor_count': 1, 'ancestor_ids': ['1_23', '1_94'], 'birth_generation': 2, 'domain_name': None, 'experiment_version': 'test', 'unique_id': '2_34', 'origin': '1_23~CUW~1_94#MGNP'} Metrics: ['ELUC: -4.108047988458287', 'NSGA-II_crowding_distance: 1.064883054759599', 'NSGA-II_rank: 8', 'change: 0.26643224228675594', 'is_elite: False']\n",
      "Id: 2_39 Identity: {'ancestor_count': 1, 'ancestor_ids': ['1_21', '1_21'], 'birth_generation': 2, 'domain_name': None, 'experiment_version': 'test', 'unique_id': '2_39', 'origin': '1_21~CUW~1_21#MGNP'} Metrics: ['ELUC: -4.151216827905124', 'NSGA-II_crowding_distance: 0.8888634009683813', 'NSGA-II_rank: 4', 'change: 0.25250335656375383', 'is_elite: False']\n",
      "Id: 2_60 Identity: {'ancestor_count': 1, 'ancestor_ids': ['1_32', '1_10'], 'birth_generation': 2, 'domain_name': None, 'experiment_version': 'test', 'unique_id': '2_60', 'origin': '1_32~CUW~1_10#MGNP'} Metrics: ['ELUC: -4.153105852102006', 'NSGA-II_crowding_distance: 1.2459966620739216', 'NSGA-II_rank: 9', 'change: 0.29519099107396035', 'is_elite: False']\n",
      "Id: 2_79 Identity: {'ancestor_count': 1, 'ancestor_ids': ['1_10', '1_80'], 'birth_generation': 2, 'domain_name': None, 'experiment_version': 'test', 'unique_id': '2_79', 'origin': '1_10~CUW~1_80#MGNP'} Metrics: ['ELUC: -4.402440076883288', 'NSGA-II_crowding_distance: 1.1037456652876356', 'NSGA-II_rank: 6', 'change: 0.2605907821089973', 'is_elite: False']\n",
      "Id: 1_22 Identity: {'ancestor_count': 0, 'ancestor_ids': [], 'birth_generation': 1, 'domain_name': None, 'experiment_version': 'test', 'unique_id': '1_22', 'origin': '(none)'} Metrics: ['ELUC: -4.749842160281162', 'NSGA-II_crowding_distance: inf', 'NSGA-II_rank: 1', 'change: 0.22310495691341786', 'is_elite: True']\n",
      "Id: 2_11 Identity: {'ancestor_count': 1, 'ancestor_ids': ['1_32', '1_69'], 'birth_generation': 2, 'domain_name': None, 'experiment_version': 'test', 'unique_id': '2_11', 'origin': '1_32~CUW~1_69#MGNP'} Metrics: ['ELUC: -4.77776731735845', 'NSGA-II_crowding_distance: 0.3929634203353946', 'NSGA-II_rank: 5', 'change: 0.2585677661698497', 'is_elite: False']\n",
      "Id: 2_49 Identity: {'ancestor_count': 1, 'ancestor_ids': ['1_80', '1_22'], 'birth_generation': 2, 'domain_name': None, 'experiment_version': 'test', 'unique_id': '2_49', 'origin': '1_80~CUW~1_22#MGNP'} Metrics: ['ELUC: -4.924084823322826', 'NSGA-II_crowding_distance: 0.16945325278785323', 'NSGA-II_rank: 6', 'change: 0.2635362698348847', 'is_elite: False']\n",
      "Id: 2_44 Identity: {'ancestor_count': 1, 'ancestor_ids': ['1_10', '1_40'], 'birth_generation': 2, 'domain_name': None, 'experiment_version': 'test', 'unique_id': '2_44', 'origin': '1_10~CUW~1_40#MGNP'} Metrics: ['ELUC: -5.226491168901316', 'NSGA-II_crowding_distance: 1.0467128277466562', 'NSGA-II_rank: 8', 'change: 0.26920284517114407', 'is_elite: False']\n",
      "Id: 2_20 Identity: {'ancestor_count': 1, 'ancestor_ids': ['1_40', '1_22'], 'birth_generation': 2, 'domain_name': None, 'experiment_version': 'test', 'unique_id': '2_20', 'origin': '1_40~CUW~1_22#MGNP'} Metrics: ['ELUC: -5.620416252525117', 'NSGA-II_crowding_distance: 0.28221961210345625', 'NSGA-II_rank: 2', 'change: 0.23810053961464253', 'is_elite: False']\n",
      "Id: 2_26 Identity: {'ancestor_count': 1, 'ancestor_ids': ['1_94', '1_100'], 'birth_generation': 2, 'domain_name': None, 'experiment_version': 'test', 'unique_id': '2_26', 'origin': '1_94~CUW~1_100#MGNP'} Metrics: ['ELUC: -5.647252404910705', 'NSGA-II_crowding_distance: 0.056877337026400375', 'NSGA-II_rank: 7', 'change: 0.2658650702832454', 'is_elite: False']\n",
      "Id: 2_29 Identity: {'ancestor_count': 1, 'ancestor_ids': ['1_10', '1_65'], 'birth_generation': 2, 'domain_name': None, 'experiment_version': 'test', 'unique_id': '2_29', 'origin': '1_10~CUW~1_65#MGNP'} Metrics: ['ELUC: -5.647252404910705', 'NSGA-II_crowding_distance: 0.0', 'NSGA-II_rank: 7', 'change: 0.2658650702832454', 'is_elite: False']\n",
      "Id: 2_98 Identity: {'ancestor_count': 1, 'ancestor_ids': ['1_22', '1_56'], 'birth_generation': 2, 'domain_name': None, 'experiment_version': 'test', 'unique_id': '2_98', 'origin': '1_22~CUW~1_56#MGNP'} Metrics: ['ELUC: -5.647252404910705', 'NSGA-II_crowding_distance: 0.4882603260907077', 'NSGA-II_rank: 7', 'change: 0.2658650702832454', 'is_elite: False']\n",
      "Id: 2_82 Identity: {'ancestor_count': 1, 'ancestor_ids': ['1_54', '1_40'], 'birth_generation': 2, 'domain_name': None, 'experiment_version': 'test', 'unique_id': '2_82', 'origin': '1_54~CUW~1_40#MGNP'} Metrics: ['ELUC: -5.647252412451274', 'NSGA-II_crowding_distance: 0.23429388704005932', 'NSGA-II_rank: 6', 'change: 0.2658650702832454', 'is_elite: False']\n",
      "Id: 2_31 Identity: {'ancestor_count': 1, 'ancestor_ids': ['1_69', '1_26'], 'birth_generation': 2, 'domain_name': None, 'experiment_version': 'test', 'unique_id': '2_31', 'origin': '1_69~CUW~1_26#MGNP'} Metrics: ['ELUC: -5.6486042252569355', 'NSGA-II_crowding_distance: 0.3620835488514629', 'NSGA-II_rank: 3', 'change: 0.2489551412874952', 'is_elite: False']\n",
      "Id: 2_18 Identity: {'ancestor_count': 1, 'ancestor_ids': ['1_40', '1_56'], 'birth_generation': 2, 'domain_name': None, 'experiment_version': 'test', 'unique_id': '2_18', 'origin': '1_40~CUW~1_56#MGNP'} Metrics: ['ELUC: -5.8136542253082455', 'NSGA-II_crowding_distance: 0.891221967000624', 'NSGA-II_rank: 7', 'change: 0.28298734831627903', 'is_elite: False']\n",
      "Id: 2_80 Identity: {'ancestor_count': 1, 'ancestor_ids': ['1_69', '1_94'], 'birth_generation': 2, 'domain_name': None, 'experiment_version': 'test', 'unique_id': '2_80', 'origin': '1_69~CUW~1_94#MGNP'} Metrics: ['ELUC: -5.913444667240919', 'NSGA-II_crowding_distance: 0.17570849865184468', 'NSGA-II_rank: 2', 'change: 0.24289312510804228', 'is_elite: False']\n",
      "Id: 2_55 Identity: {'ancestor_count': 1, 'ancestor_ids': ['1_56', '1_22'], 'birth_generation': 2, 'domain_name': None, 'experiment_version': 'test', 'unique_id': '2_55', 'origin': '1_56~CUW~1_22#MGNP'} Metrics: ['ELUC: -6.235905903947189', 'NSGA-II_crowding_distance: 0.18603296613636233', 'NSGA-II_rank: 3', 'change: 0.24996963105038744', 'is_elite: False']\n",
      "Id: 2_73 Identity: {'ancestor_count': 1, 'ancestor_ids': ['1_10', '1_54'], 'birth_generation': 2, 'domain_name': None, 'experiment_version': 'test', 'unique_id': '2_73', 'origin': '1_10~CUW~1_54#MGNP'} Metrics: ['ELUC: -6.4780485006361115', 'NSGA-II_crowding_distance: 0.3991226108712058', 'NSGA-II_rank: 6', 'change: 0.2711790206262812', 'is_elite: False']\n",
      "Id: 2_28 Identity: {'ancestor_count': 1, 'ancestor_ids': ['1_56', '1_80'], 'birth_generation': 2, 'domain_name': None, 'experiment_version': 'test', 'unique_id': '2_28', 'origin': '1_56~CUW~1_80#MGNP'} Metrics: ['ELUC: -6.512840050887923', 'NSGA-II_crowding_distance: 0.6651940261542215', 'NSGA-II_rank: 5', 'change: 0.259568492126685', 'is_elite: False']\n",
      "Id: 1_80 Identity: {'ancestor_count': 0, 'ancestor_ids': [], 'birth_generation': 1, 'domain_name': None, 'experiment_version': 'test', 'unique_id': '1_80', 'origin': '(none)'} Metrics: ['ELUC: -6.520730586577443', 'NSGA-II_crowding_distance: 0.34874715808108314', 'NSGA-II_rank: 1', 'change: 0.23723970522187782', 'is_elite: True']\n",
      "Id: 2_67 Identity: {'ancestor_count': 1, 'ancestor_ids': ['1_10', '1_22'], 'birth_generation': 2, 'domain_name': None, 'experiment_version': 'test', 'unique_id': '2_67', 'origin': '1_10~CUW~1_22#MGNP'} Metrics: ['ELUC: -6.794600535228962', 'NSGA-II_crowding_distance: inf', 'NSGA-II_rank: 9', 'change: 0.30732028820937557', 'is_elite: False']\n",
      "Id: 2_52 Identity: {'ancestor_count': 1, 'ancestor_ids': ['1_80', '1_80'], 'birth_generation': 2, 'domain_name': None, 'experiment_version': 'test', 'unique_id': '2_52', 'origin': '1_80~CUW~1_80#MGNP'} Metrics: ['ELUC: -6.963881645907935', 'NSGA-II_crowding_distance: 0.18277652206179906', 'NSGA-II_rank: 1', 'change: 0.23740308158227272', 'is_elite: False']\n",
      "Id: 1_40 Identity: {'ancestor_count': 0, 'ancestor_ids': [], 'birth_generation': 1, 'domain_name': None, 'experiment_version': 'test', 'unique_id': '1_40', 'origin': '(none)'} Metrics: ['ELUC: -7.110222850313951', 'NSGA-II_crowding_distance: 0.1585527220608237', 'NSGA-II_rank: 2', 'change: 0.24412666188444093', 'is_elite: False']\n",
      "Id: 2_21 Identity: {'ancestor_count': 1, 'ancestor_ids': ['1_56', '1_22'], 'birth_generation': 2, 'domain_name': None, 'experiment_version': 'test', 'unique_id': '2_21', 'origin': '1_56~CUW~1_22#MGNP'} Metrics: ['ELUC: -7.583946187080995', 'NSGA-II_crowding_distance: inf', 'NSGA-II_rank: 8', 'change: 0.30558976404061294', 'is_elite: False']\n",
      "Id: 2_58 Identity: {'ancestor_count': 1, 'ancestor_ids': ['1_22', '1_100'], 'birth_generation': 2, 'domain_name': None, 'experiment_version': 'test', 'unique_id': '2_58', 'origin': '1_22~CUW~1_100#MGNP'} Metrics: ['ELUC: -7.814203481696938', 'NSGA-II_crowding_distance: 0.5542796724669998', 'NSGA-II_rank: 4', 'change: 0.2564816991249483', 'is_elite: False']\n",
      "Id: 2_70 Identity: {'ancestor_count': 1, 'ancestor_ids': ['1_25', '1_10'], 'birth_generation': 2, 'domain_name': None, 'experiment_version': 'test', 'unique_id': '2_70', 'origin': '1_25~CUW~1_10#MGNP'} Metrics: ['ELUC: -7.901037774874465', 'NSGA-II_crowding_distance: 0.661960447672305', 'NSGA-II_rank: 6', 'change: 0.2797089143512146', 'is_elite: False']\n",
      "Id: 2_63 Identity: {'ancestor_count': 1, 'ancestor_ids': ['1_94', '1_56'], 'birth_generation': 2, 'domain_name': None, 'experiment_version': 'test', 'unique_id': '2_63', 'origin': '1_94~CUW~1_56#MGNP'} Metrics: ['ELUC: -7.924846972527943', 'NSGA-II_crowding_distance: 0.2987179186474942', 'NSGA-II_rank: 3', 'change: 0.25100133085337245', 'is_elite: False']\n",
      "Id: 2_62 Identity: {'ancestor_count': 1, 'ancestor_ids': ['1_22', '1_17'], 'birth_generation': 2, 'domain_name': None, 'experiment_version': 'test', 'unique_id': '2_62', 'origin': '1_22~CUW~1_17#MGNP'} Metrics: ['ELUC: -7.9781561690936655', 'NSGA-II_crowding_distance: 0.5219673565253762', 'NSGA-II_rank: 4', 'change: 0.26354778624777486', 'is_elite: False']\n",
      "Id: 1_23 Identity: {'ancestor_count': 0, 'ancestor_ids': [], 'birth_generation': 1, 'domain_name': None, 'experiment_version': 'test', 'unique_id': '1_23', 'origin': '(none)'} Metrics: ['ELUC: -8.12467078249326', 'NSGA-II_crowding_distance: 0.2551225388803557', 'NSGA-II_rank: 2', 'change: 0.2448984513869198', 'is_elite: False']\n",
      "Id: 2_64 Identity: {'ancestor_count': 1, 'ancestor_ids': ['1_94', '1_69'], 'birth_generation': 2, 'domain_name': None, 'experiment_version': 'test', 'unique_id': '2_64', 'origin': '1_94~CUW~1_69#MGNP'} Metrics: ['ELUC: -8.129917322355805', 'NSGA-II_crowding_distance: 0.19884255533529116', 'NSGA-II_rank: 1', 'change: 0.24199258439907814', 'is_elite: False']\n",
      "Id: 2_88 Identity: {'ancestor_count': 1, 'ancestor_ids': ['1_7', '1_49'], 'birth_generation': 2, 'domain_name': None, 'experiment_version': 'test', 'unique_id': '2_88', 'origin': '1_7~CUW~1_49#MGNP'} Metrics: ['ELUC: -8.173446742186982', 'NSGA-II_crowding_distance: 0.18013346057598217', 'NSGA-II_rank: 1', 'change: 0.24587773884027367', 'is_elite: False']\n",
      "Id: 2_91 Identity: {'ancestor_count': 1, 'ancestor_ids': ['1_49', '1_94'], 'birth_generation': 2, 'domain_name': None, 'experiment_version': 'test', 'unique_id': '2_91', 'origin': '1_49~CUW~1_94#MGNP'} Metrics: ['ELUC: -8.691850411044692', 'NSGA-II_crowding_distance: 0.44620919685098764', 'NSGA-II_rank: 3', 'change: 0.25699207056235635', 'is_elite: False']\n",
      "Id: 2_41 Identity: {'ancestor_count': 1, 'ancestor_ids': ['1_26', '1_22'], 'birth_generation': 2, 'domain_name': None, 'experiment_version': 'test', 'unique_id': '2_41', 'origin': '1_26~CUW~1_22#MGNP'} Metrics: ['ELUC: -8.718346273049834', 'NSGA-II_crowding_distance: 0.6516784434264857', 'NSGA-II_rank: 5', 'change: 0.27132571749179046', 'is_elite: False']\n",
      "Id: 2_66 Identity: {'ancestor_count': 1, 'ancestor_ids': ['1_56', '1_23'], 'birth_generation': 2, 'domain_name': None, 'experiment_version': 'test', 'unique_id': '2_66', 'origin': '1_56~CUW~1_23#MGNP'} Metrics: ['ELUC: -9.031093351393427', 'NSGA-II_crowding_distance: 0.2499283452339781', 'NSGA-II_rank: 2', 'change: 0.2538356722259193', 'is_elite: False']\n",
      "Id: 2_35 Identity: {'ancestor_count': 1, 'ancestor_ids': ['1_7', '1_32'], 'birth_generation': 2, 'domain_name': None, 'experiment_version': 'test', 'unique_id': '2_35', 'origin': '1_7~CUW~1_32#MGNP'} Metrics: ['ELUC: -9.14466221750015', 'NSGA-II_crowding_distance: inf', 'NSGA-II_rank: 7', 'change: 0.3054085949299378', 'is_elite: False']\n",
      "Id: 1_94 Identity: {'ancestor_count': 0, 'ancestor_ids': [], 'birth_generation': 1, 'domain_name': None, 'experiment_version': 'test', 'unique_id': '1_94', 'origin': '(none)'} Metrics: ['ELUC: -9.742974149774458', 'NSGA-II_crowding_distance: 0.34027188872791014', 'NSGA-II_rank: 1', 'change: 0.24651100589774422', 'is_elite: True']\n",
      "Id: 2_95 Identity: {'ancestor_count': 1, 'ancestor_ids': ['1_49', '1_10'], 'birth_generation': 2, 'domain_name': None, 'experiment_version': 'test', 'unique_id': '2_95', 'origin': '1_49~CUW~1_10#MGNP'} Metrics: ['ELUC: -9.984542073307328', 'NSGA-II_crowding_distance: 0.10705401224849344', 'NSGA-II_rank: 2', 'change: 0.25449646785412927', 'is_elite: False']\n",
      "Id: 2_90 Identity: {'ancestor_count': 1, 'ancestor_ids': ['1_65', '1_69'], 'birth_generation': 2, 'domain_name': None, 'experiment_version': 'test', 'unique_id': '2_90', 'origin': '1_65~CUW~1_69#MGNP'} Metrics: ['ELUC: -10.144273611745142', 'NSGA-II_crowding_distance: inf', 'NSGA-II_rank: 6', 'change: 0.2942899493929687', 'is_elite: False']\n",
      "Id: 2_96 Identity: {'ancestor_count': 1, 'ancestor_ids': ['1_56', '1_100'], 'birth_generation': 2, 'domain_name': None, 'experiment_version': 'test', 'unique_id': '2_96', 'origin': '1_56~CUW~1_100#MGNP'} Metrics: ['ELUC: -10.204114779853303', 'NSGA-II_crowding_distance: 0.10012162118756615', 'NSGA-II_rank: 2', 'change: 0.25645665071567825', 'is_elite: False']\n",
      "Id: 2_22 Identity: {'ancestor_count': 1, 'ancestor_ids': ['1_22', '1_56'], 'birth_generation': 2, 'domain_name': None, 'experiment_version': 'test', 'unique_id': '2_22', 'origin': '1_22~CUW~1_56#MGNP'} Metrics: ['ELUC: -10.489444941478796', 'NSGA-II_crowding_distance: inf', 'NSGA-II_rank: 5', 'change: 0.27190310905153064', 'is_elite: False']\n",
      "Id: 2_83 Identity: {'ancestor_count': 1, 'ancestor_ids': ['1_56', '1_65'], 'birth_generation': 2, 'domain_name': None, 'experiment_version': 'test', 'unique_id': '2_83', 'origin': '1_56~CUW~1_65#MGNP'} Metrics: ['ELUC: -10.602057330143435', 'NSGA-II_crowding_distance: 0.14166801627467532', 'NSGA-II_rank: 2', 'change: 0.2588464870339232', 'is_elite: False']\n",
      "Id: 2_47 Identity: {'ancestor_count': 1, 'ancestor_ids': ['1_7', '1_94'], 'birth_generation': 2, 'domain_name': None, 'experiment_version': 'test', 'unique_id': '2_47', 'origin': '1_7~CUW~1_94#MGNP'} Metrics: ['ELUC: -10.894145811060321', 'NSGA-II_crowding_distance: 0.5997440235573382', 'NSGA-II_rank: 4', 'change: 0.26813360515117995', 'is_elite: False']\n",
      "Id: 1_32 Identity: {'ancestor_count': 0, 'ancestor_ids': [], 'birth_generation': 1, 'domain_name': None, 'experiment_version': 'test', 'unique_id': '1_32', 'origin': '(none)'} Metrics: ['ELUC: -11.261973725541184', 'NSGA-II_crowding_distance: 0.32150578178995715', 'NSGA-II_rank: 1', 'change: 0.25415983088095273', 'is_elite: True']\n",
      "Id: 2_74 Identity: {'ancestor_count': 1, 'ancestor_ids': ['1_94', '1_65'], 'birth_generation': 2, 'domain_name': None, 'experiment_version': 'test', 'unique_id': '2_74', 'origin': '1_94~CUW~1_65#MGNP'} Metrics: ['ELUC: -11.32595740682195', 'NSGA-II_crowding_distance: 0.400641675473411', 'NSGA-II_rank: 3', 'change: 0.26232457146696153', 'is_elite: False']\n",
      "Id: 2_16 Identity: {'ancestor_count': 1, 'ancestor_ids': ['1_7', '1_21'], 'birth_generation': 2, 'domain_name': None, 'experiment_version': 'test', 'unique_id': '2_16', 'origin': '1_7~CUW~1_21#MGNP'} Metrics: ['ELUC: -11.552963384450878', 'NSGA-II_crowding_distance: inf', 'NSGA-II_rank: 4', 'change: 0.2768500810625162', 'is_elite: False']\n",
      "Id: 2_45 Identity: {'ancestor_count': 1, 'ancestor_ids': ['1_100', '1_56'], 'birth_generation': 2, 'domain_name': None, 'experiment_version': 'test', 'unique_id': '2_45', 'origin': '1_100~CUW~1_56#MGNP'} Metrics: ['ELUC: -11.702662258726281', 'NSGA-II_crowding_distance: 0.27014933055259643', 'NSGA-II_rank: 2', 'change: 0.2601378972070906', 'is_elite: False']\n",
      "Id: 2_17 Identity: {'ancestor_count': 1, 'ancestor_ids': ['1_10', '1_100'], 'birth_generation': 2, 'domain_name': None, 'experiment_version': 'test', 'unique_id': '2_17', 'origin': '1_10~CUW~1_100#MGNP'} Metrics: ['ELUC: -11.81909182148705', 'NSGA-II_crowding_distance: 0.37238462396808886', 'NSGA-II_rank: 3', 'change: 0.266930042490788', 'is_elite: False']\n",
      "Id: 2_68 Identity: {'ancestor_count': 1, 'ancestor_ids': ['1_56', '1_56'], 'birth_generation': 2, 'domain_name': None, 'experiment_version': 'test', 'unique_id': '2_68', 'origin': '1_56~CUW~1_56#MGNP'} Metrics: ['ELUC: -12.094302937872234', 'NSGA-II_crowding_distance: 0.16966863749849287', 'NSGA-II_rank: 1', 'change: 0.25779785971029173', 'is_elite: False']\n",
      "Id: 1_56 Identity: {'ancestor_count': 0, 'ancestor_ids': [], 'birth_generation': 1, 'domain_name': None, 'experiment_version': 'test', 'unique_id': '1_56', 'origin': '(none)'} Metrics: ['ELUC: -12.434823816828384', 'NSGA-II_crowding_distance: 0.2688220628708416', 'NSGA-II_rank: 1', 'change: 0.2605316124824141', 'is_elite: True']\n",
      "Id: 2_25 Identity: {'ancestor_count': 1, 'ancestor_ids': ['1_7', '1_10'], 'birth_generation': 2, 'domain_name': None, 'experiment_version': 'test', 'unique_id': '2_25', 'origin': '1_7~CUW~1_10#MGNP'} Metrics: ['ELUC: -12.989389828651557', 'NSGA-II_crowding_distance: 0.4680497343422576', 'NSGA-II_rank: 3', 'change: 0.27543609327124213', 'is_elite: False']\n",
      "Id: 2_14 Identity: {'ancestor_count': 1, 'ancestor_ids': ['1_94', '1_56'], 'birth_generation': 2, 'domain_name': None, 'experiment_version': 'test', 'unique_id': '2_14', 'origin': '1_94~CUW~1_56#MGNP'} Metrics: ['ELUC: -13.08787717396445', 'NSGA-II_crowding_distance: inf', 'NSGA-II_rank: 3', 'change: 0.2859715285153917', 'is_elite: False']\n",
      "Id: 2_33 Identity: {'ancestor_count': 1, 'ancestor_ids': ['1_80', '1_22'], 'birth_generation': 2, 'domain_name': None, 'experiment_version': 'test', 'unique_id': '2_33', 'origin': '1_80~CUW~1_22#MGNP'} Metrics: ['ELUC: -13.501305411008932', 'NSGA-II_crowding_distance: 0.8991705223859388', 'NSGA-II_rank: 2', 'change: 0.2657014475274944', 'is_elite: False']\n",
      "Id: 2_92 Identity: {'ancestor_count': 1, 'ancestor_ids': ['1_10', '1_94'], 'birth_generation': 2, 'domain_name': None, 'experiment_version': 'test', 'unique_id': '2_92', 'origin': '1_10~CUW~1_94#MGNP'} Metrics: ['ELUC: -14.482385812200995', 'NSGA-II_crowding_distance: 0.40182162915951886', 'NSGA-II_rank: 1', 'change: 0.2646579318855017', 'is_elite: True']\n",
      "Id: 2_75 Identity: {'ancestor_count': 1, 'ancestor_ids': ['1_65', '1_65'], 'birth_generation': 2, 'domain_name': None, 'experiment_version': 'test', 'unique_id': '2_75', 'origin': '1_65~CUW~1_65#MGNP'} Metrics: ['ELUC: -15.093176253530329', 'NSGA-II_crowding_distance: 0.24388288724801382', 'NSGA-II_rank: 1', 'change: 0.27635008433432195', 'is_elite: False']\n",
      "Id: 1_65 Identity: {'ancestor_count': 0, 'ancestor_ids': [], 'birth_generation': 1, 'domain_name': None, 'experiment_version': 'test', 'unique_id': '1_65', 'origin': '(none)'} Metrics: ['ELUC: -15.424949134878572', 'NSGA-II_crowding_distance: 0.46553081112589656', 'NSGA-II_rank: 1', 'change: 0.2783556836638049', 'is_elite: True']\n",
      "Id: 2_77 Identity: {'ancestor_count': 1, 'ancestor_ids': ['1_49', '1_56'], 'birth_generation': 2, 'domain_name': None, 'experiment_version': 'test', 'unique_id': '2_77', 'origin': '1_49~CUW~1_56#MGNP'} Metrics: ['ELUC: -16.874625104114276', 'NSGA-II_crowding_distance: 0.7438237092402511', 'NSGA-II_rank: 2', 'change: 0.30068456683506284', 'is_elite: False']\n",
      "Id: 2_27 Identity: {'ancestor_count': 1, 'ancestor_ids': ['1_26', '1_65'], 'birth_generation': 2, 'domain_name': None, 'experiment_version': 'test', 'unique_id': '2_27', 'origin': '1_26~CUW~1_65#MGNP'} Metrics: ['ELUC: -17.083371087053507', 'NSGA-II_crowding_distance: 0.0869203961296049', 'NSGA-II_rank: 2', 'change: 0.302000214938745', 'is_elite: False']\n",
      "Id: 2_97 Identity: {'ancestor_count': 1, 'ancestor_ids': ['1_10', '1_10'], 'birth_generation': 2, 'domain_name': None, 'experiment_version': 'test', 'unique_id': '2_97', 'origin': '1_10~CUW~1_10#MGNP'} Metrics: ['ELUC: -17.31461373974912', 'NSGA-II_crowding_distance: 0.4563635748361891', 'NSGA-II_rank: 1', 'change: 0.2999183448345391', 'is_elite: True']\n",
      "Id: 1_10 Identity: {'ancestor_count': 0, 'ancestor_ids': [], 'birth_generation': 1, 'domain_name': None, 'experiment_version': 'test', 'unique_id': '1_10', 'origin': '(none)'} Metrics: ['ELUC: -17.580724861049067', 'NSGA-II_crowding_distance: 0.06373289324937659', 'NSGA-II_rank: 1', 'change: 0.3015936736594201', 'is_elite: False']\n",
      "Id: 1_25 Identity: {'ancestor_count': 0, 'ancestor_ids': [], 'birth_generation': 1, 'domain_name': None, 'experiment_version': 'test', 'unique_id': '1_25', 'origin': '(none)'} Metrics: ['ELUC: -17.706449051990806', 'NSGA-II_crowding_distance: 0.033741991285424947', 'NSGA-II_rank: 1', 'change: 0.30260931794172286', 'is_elite: False']\n",
      "Id: 2_86 Identity: {'ancestor_count': 1, 'ancestor_ids': ['1_32', '1_25'], 'birth_generation': 2, 'domain_name': None, 'experiment_version': 'test', 'unique_id': '2_86', 'origin': '1_32~CUW~1_25#MGNP'} Metrics: ['ELUC: -17.812317677903753', 'NSGA-II_crowding_distance: inf', 'NSGA-II_rank: 2', 'change: 0.3028708988969066', 'is_elite: False']\n",
      "Id: 2_46 Identity: {'ancestor_count': 1, 'ancestor_ids': ['1_54', '1_32'], 'birth_generation': 2, 'domain_name': None, 'experiment_version': 'test', 'unique_id': '2_46', 'origin': '1_54~CUW~1_32#MGNP'} Metrics: ['ELUC: -17.8123871931882', 'NSGA-II_crowding_distance: 0.011384426822430625', 'NSGA-II_rank: 1', 'change: 0.302870491623648', 'is_elite: False']\n",
      "Id: 2_23 Identity: {'ancestor_count': 1, 'ancestor_ids': ['1_25', '1_25'], 'birth_generation': 2, 'domain_name': None, 'experiment_version': 'test', 'unique_id': '2_23', 'origin': '1_25~CUW~1_25#MGNP'} Metrics: ['ELUC: -17.81238741867421', 'NSGA-II_crowding_distance: inf', 'NSGA-II_rank: 1', 'change: 0.30287049749980044', 'is_elite: True']\n",
      "Id: 2_38 Identity: {'ancestor_count': 1, 'ancestor_ids': ['1_56', '1_100'], 'birth_generation': 2, 'domain_name': None, 'experiment_version': 'test', 'unique_id': '2_38', 'origin': '1_56~CUW~1_100#MGNP'} Metrics: ['ELUC: -17.81238741867421', 'NSGA-II_crowding_distance: 0.0', 'NSGA-II_rank: 1', 'change: 0.30287049749980044', 'is_elite: False']\n",
      "Id: 2_56 Identity: {'ancestor_count': 1, 'ancestor_ids': ['1_69', '1_7'], 'birth_generation': 2, 'domain_name': None, 'experiment_version': 'test', 'unique_id': '2_56', 'origin': '1_69~CUW~1_7#MGNP'} Metrics: ['ELUC: -17.81238741867421', 'NSGA-II_crowding_distance: 0.0', 'NSGA-II_rank: 1', 'change: 0.30287049749980044', 'is_elite: False']\n",
      "Id: 2_89 Identity: {'ancestor_count': 1, 'ancestor_ids': ['1_10', '1_80'], 'birth_generation': 2, 'domain_name': None, 'experiment_version': 'test', 'unique_id': '2_89', 'origin': '1_10~CUW~1_80#MGNP'} Metrics: ['ELUC: -17.81238741867421', 'NSGA-II_crowding_distance: inf', 'NSGA-II_rank: 1', 'change: 0.30287049749980044', 'is_elite: True']\n",
      "\n",
      "Done with generation 2.\n",
      "--------\n",
      "\n",
      "Evaluating PopulationResponse for generation 3...:\n",
      "PopulationResponse:\n",
      "  Generation: 3\n",
      "  Population size: 100\n",
      "  Checkpoint id: test/3/20240213-202530\n",
      "Evaluating candidates synchronously because max_workers == 0\n",
      "1233/1233 [==============================] - 4s 3ms/step\n",
      "1233/1233 [==============================] - 4s 4ms/step\n",
      "1233/1233 [==============================] - 5s 4ms/step\n",
      " 193/1233 [===>..........................] - ETA: 3s"
     ]
    },
    {
     "ename": "KeyboardInterrupt",
     "evalue": "",
     "output_type": "error",
     "traceback": [
      "\u001b[0;31m---------------------------------------------------------------------------\u001b[0m",
      "\u001b[0;31mKeyboardInterrupt\u001b[0m                         Traceback (most recent call last)",
      "Input \u001b[0;32mIn [7]\u001b[0m, in \u001b[0;36m<cell line: 23>\u001b[0;34m()\u001b[0m\n\u001b[1;32m     18\u001b[0m esp_service \u001b[38;5;241m=\u001b[39m EspService(presc_config, esp_username, esp_password)\n\u001b[1;32m     19\u001b[0m esp_evaluator \u001b[38;5;241m=\u001b[39m UnileafPrescriptor(presc_config,\n\u001b[1;32m     20\u001b[0m                                     eval_df_encoded,\n\u001b[1;32m     21\u001b[0m                                     dataset\u001b[38;5;241m.\u001b[39mencoder,\n\u001b[1;32m     22\u001b[0m                                     [nnp])\n\u001b[0;32m---> 23\u001b[0m experiment_results_dir \u001b[38;5;241m=\u001b[39m \u001b[43mesp_service\u001b[49m\u001b[38;5;241;43m.\u001b[39;49m\u001b[43mtrain\u001b[49m\u001b[43m(\u001b[49m\u001b[43mesp_evaluator\u001b[49m\u001b[43m)\u001b[49m\n",
      "File \u001b[0;32m~/anaconda3/envs/leaf/lib/python3.10/site-packages/esp_sdk/esp_service.py:137\u001b[0m, in \u001b[0;36mEspService.train\u001b[0;34m(self, evaluator, checkpoint_id, early_stopper, plotter)\u001b[0m\n\u001b[1;32m    124\u001b[0m \u001b[38;5;124;03m\"\"\"\u001b[39;00m\n\u001b[1;32m    125\u001b[0m \u001b[38;5;124;03mTrains and persists Prescriptors according to the experiment parameters.\u001b[39;00m\n\u001b[1;32m    126\u001b[0m \u001b[38;5;124;03m:param evaluator: an EspEvaluator to evaluate the candidate Prescriptors\u001b[39;00m\n\u001b[0;32m   (...)\u001b[0m\n\u001b[1;32m    134\u001b[0m \u001b[38;5;124;03m:return: the name of the folder to which the Prescriptors have been persisted at the end of each generation\u001b[39;00m\n\u001b[1;32m    135\u001b[0m \u001b[38;5;124;03m\"\"\"\u001b[39;00m\n\u001b[1;32m    136\u001b[0m \u001b[38;5;28;01mif\u001b[39;00m \u001b[38;5;28mself\u001b[39m\u001b[38;5;241m.\u001b[39m_session \u001b[38;5;129;01mis\u001b[39;00m \u001b[38;5;129;01mnot\u001b[39;00m \u001b[38;5;28;01mNone\u001b[39;00m:\n\u001b[0;32m--> 137\u001b[0m     persistence_directory \u001b[38;5;241m=\u001b[39m \u001b[38;5;28;43mself\u001b[39;49m\u001b[38;5;241;43m.\u001b[39;49m\u001b[43m_training_loop\u001b[49m\u001b[38;5;241;43m.\u001b[39;49m\u001b[43mtrain_with_evaluator\u001b[49m\u001b[43m(\u001b[49m\u001b[43mevaluator\u001b[49m\u001b[43m,\u001b[49m\n\u001b[1;32m    138\u001b[0m \u001b[43m                                                                     \u001b[49m\u001b[43mcheckpoint_id\u001b[49m\u001b[38;5;241;43m=\u001b[39;49m\u001b[43mcheckpoint_id\u001b[49m\u001b[43m,\u001b[49m\n\u001b[1;32m    139\u001b[0m \u001b[43m                                                                     \u001b[49m\u001b[43mearly_stopper\u001b[49m\u001b[38;5;241;43m=\u001b[39;49m\u001b[43mearly_stopper\u001b[49m\u001b[43m,\u001b[49m\n\u001b[1;32m    140\u001b[0m \u001b[43m                                                                     \u001b[49m\u001b[43mplotter\u001b[49m\u001b[38;5;241;43m=\u001b[39;49m\u001b[43mplotter\u001b[49m\u001b[43m)\u001b[49m\n\u001b[1;32m    141\u001b[0m \u001b[38;5;28;01melse\u001b[39;00m:\n\u001b[1;32m    142\u001b[0m     \u001b[38;5;28mprint\u001b[39m(\u001b[38;5;124m\"\u001b[39m\u001b[38;5;124mFailed to connect to ESP service. Can\u001b[39m\u001b[38;5;124m'\u001b[39m\u001b[38;5;124mt train.\u001b[39m\u001b[38;5;124m\"\u001b[39m)\n",
      "File \u001b[0;32m~/anaconda3/envs/leaf/lib/python3.10/site-packages/esp_sdk/training/esp_training_loop.py:135\u001b[0m, in \u001b[0;36mEspTrainingLoop.train_with_evaluator\u001b[0;34m(self, evaluator, checkpoint_id, early_stopper, plotter)\u001b[0m\n\u001b[1;32m    132\u001b[0m logging\u001b[38;5;241m.\u001b[39mdebug(\u001b[38;5;124m\"\u001b[39m\u001b[38;5;124mPersistence directory: \u001b[39m\u001b[38;5;132;01m%s\u001b[39;00m\u001b[38;5;124m\"\u001b[39m, \u001b[38;5;28mstr\u001b[39m(persistence_dir))\n\u001b[1;32m    134\u001b[0m eval_pop_start_time \u001b[38;5;241m=\u001b[39m time\u001b[38;5;241m.\u001b[39mtime()\n\u001b[0;32m--> 135\u001b[0m \u001b[43mevaluator\u001b[49m\u001b[38;5;241;43m.\u001b[39;49m\u001b[43mevaluate_population\u001b[49m\u001b[43m(\u001b[49m\u001b[43mnext_population_response\u001b[49m\u001b[43m)\u001b[49m\n\u001b[1;32m    136\u001b[0m eval_pop_end_time \u001b[38;5;241m=\u001b[39m time\u001b[38;5;241m.\u001b[39mtime()\n\u001b[1;32m    137\u001b[0m eval_pop_times\u001b[38;5;241m.\u001b[39mappend(eval_pop_end_time \u001b[38;5;241m-\u001b[39m eval_pop_start_time)\n",
      "File \u001b[0;32m~/anaconda3/envs/leaf/lib/python3.10/site-packages/esp_sdk/esp_evaluator.py:76\u001b[0m, in \u001b[0;36mEspEvaluator.evaluate_population\u001b[0;34m(self, response)\u001b[0m\n\u001b[1;32m     74\u001b[0m population_evaluator \u001b[38;5;241m=\u001b[39m DefaultPopulationEvaluator(\u001b[38;5;28mself\u001b[39m\u001b[38;5;241m.\u001b[39mconfig, \u001b[38;5;28mself\u001b[39m)\n\u001b[1;32m     75\u001b[0m evaluation_data \u001b[38;5;241m=\u001b[39m \u001b[38;5;28;01mNone\u001b[39;00m      \u001b[38;5;66;03m# None passed in with this interface\u001b[39;00m\n\u001b[0;32m---> 76\u001b[0m \u001b[43mpopulation_evaluator\u001b[49m\u001b[38;5;241;43m.\u001b[39;49m\u001b[43mevaluate\u001b[49m\u001b[43m(\u001b[49m\u001b[43mresponse\u001b[49m\u001b[43m,\u001b[49m\u001b[43m \u001b[49m\u001b[43mevaluation_data\u001b[49m\u001b[43m)\u001b[49m\n",
      "File \u001b[0;32m~/anaconda3/envs/leaf/lib/python3.10/site-packages/esp_sdk/evaluation/default_population_evaluator.py:100\u001b[0m, in \u001b[0;36mDefaultPopulationEvaluator.evaluate\u001b[0;34m(self, component, evaluation_data)\u001b[0m\n\u001b[1;32m     96\u001b[0m     \u001b[38;5;28mprint\u001b[39m(\u001b[38;5;124m'\u001b[39m\u001b[38;5;124mEvaluating candidates synchronously because max_workers == 0\u001b[39m\u001b[38;5;124m'\u001b[39m)\n\u001b[1;32m     97\u001b[0m     population_evaluator \u001b[38;5;241m=\u001b[39m SynchronousPopulationEvaluator(\u001b[38;5;28mself\u001b[39m\u001b[38;5;241m.\u001b[39m_config,\n\u001b[1;32m     98\u001b[0m                                                           \u001b[38;5;28mself\u001b[39m\u001b[38;5;241m.\u001b[39m_candidate_evaluator,\n\u001b[1;32m     99\u001b[0m                                                           candidates_to_evaluate)\n\u001b[0;32m--> 100\u001b[0m \u001b[43mpopulation_evaluator\u001b[49m\u001b[38;5;241;43m.\u001b[39;49m\u001b[43mevaluate\u001b[49m\u001b[43m(\u001b[49m\u001b[43mpopulation\u001b[49m\u001b[43m,\u001b[49m\u001b[43m \u001b[49m\u001b[43mevaluation_data\u001b[49m\u001b[43m)\u001b[49m\n",
      "File \u001b[0;32m~/anaconda3/envs/leaf/lib/python3.10/site-packages/esp_sdk/evaluation/synchronous_population_evaluator.py:77\u001b[0m, in \u001b[0;36mSynchronousPopulationEvaluator.evaluate\u001b[0;34m(self, component, evaluation_data)\u001b[0m\n\u001b[1;32m     73\u001b[0m model \u001b[38;5;241m=\u001b[39m ModelUtil\u001b[38;5;241m.\u001b[39mmodel_from_bytes(\u001b[38;5;28mself\u001b[39m\u001b[38;5;241m.\u001b[39m_config, candidate\u001b[38;5;241m.\u001b[39minterpretation)\n\u001b[1;32m     75\u001b[0m \u001b[38;5;66;03m# Actually evaluate a single candidate\u001b[39;00m\n\u001b[1;32m     76\u001b[0m \u001b[38;5;66;03m# Simply pass along the evaluation_data, whatever it is\u001b[39;00m\n\u001b[0;32m---> 77\u001b[0m metrics \u001b[38;5;241m=\u001b[39m \u001b[38;5;28;43mself\u001b[39;49m\u001b[38;5;241;43m.\u001b[39;49m\u001b[43m_candidate_evaluator\u001b[49m\u001b[38;5;241;43m.\u001b[39;49m\u001b[43mevaluate\u001b[49m\u001b[43m(\u001b[49m\u001b[43mmodel\u001b[49m\u001b[43m,\u001b[49m\u001b[43m \u001b[49m\u001b[43mevaluation_data\u001b[49m\u001b[43m)\u001b[49m\n\u001b[1;32m     79\u001b[0m \u001b[38;5;66;03m# Update the metrics of the candidate in place in the population list\u001b[39;00m\n\u001b[1;32m     80\u001b[0m candidate\u001b[38;5;241m.\u001b[39mmetrics \u001b[38;5;241m=\u001b[39m MetricsSerializer\u001b[38;5;241m.\u001b[39mencode(metrics)\n",
      "File \u001b[0;32m~/anaconda3/envs/leaf/lib/python3.10/site-packages/esp_sdk/esp_evaluator.py:89\u001b[0m, in \u001b[0;36mEspEvaluator.evaluate\u001b[0;34m(self, component, evaluation_data)\u001b[0m\n\u001b[1;32m     79\u001b[0m \u001b[38;5;124;03m\"\"\"\u001b[39;00m\n\u001b[1;32m     80\u001b[0m \u001b[38;5;124;03mEvaluates a single kind of model object on the given evaluation_data\u001b[39;00m\n\u001b[1;32m     81\u001b[0m \u001b[38;5;124;03mreturning a metrics dictionary giving clues as to how the evaluation\u001b[39;00m\n\u001b[0;32m   (...)\u001b[0m\n\u001b[1;32m     86\u001b[0m \u001b[38;5;124;03mpassed in.\u001b[39;00m\n\u001b[1;32m     87\u001b[0m \u001b[38;5;124;03m\"\"\"\u001b[39;00m\n\u001b[1;32m     88\u001b[0m _ \u001b[38;5;241m=\u001b[39m evaluation_data\n\u001b[0;32m---> 89\u001b[0m \u001b[38;5;28;01mreturn\u001b[39;00m \u001b[38;5;28;43mself\u001b[39;49m\u001b[38;5;241;43m.\u001b[39;49m\u001b[43mevaluate_candidate\u001b[49m\u001b[43m(\u001b[49m\u001b[43mcomponent\u001b[49m\u001b[43m)\u001b[49m\n",
      "File \u001b[0;32m~/workspace/mvp/use_cases/eluc/prescriptors/prescriptor.py:122\u001b[0m, in \u001b[0;36mUnileafPrescriptor.evaluate_candidate\u001b[0;34m(self, candidate)\u001b[0m\n\u001b[1;32m    110\u001b[0m \u001b[38;5;124;03m\"\"\"\u001b[39;00m\n\u001b[1;32m    111\u001b[0m \u001b[38;5;124;03mEvaluates a single Prescriptor candidate and returns its metrics.\u001b[39;00m\n\u001b[1;32m    112\u001b[0m \u001b[38;5;124;03mImplements the EspEvaluator interface\u001b[39;00m\n\u001b[1;32m    113\u001b[0m \u001b[38;5;124;03m:param candidate: a Keras neural network or rule based Prescriptor candidate\u001b[39;00m\n\u001b[1;32m    114\u001b[0m \u001b[38;5;124;03m:return metrics: A dictionary of {'metric_name': metric_value}\u001b[39;00m\n\u001b[1;32m    115\u001b[0m \u001b[38;5;124;03m\"\"\"\u001b[39;00m\n\u001b[1;32m    116\u001b[0m \u001b[38;5;66;03m# Save candidate to local file for easy debug\u001b[39;00m\n\u001b[1;32m    117\u001b[0m \u001b[38;5;66;03m# candidate.save('prescriptor.h5')\u001b[39;00m\n\u001b[1;32m    118\u001b[0m \n\u001b[1;32m    119\u001b[0m \u001b[38;5;66;03m# Prescribe actions\u001b[39;00m\n\u001b[1;32m    120\u001b[0m \u001b[38;5;66;03m# Single action, recommended percentage for each land use type\u001b[39;00m\n\u001b[1;32m    121\u001b[0m \u001b[38;5;66;03m# Note: prescribed action is a softmax, NOT encoded in the same scale as the context\u001b[39;00m\n\u001b[0;32m--> 122\u001b[0m prescribed_actions_df \u001b[38;5;241m=\u001b[39m \u001b[38;5;28;43mself\u001b[39;49m\u001b[38;5;241;43m.\u001b[39;49m\u001b[43mprescribe\u001b[49m\u001b[43m(\u001b[49m\u001b[43mcandidate\u001b[49m\u001b[43m)\u001b[49m\n\u001b[1;32m    124\u001b[0m \u001b[38;5;66;03m# Convert the softmax into a DataFrame\u001b[39;00m\n\u001b[1;32m    125\u001b[0m reco_land_use_df \u001b[38;5;241m=\u001b[39m pd\u001b[38;5;241m.\u001b[39mDataFrame(prescribed_actions_df[\u001b[38;5;124m\"\u001b[39m\u001b[38;5;124mreco_land_use\u001b[39m\u001b[38;5;124m\"\u001b[39m]\u001b[38;5;241m.\u001b[39mtolist(),\n\u001b[1;32m    126\u001b[0m                         columns\u001b[38;5;241m=\u001b[39mconstants\u001b[38;5;241m.\u001b[39mRECO_COLS)\n",
      "File \u001b[0;32m~/workspace/mvp/use_cases/eluc/prescriptors/prescriptor.py:201\u001b[0m, in \u001b[0;36mUnileafPrescriptor.prescribe\u001b[0;34m(self, candidate, context_df)\u001b[0m\n\u001b[1;32m    193\u001b[0m     row_index \u001b[38;5;241m=\u001b[39m context_df\u001b[38;5;241m.\u001b[39mindex\n\u001b[1;32m    195\u001b[0m \u001b[38;5;66;03m# Temporarily removed, may come back if we do rule-based prescription\u001b[39;00m\n\u001b[1;32m    196\u001b[0m \u001b[38;5;66;03m# is_rule_based = isinstance(candidate, RuleSet)\u001b[39;00m\n\u001b[1;32m    197\u001b[0m \u001b[38;5;66;03m# if is_rule_based:\u001b[39;00m\n\u001b[1;32m    198\u001b[0m \u001b[38;5;66;03m#     actions = self._prescribe_from_rules(candidate, context_as_nn_input)\u001b[39;00m\n\u001b[1;32m    199\u001b[0m \u001b[38;5;66;03m# else:\u001b[39;00m\n\u001b[1;32m    200\u001b[0m \u001b[38;5;66;03m#     actions = self._prescribe_from_nn(candidate, context_as_nn_input)\u001b[39;00m\n\u001b[0;32m--> 201\u001b[0m actions \u001b[38;5;241m=\u001b[39m \u001b[38;5;28;43mself\u001b[39;49m\u001b[38;5;241;43m.\u001b[39;49m\u001b[43m_prescribe_from_nn\u001b[49m\u001b[43m(\u001b[49m\u001b[43mcandidate\u001b[49m\u001b[43m,\u001b[49m\u001b[43m \u001b[49m\u001b[43mcontext_as_nn_input\u001b[49m\u001b[43m)\u001b[49m\n\u001b[1;32m    203\u001b[0m \u001b[38;5;66;03m# Convert the prescribed actions to a DataFrame\u001b[39;00m\n\u001b[1;32m    204\u001b[0m prescribed_actions_df \u001b[38;5;241m=\u001b[39m pd\u001b[38;5;241m.\u001b[39mDataFrame(actions,\n\u001b[1;32m    205\u001b[0m                                      columns\u001b[38;5;241m=\u001b[39m\u001b[38;5;28mself\u001b[39m\u001b[38;5;241m.\u001b[39mcao_mapping[\u001b[38;5;124m\"\u001b[39m\u001b[38;5;124mactions\u001b[39m\u001b[38;5;124m\"\u001b[39m],\n\u001b[1;32m    206\u001b[0m                                      index\u001b[38;5;241m=\u001b[39mrow_index)\n",
      "File \u001b[0;32m~/workspace/mvp/use_cases/eluc/prescriptors/prescriptor.py:217\u001b[0m, in \u001b[0;36mUnileafPrescriptor._prescribe_from_nn\u001b[0;34m(self, candidate, context_as_nn_input)\u001b[0m\n\u001b[1;32m    210\u001b[0m \u001b[38;5;124;03m\"\"\"\u001b[39;00m\n\u001b[1;32m    211\u001b[0m \u001b[38;5;124;03mGenerates prescriptions using the passed neural network candidate and context\u001b[39;00m\n\u001b[1;32m    212\u001b[0m \u001b[38;5;124;03m:param candidate: a Keras neural network candidate\u001b[39;00m\n\u001b[1;32m    213\u001b[0m \u001b[38;5;124;03m:param context_as_nn_input: a numpy array containing the context to prescribe for\u001b[39;00m\n\u001b[1;32m    214\u001b[0m \u001b[38;5;124;03m:return: a dictionary of action name to action value or list of action values\u001b[39;00m\n\u001b[1;32m    215\u001b[0m \u001b[38;5;124;03m\"\"\"\u001b[39;00m\n\u001b[1;32m    216\u001b[0m \u001b[38;5;66;03m# Get the prescribed actions\u001b[39;00m\n\u001b[0;32m--> 217\u001b[0m prescribed_actions \u001b[38;5;241m=\u001b[39m \u001b[43mcandidate\u001b[49m\u001b[38;5;241;43m.\u001b[39;49m\u001b[43mpredict\u001b[49m\u001b[43m(\u001b[49m\u001b[43mcontext_as_nn_input\u001b[49m\u001b[43m)\u001b[49m\n\u001b[1;32m    218\u001b[0m actions \u001b[38;5;241m=\u001b[39m {}\n\u001b[1;32m    220\u001b[0m \u001b[38;5;28;01mif\u001b[39;00m \u001b[38;5;28mself\u001b[39m\u001b[38;5;241m.\u001b[39m_is_single_action_prescriptor():\n\u001b[1;32m    221\u001b[0m     \u001b[38;5;66;03m# Put the single action in an array to process it like multiple actions\u001b[39;00m\n",
      "File \u001b[0;32m~/anaconda3/envs/leaf/lib/python3.10/site-packages/keras/src/utils/traceback_utils.py:65\u001b[0m, in \u001b[0;36mfilter_traceback.<locals>.error_handler\u001b[0;34m(*args, **kwargs)\u001b[0m\n\u001b[1;32m     63\u001b[0m filtered_tb \u001b[38;5;241m=\u001b[39m \u001b[38;5;28;01mNone\u001b[39;00m\n\u001b[1;32m     64\u001b[0m \u001b[38;5;28;01mtry\u001b[39;00m:\n\u001b[0;32m---> 65\u001b[0m     \u001b[38;5;28;01mreturn\u001b[39;00m \u001b[43mfn\u001b[49m\u001b[43m(\u001b[49m\u001b[38;5;241;43m*\u001b[39;49m\u001b[43margs\u001b[49m\u001b[43m,\u001b[49m\u001b[43m \u001b[49m\u001b[38;5;241;43m*\u001b[39;49m\u001b[38;5;241;43m*\u001b[39;49m\u001b[43mkwargs\u001b[49m\u001b[43m)\u001b[49m\n\u001b[1;32m     66\u001b[0m \u001b[38;5;28;01mexcept\u001b[39;00m \u001b[38;5;167;01mException\u001b[39;00m \u001b[38;5;28;01mas\u001b[39;00m e:\n\u001b[1;32m     67\u001b[0m     filtered_tb \u001b[38;5;241m=\u001b[39m _process_traceback_frames(e\u001b[38;5;241m.\u001b[39m__traceback__)\n",
      "File \u001b[0;32m~/anaconda3/envs/leaf/lib/python3.10/site-packages/keras/src/engine/training.py:2554\u001b[0m, in \u001b[0;36mModel.predict\u001b[0;34m(self, x, batch_size, verbose, steps, callbacks, max_queue_size, workers, use_multiprocessing)\u001b[0m\n\u001b[1;32m   2552\u001b[0m \u001b[38;5;28;01mfor\u001b[39;00m step \u001b[38;5;129;01min\u001b[39;00m data_handler\u001b[38;5;241m.\u001b[39msteps():\n\u001b[1;32m   2553\u001b[0m     callbacks\u001b[38;5;241m.\u001b[39mon_predict_batch_begin(step)\n\u001b[0;32m-> 2554\u001b[0m     tmp_batch_outputs \u001b[38;5;241m=\u001b[39m \u001b[38;5;28;43mself\u001b[39;49m\u001b[38;5;241;43m.\u001b[39;49m\u001b[43mpredict_function\u001b[49m\u001b[43m(\u001b[49m\u001b[43miterator\u001b[49m\u001b[43m)\u001b[49m\n\u001b[1;32m   2555\u001b[0m     \u001b[38;5;28;01mif\u001b[39;00m data_handler\u001b[38;5;241m.\u001b[39mshould_sync:\n\u001b[1;32m   2556\u001b[0m         context\u001b[38;5;241m.\u001b[39masync_wait()\n",
      "File \u001b[0;32m~/anaconda3/envs/leaf/lib/python3.10/site-packages/tensorflow/python/util/traceback_utils.py:150\u001b[0m, in \u001b[0;36mfilter_traceback.<locals>.error_handler\u001b[0;34m(*args, **kwargs)\u001b[0m\n\u001b[1;32m    148\u001b[0m filtered_tb \u001b[38;5;241m=\u001b[39m \u001b[38;5;28;01mNone\u001b[39;00m\n\u001b[1;32m    149\u001b[0m \u001b[38;5;28;01mtry\u001b[39;00m:\n\u001b[0;32m--> 150\u001b[0m   \u001b[38;5;28;01mreturn\u001b[39;00m \u001b[43mfn\u001b[49m\u001b[43m(\u001b[49m\u001b[38;5;241;43m*\u001b[39;49m\u001b[43margs\u001b[49m\u001b[43m,\u001b[49m\u001b[43m \u001b[49m\u001b[38;5;241;43m*\u001b[39;49m\u001b[38;5;241;43m*\u001b[39;49m\u001b[43mkwargs\u001b[49m\u001b[43m)\u001b[49m\n\u001b[1;32m    151\u001b[0m \u001b[38;5;28;01mexcept\u001b[39;00m \u001b[38;5;167;01mException\u001b[39;00m \u001b[38;5;28;01mas\u001b[39;00m e:\n\u001b[1;32m    152\u001b[0m   filtered_tb \u001b[38;5;241m=\u001b[39m _process_traceback_frames(e\u001b[38;5;241m.\u001b[39m__traceback__)\n",
      "File \u001b[0;32m~/anaconda3/envs/leaf/lib/python3.10/site-packages/tensorflow/python/eager/polymorphic_function/polymorphic_function.py:825\u001b[0m, in \u001b[0;36mFunction.__call__\u001b[0;34m(self, *args, **kwds)\u001b[0m\n\u001b[1;32m    822\u001b[0m compiler \u001b[38;5;241m=\u001b[39m \u001b[38;5;124m\"\u001b[39m\u001b[38;5;124mxla\u001b[39m\u001b[38;5;124m\"\u001b[39m \u001b[38;5;28;01mif\u001b[39;00m \u001b[38;5;28mself\u001b[39m\u001b[38;5;241m.\u001b[39m_jit_compile \u001b[38;5;28;01melse\u001b[39;00m \u001b[38;5;124m\"\u001b[39m\u001b[38;5;124mnonXla\u001b[39m\u001b[38;5;124m\"\u001b[39m\n\u001b[1;32m    824\u001b[0m \u001b[38;5;28;01mwith\u001b[39;00m OptionalXlaContext(\u001b[38;5;28mself\u001b[39m\u001b[38;5;241m.\u001b[39m_jit_compile):\n\u001b[0;32m--> 825\u001b[0m   result \u001b[38;5;241m=\u001b[39m \u001b[38;5;28;43mself\u001b[39;49m\u001b[38;5;241;43m.\u001b[39;49m\u001b[43m_call\u001b[49m\u001b[43m(\u001b[49m\u001b[38;5;241;43m*\u001b[39;49m\u001b[43margs\u001b[49m\u001b[43m,\u001b[49m\u001b[43m \u001b[49m\u001b[38;5;241;43m*\u001b[39;49m\u001b[38;5;241;43m*\u001b[39;49m\u001b[43mkwds\u001b[49m\u001b[43m)\u001b[49m\n\u001b[1;32m    827\u001b[0m new_tracing_count \u001b[38;5;241m=\u001b[39m \u001b[38;5;28mself\u001b[39m\u001b[38;5;241m.\u001b[39mexperimental_get_tracing_count()\n\u001b[1;32m    828\u001b[0m without_tracing \u001b[38;5;241m=\u001b[39m (tracing_count \u001b[38;5;241m==\u001b[39m new_tracing_count)\n",
      "File \u001b[0;32m~/anaconda3/envs/leaf/lib/python3.10/site-packages/tensorflow/python/eager/polymorphic_function/polymorphic_function.py:864\u001b[0m, in \u001b[0;36mFunction._call\u001b[0;34m(self, *args, **kwds)\u001b[0m\n\u001b[1;32m    861\u001b[0m \u001b[38;5;28mself\u001b[39m\u001b[38;5;241m.\u001b[39m_lock\u001b[38;5;241m.\u001b[39mrelease()\n\u001b[1;32m    862\u001b[0m \u001b[38;5;66;03m# In this case we have not created variables on the first call. So we can\u001b[39;00m\n\u001b[1;32m    863\u001b[0m \u001b[38;5;66;03m# run the first trace but we should fail if variables are created.\u001b[39;00m\n\u001b[0;32m--> 864\u001b[0m results \u001b[38;5;241m=\u001b[39m \u001b[38;5;28;43mself\u001b[39;49m\u001b[38;5;241;43m.\u001b[39;49m\u001b[43m_variable_creation_fn\u001b[49m\u001b[43m(\u001b[49m\u001b[38;5;241;43m*\u001b[39;49m\u001b[43margs\u001b[49m\u001b[43m,\u001b[49m\u001b[43m \u001b[49m\u001b[38;5;241;43m*\u001b[39;49m\u001b[38;5;241;43m*\u001b[39;49m\u001b[43mkwds\u001b[49m\u001b[43m)\u001b[49m\n\u001b[1;32m    865\u001b[0m \u001b[38;5;28;01mif\u001b[39;00m \u001b[38;5;28mself\u001b[39m\u001b[38;5;241m.\u001b[39m_created_variables \u001b[38;5;129;01mand\u001b[39;00m \u001b[38;5;129;01mnot\u001b[39;00m ALLOW_DYNAMIC_VARIABLE_CREATION:\n\u001b[1;32m    866\u001b[0m   \u001b[38;5;28;01mraise\u001b[39;00m \u001b[38;5;167;01mValueError\u001b[39;00m(\u001b[38;5;124m\"\u001b[39m\u001b[38;5;124mCreating variables on a non-first call to a function\u001b[39m\u001b[38;5;124m\"\u001b[39m\n\u001b[1;32m    867\u001b[0m                    \u001b[38;5;124m\"\u001b[39m\u001b[38;5;124m decorated with tf.function.\u001b[39m\u001b[38;5;124m\"\u001b[39m)\n",
      "File \u001b[0;32m~/anaconda3/envs/leaf/lib/python3.10/site-packages/tensorflow/python/eager/polymorphic_function/tracing_compiler.py:148\u001b[0m, in \u001b[0;36mTracingCompiler.__call__\u001b[0;34m(self, *args, **kwargs)\u001b[0m\n\u001b[1;32m    145\u001b[0m \u001b[38;5;28;01mwith\u001b[39;00m \u001b[38;5;28mself\u001b[39m\u001b[38;5;241m.\u001b[39m_lock:\n\u001b[1;32m    146\u001b[0m   (concrete_function,\n\u001b[1;32m    147\u001b[0m    filtered_flat_args) \u001b[38;5;241m=\u001b[39m \u001b[38;5;28mself\u001b[39m\u001b[38;5;241m.\u001b[39m_maybe_define_function(args, kwargs)\n\u001b[0;32m--> 148\u001b[0m \u001b[38;5;28;01mreturn\u001b[39;00m \u001b[43mconcrete_function\u001b[49m\u001b[38;5;241;43m.\u001b[39;49m\u001b[43m_call_flat\u001b[49m\u001b[43m(\u001b[49m\n\u001b[1;32m    149\u001b[0m \u001b[43m    \u001b[49m\u001b[43mfiltered_flat_args\u001b[49m\u001b[43m,\u001b[49m\u001b[43m \u001b[49m\u001b[43mcaptured_inputs\u001b[49m\u001b[38;5;241;43m=\u001b[39;49m\u001b[43mconcrete_function\u001b[49m\u001b[38;5;241;43m.\u001b[39;49m\u001b[43mcaptured_inputs\u001b[49m\u001b[43m)\u001b[49m\n",
      "File \u001b[0;32m~/anaconda3/envs/leaf/lib/python3.10/site-packages/tensorflow/python/eager/polymorphic_function/monomorphic_function.py:1349\u001b[0m, in \u001b[0;36mConcreteFunction._call_flat\u001b[0;34m(self, args, captured_inputs)\u001b[0m\n\u001b[1;32m   1345\u001b[0m possible_gradient_type \u001b[38;5;241m=\u001b[39m gradients_util\u001b[38;5;241m.\u001b[39mPossibleTapeGradientTypes(args)\n\u001b[1;32m   1346\u001b[0m \u001b[38;5;28;01mif\u001b[39;00m (possible_gradient_type \u001b[38;5;241m==\u001b[39m gradients_util\u001b[38;5;241m.\u001b[39mPOSSIBLE_GRADIENT_TYPES_NONE\n\u001b[1;32m   1347\u001b[0m     \u001b[38;5;129;01mand\u001b[39;00m executing_eagerly):\n\u001b[1;32m   1348\u001b[0m   \u001b[38;5;66;03m# No tape is watching; skip to running the function.\u001b[39;00m\n\u001b[0;32m-> 1349\u001b[0m   \u001b[38;5;28;01mreturn\u001b[39;00m \u001b[38;5;28mself\u001b[39m\u001b[38;5;241m.\u001b[39m_build_call_outputs(\u001b[38;5;28;43mself\u001b[39;49m\u001b[38;5;241;43m.\u001b[39;49m\u001b[43m_inference_function\u001b[49m\u001b[43m(\u001b[49m\u001b[38;5;241;43m*\u001b[39;49m\u001b[43margs\u001b[49m\u001b[43m)\u001b[49m)\n\u001b[1;32m   1350\u001b[0m forward_backward \u001b[38;5;241m=\u001b[39m \u001b[38;5;28mself\u001b[39m\u001b[38;5;241m.\u001b[39m_select_forward_and_backward_functions(\n\u001b[1;32m   1351\u001b[0m     args,\n\u001b[1;32m   1352\u001b[0m     possible_gradient_type,\n\u001b[1;32m   1353\u001b[0m     executing_eagerly)\n\u001b[1;32m   1354\u001b[0m forward_function, args_with_tangents \u001b[38;5;241m=\u001b[39m forward_backward\u001b[38;5;241m.\u001b[39mforward()\n",
      "File \u001b[0;32m~/anaconda3/envs/leaf/lib/python3.10/site-packages/tensorflow/python/eager/polymorphic_function/atomic_function.py:196\u001b[0m, in \u001b[0;36mAtomicFunction.__call__\u001b[0;34m(self, *args)\u001b[0m\n\u001b[1;32m    194\u001b[0m \u001b[38;5;28;01mwith\u001b[39;00m record\u001b[38;5;241m.\u001b[39mstop_recording():\n\u001b[1;32m    195\u001b[0m   \u001b[38;5;28;01mif\u001b[39;00m \u001b[38;5;28mself\u001b[39m\u001b[38;5;241m.\u001b[39m_bound_context\u001b[38;5;241m.\u001b[39mexecuting_eagerly():\n\u001b[0;32m--> 196\u001b[0m     outputs \u001b[38;5;241m=\u001b[39m \u001b[38;5;28;43mself\u001b[39;49m\u001b[38;5;241;43m.\u001b[39;49m\u001b[43m_bound_context\u001b[49m\u001b[38;5;241;43m.\u001b[39;49m\u001b[43mcall_function\u001b[49m\u001b[43m(\u001b[49m\n\u001b[1;32m    197\u001b[0m \u001b[43m        \u001b[49m\u001b[38;5;28;43mself\u001b[39;49m\u001b[38;5;241;43m.\u001b[39;49m\u001b[43mname\u001b[49m\u001b[43m,\u001b[49m\n\u001b[1;32m    198\u001b[0m \u001b[43m        \u001b[49m\u001b[38;5;28;43mlist\u001b[39;49m\u001b[43m(\u001b[49m\u001b[43margs\u001b[49m\u001b[43m)\u001b[49m\u001b[43m,\u001b[49m\n\u001b[1;32m    199\u001b[0m \u001b[43m        \u001b[49m\u001b[38;5;28;43mlen\u001b[39;49m\u001b[43m(\u001b[49m\u001b[38;5;28;43mself\u001b[39;49m\u001b[38;5;241;43m.\u001b[39;49m\u001b[43mfunction_type\u001b[49m\u001b[38;5;241;43m.\u001b[39;49m\u001b[43mflat_outputs\u001b[49m\u001b[43m)\u001b[49m\u001b[43m,\u001b[49m\n\u001b[1;32m    200\u001b[0m \u001b[43m    \u001b[49m\u001b[43m)\u001b[49m\n\u001b[1;32m    201\u001b[0m   \u001b[38;5;28;01melse\u001b[39;00m:\n\u001b[1;32m    202\u001b[0m     outputs \u001b[38;5;241m=\u001b[39m make_call_op_in_graph(\u001b[38;5;28mself\u001b[39m, \u001b[38;5;28mlist\u001b[39m(args))\n",
      "File \u001b[0;32m~/anaconda3/envs/leaf/lib/python3.10/site-packages/tensorflow/python/eager/context.py:1457\u001b[0m, in \u001b[0;36mContext.call_function\u001b[0;34m(self, name, tensor_inputs, num_outputs)\u001b[0m\n\u001b[1;32m   1455\u001b[0m cancellation_context \u001b[38;5;241m=\u001b[39m cancellation\u001b[38;5;241m.\u001b[39mcontext()\n\u001b[1;32m   1456\u001b[0m \u001b[38;5;28;01mif\u001b[39;00m cancellation_context \u001b[38;5;129;01mis\u001b[39;00m \u001b[38;5;28;01mNone\u001b[39;00m:\n\u001b[0;32m-> 1457\u001b[0m   outputs \u001b[38;5;241m=\u001b[39m \u001b[43mexecute\u001b[49m\u001b[38;5;241;43m.\u001b[39;49m\u001b[43mexecute\u001b[49m\u001b[43m(\u001b[49m\n\u001b[1;32m   1458\u001b[0m \u001b[43m      \u001b[49m\u001b[43mname\u001b[49m\u001b[38;5;241;43m.\u001b[39;49m\u001b[43mdecode\u001b[49m\u001b[43m(\u001b[49m\u001b[38;5;124;43m\"\u001b[39;49m\u001b[38;5;124;43mutf-8\u001b[39;49m\u001b[38;5;124;43m\"\u001b[39;49m\u001b[43m)\u001b[49m\u001b[43m,\u001b[49m\n\u001b[1;32m   1459\u001b[0m \u001b[43m      \u001b[49m\u001b[43mnum_outputs\u001b[49m\u001b[38;5;241;43m=\u001b[39;49m\u001b[43mnum_outputs\u001b[49m\u001b[43m,\u001b[49m\n\u001b[1;32m   1460\u001b[0m \u001b[43m      \u001b[49m\u001b[43minputs\u001b[49m\u001b[38;5;241;43m=\u001b[39;49m\u001b[43mtensor_inputs\u001b[49m\u001b[43m,\u001b[49m\n\u001b[1;32m   1461\u001b[0m \u001b[43m      \u001b[49m\u001b[43mattrs\u001b[49m\u001b[38;5;241;43m=\u001b[39;49m\u001b[43mattrs\u001b[49m\u001b[43m,\u001b[49m\n\u001b[1;32m   1462\u001b[0m \u001b[43m      \u001b[49m\u001b[43mctx\u001b[49m\u001b[38;5;241;43m=\u001b[39;49m\u001b[38;5;28;43mself\u001b[39;49m\u001b[43m,\u001b[49m\n\u001b[1;32m   1463\u001b[0m \u001b[43m  \u001b[49m\u001b[43m)\u001b[49m\n\u001b[1;32m   1464\u001b[0m \u001b[38;5;28;01melse\u001b[39;00m:\n\u001b[1;32m   1465\u001b[0m   outputs \u001b[38;5;241m=\u001b[39m execute\u001b[38;5;241m.\u001b[39mexecute_with_cancellation(\n\u001b[1;32m   1466\u001b[0m       name\u001b[38;5;241m.\u001b[39mdecode(\u001b[38;5;124m\"\u001b[39m\u001b[38;5;124mutf-8\u001b[39m\u001b[38;5;124m\"\u001b[39m),\n\u001b[1;32m   1467\u001b[0m       num_outputs\u001b[38;5;241m=\u001b[39mnum_outputs,\n\u001b[0;32m   (...)\u001b[0m\n\u001b[1;32m   1471\u001b[0m       cancellation_manager\u001b[38;5;241m=\u001b[39mcancellation_context,\n\u001b[1;32m   1472\u001b[0m   )\n",
      "File \u001b[0;32m~/anaconda3/envs/leaf/lib/python3.10/site-packages/tensorflow/python/eager/execute.py:53\u001b[0m, in \u001b[0;36mquick_execute\u001b[0;34m(op_name, num_outputs, inputs, attrs, ctx, name)\u001b[0m\n\u001b[1;32m     51\u001b[0m \u001b[38;5;28;01mtry\u001b[39;00m:\n\u001b[1;32m     52\u001b[0m   ctx\u001b[38;5;241m.\u001b[39mensure_initialized()\n\u001b[0;32m---> 53\u001b[0m   tensors \u001b[38;5;241m=\u001b[39m \u001b[43mpywrap_tfe\u001b[49m\u001b[38;5;241;43m.\u001b[39;49m\u001b[43mTFE_Py_Execute\u001b[49m\u001b[43m(\u001b[49m\u001b[43mctx\u001b[49m\u001b[38;5;241;43m.\u001b[39;49m\u001b[43m_handle\u001b[49m\u001b[43m,\u001b[49m\u001b[43m \u001b[49m\u001b[43mdevice_name\u001b[49m\u001b[43m,\u001b[49m\u001b[43m \u001b[49m\u001b[43mop_name\u001b[49m\u001b[43m,\u001b[49m\n\u001b[1;32m     54\u001b[0m \u001b[43m                                      \u001b[49m\u001b[43minputs\u001b[49m\u001b[43m,\u001b[49m\u001b[43m \u001b[49m\u001b[43mattrs\u001b[49m\u001b[43m,\u001b[49m\u001b[43m \u001b[49m\u001b[43mnum_outputs\u001b[49m\u001b[43m)\u001b[49m\n\u001b[1;32m     55\u001b[0m \u001b[38;5;28;01mexcept\u001b[39;00m core\u001b[38;5;241m.\u001b[39m_NotOkStatusException \u001b[38;5;28;01mas\u001b[39;00m e:\n\u001b[1;32m     56\u001b[0m   \u001b[38;5;28;01mif\u001b[39;00m name \u001b[38;5;129;01mis\u001b[39;00m \u001b[38;5;129;01mnot\u001b[39;00m \u001b[38;5;28;01mNone\u001b[39;00m:\n",
      "\u001b[0;31mKeyboardInterrupt\u001b[0m: "
     ]
    }
   ],
   "source": [
    "# Set up ESP service\n",
    "esp_username = os.getenv('ESP_SERVICE_USER')\n",
    "esp_password = os.getenv('ESP_SERVICE_PASSWORD')\n",
    "if not esp_username or not esp_password:\n",
    "    print('Please set environment variables before proceeding.')\n",
    "else:\n",
    "    print('ESP Service username and password found.')\n",
    "\n",
    "print(\"Running prescriptor training...\")\n",
    "config_path = Path(\"prescriptors/esp/unileaf_configs/config-loctime-crop-nosoft.json\")\n",
    "presc_config = None\n",
    "with open(config_path, \"r\") as f:\n",
    "    presc_config = json.load(f)\n",
    "    presc_config[\"LEAF\"][\"experiment_id\"] = \"test\"\n",
    "    presc_config[\"LEAF\"][\"version\"] = \"1.0\"\n",
    "\n",
    "eval_df_encoded = dataset.get_encoded_train().sample(frac=0.001, random_state=42)\n",
    "esp_service = EspService(presc_config, esp_username, esp_password)\n",
    "esp_evaluator = UnileafPrescriptor(presc_config,\n",
    "                                    eval_df_encoded,\n",
    "                                    dataset.encoder,\n",
    "                                    [nnp])\n",
    "experiment_results_dir = esp_service.train(esp_evaluator)"
   ]
  }
 ],
 "metadata": {
  "kernelspec": {
   "display_name": "leaf",
   "language": "python",
   "name": "python3"
  },
  "language_info": {
   "codemirror_mode": {
    "name": "ipython",
    "version": 3
   },
   "file_extension": ".py",
   "mimetype": "text/x-python",
   "name": "python",
   "nbconvert_exporter": "python",
   "pygments_lexer": "ipython3",
   "version": "3.10.11"
  }
 },
 "nbformat": 4,
 "nbformat_minor": 2
}
