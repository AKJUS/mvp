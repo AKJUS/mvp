{
 "cells": [
  {
   "cell_type": "markdown",
   "metadata": {},
   "source": [
    "# Predictor Experiments\n",
    "#### This notebook is to replicate the process used in [Discovering Effective Policies for Land-Use Planning](https://doi.org/10.48550/arXiv.2311.12304)"
   ]
  },
  {
   "cell_type": "code",
   "execution_count": 1,
   "metadata": {},
   "outputs": [],
   "source": [
    "from pathlib import Path\n",
    "\n",
    "import pandas as pd\n",
    "import numpy as np\n",
    "from tqdm import tqdm\n",
    "import matplotlib.pyplot as plt\n",
    "from matplotlib.colors import LinearSegmentedColormap\n",
    "import seaborn as sns\n",
    "\n",
    "from scipy.stats import ttest_1samp, ttest_ind\n",
    "from sklearn.metrics import mean_absolute_error\n",
    "\n",
    "from prsdk.persistence.serializers.neural_network_serializer import NeuralNetSerializer\n",
    "from prsdk.persistence.serializers.sklearn_serializer import SKLearnSerializer\n",
    "from prsdk.predictors.predictor import Predictor\n",
    "from prsdk.predictors.neural_network.neural_net_predictor import NeuralNetPredictor\n",
    "from prsdk.predictors.sklearn_predictors.linear_regression_predictor import LinearRegressionPredictor\n",
    "from prsdk.predictors.sklearn_predictors.random_forest_predictor import RandomForestPredictor\n",
    "\n",
    "from data.eluc_data import ELUCData\n",
    "from data import constants"
   ]
  },
  {
   "cell_type": "markdown",
   "metadata": {},
   "source": [
    "### Load Dataset"
   ]
  },
  {
   "cell_type": "code",
   "execution_count": 2,
   "metadata": {},
   "outputs": [],
   "source": [
    "dataset = ELUCData.from_hf()"
   ]
  },
  {
   "cell_type": "markdown",
   "metadata": {},
   "source": [
    "### Train Models"
   ]
  },
  {
   "cell_type": "markdown",
   "metadata": {},
   "source": [
    "#### Neural Network"
   ]
  },
  {
   "cell_type": "code",
   "execution_count": 3,
   "metadata": {},
   "outputs": [],
   "source": [
    "nn_config = {\n",
    "    \"features\": constants.NN_FEATS,\n",
    "    \"label\": \"ELUC\",\n",
    "    \"hidden_sizes\": [4096],\n",
    "    \"linear_skip\": True,\n",
    "    \"dropout\": 0,\n",
    "    \"device\": \"mps\",\n",
    "    \"epochs\": 3,\n",
    "    \"batch_size\": 2048,\n",
    "    \"train_pct\": 1,\n",
    "    \"step_lr_params\": {\"step_size\": 1, \"gamma\": 0.1},\n",
    "}\n",
    "nnp = NeuralNetPredictor(nn_config)\n",
    "nnp_serializer = NeuralNetSerializer()"
   ]
  },
  {
   "cell_type": "code",
   "execution_count": 5,
   "metadata": {},
   "outputs": [
    {
     "name": "stderr",
     "output_type": "stream",
     "text": [
      "100%|██████████| 19028/19028 [14:12<00:00, 22.32it/s]\n",
      "100%|██████████| 19028/19028 [14:17<00:00, 22.18it/s]\n",
      "100%|██████████| 19028/19028 [14:19<00:00, 22.14it/s]\n"
     ]
    }
   ],
   "source": [
    "# results = nnp.fit(dataset.train_df[nn_config[\"features\"]], dataset.train_df[nn_config[\"label\"]], verbose=True)\n",
    "# nnp_serializer.save(nnp, Path(\"predictors/neural_network/trained_models/test\"))"
   ]
  },
  {
   "cell_type": "code",
   "execution_count": 4,
   "metadata": {},
   "outputs": [
    {
     "name": "stdout",
     "output_type": "stream",
     "text": [
      "MAE Neural Net: 0.05021795257925987\n"
     ]
    }
   ],
   "source": [
    "nnp = nnp_serializer.load(Path(\"predictors/trained_models/danyoung--eluc-global-nn\"))\n",
    "print(f\"MAE Neural Net: {mean_absolute_error(dataset.test_df[nn_config['label']], nnp.predict(dataset.test_df[nn_config['features']]))}\")"
   ]
  },
  {
   "cell_type": "markdown",
   "metadata": {},
   "source": [
    "#### Linear Regression"
   ]
  },
  {
   "cell_type": "code",
   "execution_count": 4,
   "metadata": {},
   "outputs": [],
   "source": [
    "linreg_config = {\n",
    "    \"features\": constants.DIFF_LAND_USE_COLS,\n",
    "    \"n_jobs\": -1,\n",
    "}\n",
    "linreg = LinearRegressionPredictor(linreg_config)"
   ]
  },
  {
   "cell_type": "code",
   "execution_count": 6,
   "metadata": {},
   "outputs": [],
   "source": [
    "linreg.fit(dataset.train_df[constants.DIFF_LAND_USE_COLS], dataset.train_df[\"ELUC\"])\n",
    "sklearn_serializer = SKLearnSerializer()\n",
    "sklearn_serializer.save(linreg, Path(\"predictors/sklearn/trained_models/no_overlap_linreg\"))"
   ]
  },
  {
   "cell_type": "code",
   "execution_count": 7,
   "metadata": {},
   "outputs": [
    {
     "name": "stdout",
     "output_type": "stream",
     "text": [
      "MAE Linear Regression: 0.07429615408182144\n"
     ]
    }
   ],
   "source": [
    "linreg = sklearn_serializer.load(\"predictors/sklearn/trained_models/no_overlap_linreg\")\n",
    "print(f\"MAE Linear Regression: {mean_absolute_error(dataset.test_df['ELUC'], linreg.predict(dataset.test_df[constants.DIFF_LAND_USE_COLS]))}\")"
   ]
  },
  {
   "cell_type": "markdown",
   "metadata": {},
   "source": [
    "#### Random Forest"
   ]
  },
  {
   "cell_type": "code",
   "execution_count": 5,
   "metadata": {},
   "outputs": [],
   "source": [
    "forest_config = {\n",
    "    \"features\": constants.NN_FEATS,\n",
    "    \"n_jobs\": -1,\n",
    "    \"max_features\": \"sqrt\",\n",
    "    \"random_state\": 42,\n",
    "}\n",
    "forest = RandomForestPredictor(forest_config)"
   ]
  },
  {
   "cell_type": "code",
   "execution_count": 9,
   "metadata": {},
   "outputs": [],
   "source": [
    "forest_year = 1982\n",
    "forest.fit(dataset.train_df.loc[forest_year:][constants.NN_FEATS], dataset.train_df.loc[forest_year:][\"ELUC\"])\n",
    "sklearn_serializer.save(forest, \"predictors/sklearn/trained_models/no_overlap_rf\")"
   ]
  },
  {
   "cell_type": "code",
   "execution_count": 5,
   "metadata": {},
   "outputs": [
    {
     "name": "stdout",
     "output_type": "stream",
     "text": [
      "MAE Random Forest: 0.03978765055906081\n"
     ]
    }
   ],
   "source": [
    "forest = sklearn_serializer.load(\"predictors/sklearn/trained_models/no_overlap_rf\")\n",
    "print(f\"MAE Random Forest: {mean_absolute_error(dataset.test_df['ELUC'], forest.predict(dataset.test_df[constants.NN_FEATS]))}\")"
   ]
  },
  {
   "cell_type": "markdown",
   "metadata": {},
   "source": [
    "### Create Heatmaps"
   ]
  },
  {
   "cell_type": "code",
   "execution_count": 10,
   "metadata": {},
   "outputs": [],
   "source": [
    "def create_heatmap(model: Predictor, sample: pd.DataFrame, features=None, scale={}, title=None, save_path=None):\n",
    "    \"\"\"\n",
    "    Creates a 2d heatmap of the outcomes of the model on synthetic data.\n",
    "    The columns correspond to current land type and the rows are the land type converted to.\n",
    "    Synthetic data is created by using the non-land features of the sample and taking the cross\n",
    "    join between the artificial land use change from 0 to 1 of every type.\n",
    "    \"\"\"\n",
    "    dummy_data = []\n",
    "    for i in range(len(constants.LAND_USE_COLS)):\n",
    "        for j in range(len(constants.LAND_USE_COLS)):\n",
    "            row = [0 for _ in range(len(constants.LAND_USE_COLS) * 2)]\n",
    "            row[i] = 1.0\n",
    "            if i == j:\n",
    "                row[len(constants.LAND_USE_COLS) + j] = 0.0\n",
    "            else:\n",
    "                row[len(constants.LAND_USE_COLS) + j] = 1.0\n",
    "                row[len(constants.LAND_USE_COLS) + i] = -1.0\n",
    "            dummy_data.append(dict(zip(constants.LAND_USE_COLS + constants.DIFF_LAND_USE_COLS, row)))\n",
    "\n",
    "    dummy_df = pd.DataFrame(dummy_data)\n",
    "\n",
    "    # Gets sample of lat/lon/time/cell_area\n",
    "    non_land_df = sample[constants.NONLAND_FEATURES]\n",
    "    nn_input_df = dummy_df.merge(non_land_df, how=\"cross\")\n",
    "    if features:\n",
    "        nn_input_df = nn_input_df[features]\n",
    "    preds = model.predict(nn_input_df)\n",
    "    # Aggregate samples. Since pandas merge maintains left key order, we can just sum each group of len(samples)\n",
    "    # Thanks, ChatGPT!\n",
    "    chunks = np.split(preds, len(preds) // len(sample))\n",
    "    sums = np.sum(chunks, axis=1)\n",
    "    preds = sums / len(sample)\n",
    "\n",
    "    # Rearrange the heatmap data into 2D shape\n",
    "    heatmap_data = np.zeros((len(constants.LAND_USE_COLS), len(constants.LAND_USE_COLS)))\n",
    "    for i in range(len(preds)):\n",
    "        heatmap_data[i // len(constants.LAND_USE_COLS), i % len(constants.LAND_USE_COLS)] = preds[i]\n",
    "    \n",
    "    # Hide the ability to move land to primf/primn\n",
    "    idxs = [constants.LAND_USE_COLS.index(col) for col in constants.RECO_COLS]\n",
    "    non_idxs = [constants.LAND_USE_COLS.index(col) for col in constants.LAND_USE_COLS if (col not in constants.RECO_COLS)]\n",
    "    heatmap_data = heatmap_data[idxs + non_idxs,:]\n",
    "    heatmap_data = heatmap_data[:, idxs]\n",
    "\n",
    "    # Draw heatmap\n",
    "    colors = [\"darkgreen\", \"white\", \"red\"]\n",
    "    bins = 1000\n",
    "    cmap = LinearSegmentedColormap.from_list(\"custom_cmap\", colors, N=bins)\n",
    "    sorted_labels = np.array(constants.LAND_USE_COLS)[idxs + non_idxs]\n",
    "    ax = sns.heatmap(heatmap_data, center=0, cmap=cmap, xticklabels=constants.RECO_COLS, yticklabels=sorted_labels, **scale)\n",
    "    ax.invert_yaxis()\n",
    "    plt.xlabel(\"To\")\n",
    "    plt.ylabel(\"From\")\n",
    "    if title:\n",
    "        plt.title(title)\n",
    "    if save_path:\n",
    "        plt.savefig(save_path, format=\"png\", dpi=300)\n",
    "    plt.show()"
   ]
  },
  {
   "cell_type": "code",
   "execution_count": 16,
   "metadata": {},
   "outputs": [
    {
     "name": "stdout",
     "output_type": "stream",
     "text": [
      "Neural Net\n"
     ]
    },
    {
     "data": {
      "image/png": "[encoded data removed]",
      "text/plain": [
       "<Figure size 432x288 with 2 Axes>"
      ]
     },
     "metadata": {
      "needs_background": "light"
     },
     "output_type": "display_data"
    },
    {
     "name": "stdout",
     "output_type": "stream",
     "text": [
      "LinReg\n"
     ]
    },
    {
     "data": {
      "image/png": "[encoded data removed]",
      "text/plain": [
       "<Figure size 432x288 with 2 Axes>"
      ]
     },
     "metadata": {
      "needs_background": "light"
     },
     "output_type": "display_data"
    },
    {
     "name": "stdout",
     "output_type": "stream",
     "text": [
      "Random Forest\n"
     ]
    },
    {
     "data": {
      "image/png": "[encoded data removed]",
      "text/plain": [
       "<Figure size 432x288 with 2 Axes>"
      ]
     },
     "metadata": {
      "needs_background": "light"
     },
     "output_type": "display_data"
    }
   ],
   "source": [
    "sample = dataset.test_df.sample(frac=0.01, random_state=100)\n",
    "fig_dir = Path(\"experiments/figures/no-overlap\")\n",
    "print(\"Neural Net\")\n",
    "create_heatmap(nnp, sample, save_path=fig_dir / \"nn-heatmap.png\")\n",
    "print(\"LinReg\")\n",
    "create_heatmap(linreg, sample, save_path=fig_dir / \"lr-heatmap.png\")\n",
    "print(\"Random Forest\")\n",
    "create_heatmap(forest, sample, save_path=fig_dir / \"rf-heatmap.png\")"
   ]
  },
  {
   "cell_type": "markdown",
   "metadata": {},
   "source": [
    "### Statistical Significance\n",
    "The models were tested by training them multiple times via [predictor_significance.py](experiments/predictor_significance.py)"
   ]
  },
  {
   "cell_type": "markdown",
   "metadata": {},
   "source": [
    "#### Load Results and Perform T-Test"
   ]
  },
  {
   "cell_type": "code",
   "execution_count": 5,
   "metadata": {},
   "outputs": [],
   "source": [
    "significance_path = Path(\"experiments/predictor_significance/no_overlap_fixed\")"
   ]
  },
  {
   "cell_type": "code",
   "execution_count": 6,
   "metadata": {},
   "outputs": [],
   "source": [
    "linreg_results = pd.read_csv(significance_path / \"linear_regression_eval.csv\")\n",
    "forest_results = pd.read_csv(significance_path / \"random_forest_eval.csv\")\n",
    "nn_results = pd.read_csv(significance_path / \"neural_network_eval.csv\")"
   ]
  },
  {
   "cell_type": "code",
   "execution_count": 9,
   "metadata": {},
   "outputs": [
    {
     "name": "stdout",
     "output_type": "stream",
     "text": [
      "EU p-value forest < nn: 1.0\n",
      "SA p-value forest < nn: 1.601086174014152e-93\n",
      "US p-value forest < nn: 1.0\n",
      "ALL p-value forest < nn: 2.01460753545334e-33\n"
     ]
    }
   ],
   "source": [
    "for region in constants.COUNTRY_DICT.keys():\n",
    "    lr_region_results = linreg_results[linreg_results[\"train\"] == region][region]\n",
    "    forest_region_results = forest_results[forest_results[\"train\"] == region][region]\n",
    "    nn_region_results = nn_results[nn_results[\"train\"] == region][region]\n",
    "    print(f\"{region} p-value forest < nn: {ttest_ind(forest_region_results, nn_region_results, alternative='less').pvalue}\")"
   ]
  },
  {
   "cell_type": "markdown",
   "metadata": {},
   "source": [
    "#### Create Table for Latex Paper\n",
    "Creates a significance table comparing the different models trained on each region and then evaluated on each region."
   ]
  },
  {
   "cell_type": "code",
   "execution_count": 14,
   "metadata": {},
   "outputs": [],
   "source": [
    "def table_results(self_name, self_results, other_results, linreg_results):\n",
    "    \"\"\"\n",
    "    Generates results table for the overleaf paper.\n",
    "    Takes in one model's results and comparison model's results as well as linreg results.\n",
    "    Checks if self model is better than linreg and if self model is better than other model.\n",
    "    Prints by region.\n",
    "    \"\"\"\n",
    "    for region in constants.COUNTRY_DICT.keys():\n",
    "        region_results = self_results[self_results[\"train\"] == region]\n",
    "        row = f\"{self_name} ({region if region != 'ALL' else 'Global'}) & {region_results['time'].mean():.3f}\"\n",
    "\n",
    "        for eval_region in constants.COUNTRY_DICT.keys():\n",
    "            # Other model significance test\n",
    "            region_maes = region_results[eval_region]\n",
    "            other_maes = other_results[other_results[\"train\"] == region][eval_region]\n",
    "            other_pval = ttest_ind(region_maes, other_maes, alternative=\"less\").pvalue\n",
    "\n",
    "            # Linreg significance test\n",
    "            # We only need 1 sample from linreg because it's deterministic\n",
    "            linreg_mae = linreg_results[linreg_results[\"train\"] == region][eval_region].iloc[0]\n",
    "            linreg_pval = ttest_1samp(region_maes, linreg_mae, alternative=\"less\").pvalue\n",
    "\n",
    "            # Best method bolding\n",
    "            bold = False\n",
    "            if region == eval_region and region_maes.mean() < other_maes.mean():\n",
    "                bold = True\n",
    "\n",
    "            row += f\" & ${region_maes.mean():.3f}\" if not bold else f\" & $\\\\textbf{{{region_maes.mean():.3f}}}\"\n",
    "            if linreg_pval <= 0.01 or other_pval <= 0.01:\n",
    "                row += \"^{\"\n",
    "                if linreg_pval <= 0.01:\n",
    "                    row += \"*\"\n",
    "                if other_pval <= 0.01:\n",
    "                    row += \"\\\\dag\"\n",
    "                row += \"}\"\n",
    "            row += \"$\"\n",
    "        row += \"\\\\\\\\\"\n",
    "        print(row)\n",
    "    print(\"\\\\hline\")\n",
    "\n",
    "def generate_table(linreg_results, forest_results, nn_results):\n",
    "    \"\"\"\n",
    "    Prints LinReg results, then generates table for RF compared to LinReg and NN, then generates table for\n",
    "    NN compared to LinReg and RF.\n",
    "    \"\"\"\n",
    "    # Linreg\n",
    "    for region in constants.COUNTRY_DICT.keys():\n",
    "        region_results = linreg_results[linreg_results[\"train\"] == region]\n",
    "        row = f\"LinReg ({region if region != 'ALL' else 'Global'}) & {region_results.iloc[0]['time']:.3f}\"\n",
    "        for eval_region in constants.COUNTRY_DICT.keys():\n",
    "            row += f\" & {region_results[eval_region].iloc[0]:.3f}\"\n",
    "        row += \"\\\\\\\\\"\n",
    "        print(row)\n",
    "    print(\"\\\\hline\")\n",
    "    # Forest\n",
    "    table_results(\"RF\", forest_results, nn_results, linreg_results)\n",
    "\n",
    "    # NN\n",
    "    table_results(\"NeuralNet\", nn_results, forest_results, linreg_results)"
   ]
  },
  {
   "cell_type": "code",
   "execution_count": 15,
   "metadata": {},
   "outputs": [
    {
     "name": "stdout",
     "output_type": "stream",
     "text": [
      "LinReg (EU) & 0.047 & 0.033 & 0.172 & 0.169 & 0.206\\\\\n",
      "LinReg (SA) & 0.457 & 0.137 & 0.153 & 0.061 & 0.110\\\\\n",
      "LinReg (US) & 0.331 & 0.139 & 0.146 & 0.035 & 0.073\\\\\n",
      "LinReg (Global) & 4.644 & 0.139 & 0.150 & 0.035 & 0.074\\\\\n",
      "\\hline\n",
      "RF (EU) & 17.697 & $0.064$ & $0.211^{\\dag}$ & $0.161^{\\dag}$ & $0.218^{\\dag}$\\\\\n",
      "RF (SA) & 209.688 & $0.133^{*\\dag}$ & $\\textbf{0.071}^{*\\dag}$ & $0.074^{\\dag}$ & $0.126^{\\dag}$\\\\\n",
      "RF (US) & 111.701 & $0.163$ & $0.185^{\\dag}$ & $0.032^{*}$ & $0.094^{\\dag}$\\\\\n",
      "RF (Global) & 417.647 & $0.041^{*\\dag}$ & $0.076^{*\\dag}$ & $0.028^{*}$ & $\\textbf{0.045}^{*\\dag}$\\\\\n",
      "\\hline\n",
      "NeuralNet (EU) & 10.711 & $\\textbf{0.025}^{*\\dag}$ & $0.277$ & $0.286$ & $0.334$\\\\\n",
      "NeuralNet (SA) & 103.696 & $0.248$ & $0.100^{*}$ & $0.562$ & $0.399$\\\\\n",
      "NeuralNet (US) & 73.141 & $0.136^{\\dag}$ & $0.225$ & $\\textbf{0.024}^{*\\dag}$ & $0.150$\\\\\n",
      "NeuralNet (Global) & 1649.193 & $0.046^{*}$ & $0.110^{*}$ & $0.025^{*\\dag}$ & $0.050^{*}$\\\\\n",
      "\\hline\n"
     ]
    }
   ],
   "source": [
    "generate_table(linreg_results, forest_results, nn_results)"
   ]
  },
  {
   "cell_type": "markdown",
   "metadata": {},
   "source": [
    "### Determine Significance of Lat/Lon"
   ]
  },
  {
   "cell_type": "code",
   "execution_count": 76,
   "metadata": {},
   "outputs": [],
   "source": [
    "# Get random samples from the test dataset\n",
    "from collections import defaultdict\n",
    "\n",
    "def signif_latlon(lat_zone=(-23.5, 23.5), n=100, real_eluc=False, lat=\"lat\", average=False, title=None):\n",
    "    \"\"\"\n",
    "    Determines the significance of latitude on ELUC.\n",
    "    We take a random sample of n points from the tropic of capricon and compare the ELUC of the same land change applied\n",
    "    in every possible latitude.\n",
    "    real_eluc: compares to the true ELUC value if True, otherwise compares to the NN predicted ELUC.\n",
    "    lat: the column to use for latitude. A hack so we can also compare longitude\n",
    "    \"\"\"\n",
    "    lon = \"lon\" if lat == \"lat\" else \"lat\"\n",
    "    test_df = dataset.test_df\n",
    "    test_df = test_df[test_df[\"time\"] == 2020]\n",
    "    # lats = test_df[lat].unique()\n",
    "\n",
    "    capricorn_df = test_df[(test_df[lat] >= lat_zone[0]) & (test_df[lat] <= lat_zone[1])]\n",
    "    if n > 0:\n",
    "        capricorn_df = capricorn_df.sample(n, random_state=42)\n",
    "\n",
    "    # Dict of lat diff -> eluc diff\n",
    "    all_eluc_diffs = defaultdict(list)\n",
    "    for idx, row in capricorn_df.iterrows():\n",
    "        capricorn_lat = row[lat]\n",
    "        \n",
    "        # Compare to real ELUC or NN predicted ELUC\n",
    "        if real_eluc:\n",
    "            capricorn_eluc = row[\"ELUC\"]\n",
    "        else:\n",
    "            capricorn_eluc = nnp.predict(pd.DataFrame([row])[constants.NN_FEATS])[\"ELUC\"].iloc[0]\n",
    "\n",
    "        lats = test_df[test_df[lon] == row[lon]][lat].unique()\n",
    "        lat_df = pd.DataFrame([row] * len(lats)).reset_index(drop=True)\n",
    "        lat_df[lat] = lats\n",
    "\n",
    "        elucs = nnp.predict(lat_df[constants.NN_FEATS])\n",
    "\n",
    "        eluc_diffs = np.array(elucs - capricorn_eluc)\n",
    "        lat_diffs = np.array(lats - capricorn_lat)\n",
    "\n",
    "        idxs = np.argsort(lat_diffs)\n",
    "        lat_diffs = lat_diffs[idxs]\n",
    "        eluc_diffs = eluc_diffs[idxs]\n",
    "\n",
    "        if average:\n",
    "            for lat_diff, eluc_diff in zip(lat_diffs, eluc_diffs):\n",
    "                all_eluc_diffs[lat_diff].append(eluc_diff)\n",
    "\n",
    "        if not average:\n",
    "            plt.scatter(lat_diffs, eluc_diffs, s=5)\n",
    "\n",
    "    if average:\n",
    "        lat_diffs = np.array(list(all_eluc_diffs.keys()))\n",
    "        eluc_diffs = list(all_eluc_diffs.values())\n",
    "        eluc_diffs = np.array([np.median(eluc_diff) for eluc_diff in eluc_diffs])\n",
    "        idxs = np.argsort(lat_diffs)\n",
    "        lat_diffs = lat_diffs[idxs]\n",
    "        eluc_diffs = eluc_diffs[idxs]\n",
    "        plt.scatter(lat_diffs, eluc_diffs, s=5)\n",
    "\n",
    "    plt.axhline(0, linestyle=\"--\", color=\"black\")\n",
    "    if not title:\n",
    "        title = \"ELUC of same land change, different latitude\"\n",
    "    plt.title(title)\n",
    "    if lat == \"lat\":\n",
    "        plt.xlabel(\"Latitude difference\")\n",
    "    elif lat == \"lon\":\n",
    "        plt.xlabel(\"Longitude difference\")\n",
    "    plt.ylabel(\"ELUC difference\")\n",
    "    plt.show()"
   ]
  },
  {
   "cell_type": "code",
   "execution_count": 77,
   "metadata": {},
   "outputs": [
    {
     "data": {
      "image/png": "[encoded data removed]",
      "text/plain": [
       "<Figure size 432x288 with 1 Axes>"
      ]
     },
     "metadata": {
      "needs_background": "light"
     },
     "output_type": "display_data"
    }
   ],
   "source": [
    "signif_latlon()\n",
    "# signif_latlon(real_eluc=True, title=\"Comparison with real ELUC\")\n",
    "\n",
    "# signif_latlon(average=True)\n",
    "\n",
    "# all_lat_zone = (-1000, 1000)\n",
    "# signif_latlon(n=1000, lat_zone=all_lat_zone, title=\"Global sample\")\n",
    "\n",
    "# africa_lons = (-166, -30)\n",
    "# signif_latlon(n=100, lat=\"lon\", lat_zone=africa_lons, title=\"Longitude comparison\")\n",
    "# signif_latlon(n=100, lat=\"lon\", lat_zone=africa_lons, real_eluc=True, title=\"Longitude comparison real ELUC\")\n",
    "# signif_latlon(n=100, lat=\"lon\", lat_zone=africa_lons, average=True, title=\"Longitude comparison average\")"
   ]
  }
 ],
 "metadata": {
  "kernelspec": {
   "display_name": "leaf",
   "language": "python",
   "name": "python3"
  },
  "language_info": {
   "codemirror_mode": {
    "name": "ipython",
    "version": 3
   },
   "file_extension": ".py",
   "mimetype": "text/x-python",
   "name": "python",
   "nbconvert_exporter": "python",
   "pygments_lexer": "ipython3",
   "version": "3.10.11"
  }
 },
 "nbformat": 4,
 "nbformat_minor": 2
}
