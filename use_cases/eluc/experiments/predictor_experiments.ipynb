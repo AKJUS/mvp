{
 "cells": [
  {
   "cell_type": "markdown",
   "metadata": {},
   "source": [
    "# Predictor Experiments\n",
    "#### This notebook is to replicate the process used in [Discovering Effective Policies for Land-Use Planning](https://doi.org/10.48550/arXiv.2311.12304)"
   ]
  },
  {
   "cell_type": "code",
   "execution_count": 1,
   "metadata": {},
   "outputs": [],
   "source": [
    "import time\n",
    "from pathlib import Path\n",
    "\n",
    "import pandas as pd\n",
    "import numpy as np\n",
    "from tqdm import tqdm\n",
    "import matplotlib.pyplot as plt\n",
    "from matplotlib.colors import LinearSegmentedColormap\n",
    "import seaborn as sns\n",
    "\n",
    "from scipy.stats import ttest_1samp, ttest_ind\n",
    "from sklearn.metrics import mean_absolute_error\n",
    "\n",
    "from data.eluc_data import ELUCData\n",
    "from data import constants\n",
    "from predictors.predictor import Predictor\n",
    "from predictors.neural_network.neural_net_predictor import NeuralNetPredictor\n",
    "from predictors.sklearn.sklearn_predictor import LinearRegressionPredictor, RandomForestPredictor"
   ]
  },
  {
   "cell_type": "markdown",
   "metadata": {},
   "source": [
    "### Load Dataset"
   ]
  },
  {
   "cell_type": "code",
   "execution_count": 2,
   "metadata": {},
   "outputs": [],
   "source": [
    "dataset = ELUCData()"
   ]
  },
  {
   "cell_type": "markdown",
   "metadata": {},
   "source": [
    "### Train Models"
   ]
  },
  {
   "cell_type": "markdown",
   "metadata": {},
   "source": [
    "#### Neural Network"
   ]
  },
  {
   "cell_type": "code",
   "execution_count": 9,
   "metadata": {},
   "outputs": [],
   "source": [
    "nn_config = {\n",
    "    \"features\": constants.NN_FEATS,\n",
    "    \"label\": \"ELUC\",\n",
    "    \"hidden_sizes\": [4096],\n",
    "    \"linear_skip\": True,\n",
    "    \"dropout\": 0,\n",
    "    \"device\": \"mps\",\n",
    "    \"epochs\": 3,\n",
    "    \"batch_size\": 2048,\n",
    "    \"train_pct\": 1,\n",
    "    \"step_lr_params\": {\"step_size\": 1, \"gamma\": 0.1},\n",
    "}\n",
    "nnp = NeuralNetPredictor(nn_config)"
   ]
  },
  {
   "cell_type": "code",
   "execution_count": null,
   "metadata": {},
   "outputs": [],
   "source": [
    "results = nnp.fit(dataset.train_df[nn_config[\"features\"]], dataset.train_df[nn_config[\"label\"]], verbose=True)\n",
    "nnp.save(\"predictors/neural_network/trained_models/test\")"
   ]
  },
  {
   "cell_type": "code",
   "execution_count": 10,
   "metadata": {},
   "outputs": [
    {
     "name": "stdout",
     "output_type": "stream",
     "text": [
      "MAE Neural Net: 0.04711493104696274\n"
     ]
    }
   ],
   "source": [
    "nnp = NeuralNetPredictor.load(\"predictors/neural_network/trained_models/experiment_nn\")\n",
    "print(f\"MAE Neural Net: {mean_absolute_error(dataset.test_df[nn_config['label']], nnp.predict(dataset.test_df[nn_config['features']]))}\")"
   ]
  },
  {
   "cell_type": "markdown",
   "metadata": {},
   "source": [
    "#### Linear Regression"
   ]
  },
  {
   "cell_type": "code",
   "execution_count": 12,
   "metadata": {},
   "outputs": [],
   "source": [
    "linreg_config = {\n",
    "    \"features\": constants.DIFF_LAND_USE_COLS,\n",
    "    \"n_jobs\": -1,\n",
    "}\n",
    "linreg = LinearRegressionPredictor(linreg_config)"
   ]
  },
  {
   "cell_type": "code",
   "execution_count": null,
   "metadata": {},
   "outputs": [],
   "source": [
    "linreg.fit(dataset.train_df[constants.DIFF_LAND_USE_COLS], dataset.train_df[\"ELUC\"])\n",
    "linreg.save(\"predictors/sklearn/trained_models/experiment_linreg\")"
   ]
  },
  {
   "cell_type": "code",
   "execution_count": 13,
   "metadata": {},
   "outputs": [
    {
     "name": "stdout",
     "output_type": "stream",
     "text": [
      "MAE Linear Regression: 0.07567060738801956\n"
     ]
    }
   ],
   "source": [
    "linreg = LinearRegressionPredictor.load(\"predictors/sklearn/trained_models/experiment_linreg\")\n",
    "print(f\"MAE Linear Regression: {mean_absolute_error(dataset.test_df['ELUC'], linreg.predict(dataset.test_df[constants.DIFF_LAND_USE_COLS]))}\")"
   ]
  },
  {
   "cell_type": "markdown",
   "metadata": {},
   "source": [
    "#### Random Forest"
   ]
  },
  {
   "cell_type": "code",
   "execution_count": 3,
   "metadata": {},
   "outputs": [],
   "source": [
    "forest_config = {\n",
    "    \"features\": constants.NN_FEATS,\n",
    "    \"n_jobs\": -1,\n",
    "    \"max_features\": \"sqrt\",\n",
    "    \"random_state\": 42\n",
    "}\n",
    "forest = RandomForestPredictor(forest_config)"
   ]
  },
  {
   "cell_type": "code",
   "execution_count": 4,
   "metadata": {},
   "outputs": [],
   "source": [
    "# Note: The original paper trains from 1982 onwards but this is too slow and large for the\n",
    "# purpose of this example.\n",
    "forest.fit(dataset.train_df.loc[2002:][constants.NN_FEATS], dataset.train_df.loc[2002:][\"ELUC\"])\n",
    "forest.save(\"predictors/sklearn/trained_models/experiment_rf\")"
   ]
  },
  {
   "cell_type": "code",
   "execution_count": 5,
   "metadata": {},
   "outputs": [
    {
     "name": "stdout",
     "output_type": "stream",
     "text": [
      "MAE Random Forest: 0.037707034150731636\n"
     ]
    }
   ],
   "source": [
    "forest = RandomForestPredictor.load(\"predictors/sklearn/trained_models/experiment_rf\")\n",
    "print(f\"MAE Random Forest: {mean_absolute_error(dataset.test_df['ELUC'], forest.predict(dataset.test_df[constants.NN_FEATS]))}\")"
   ]
  },
  {
   "cell_type": "markdown",
   "metadata": {},
   "source": [
    "### Create Heatmaps"
   ]
  },
  {
   "cell_type": "code",
   "execution_count": 7,
   "metadata": {},
   "outputs": [],
   "source": [
    "def create_heatmap(model: Predictor, sample: pd.DataFrame, features=None, scale={}, title=None, save_path=None):\n",
    "    \"\"\"\n",
    "    Creates a 2d heatmap of the outcomes of the model on synthetic data.\n",
    "    The columns correspond to current land type and the rows are the land type converted to.\n",
    "    Synthetic data is created by using the non-land features of the sample and taking the cross\n",
    "    join between the artificial land use change from 0 to 1 of every type.\n",
    "    \"\"\"\n",
    "    dummy_data = []\n",
    "    for i in range(len(constants.LAND_USE_COLS)):\n",
    "        for j in range(len(constants.LAND_USE_COLS)):\n",
    "            row = [0 for _ in range(len(constants.LAND_USE_COLS) * 2)]\n",
    "            row[i] = 1.0\n",
    "            if i == j:\n",
    "                row[len(constants.LAND_USE_COLS) + j] = 0.0\n",
    "            else:\n",
    "                row[len(constants.LAND_USE_COLS) + j] = 1.0\n",
    "                row[len(constants.LAND_USE_COLS) + i] = -1.0\n",
    "            dummy_data.append(dict(zip(constants.LAND_USE_COLS + constants.DIFF_LAND_USE_COLS, row)))\n",
    "\n",
    "    dummy_df = pd.DataFrame(dummy_data)\n",
    "\n",
    "    # Gets sample of lat/lon/time/cell_area\n",
    "    non_land_df = sample[constants.NONLAND_FEATURES]\n",
    "    nn_input_df = dummy_df.merge(non_land_df, how=\"cross\")\n",
    "    if features:\n",
    "        nn_input_df = nn_input_df[features]\n",
    "    preds = model.predict(nn_input_df)\n",
    "    # Aggregate samples. Since pandas merge maintains left key order, we can just sum each group of len(samples)\n",
    "    # Thanks, ChatGPT!\n",
    "    chunks = np.split(preds, len(preds) // len(sample))\n",
    "    sums = np.sum(chunks, axis=1)\n",
    "    preds = sums / len(sample)\n",
    "\n",
    "    # Rearrange the heatmap data into 2D shape\n",
    "    heatmap_data = np.zeros((len(constants.LAND_USE_COLS), len(constants.LAND_USE_COLS)))\n",
    "    for i in range(len(preds)):\n",
    "        heatmap_data[i // len(constants.LAND_USE_COLS), i % len(constants.LAND_USE_COLS)] = preds[i]\n",
    "    \n",
    "    # Hide the ability to move land to primf/primn\n",
    "    idxs = [constants.LAND_USE_COLS.index(col) for col in constants.RECO_COLS]\n",
    "    non_idxs = [constants.LAND_USE_COLS.index(col) for col in constants.LAND_USE_COLS if (col not in constants.RECO_COLS)]\n",
    "    heatmap_data = heatmap_data[idxs + non_idxs,:]\n",
    "    heatmap_data = heatmap_data[:, idxs]\n",
    "\n",
    "    # Draw heatmap\n",
    "    colors = [\"darkgreen\", \"white\", \"red\"]\n",
    "    bins = 1000\n",
    "    cmap = LinearSegmentedColormap.from_list(\"custom_cmap\", colors, N=bins)\n",
    "    sorted_labels = np.array(constants.LAND_USE_COLS)[idxs + non_idxs]\n",
    "    ax = sns.heatmap(heatmap_data, center=0, cmap=cmap, xticklabels=constants.RECO_COLS, yticklabels=sorted_labels, **scale)\n",
    "    ax.invert_yaxis()\n",
    "    plt.xlabel(\"To\")\n",
    "    plt.ylabel(\"From\")\n",
    "    if title:\n",
    "        plt.title(title)\n",
    "    if save_path:\n",
    "        plt.savefig(save_path, format=\"png\", dpi=300)\n",
    "    plt.show()"
   ]
  },
  {
   "cell_type": "code",
   "execution_count": 14,
   "metadata": {},
   "outputs": [
    {
     "data": {
      "image/png": "[encoded data removed]",
      "text/plain": [
       "<Figure size 432x288 with 2 Axes>"
      ]
     },
     "metadata": {
      "needs_background": "light"
     },
     "output_type": "display_data"
    },
    {
     "data": {
      "image/png": "[encoded data removed]",
      "text/plain": [
       "<Figure size 432x288 with 2 Axes>"
      ]
     },
     "metadata": {
      "needs_background": "light"
     },
     "output_type": "display_data"
    },
    {
     "data": {
      "image/png": "[encoded data removed]",
      "text/plain": [
       "<Figure size 432x288 with 2 Axes>"
      ]
     },
     "metadata": {
      "needs_background": "light"
     },
     "output_type": "display_data"
    }
   ],
   "source": [
    "sample = dataset.test_df.sample(frac=0.01, random_state=100)\n",
    "create_heatmap(nnp, sample, title=\"Neural Net\")\n",
    "create_heatmap(linreg, sample, title=\"Linear Regression\")\n",
    "create_heatmap(forest, sample, title=\"Random Forest\")"
   ]
  },
  {
   "cell_type": "markdown",
   "metadata": {},
   "source": [
    "### Statistical Significance\n",
    "The models were tested by training them multiple times and comparing the samples using a t-test."
   ]
  },
  {
   "cell_type": "code",
   "execution_count": null,
   "metadata": {},
   "outputs": [],
   "source": [
    "def train_and_test(n, model_constructor, config, train_df, test_df, save_path, override_start_year=None):\n",
    "    \"\"\"\n",
    "    Trains a model n times on each region and evaluates each model on each region.\n",
    "    :param n: Number of times to train each model on each region.\n",
    "    :param model_constructor: A function that returns a model.\n",
    "    :param config: A dictionary of configuration parameters for each model type.\n",
    "    :param train_df: The training data.\n",
    "    :param test_df: The testing data.\n",
    "    :param save_path: The path to save the results.\n",
    "    :param override_start_year: If not None, overrides the start year of the test data on the ALL region.\n",
    "        (This is currently only used for the random forest)\n",
    "    \"\"\"\n",
    "    save_dir = Path(save_path).parent\n",
    "    save_dir.mkdir(parents=True, exist_ok=True)\n",
    "    if not Path(save_path).exists():\n",
    "        with open(save_path, \"w\") as f:\n",
    "            f.write(\"region,eval,mae,time\\n\")\n",
    "    with open(save_path, \"a\") as f:\n",
    "        # Iterate over all regions\n",
    "        for train_region in constants.COUNTRY_DICT.keys():\n",
    "            print(train_region)\n",
    "            if train_region != \"ALL\":\n",
    "                countries = constants.COUNTRY_DICT[train_region]\n",
    "                idx = constants.COUNTRIES_DF[constants.COUNTRIES_DF[\"abbrevs\"].isin(countries)].index.values\n",
    "                train_region_df = train_df[train_df[\"country\"].isin(idx)]\n",
    "            else:\n",
    "                train_region_df = train_df\n",
    "            \n",
    "            # n times for each region\n",
    "            for i in tqdm(range(n)):\n",
    "                model = model_constructor(**config)\n",
    "                s = time.time()\n",
    "                _ = model.fit(train_region_df, **config)\n",
    "                e = time.time()\n",
    "                # Evaluate on each region\n",
    "                for test_region in constants.COUNTRY_DICT.keys():\n",
    "                    if test_region != \"ALL\":\n",
    "                        countries = constants.COUNTRY_DICT[test_region]\n",
    "                        idx = constants.COUNTRIES_DF[constants.COUNTRIES_DF[\"abbrevs\"].isin(countries)].index.values\n",
    "                        test_region_df = test_df[test_df[\"country\"].isin(idx)]\n",
    "                    else:\n",
    "                        test_region_df = test_df\n",
    "                        if override_start_year:\n",
    "                            test_region_df = test_region_df.loc[override_start_year:]\n",
    "                    \n",
    "                    mae = mean_absolute_error(model.predict(test_region_df), test_region_df[\"ELUC\"])\n",
    "                    f.write(f\"{train_region},{test_region},{mae},{e - s}\\n\")"
   ]
  },
  {
   "cell_type": "markdown",
   "metadata": {},
   "source": [
    "Generate results:"
   ]
  },
  {
   "cell_type": "code",
   "execution_count": null,
   "metadata": {},
   "outputs": [],
   "source": [
    "model_constructors = [NeuralNetPredictor, LinearRegressionPredictor, RandomForestPredictor]\n",
    "configs = [nn_config, linreg_config, forest_config]\n",
    "model_names = [\"neural_network\", \"linear_regression\", \"random_forest\"]\n",
    "for model_constructor, config, model_name in zip(model_constructors, configs, model_names):\n",
    "    override_start_year = None\n",
    "    if model_name == \"random_forest\":\n",
    "        override_start_year = 2002\n",
    "    train_and_test(30, model_constructor, config, dataset.train_df, dataset.test_df, f\"experiments/predictor_significance/{model_name}_eval.csv\", override_start_year=override_start_year)"
   ]
  },
  {
   "cell_type": "markdown",
   "metadata": {},
   "source": [
    "#### Load Results and Perform T-Test"
   ]
  },
  {
   "cell_type": "code",
   "execution_count": 15,
   "metadata": {},
   "outputs": [],
   "source": [
    "linreg_results = pd.read_csv(\"experiments/predictor/significance/linear_regression_eval.csv\")\n",
    "nn_results = pd.read_csv(\"experiments/predictor/significance/neural_network_eval.csv\")\n",
    "forest_results = pd.read_csv(\"experiments/predictor_significance/random_forest_eval.csv\")"
   ]
  },
  {
   "cell_type": "code",
   "execution_count": 18,
   "metadata": {},
   "outputs": [
    {
     "name": "stdout",
     "output_type": "stream",
     "text": [
      "EU p-value forest < nn: 1.0\n",
      "SA p-value forest < nn: 4.081372920256761e-96\n",
      "US p-value forest < nn: 8.865504240014044e-41\n",
      "ALL p-value forest < nn: 5.399007032681815e-49\n"
     ]
    }
   ],
   "source": [
    "for region in constants.COUNTRY_DICT.keys():\n",
    "    lr_region_results = linreg_results[(linreg_results[\"region\"] == region) & (linreg_results[\"eval\"] == region)] \n",
    "    region_results = forest_results[(forest_results[\"region\"] == region) & (forest_results[\"eval\"] == region)]\n",
    "    other_results = nn_results[(nn_results[\"region\"] == region) & (nn_results[\"eval\"] == region)]\n",
    "    print(f\"{region} p-value forest < nn: {ttest_ind(region_results['mae'], other_results['mae'], alternative='less').pvalue}\")"
   ]
  },
  {
   "cell_type": "markdown",
   "metadata": {},
   "source": [
    "#### Create Table for Latex Paper\n",
    "Creates a significance table comparing the different models trained on each region and then evaluated on each region."
   ]
  },
  {
   "cell_type": "code",
   "execution_count": 19,
   "metadata": {},
   "outputs": [],
   "source": [
    "def table_results(self_name, self_results, other_results, linreg_results):\n",
    "    \"\"\"\n",
    "    Generates results table for the overleaf paper.\n",
    "    Takes in one model's results and comparison model's results as well as linreg results.\n",
    "    Checks if self model is better than linreg and if self model is better than other model.\n",
    "    Prints by region.\n",
    "    \"\"\"\n",
    "    for region in constants.COUNTRY_DICT.keys():\n",
    "        region_results = self_results[self_results[\"region\"] == region]\n",
    "        row = f\"{self_name} ({region if region != 'ALL' else 'Global'}) & {region_results['time'].mean():.4f}\"\n",
    "\n",
    "        for eval_region in constants.COUNTRY_DICT.keys():\n",
    "            # Other model significance test\n",
    "            region_maes = region_results[region_results['eval'] == eval_region]['mae']\n",
    "            other_maes = other_results[(other_results[\"region\"] == region) & (other_results[\"eval\"] == eval_region)][\"mae\"]\n",
    "            other_pval = ttest_ind(region_maes, other_maes, alternative=\"less\").pvalue\n",
    "\n",
    "            # Linreg significance test\n",
    "            linreg_mae = linreg_results[(linreg_results[\"region\"] == region) & (linreg_results[\"eval\"] == eval_region)].iloc[0][\"mae\"]\n",
    "            linreg_pval = ttest_1samp(region_maes, linreg_mae, alternative=\"less\").pvalue\n",
    "\n",
    "            # Best method bolding\n",
    "            bold = False\n",
    "            if region == eval_region and region_maes.mean() < other_maes.mean():\n",
    "                bold = True\n",
    "\n",
    "            row += f\" & ${region_maes.mean():.4f}\" if not bold else f\" & $\\\\textbf{{{region_maes.mean():.4f}}}\"\n",
    "            if linreg_pval <= 0.01 or other_pval <= 0.01:\n",
    "                row += \"^{\"\n",
    "                if linreg_pval <= 0.01:\n",
    "                    row += \"*\"\n",
    "                if other_pval <= 0.01:\n",
    "                    row += \"\\\\dag\"\n",
    "                row += \"}\"\n",
    "            row += \"$\"\n",
    "        row += \"\\\\\\\\\"\n",
    "        print(row)\n",
    "    print(\"\\\\hline\")\n",
    "\n",
    "def generate_table(linreg_results, forest_results, nn_results):\n",
    "    \"\"\"\n",
    "    Prints LinReg results, then generates table for RF compared to LinReg and NN, then generates table for\n",
    "    NN compared to LinReg and RF.\n",
    "    \"\"\"\n",
    "    # Linreg\n",
    "    for region in constants.COUNTRY_DICT.keys():\n",
    "        region_results = linreg_results[linreg_results[\"region\"] == region]\n",
    "        row = f\"LinReg ({region if region != 'ALL' else 'Global'}) & {region_results.iloc[0]['time']:.4f}\"\n",
    "        for eval_region in constants.COUNTRY_DICT.keys():\n",
    "            row += f\" & {region_results[region_results['eval'] == eval_region].iloc[0]['mae']:.4f}\"\n",
    "        row += \"\\\\\\\\\"\n",
    "        print(row)\n",
    "    print(\"\\\\hline\")\n",
    "    # Forest\n",
    "    table_results(\"RF\", forest_results, nn_results, linreg_results)\n",
    "\n",
    "    # NN\n",
    "    table_results(\"NeuralNet\", nn_results, forest_results, linreg_results)"
   ]
  },
  {
   "cell_type": "code",
   "execution_count": 20,
   "metadata": {},
   "outputs": [
    {
     "name": "stdout",
     "output_type": "stream",
     "text": [
      "LinReg (EU) & 0.0847 & 0.0333 & 0.1712 & 0.1689 & 0.2061\\\\\n",
      "LinReg (SA) & 0.5705 & 0.1360 & 0.1534 & 0.0623 & 0.1109\\\\\n",
      "LinReg (US) & 0.3427 & 0.1399 & 0.1456 & 0.0351 & 0.0726\\\\\n",
      "LinReg (Global) & 6.8722 & 0.1376 & 0.1503 & 0.0361 & 0.0742\\\\\n",
      "\\hline\n",
      "RF (EU) & 16.4930 & $0.0517$ & $0.2078^{\\dag}$ & $0.1532^{*\\dag}$ & $0.2196^{\\dag}$\\\\\n",
      "RF (SA) & 206.4513 & $0.1333^{\\dag}$ & $\\textbf{0.0634}^{*\\dag}$ & $0.0757^{\\dag}$ & $0.1268^{\\dag}$\\\\\n",
      "RF (US) & 101.7903 & $0.1424$ & $0.1844^{\\dag}$ & $\\textbf{0.0194}^{*\\dag}$ & $0.0922^{\\dag}$\\\\\n",
      "RF (Global) & 422.2839 & $0.0348^{*\\dag}$ & $0.0669^{*\\dag}$ & $0.0202^{*\\dag}$ & $\\textbf{0.0398}^{*\\dag}$\\\\\n",
      "\\hline\n",
      "NeuralNet (EU) & 10.6497 & $\\textbf{0.0243}^{*\\dag}$ & $0.2663$ & $0.2817$ & $0.3329$\\\\\n",
      "NeuralNet (SA) & 96.4302 & $0.2516$ & $0.0991^{*}$ & $0.5507$ & $0.4120$\\\\\n",
      "NeuralNet (US) & 71.9760 & $0.1275^{*\\dag}$ & $0.2322$ & $0.0237^{*}$ & $0.1470$\\\\\n",
      "NeuralNet (Global) & 1047.7100 & $0.0455^{*}$ & $0.1086^{*}$ & $0.0249^{*}$ & $0.0477^{*}$\\\\\n",
      "\\hline\n"
     ]
    }
   ],
   "source": [
    "generate_table(linreg_results, forest_results, nn_results)"
   ]
  }
 ],
 "metadata": {
  "kernelspec": {
   "display_name": "leaf",
   "language": "python",
   "name": "python3"
  },
  "language_info": {
   "codemirror_mode": {
    "name": "ipython",
    "version": 3
   },
   "file_extension": ".py",
   "mimetype": "text/x-python",
   "name": "python",
   "nbconvert_exporter": "python",
   "pygments_lexer": "ipython3",
   "version": "3.10.11"
  }
 },
 "nbformat": 4,
 "nbformat_minor": 2
}
