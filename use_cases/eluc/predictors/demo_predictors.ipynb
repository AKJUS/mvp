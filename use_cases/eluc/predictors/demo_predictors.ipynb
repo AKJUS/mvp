{
 "cells": [
  {
   "cell_type": "markdown",
   "metadata": {},
   "source": [
    "# A Demo of How To Use ELUC Predictors"
   ]
  },
  {
   "cell_type": "code",
   "execution_count": 1,
   "metadata": {},
   "outputs": [],
   "source": [
    "import pandas as pd\n",
    "from sklearn.metrics import mean_absolute_error\n",
    "\n",
    "from predictors.predictor import Predictor\n",
    "from predictors.NeuralNetwork.NeuralNetPredictor import NeuralNetPredictor\n",
    "from predictors.LinearRegression.LinearRegressionPredictor import LinearRegressionPredictor\n",
    "from predictors.RandomForest.RandomForestPredictor import RandomForestPredictor\n",
    "from data.data import ELUCData\n",
    "from data import constants"
   ]
  },
  {
   "cell_type": "code",
   "execution_count": 3,
   "metadata": {},
   "outputs": [
    {
     "data": {
      "application/vnd.jupyter.widget-view+json": {
       "model_id": "dc9432400d1849a7898577ff239b2907",
       "version_major": 2,
       "version_minor": 0
      },
      "text/plain": [
       "Downloading data:   0%|          | 0.00/220M [00:00<?, ?B/s]"
      ]
     },
     "metadata": {},
     "output_type": "display_data"
    },
    {
     "data": {
      "application/vnd.jupyter.widget-view+json": {
       "model_id": "bd58e81c6d1147fe85d3e5d775201d55",
       "version_major": 2,
       "version_minor": 0
      },
      "text/plain": [
       "Downloading data:   0%|          | 0.00/220M [00:00<?, ?B/s]"
      ]
     },
     "metadata": {},
     "output_type": "display_data"
    },
    {
     "data": {
      "application/vnd.jupyter.widget-view+json": {
       "model_id": "0d1c529946d84edc9cfea01eb8768401",
       "version_major": 2,
       "version_minor": 0
      },
      "text/plain": [
       "Downloading data:   0%|          | 0.00/222M [00:00<?, ?B/s]"
      ]
     },
     "metadata": {},
     "output_type": "display_data"
    },
    {
     "data": {
      "application/vnd.jupyter.widget-view+json": {
       "model_id": "898f7a0c9c5b401a8d1cb5ffe7e95302",
       "version_major": 2,
       "version_minor": 0
      },
      "text/plain": [
       "Downloading data:   0%|          | 0.00/228M [00:00<?, ?B/s]"
      ]
     },
     "metadata": {},
     "output_type": "display_data"
    },
    {
     "data": {
      "application/vnd.jupyter.widget-view+json": {
       "model_id": "f34fa442b63248a7a554b7f33c891fae",
       "version_major": 2,
       "version_minor": 0
      },
      "text/plain": [
       "Downloading data:   0%|          | 0.00/229M [00:00<?, ?B/s]"
      ]
     },
     "metadata": {},
     "output_type": "display_data"
    },
    {
     "data": {
      "application/vnd.jupyter.widget-view+json": {
       "model_id": "5ba3b96eb5dc488dae209d5444c3ff2e",
       "version_major": 2,
       "version_minor": 0
      },
      "text/plain": [
       "Downloading data:   0%|          | 0.00/226M [00:00<?, ?B/s]"
      ]
     },
     "metadata": {},
     "output_type": "display_data"
    },
    {
     "data": {
      "application/vnd.jupyter.widget-view+json": {
       "model_id": "e27fa4e77d7b4b358d1b028e02ec25cf",
       "version_major": 2,
       "version_minor": 0
      },
      "text/plain": [
       "Downloading data:   0%|          | 0.00/232M [00:00<?, ?B/s]"
      ]
     },
     "metadata": {},
     "output_type": "display_data"
    },
    {
     "data": {
      "application/vnd.jupyter.widget-view+json": {
       "model_id": "c1225a944444462398bacf082e76690f",
       "version_major": 2,
       "version_minor": 0
      },
      "text/plain": [
       "Downloading data:   0%|          | 0.00/233M [00:00<?, ?B/s]"
      ]
     },
     "metadata": {},
     "output_type": "display_data"
    },
    {
     "data": {
      "application/vnd.jupyter.widget-view+json": {
       "model_id": "cb7626f3e8574a168b59df61a8d46fa6",
       "version_major": 2,
       "version_minor": 0
      },
      "text/plain": [
       "Downloading data:   0%|          | 0.00/232M [00:00<?, ?B/s]"
      ]
     },
     "metadata": {},
     "output_type": "display_data"
    },
    {
     "data": {
      "application/vnd.jupyter.widget-view+json": {
       "model_id": "ce7fd239c16d4bffae48bf87da9e3247",
       "version_major": 2,
       "version_minor": 0
      },
      "text/plain": [
       "Downloading data:   0%|          | 0.00/232M [00:00<?, ?B/s]"
      ]
     },
     "metadata": {},
     "output_type": "display_data"
    },
    {
     "data": {
      "application/vnd.jupyter.widget-view+json": {
       "model_id": "1914503f83514c1382b4c4e251ca3872",
       "version_major": 2,
       "version_minor": 0
      },
      "text/plain": [
       "Downloading data:   0%|          | 0.00/236M [00:00<?, ?B/s]"
      ]
     },
     "metadata": {},
     "output_type": "display_data"
    },
    {
     "data": {
      "application/vnd.jupyter.widget-view+json": {
       "model_id": "b1467b031e584a71b0e73c68c48c117b",
       "version_major": 2,
       "version_minor": 0
      },
      "text/plain": [
       "Downloading data:   0%|          | 0.00/236M [00:00<?, ?B/s]"
      ]
     },
     "metadata": {},
     "output_type": "display_data"
    },
    {
     "data": {
      "application/vnd.jupyter.widget-view+json": {
       "model_id": "08d498ca36144521b27416d70d888fda",
       "version_major": 2,
       "version_minor": 0
      },
      "text/plain": [
       "Downloading data:   0%|          | 0.00/231M [00:00<?, ?B/s]"
      ]
     },
     "metadata": {},
     "output_type": "display_data"
    },
    {
     "data": {
      "application/vnd.jupyter.widget-view+json": {
       "model_id": "218053d1f65e46e6a8614b70b72b097b",
       "version_major": 2,
       "version_minor": 0
      },
      "text/plain": [
       "Generating train split: 0 examples [00:00, ? examples/s]"
      ]
     },
     "metadata": {},
     "output_type": "display_data"
    }
   ],
   "source": [
    "data = ELUCData(\"projectresilience/ELUC-committed\")"
   ]
  },
  {
   "cell_type": "markdown",
   "metadata": {},
   "source": [
    "### Initialize and fit models a la `sklearn` API"
   ]
  },
  {
   "cell_type": "code",
   "execution_count": 3,
   "metadata": {},
   "outputs": [
    {
     "name": "stderr",
     "output_type": "stream",
     "text": [
      "  0%|          | 0/1927 [00:00<?, ?it/s]/Users/964840/anaconda3/envs/leaf/lib/python3.10/site-packages/torch/autograd/__init__.py:204: UserWarning: The operator 'aten::sgn.out' is not currently supported on the MPS backend and will fall back to run on the CPU. This may have performance implications. (Triggered internally at /Users/runner/work/pytorch/pytorch/pytorch/aten/src/ATen/mps/MPSFallback.mm:13.)\n",
      "  Variable._execution_engine.run_backward(  # Calls into the C++ engine to run the backward pass\n",
      "100%|██████████| 1927/1927 [00:30<00:00, 63.14it/s]\n"
     ]
    },
    {
     "name": "stdout",
     "output_type": "stream",
     "text": [
      "0.061624523\n"
     ]
    }
   ],
   "source": [
    "nnp = NeuralNetPredictor(constants.NN_FEATS, epochs=1, train_pct=0.1, hidden_sizes=[128])\n",
    "nnp.fit(data.train_df.drop(\"ELUC\", axis=1), data.train_df[\"ELUC\"], verbose=True)\n",
    "print(mean_absolute_error(data.test_df[\"ELUC\"], nnp.predict(data.test_df.drop(\"ELUC\", axis=1))))"
   ]
  },
  {
   "cell_type": "code",
   "execution_count": 8,
   "metadata": {},
   "outputs": [
    {
     "name": "stdout",
     "output_type": "stream",
     "text": [
      "0.07567061\n"
     ]
    }
   ],
   "source": [
    "linreg = LinearRegressionPredictor(features=constants.DIFF_LAND_USE_COLS, n_jobs=-1)\n",
    "linreg.fit(data.train_df, data.train_df[\"ELUC\"])\n",
    "print(mean_absolute_error(data.test_df[\"ELUC\"], linreg.predict(data.test_df[constants.DIFF_LAND_USE_COLS])))"
   ]
  },
  {
   "cell_type": "code",
   "execution_count": 5,
   "metadata": {},
   "outputs": [
    {
     "name": "stdout",
     "output_type": "stream",
     "text": [
      "0.045818872993118626\n"
     ]
    }
   ],
   "source": [
    "rf = RandomForestPredictor(n_jobs=-1, max_features=\"sqrt\", random_state=42)\n",
    "rf.fit(data.train_df.loc[2010:][constants.NN_FEATS], data.train_df.loc[2010:][\"ELUC\"])\n",
    "print(mean_absolute_error(data.test_df[\"ELUC\"], rf.predict(data.test_df[constants.NN_FEATS])))"
   ]
  },
  {
   "cell_type": "markdown",
   "metadata": {},
   "source": [
    "### Save models"
   ]
  },
  {
   "cell_type": "code",
   "execution_count": 6,
   "metadata": {},
   "outputs": [],
   "source": [
    "nnp.save(\"predictors/NeuralNetwork/test\")\n",
    "linreg.save(\"predictors/LinearRegression/test.joblib\")\n",
    "rf.save(\"predictors/RandomForest/test.joblib\")"
   ]
  },
  {
   "cell_type": "markdown",
   "metadata": {},
   "source": [
    "### Load model back with exact same path used for save\n",
    "We can evaluate it as a `Predictor` object in order to evaluate many different types of predictors"
   ]
  },
  {
   "cell_type": "code",
   "execution_count": 6,
   "metadata": {},
   "outputs": [],
   "source": [
    "def evaluate_model(model: Predictor, test_df: pd.DataFrame) -> float:\n",
    "    return mean_absolute_error(test_df[\"ELUC\"], model.predict(test_df.drop(\"ELUC\", axis=1)))"
   ]
  },
  {
   "cell_type": "code",
   "execution_count": 9,
   "metadata": {},
   "outputs": [
    {
     "data": {
      "text/plain": [
       "0.07567061"
      ]
     },
     "execution_count": 9,
     "metadata": {},
     "output_type": "execute_result"
    }
   ],
   "source": [
    "nnp_test = NeuralNetPredictor()\n",
    "nnp_test.load(\"predictors/NeuralNetwork/test\")\n",
    "linreg_test = LinearRegressionPredictor()\n",
    "linreg_test.load(\"predictors/LinearRegression/test\")\n",
    "rf_test = RandomForestPredictor()\n",
    "rf_test.load(\"predictors/RandomForest/test.joblib\")\n",
    "\n",
    "evaluate_model(linreg_test, data.test_df)\n",
    "\n",
    "models = [nnp_test, linreg_test, rf_test]\n",
    "\n",
    "print([evaluate_model(model, data.test_df) for model in models])"
   ]
  },
  {
   "cell_type": "markdown",
   "metadata": {},
   "source": [
    "With this flow we can see that we evaluated to the same value!"
   ]
  }
 ],
 "metadata": {
  "kernelspec": {
   "display_name": "leaf",
   "language": "python",
   "name": "python3"
  },
  "language_info": {
   "codemirror_mode": {
    "name": "ipython",
    "version": 3
   },
   "file_extension": ".py",
   "mimetype": "text/x-python",
   "name": "python",
   "nbconvert_exporter": "python",
   "pygments_lexer": "ipython3",
   "version": "3.10.11"
  }
 },
 "nbformat": 4,
 "nbformat_minor": 2
}
