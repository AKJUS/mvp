{
 "cells": [
  {
   "cell_type": "markdown",
   "metadata": {},
   "source": [
    "# A Demo of How To Use ELUC Predictors"
   ]
  },
  {
   "cell_type": "code",
   "execution_count": 1,
   "metadata": {},
   "outputs": [],
   "source": [
    "import pandas as pd\n",
    "from sklearn.metrics import mean_absolute_error\n",
    "\n",
    "from predictors.predictor import Predictor\n",
    "from predictors.NeuralNetwork.NeuralNetPredictor import NeuralNetPredictor\n",
    "from data.data import ELUCData\n",
    "from data import constants"
   ]
  },
  {
   "cell_type": "code",
   "execution_count": 2,
   "metadata": {},
   "outputs": [],
   "source": [
    "data = ELUCData(constants.DATA_FILE_PATH, constants.UPDATE_FILE_PATH, merge_crop=True)"
   ]
  },
  {
   "cell_type": "markdown",
   "metadata": {},
   "source": [
    "### Initialize and fit model a la `sklearn` API"
   ]
  },
  {
   "cell_type": "code",
   "execution_count": 3,
   "metadata": {},
   "outputs": [
    {
     "name": "stderr",
     "output_type": "stream",
     "text": [
      "  0%|          | 0/1915 [00:00<?, ?it/s]/Users/964840/anaconda3/envs/leaf/lib/python3.10/site-packages/torch/autograd/__init__.py:204: UserWarning: The operator 'aten::sgn.out' is not currently supported on the MPS backend and will fall back to run on the CPU. This may have performance implications. (Triggered internally at /Users/runner/work/pytorch/pytorch/pytorch/aten/src/ATen/mps/MPSFallback.mm:13.)\n",
      "  Variable._execution_engine.run_backward(  # Calls into the C++ engine to run the backward pass\n",
      "100%|██████████| 1915/1915 [00:33<00:00, 56.84it/s]\n"
     ]
    },
    {
     "name": "stdout",
     "output_type": "stream",
     "text": [
      "0.060511954\n"
     ]
    }
   ],
   "source": [
    "nnp = NeuralNetPredictor(constants.NN_FEATS, epochs=1, train_pct=0.1, hidden_sizes=[128])\n",
    "nnp.fit(data.train_df.drop(\"ELUC\", axis=1), data.train_df[\"ELUC\"], verbose=True)\n",
    "print(mean_absolute_error(data.test_df[\"ELUC\"], nnp.predict(data.test_df.drop(\"ELUC\", axis=1))))"
   ]
  },
  {
   "cell_type": "markdown",
   "metadata": {},
   "source": [
    "### Save model"
   ]
  },
  {
   "cell_type": "code",
   "execution_count": 4,
   "metadata": {},
   "outputs": [],
   "source": [
    "nnp.save(\"predictors/NeuralNetwork/test\")"
   ]
  },
  {
   "cell_type": "markdown",
   "metadata": {},
   "source": [
    "### Load model back with exact same path used for save\n",
    "We can evaluate it as a `Predictor` object in order to evaluate many different types of predictors"
   ]
  },
  {
   "cell_type": "code",
   "execution_count": 7,
   "metadata": {},
   "outputs": [],
   "source": [
    "def evaluate_model(model: Predictor, test_df: pd.DataFrame) -> float:\n",
    "    return mean_absolute_error(test_df[\"ELUC\"], model.predict(test_df.drop(\"ELUC\", axis=1)))"
   ]
  },
  {
   "cell_type": "code",
   "execution_count": 8,
   "metadata": {},
   "outputs": [
    {
     "data": {
      "text/plain": [
       "0.060511954"
      ]
     },
     "execution_count": 8,
     "metadata": {},
     "output_type": "execute_result"
    }
   ],
   "source": [
    "load_test = NeuralNetPredictor()\n",
    "load_test.load(\"predictors/NeuralNetwork/test\")\n",
    "evaluate_model(load_test, data.test_df)"
   ]
  },
  {
   "cell_type": "markdown",
   "metadata": {},
   "source": [
    "With this flow we can see that we evaluated to the same value!"
   ]
  }
 ],
 "metadata": {
  "kernelspec": {
   "display_name": "leaf",
   "language": "python",
   "name": "python3"
  },
  "language_info": {
   "codemirror_mode": {
    "name": "ipython",
    "version": 3
   },
   "file_extension": ".py",
   "mimetype": "text/x-python",
   "name": "python",
   "nbconvert_exporter": "python",
   "pygments_lexer": "ipython3",
   "version": "3.10.11"
  }
 },
 "nbformat": 4,
 "nbformat_minor": 2
}
