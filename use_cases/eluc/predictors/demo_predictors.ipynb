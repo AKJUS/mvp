{
 "cells": [
  {
   "cell_type": "markdown",
   "metadata": {},
   "source": [
    "# A Demo of How To Use ELUC Predictors"
   ]
  },
  {
   "cell_type": "code",
   "execution_count": 1,
   "metadata": {},
   "outputs": [],
   "source": [
    "import pandas as pd\n",
    "from sklearn.metrics import mean_absolute_error\n",
    "\n",
    "from predictors.NeuralNetwork.NeuralNetPredictor import NeuralNetPredictor\n",
    "from predictors.LinearRegression.LinearRegressionPredictor import LinearRegressionPredictor\n",
    "from predictors.RandomForest.RandomForestPredictor import RandomForestPredictor\n",
    "from predictors.evaluator import evaluate_predictor\n",
    "from data.data import ELUCData\n",
    "from data import constants"
   ]
  },
  {
   "cell_type": "code",
   "execution_count": 2,
   "metadata": {},
   "outputs": [],
   "source": [
    "data = ELUCData(\"projectresilience/ELUC-committed\")"
   ]
  },
  {
   "cell_type": "markdown",
   "metadata": {},
   "source": [
    "### Initialize and fit models a la `sklearn` API"
   ]
  },
  {
   "cell_type": "code",
   "execution_count": 3,
   "metadata": {},
   "outputs": [
    {
     "name": "stderr",
     "output_type": "stream",
     "text": [
      "  0%|          | 0/1927 [00:00<?, ?it/s]/Users/964840/anaconda3/envs/leaf/lib/python3.10/site-packages/torch/autograd/__init__.py:204: UserWarning: The operator 'aten::sgn.out' is not currently supported on the MPS backend and will fall back to run on the CPU. This may have performance implications. (Triggered internally at /Users/runner/work/pytorch/pytorch/pytorch/aten/src/ATen/mps/MPSFallback.mm:13.)\n",
      "  Variable._execution_engine.run_backward(  # Calls into the C++ engine to run the backward pass\n",
      "100%|██████████| 1927/1927 [00:31<00:00, 61.39it/s]\n"
     ]
    },
    {
     "name": "stdout",
     "output_type": "stream",
     "text": [
      "0.06143991\n"
     ]
    }
   ],
   "source": [
    "nnp = NeuralNetPredictor(constants.NN_FEATS, epochs=1, train_pct=0.1, hidden_sizes=[128])\n",
    "nnp.fit(data.train_df.drop(\"ELUC\", axis=1), data.train_df[\"ELUC\"], verbose=True)\n",
    "print(mean_absolute_error(data.test_df[\"ELUC\"], nnp.predict(data.test_df.drop(\"ELUC\", axis=1))))"
   ]
  },
  {
   "cell_type": "code",
   "execution_count": 12,
   "metadata": {},
   "outputs": [
    {
     "name": "stdout",
     "output_type": "stream",
     "text": [
      "0.07567061\n"
     ]
    }
   ],
   "source": [
    "linreg = LinearRegressionPredictor(features=constants.DIFF_LAND_USE_COLS, n_jobs=-1)\n",
    "linreg.fit(data.train_df, data.train_df[\"ELUC\"])\n",
    "print(mean_absolute_error(data.test_df[\"ELUC\"], linreg.predict(data.test_df[constants.DIFF_LAND_USE_COLS])))"
   ]
  },
  {
   "cell_type": "code",
   "execution_count": 13,
   "metadata": {},
   "outputs": [
    {
     "name": "stdout",
     "output_type": "stream",
     "text": [
      "0.045818872993118626\n"
     ]
    }
   ],
   "source": [
    "rf = RandomForestPredictor(features=constants.NN_FEATS, n_jobs=-1, max_features=\"sqrt\", random_state=42)\n",
    "rf.fit(data.train_df.loc[2010:], data.train_df.loc[2010:][\"ELUC\"])\n",
    "print(mean_absolute_error(data.test_df[\"ELUC\"], rf.predict(data.test_df[constants.NN_FEATS])))"
   ]
  },
  {
   "cell_type": "markdown",
   "metadata": {},
   "source": [
    "### Save models"
   ]
  },
  {
   "cell_type": "code",
   "execution_count": 14,
   "metadata": {},
   "outputs": [],
   "source": [
    "nnp.save(\"predictors/NeuralNetwork/test\")\n",
    "linreg.save(\"predictors/LinearRegression/test\")\n",
    "rf.save(\"predictors/RandomForest/test\")"
   ]
  },
  {
   "cell_type": "markdown",
   "metadata": {},
   "source": [
    "### Load model back with exact same path used for save\n",
    "We can evaluate it as a `Predictor` object in order to evaluate many different types of predictors"
   ]
  },
  {
   "cell_type": "code",
   "execution_count": 15,
   "metadata": {},
   "outputs": [
    {
     "name": "stdout",
     "output_type": "stream",
     "text": [
      "0.060935497\n",
      "0.07567061\n",
      "0.045818872993118626\n"
     ]
    }
   ],
   "source": [
    "nnp_test = NeuralNetPredictor()\n",
    "nnp_test.load(\"predictors/NeuralNetwork/test\")\n",
    "linreg_test = LinearRegressionPredictor()\n",
    "linreg_test.load(\"predictors/LinearRegression/test\")\n",
    "rf_test = RandomForestPredictor()\n",
    "rf_test.load(\"predictors/RandomForest/test\")\n",
    "\n",
    "print(evaluate_predictor(nnp_test, data.test_df, data.test_df[\"ELUC\"]))\n",
    "print(evaluate_predictor(linreg_test, data.test_df, data.test_df[\"ELUC\"]))\n",
    "print(evaluate_predictor(rf_test, data.test_df, data.test_df[\"ELUC\"]))"
   ]
  },
  {
   "cell_type": "markdown",
   "metadata": {},
   "source": [
    "With this flow we can see that we evaluated to the same value!"
   ]
  }
 ],
 "metadata": {
  "kernelspec": {
   "display_name": "leaf",
   "language": "python",
   "name": "python3"
  },
  "language_info": {
   "codemirror_mode": {
    "name": "ipython",
    "version": 3
   },
   "file_extension": ".py",
   "mimetype": "text/x-python",
   "name": "python",
   "nbconvert_exporter": "python",
   "pygments_lexer": "ipython3",
   "version": "3.10.11"
  }
 },
 "nbformat": 4,
 "nbformat_minor": 2
}
